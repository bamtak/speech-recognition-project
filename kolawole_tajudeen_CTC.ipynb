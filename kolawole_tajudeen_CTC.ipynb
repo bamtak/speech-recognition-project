{
  "nbformat": 4,
  "nbformat_minor": 0,
  "metadata": {
    "accelerator": "GPU",
    "colab": {
      "name": "kolawole_tajudeen_CTC.ipynb",
      "provenance": [],
      "collapsed_sections": [
        "X27ce8Hy3C2p"
      ],
      "toc_visible": true
    },
    "kernelspec": {
      "display_name": "Python 3",
      "language": "python",
      "name": "python3"
    },
    "language_info": {
      "codemirror_mode": {
        "name": "ipython",
        "version": 3
      },
      "file_extension": ".py",
      "mimetype": "text/x-python",
      "name": "python",
      "nbconvert_exporter": "python",
      "pygments_lexer": "ipython3",
      "version": "3.7.4"
    }
  },
  "cells": [
    {
      "cell_type": "code",
      "metadata": {
        "id": "CM_-YsAmprZh",
        "colab_type": "code",
        "colab": {
          "base_uri": "https://localhost:8080/",
          "height": 85
        },
        "outputId": "ba844e23-012f-4fc2-e35e-6f22ace4ed9c"
      },
      "source": [
        "#!pip3 install pydrive\n",
        "#!pip3 install google\n",
        "!pip3 install torchaudio"
      ],
      "execution_count": 1,
      "outputs": [
        {
          "output_type": "stream",
          "text": [
            "Requirement already satisfied: torchaudio in /usr/local/lib/python3.6/dist-packages (0.5.1)\n",
            "Requirement already satisfied: torch==1.5.1 in /usr/local/lib/python3.6/dist-packages (from torchaudio) (1.5.1+cu101)\n",
            "Requirement already satisfied: future in /usr/local/lib/python3.6/dist-packages (from torch==1.5.1->torchaudio) (0.16.0)\n",
            "Requirement already satisfied: numpy in /usr/local/lib/python3.6/dist-packages (from torch==1.5.1->torchaudio) (1.18.5)\n"
          ],
          "name": "stdout"
        }
      ]
    },
    {
      "cell_type": "code",
      "metadata": {
        "colab_type": "code",
        "id": "jzzuGAMna4NG",
        "colab": {}
      },
      "source": [
        "from pydrive.auth import GoogleAuth\n",
        "from pydrive.drive import GoogleDrive\n",
        "from google.colab import auth\n",
        "from oauth2client.client import GoogleCredentials\n",
        "auth.authenticate_user()\n",
        "gauth = GoogleAuth()\n",
        "gauth.credentials = GoogleCredentials.get_application_default()\n",
        "drive = GoogleDrive(gauth)"
      ],
      "execution_count": 2,
      "outputs": []
    },
    {
      "cell_type": "code",
      "metadata": {
        "colab_type": "code",
        "id": "ppRP3ZqP8vZP",
        "colab": {}
      },
      "source": [
        "import torch\n",
        "import torchaudio"
      ],
      "execution_count": 3,
      "outputs": []
    },
    {
      "cell_type": "code",
      "metadata": {
        "id": "67PkqQYLFq87",
        "colab_type": "code",
        "colab": {
          "base_uri": "https://localhost:8080/",
          "height": 119
        },
        "outputId": "c87cc421-64b7-4e72-8d9a-0dafccc4d461"
      },
      "source": [
        "! git clone https://github.com/facebookresearch/CPC_audio.git"
      ],
      "execution_count": 6,
      "outputs": [
        {
          "output_type": "stream",
          "text": [
            "Cloning into 'CPC_audio'...\n",
            "remote: Enumerating objects: 84, done.\u001b[K\n",
            "remote: Counting objects: 100% (84/84), done.\u001b[K\n",
            "remote: Compressing objects: 100% (65/65), done.\u001b[K\n",
            "remote: Total 84 (delta 13), reused 75 (delta 6), pack-reused 0\u001b[K\n",
            "Unpacking objects: 100% (84/84), done.\n"
          ],
          "name": "stdout"
        }
      ]
    },
    {
      "cell_type": "code",
      "metadata": {
        "id": "cc7ZhEVbumPO",
        "colab_type": "code",
        "colab": {
          "base_uri": "https://localhost:8080/",
          "height": 289
        },
        "outputId": "22ae8693-10aa-416f-d7ee-96aa82532d12"
      },
      "source": [
        "%cd /content/CPC_audio\n",
        "!python setup.py develop\n",
        "%cd ../../\n"
      ],
      "execution_count": 4,
      "outputs": [
        {
          "output_type": "stream",
          "text": [
            "/content/CPC_audio\n",
            "running develop\n",
            "running egg_info\n",
            "writing CPC_audio.egg-info/PKG-INFO\n",
            "writing dependency_links to CPC_audio.egg-info/dependency_links.txt\n",
            "writing top-level names to CPC_audio.egg-info/top_level.txt\n",
            "writing manifest file 'CPC_audio.egg-info/SOURCES.txt'\n",
            "running build_ext\n",
            "copying build/lib.linux-x86_64-3.6/cpc/eval/ABX/dtw.cpython-36m-x86_64-linux-gnu.so -> cpc/eval/ABX\n",
            "Creating /usr/local/lib/python3.6/dist-packages/CPC-audio.egg-link (link to .)\n",
            "CPC-audio 1.0 is already the active version in easy-install.pth\n",
            "\n",
            "Installed /content/CPC_audio\n",
            "Processing dependencies for CPC-audio==1.0\n",
            "Finished processing dependencies for CPC-audio==1.0\n",
            "/\n"
          ],
          "name": "stdout"
        }
      ]
    },
    {
      "cell_type": "markdown",
      "metadata": {
        "colab_type": "text",
        "id": "YZ1Wywx3BNGS"
      },
      "source": [
        "# Part 1 : contrastive predictive coding\n",
        "\n",
        "Contrastive Predictive Coding (CPC) is a method of unsupervised training for speech models. The idea behind it is pretty simple:\n",
        "\n",
        "\n",
        "1.   The raw audio wave is passed through a convolutional network: the ```encoder```\n",
        "2.   Then, the encoder's output is given to a recurrent network the ```context```\n",
        "3. A third party network, the ```prediction_network``` will try to predict the  future embeddings of the encoder using the output of the context network.\n",
        "\n",
        "In order to avoid a collapse to trivial solutions, the prediction_network doesn't try to reconstruct the future features. Instead, using the context output $c_t$ at time $t$ it is trained to discriminate the real  encoder representatioin $g_{t+k}$ at time $t+k$ from several other features $(g_n)_n$ taken elsewhere in the batch. Thus the loss becomes:\n",
        "\n",
        "\\\\[ \\mathcal{L}_c = - \\frac{1}{K} \\sum_{k=1}^K \\text{Cross_entropy}(\\phi_k(c_t), g_{t+k}) \\\\]\n",
        "\n",
        "Or:\n",
        "\n",
        "\\\\[ \\mathcal{L}_c = - \\frac{1}{K} \\sum_{k=1}^K \\log \\frac{ \\exp\\left(\\phi_k(c_t)^\\top g_{t+k}\\right) }{  \\sum_{\\mathbf{n}\\in\\mathcal{N}_t} \\exp\\left(\\phi_k(c_t)^\\top g_n\\right)} \\\\]\n",
        "\n",
        "Where:\n",
        "\n",
        "\n",
        "*   $\\phi_k$ is the prediction network for the kth timestep\n",
        "*   $\\mathcal{N}_t$ is the set of all negative examples sampled for timestep $t$\n",
        "\n",
        "\n"
      ]
    },
    {
      "cell_type": "markdown",
      "metadata": {
        "colab_type": "text",
        "id": "frPFYXuPfNPs"
      },
      "source": [
        "## Exercice 1 : Building the model\n",
        "\n",
        "In this exercise, we will build and train a small CPC model using the repository CPC_audio.\n",
        "\n",
        "The code below loads a context and an encoder newtorks."
      ]
    },
    {
      "cell_type": "code",
      "metadata": {
        "colab_type": "code",
        "id": "8g-xPSdLRdui",
        "colab": {
          "base_uri": "https://localhost:8080/",
          "height": 51
        },
        "outputId": "2486d10c-15cd-418e-e8e5-27d26c9997b5"
      },
      "source": [
        "%cd /content/CPC_audio\n",
        "from cpc.model import CPCEncoder, CPCAR\n",
        "device = torch.device(\"cuda:0\" if torch.cuda.is_available() else \"cpu\")\n",
        "\n",
        "DIM_ENCODER=256\n",
        "DIM_CONTEXT=256\n",
        "KEEP_HIDDEN_VECTOR=False\n",
        "N_LEVELS_CONTEXT=1\n",
        "CONTEXT_RNN=\"LSTM\"\n",
        "N_PREDICTIONS=12\n",
        "LEARNING_RATE=2e-4\n",
        "N_NEGATIVE_SAMPLE =128\n",
        "%cd ../../"
      ],
      "execution_count": 17,
      "outputs": [
        {
          "output_type": "stream",
          "text": [
            "/content/CPC_audio\n",
            "/\n"
          ],
          "name": "stdout"
        }
      ]
    },
    {
      "cell_type": "code",
      "metadata": {
        "colab_type": "code",
        "id": "7Wx8WkrQk9bQ",
        "colab": {}
      },
      "source": [
        "encoder = CPCEncoder(DIM_ENCODER).to(device)\n",
        "context = CPCAR(DIM_ENCODER, DIM_CONTEXT, KEEP_HIDDEN_VECTOR, 1, mode=CONTEXT_RNN).to(device)"
      ],
      "execution_count": 18,
      "outputs": []
    },
    {
      "cell_type": "code",
      "metadata": {
        "id": "Tlv986QCuMmf",
        "colab_type": "code",
        "colab": {
          "base_uri": "https://localhost:8080/",
          "height": 68
        },
        "outputId": "592104e4-4a88-4f62-c101-3f22b1a12934"
      },
      "source": [
        "!pip install soundfile"
      ],
      "execution_count": 19,
      "outputs": [
        {
          "output_type": "stream",
          "text": [
            "Requirement already satisfied: soundfile in /usr/local/lib/python3.6/dist-packages (0.10.3.post1)\n",
            "Requirement already satisfied: cffi>=1.0 in /usr/local/lib/python3.6/dist-packages (from soundfile) (1.14.0)\n",
            "Requirement already satisfied: pycparser in /usr/local/lib/python3.6/dist-packages (from cffi>=1.0->soundfile) (2.20)\n"
          ],
          "name": "stdout"
        }
      ]
    },
    {
      "cell_type": "code",
      "metadata": {
        "colab_type": "code",
        "id": "f9BrweAIla4J",
        "colab": {}
      },
      "source": [
        "# Several functions that will be necessary to load the data later\n",
        "from cpc.dataset import findAllSeqs, AudioBatchData, parseSeqLabels\n",
        "SIZE_WINDOW = 20480\n",
        "BATCH_SIZE=8\n",
        "def load_dataset(path_dataset, file_extension='.wav', phone_label_dict=None):\n",
        "  data_list, speakers = findAllSeqs(path_dataset, extension=file_extension)\n",
        "  dataset = AudioBatchData(path_dataset, SIZE_WINDOW, data_list, phone_label_dict, len(speakers))\n",
        "  return dataset"
      ],
      "execution_count": 20,
      "outputs": []
    },
    {
      "cell_type": "markdown",
      "metadata": {
        "colab_type": "text",
        "id": "58pQ7ysXk9ZO"
      },
      "source": [
        "Now build a new class, ```CPCModel``` which will"
      ]
    },
    {
      "cell_type": "code",
      "metadata": {
        "colab_type": "code",
        "id": "rR5IYRTpRF8T",
        "colab": {}
      },
      "source": [
        "class CPCModel(torch.nn.Module):\n",
        "\n",
        "    def __init__(self,\n",
        "                 encoder,\n",
        "                 AR):\n",
        "\n",
        "        super(CPCModel, self).__init__()\n",
        "        self.gEncoder = encoder\n",
        "        self.gAR = AR\n",
        "\n",
        "    def forward(self, batch_data):\n",
        "        \n",
        "\n",
        "        encoder_output = self.gEncoder(batch_data)\n",
        "        #print(encoder_output.shape)\n",
        "        # The output of the encoder data does not have the good format \n",
        "        # indeed it is Batch_size x Hidden_size x temp size\n",
        "        # while the context requires Batch_size  x temp size x Hidden_size\n",
        "        # thus you need to permute\n",
        "        context_input = encoder_output.permute(0, 2, 1)\n",
        "\n",
        "        context_output = self.gAR(context_input)\n",
        "        #print(context_output.shape)\n",
        "        return context_output, encoder_output"
      ],
      "execution_count": 21,
      "outputs": []
    },
    {
      "cell_type": "markdown",
      "metadata": {
        "colab_type": "text",
        "id": "X27ce8Hy3C2p"
      },
      "source": [
        "## Exercise 2 : CPC loss\n",
        "\n",
        "We will define a class ```CPCCriterion``` which will hold the prediction networks $\\phi_k$ defined above and perform the classification loss $\\mathcal{L}_c$.\n",
        "\n",
        "a) In this exercise, the $\\phi_k$ will be a linear transform, ie:\n",
        "\n",
        "\\\\[ \\phi_k(c_t) = \\mathbf{A}_k c_t\\\\]\n",
        "\n",
        "Using the class [torch.nn.Linear](https://pytorch.org/docs/stable/nn.html#torch.nn.Linear), define the transformations $\\phi_k$ in the code below and complete the function ```get_prediction_k``` which computes $\\phi_k(c_t)$ for a given batch of vectors $c_t$.\n",
        "\n",
        "b) Using both ```get_prediction_k```  and ```sample_negatives``` defined below, write the forward function which will take as input two batches of features $c_t$ and $g_t$ and outputs the classification loss $\\mathcal{L}_c$ and the average acuracy for all predictions. "
      ]
    },
    {
      "cell_type": "code",
      "metadata": {
        "colab_type": "code",
        "id": "UlAs-z1fBc3W",
        "colab": {}
      },
      "source": [
        "# Exercice 2: write the CPC loss\n",
        "# a) Write the negative sampling (with some help)\n",
        "# ERRATUM: it's really hard, the sampling will be provided\n",
        "\n",
        "class CPCCriterion(torch.nn.Module):\n",
        "\n",
        "  def __init__(self,\n",
        "               K,\n",
        "               dim_context,\n",
        "               dim_encoder,\n",
        "               n_negative):\n",
        "    super(CPCCriterion, self).__init__()\n",
        "    self.K_ = K\n",
        "    self.dim_context = dim_context\n",
        "    self.dim_encoder = dim_encoder\n",
        "    self.n_negative = n_negative\n",
        "\n",
        "    self.predictors = torch.nn.ModuleList() \n",
        "    for k in range(self.K_):\n",
        "      # TO COMPLETE !\n",
        "      \n",
        "      # A affine transformation in pytorch is equivalent to a nn.Linear layer\n",
        "      # To get a linear transformation you must set bias=False\n",
        "      # input dimension of the layer = dimension of the encoder\n",
        "      # output dimension of the layer = dimension of the context\n",
        "      self.predictors.append(torch.nn.Linear(dim_context, dim_encoder, bias=False))\n",
        "\n",
        "  def get_prediction_k(self, context_data):\n",
        "\n",
        "    #TO COMPLETE !\n",
        "    output = [] \n",
        "    # For each time step k\n",
        "    for k in range(self.K_):\n",
        "\n",
        "      # We need to compute phi_k = A_k * c_t\n",
        "      phi_k = self.predictors[k](context_data)\n",
        "      output.append(phi_k)\n",
        "\n",
        "    return output\n",
        "\n",
        "\n",
        "  def sample_negatives(self, encoded_data):\n",
        "    r\"\"\"\n",
        "    Sample some negative examples in the given encoded data.\n",
        "    Input:\n",
        "    - encoded_data size: B x T x H\n",
        "    Returns\n",
        "    - outputs of size B x (n_negative + 1) x (T - K_) x H\n",
        "      outputs[:, 0, :, :] contains the positive example\n",
        "      outputs[:, 1:, :, :] contains negative example sampled in the batch\n",
        "    - labels, long tensor of size B x (T - K_)\n",
        "      Since the positive example is always at coordinates 0 for all sequences \n",
        "      in the batch and all timestep in the sequence, labels is just a tensor\n",
        "      full of zeros !\n",
        "    \"\"\"\n",
        "    batch_size, time_size, dim_encoded = encoded_data.size()\n",
        "    window_size = time_size - self.K_\n",
        "    outputs = []\n",
        "\n",
        "    neg_ext = encoded_data.contiguous().view(-1, dim_encoded)\n",
        "    n_elem_sampled = self.n_negative * window_size * batch_size\n",
        "    # Draw nNegativeExt * batchSize negative samples anywhere in the batch\n",
        "    batch_idx = torch.randint(low=0, high=batch_size,\n",
        "                              size=(n_elem_sampled, ),\n",
        "                              device=encoded_data.device)\n",
        "\n",
        "    seq_idx = torch.randint(low=1, high=time_size,\n",
        "                            size=(n_elem_sampled, ),\n",
        "                            device=encoded_data.device)\n",
        "\n",
        "    base_idx = torch.arange(0, window_size, device=encoded_data.device)\n",
        "    base_idx = base_idx.view(1, 1, window_size)\n",
        "    base_idx = base_idx.expand(1, self.n_negative, window_size)\n",
        "    base_idx = base_idx.expand(batch_size, self.n_negative, window_size)\n",
        "    seq_idx += base_idx.contiguous().view(-1)\n",
        "    seq_idx = torch.remainder(seq_idx, time_size)\n",
        "\n",
        "    ext_idx = seq_idx + batch_idx * time_size\n",
        "    neg_ext = neg_ext[ext_idx].view(batch_size, self.n_negative,\n",
        "                                    window_size, dim_encoded)\n",
        "    label_loss = torch.zeros((batch_size, window_size),\n",
        "                              dtype=torch.long,\n",
        "                              device=encoded_data.device)\n",
        "\n",
        "    for k in range(1, self.K_ + 1):\n",
        "\n",
        "      # Positive samples\n",
        "      if k < self.K_:\n",
        "          pos_seq = encoded_data[:, k:-(self.K_-k)]\n",
        "      else:\n",
        "          pos_seq = encoded_data[:, k:]\n",
        "\n",
        "      pos_seq = pos_seq.view(batch_size, 1, pos_seq.size(1), dim_encoded)\n",
        "      full_seq = torch.cat((pos_seq, neg_ext), dim=1)\n",
        "      outputs.append(full_seq)\n",
        "\n",
        "    return outputs, label_loss\n",
        "\n",
        "  def forward(self, encoded_data, context_data):\n",
        "\n",
        "    # TO COMPLETE:\n",
        "    # Perform the full cpc criterion\n",
        "    # Returns 2 values:\n",
        "    # - the average classification loss avg_loss\n",
        "    # - the average classification acuracy avg_acc\n",
        "\n",
        "    # Reminder : The permuation !\n",
        "    encoded_data = encoded_data.permute(0, 2, 1)\n",
        "\n",
        "    # First we need to sample the negative examples\n",
        "    negative_samples, labels = self.sample_negatives(encoded_data)\n",
        "\n",
        "    # Then we must compute phi_k\n",
        "    phi_k = self.get_prediction_k(context_data)\n",
        "\n",
        "    # Finally we must get the dot product between phi_k and negative_samples \n",
        "    # for each k\n",
        "\n",
        "    #The total loss is the average of all losses\n",
        "    avg_loss = 0\n",
        "\n",
        "    # Average acuracy\n",
        "    avg_acc = 0\n",
        "\n",
        "    for k in range(self.K_):\n",
        "      B, N_sampled, S_small, H = negative_samples[k].size() \n",
        "      B, S, H = phi_k[k].size()\n",
        "\n",
        "      # As told before S = S_small + K. For segments too far in the sequence\n",
        "      # there are no positive exmples anyway, so we must shorten phi_k\n",
        "      phi = phi_k[k][:, :S_small]\n",
        "\n",
        "      # Now the dot product\n",
        "      # You have several ways to do that, let's do the simple but non optimal \n",
        "      # one\n",
        "      # pytorch has a matrix product function https://pytorch.org/docs/stable/torch.html#torch.bmm\n",
        "      # But it takes only 3D tensors of the same batch size !\n",
        "      # To begin negative_samples is a 4D tensor ! \n",
        "      # We want to compute the dot product for each features, of each sequence\n",
        "      # of the batch. Thus we are trying to compute a dot product for all\n",
        "      # B* N_sampled * S_small 1D vector of negative_samples[k]\n",
        "      # Or, a 1D tensor of size H is also a matrix of size 1 x H\n",
        "      # Then, we must view it as a 3D tensor of size (B* N_sampled * S_small, 1, H)\n",
        "      negative_sample_k  =  negative_samples[k].view(B* N_sampled* S_small, 1, H)\n",
        "\n",
        "      # But now phi and negative_sample_k no longer have the same batch size !\n",
        "      # No worries, we can expand phi so that each sequence of the batch\n",
        "      # is repeated N_sampled times\n",
        "      phi = phi.view(B, 1,S_small, H).expand(B, N_sampled, S_small, H)\n",
        "\n",
        "      # And now we can view it as a 3D tensor \n",
        "      phi  = phi.contiguous().view(B * N_sampled * S_small, H, 1)\n",
        "\n",
        "      # We can finally get the dot product !\n",
        "      scores = torch.bmm(negative_sample_k, phi)\n",
        "\n",
        "      # Dot_product has a size (B * N_sampled * S_small , 1, 1)\n",
        "      # Let's reorder it a bit\n",
        "      scores = scores.reshape(B, N_sampled, S_small)\n",
        "\n",
        "      # For each elements of the sequence, and each elements sampled, it gives \n",
        "      # a floating score stating the likelihood of this element being the \n",
        "      # true one.\n",
        "      # Now the classification loss, we need to use the Cross Entropy loss\n",
        "      # https://pytorch.org/docs/master/generated/torch.nn.CrossEntropyLoss.html\n",
        "\n",
        "      # For each time-step of each sequence of the batch \n",
        "      # we have N_sampled possible predictions. \n",
        "      # Looking at the documentation of torch.nn.CrossEntropyLoss\n",
        "      # we can see that this loss expect a tensor of size M x C where \n",
        "      # - M is the number of elements with a classification score\n",
        "      # - C is the number of possible classes\n",
        "      # There are N_sampled candidates for each predictions so\n",
        "      # C = N_sampled \n",
        "      # Each timestep of each sequence of the batch has a prediction so\n",
        "      # M = B * S_small\n",
        "      # Thus we need an input vector of size B * S_small, N_sampled\n",
        "      # To begin, we need to permute the axis\n",
        "      scores = scores.permute(0, 2, 1) # Now it has size B , S_small, N_sampled\n",
        "\n",
        "      # Then we can cast it into a 2D tensor\n",
        "      scores = scores.reshape(B * S_small, N_sampled)\n",
        "\n",
        "      # Same thing for the labels \n",
        "      labels = labels.reshape(B * S_small)\n",
        "\n",
        "      # Finally we can get the classification loss\n",
        "      loss_criterion = torch.nn.CrossEntropyLoss()\n",
        "      loss_k = loss_criterion(scores, labels)\n",
        "      avg_loss+= loss_k\n",
        "\n",
        "      # And for the acuracy\n",
        "      # The prediction for each elements is the sample with the highest score\n",
        "      # Thus the tensors of all predictions is the tensors of the index of the \n",
        "      # maximal score for each time-step of each sequence of the batch\n",
        "      predictions = torch.argmax(scores, 1)\n",
        "      acc_k  = (labels == predictions).sum() / (B * S_small)\n",
        "      avg_acc += acc_k\n",
        "\n",
        "    # Normalization\n",
        "    avg_loss = avg_loss / self.K_\n",
        "    avg_acc = avg_acc / self.K_\n",
        "      \n",
        "    return avg_loss , avg_acc"
      ],
      "execution_count": 22,
      "outputs": []
    },
    {
      "cell_type": "code",
      "metadata": {
        "id": "KA-vWb-gqBHe",
        "colab_type": "code",
        "colab": {
          "base_uri": "https://localhost:8080/",
          "height": 136
        },
        "outputId": "ee81e5dc-7ee5-46ea-9501-08f6602b2270"
      },
      "source": [
        "!ls"
      ],
      "execution_count": 28,
      "outputs": [
        {
          "output_type": "stream",
          "text": [
            "bin\t\t\t\t\t   etc\t  opt\t sys\n",
            "boot\t\t\t\t\t   home   proc\t tensorflow-1.15.2\n",
            "content\t\t\t\t\t   lib\t  root\t tmp\n",
            "datalab\t\t\t\t\t   lib32  run\t tools\n",
            "dev\t\t\t\t\t   lib64  sbin\t usr\n",
            "dlib-19.18.0-cp27-cp27mu-linux_x86_64.whl  media  srv\t var\n",
            "dlib-19.18.0-cp36-cp36m-linux_x86_64.whl   mnt\t  swift\n"
          ],
          "name": "stdout"
        }
      ]
    },
    {
      "cell_type": "code",
      "metadata": {
        "id": "8uhZx4rnqKQh",
        "colab_type": "code",
        "colab": {
          "base_uri": "https://localhost:8080/",
          "height": 34
        },
        "outputId": "9984c5e2-3911-4cf8-f408-e0c393713cc2"
      },
      "source": [
        "from google.colab import drive\n",
        "drive.mount('/content/drive')"
      ],
      "execution_count": 23,
      "outputs": [
        {
          "output_type": "stream",
          "text": [
            "Drive already mounted at /content/drive; to attempt to forcibly remount, call drive.mount(\"/content/drive\", force_remount=True).\n"
          ],
          "name": "stdout"
        }
      ]
    },
    {
      "cell_type": "code",
      "metadata": {
        "id": "l-W_AdpLrBhV",
        "colab_type": "code",
        "colab": {}
      },
      "source": [
        "data_dir = '/content/drive/My Drive/ammi-speech/data'\n",
        "train_dir = data_dir + '/records/train'\n",
        "test_dir = data_dir + '/records/test'\n",
        "val_dir = data_dir + '/records/val'"
      ],
      "execution_count": 30,
      "outputs": []
    },
    {
      "cell_type": "code",
      "metadata": {
        "id": "MLUwmUQ6qTsr",
        "colab_type": "code",
        "colab": {}
      },
      "source": [
        "# !unzip /content/drive/\"My Drive\"/part2.zip"
      ],
      "execution_count": 25,
      "outputs": []
    },
    {
      "cell_type": "code",
      "metadata": {
        "id": "j3I1mU87rfWh",
        "colab_type": "code",
        "colab": {
          "base_uri": "https://localhost:8080/",
          "height": 136
        },
        "outputId": "b3c472e7-2717-41e5-cfd4-f739d8472084"
      },
      "source": [
        "!ls"
      ],
      "execution_count": 26,
      "outputs": [
        {
          "output_type": "stream",
          "text": [
            "bin\t\t\t\t\t   etc\t  opt\t sys\n",
            "boot\t\t\t\t\t   home   proc\t tensorflow-1.15.2\n",
            "content\t\t\t\t\t   lib\t  root\t tmp\n",
            "datalab\t\t\t\t\t   lib32  run\t tools\n",
            "dev\t\t\t\t\t   lib64  sbin\t usr\n",
            "dlib-19.18.0-cp27-cp27mu-linux_x86_64.whl  media  srv\t var\n",
            "dlib-19.18.0-cp36-cp36m-linux_x86_64.whl   mnt\t  swift\n"
          ],
          "name": "stdout"
        }
      ]
    },
    {
      "cell_type": "markdown",
      "metadata": {
        "colab_type": "text",
        "id": "0cqGXhLf-_O1"
      },
      "source": [
        "Don't forget to test !"
      ]
    },
    {
      "cell_type": "code",
      "metadata": {
        "colab_type": "code",
        "id": "sYJSMh5I_QCf",
        "colab": {
          "base_uri": "https://localhost:8080/",
          "height": 54
        },
        "outputId": "43486574-6d26-4615-b097-6cdc63d41aa7"
      },
      "source": [
        "audio = torchaudio.load(train_dir + \"/200630-212742_hau_e35_elicit_101.wav\")\n",
        "audio = audio[0].view(1, 1, -1)\n",
        "cpc_model = CPCModel(encoder, context).to(device)\n",
        "cpc_criterion = CPCCriterion(N_PREDICTIONS, DIM_CONTEXT, \n",
        "                             DIM_ENCODER, N_NEGATIVE_SAMPLE).to(device)\n",
        "context_output, encoder_output = cpc_model(audio.to(device))\n",
        "loss, avg = cpc_criterion(encoder_output,context_output)"
      ],
      "execution_count": 29,
      "outputs": [
        {
          "output_type": "stream",
          "text": [
            "/pytorch/aten/src/ATen/native/BinaryOps.cpp:81: UserWarning: Integer division of tensors using div or / is deprecated, and in a future release div will perform true division as in Python 3. Use true_divide or floor_divide (// in Python) instead.\n"
          ],
          "name": "stderr"
        }
      ]
    },
    {
      "cell_type": "markdown",
      "metadata": {
        "colab_type": "text",
        "id": "zLv7GoE0_4C3"
      },
      "source": [
        "## Exercise 3: Full training loop !\n",
        "\n",
        "You have the model, you have the criterion. All you need now are a data loader and an optimizer to run your training loop.\n",
        "\n",
        "We will use an Adam optimizer:"
      ]
    },
    {
      "cell_type": "code",
      "metadata": {
        "colab_type": "code",
        "id": "zcg29tqPAIR1",
        "colab": {}
      },
      "source": [
        "parameters = list(cpc_criterion.parameters()) + list(cpc_model.parameters())\n",
        "optimizer = torch.optim.Adam(parameters, lr=LEARNING_RATE)"
      ],
      "execution_count": 32,
      "outputs": []
    },
    {
      "cell_type": "markdown",
      "metadata": {
        "colab_type": "text",
        "id": "hETDwSfTAuF4"
      },
      "source": [
        "And as far as the data loader is concerned, we will rely on the data loader provided by the CPC_audio library."
      ]
    },
    {
      "cell_type": "code",
      "metadata": {
        "colab_type": "code",
        "id": "O6KES4RXA0tU",
        "colab": {
          "base_uri": "https://localhost:8080/",
          "height": 323
        },
        "outputId": "c29eb961-0f7e-44d3-97da-8e7c87c8289f"
      },
      "source": [
        "dataset_train = load_dataset(train_dir)\n",
        "dataset_val = load_dataset(val_dir)\n",
        "data_loader_train = dataset_train.getDataLoader(BATCH_SIZE, \"speaker\", True)\n",
        "data_loader_val = dataset_train.getDataLoader(BATCH_SIZE, \"sequence\", False)"
      ],
      "execution_count": 31,
      "outputs": [
        {
          "output_type": "stream",
          "text": [
            "1it [00:00, 227.06it/s]"
          ],
          "name": "stderr"
        },
        {
          "output_type": "stream",
          "text": [
            "Saved cache file at /content/drive/My Drive/ammi-speech/data/records/train/_seqs_cache.txt\n"
          ],
          "name": "stdout"
        },
        {
          "output_type": "stream",
          "text": [
            "\n",
            "189it [00:00, 88207.80it/s]"
          ],
          "name": "stderr"
        },
        {
          "output_type": "stream",
          "text": [
            "Checking length...\n",
            "Done, elapsed: 0.171 seconds\n",
            "Scanned 189 sequences in 0.17 seconds\n",
            "1 chunks computed\n",
            "Joining pool\n"
          ],
          "name": "stdout"
        },
        {
          "output_type": "stream",
          "text": [
            "\n",
            "1it [00:00, 57.05it/s]"
          ],
          "name": "stderr"
        },
        {
          "output_type": "stream",
          "text": [
            "Joined process, elapsed=0.770 secs\n",
            "Saved cache file at /content/drive/My Drive/ammi-speech/data/records/val/_seqs_cache.txt\n"
          ],
          "name": "stdout"
        },
        {
          "output_type": "stream",
          "text": [
            "\n",
            "46it [00:00, 14170.99it/s]"
          ],
          "name": "stderr"
        },
        {
          "output_type": "stream",
          "text": [
            "Checking length...\n",
            "Done, elapsed: 0.129 seconds\n",
            "Scanned 46 sequences in 0.13 seconds\n",
            "1 chunks computed\n",
            "Joining pool\n"
          ],
          "name": "stdout"
        },
        {
          "output_type": "stream",
          "text": [
            "\n"
          ],
          "name": "stderr"
        },
        {
          "output_type": "stream",
          "text": [
            "Joined process, elapsed=0.286 secs\n"
          ],
          "name": "stdout"
        }
      ]
    },
    {
      "cell_type": "markdown",
      "metadata": {
        "colab_type": "text",
        "id": "uCoMCPL0A8VI"
      },
      "source": [
        "Now that everything is ready, complete and test the ```train_step``` function below which trains the model for one epoch."
      ]
    },
    {
      "cell_type": "code",
      "metadata": {
        "colab_type": "code",
        "id": "U-hIH3p8BsZr",
        "colab": {}
      },
      "source": [
        "def train_step(data_loader,\n",
        "               cpc_model,\n",
        "               cpc_criterion,\n",
        "               optimizer):\n",
        "  \n",
        "  avg_loss = 0\n",
        "  avg_acc = 0\n",
        "  n_items = 0\n",
        "\n",
        "  for step, data in enumerate(data_loader):\n",
        "    x,y = data\n",
        "    bs = len(x)\n",
        "    optimizer.zero_grad()\n",
        "    context_output, encoder_output = cpc_model(x.to(device))\n",
        "    loss , acc = cpc_criterion(encoder_output, context_output)\n",
        "    loss.backward()\n",
        "    n_items+=bs\n",
        "    avg_loss+=loss.item()*bs\n",
        "    avg_acc +=acc.item()*bs\n",
        "  \n",
        "  avg_loss/=n_items\n",
        "  avg_acc/=n_items\n",
        "  return avg_loss, avg_acc"
      ],
      "execution_count": 32,
      "outputs": []
    },
    {
      "cell_type": "markdown",
      "metadata": {
        "colab_type": "text",
        "id": "rIj06giJE_bZ"
      },
      "source": [
        "## Exercise 4 : Validation loop\n",
        "\n",
        "Now complete the validation loop."
      ]
    },
    {
      "cell_type": "code",
      "metadata": {
        "colab_type": "code",
        "id": "Q7Qwi6jDByyt",
        "colab": {}
      },
      "source": [
        "def validation_step(data_loader,\n",
        "                    cpc_model,\n",
        "                    cpc_criterion):\n",
        "  \n",
        "  avg_loss = 0\n",
        "  avg_acc = 0\n",
        "  n_items = 0\n",
        "\n",
        "  for step, data in enumerate(data_loader):\n",
        "    x,y = data\n",
        "    bs = len(x)\n",
        "    context_output, encoder_output = cpc_model(x.to(device))\n",
        "    loss , acc = cpc_criterion(encoder_output, context_output)\n",
        "    n_items+=bs\n",
        "    avg_loss+=loss.item()*bs\n",
        "    avg_acc+=acc.item()*bs\n",
        "  \n",
        "  avg_loss/=n_items\n",
        "  avg_acc/=n_items\n",
        "  return avg_loss, avg_acc"
      ],
      "execution_count": 33,
      "outputs": []
    },
    {
      "cell_type": "markdown",
      "metadata": {
        "colab_type": "text",
        "id": "OBVUPKKs2_0U"
      },
      "source": [
        "## Exercise 5: Run everything"
      ]
    },
    {
      "cell_type": "code",
      "metadata": {
        "colab_type": "code",
        "id": "ZbXsZIRiB1tm",
        "colab": {}
      },
      "source": [
        "def run(train_loader,\n",
        "        val_loader,\n",
        "        cpc_model,\n",
        "        cpc_criterion,\n",
        "        optimizer,\n",
        "        n_epochs):\n",
        "  \n",
        "  for epoch in range(n_epochs):\n",
        "\n",
        "    \n",
        "    print(f\"Running epoch {epoch+1} / {n_epochs}\")\n",
        "    avg_loss_train, avg_acc_train = train_step(train_loader, cpc_model, cpc_criterion, optimizer)\n",
        "    print(\"----------------------\")\n",
        "    print(f\"Training dataset\")\n",
        "    print(f\"- average loss : {avg_loss_train}\")\n",
        "    print(f\"- average acuracy : {avg_acc_train}\")\n",
        "    print(\"----------------------\")\n",
        "    with torch.no_grad():\n",
        "      cpc_model.eval()\n",
        "      cpc_criterion.eval()\n",
        "      avg_loss_val, avg_acc_val = validation_step(val_loader, cpc_model, cpc_criterion)\n",
        "      print(f\"Validation dataset\")\n",
        "      print(f\"- average loss : {avg_loss_val}\")\n",
        "      print(f\"- average acuracy : {avg_acc_val}\")\n",
        "      print(\"----------------------\")\n",
        "      print()\n",
        "      cpc_model.train()\n",
        "      cpc_criterion.train()"
      ],
      "execution_count": 34,
      "outputs": []
    },
    {
      "cell_type": "code",
      "metadata": {
        "colab_type": "code",
        "id": "5xx8vN2wpECC",
        "colab": {}
      },
      "source": [
        "#run(data_loader_train, data_loader_val, cpc_model,cpc_criterion,optimizer,10)"
      ],
      "execution_count": 38,
      "outputs": []
    },
    {
      "cell_type": "markdown",
      "metadata": {
        "colab_type": "text",
        "id": "5hoT3_3W6HYY"
      },
      "source": [
        "Once everything is donw, clear the memory."
      ]
    },
    {
      "cell_type": "code",
      "metadata": {
        "colab_type": "code",
        "id": "fU5mDOY46KSG",
        "colab": {}
      },
      "source": [
        "del dataset_train\n",
        "del dataset_val\n",
        "del cpc_model\n",
        "del context\n",
        "del encoder"
      ],
      "execution_count": 35,
      "outputs": []
    },
    {
      "cell_type": "markdown",
      "metadata": {
        "colab_type": "text",
        "id": "srPM5r_LB9v-"
      },
      "source": [
        "# Part 2 : Fine tuning"
      ]
    },
    {
      "cell_type": "code",
      "metadata": {
        "id": "D3PJqcbptSO5",
        "colab_type": "code",
        "colab": {
          "base_uri": "https://localhost:8080/",
          "height": 51
        },
        "outputId": "6fd6413a-7998-4d68-85b6-dec4e60f4c50"
      },
      "source": [
        "%cd /content/CPC_audio\n",
        "from cpc.model import CPCEncoder, CPCAR\n",
        "\n",
        "DIM_ENCODER=256\n",
        "DIM_CONTEXT=256\n",
        "KEEP_HIDDEN_VECTOR=False\n",
        "N_LEVELS_CONTEXT=1\n",
        "CONTEXT_RNN=\"GRU\"\n",
        "N_PREDICTIONS=12\n",
        "LEARNING_RATE=2e-4\n",
        "N_NEGATIVE_SAMPLE =128\n",
        "%cd ../../"
      ],
      "execution_count": 36,
      "outputs": [
        {
          "output_type": "stream",
          "text": [
            "/content/CPC_audio\n",
            "/\n"
          ],
          "name": "stdout"
        }
      ]
    },
    {
      "cell_type": "code",
      "metadata": {
        "id": "OYReQgfztZCu",
        "colab_type": "code",
        "colab": {}
      },
      "source": [
        "encoder = CPCEncoder(DIM_ENCODER)\n",
        "context = CPCAR(DIM_ENCODER, DIM_CONTEXT, KEEP_HIDDEN_VECTOR, 1, mode=CONTEXT_RNN)"
      ],
      "execution_count": 37,
      "outputs": []
    },
    {
      "cell_type": "code",
      "metadata": {
        "id": "gBWPmCyGtgrd",
        "colab_type": "code",
        "colab": {}
      },
      "source": [
        ""
      ],
      "execution_count": 37,
      "outputs": []
    },
    {
      "cell_type": "markdown",
      "metadata": {
        "colab_type": "text",
        "id": "0Nb_-0IQiJk9"
      },
      "source": [
        "## Exercice 1 : Phone separability with aligned phonemes.\n",
        "\n",
        "One option to evaluate the quality of the features trained with CPC can be to check if they can be used to recognize phonemes. \n",
        "To do so, we can fine-tune a pre-trained model using a limited amount of labelled speech data.\n",
        "We are going to start with a simple evaluation setting where we have the phone labels for each timestep corresponding to a CPC feature.\n",
        "\n",
        "We will work with a model already pre-trained on English data. As far as the fine-tuning dataset is concerned, we will use a 1h subset of [librispeech-100](http://www.openslr.org/12/). "
      ]
    },
    {
      "cell_type": "code",
      "metadata": {
        "colab_type": "code",
        "id": "N-scDMAasXxc",
        "colab": {
          "base_uri": "https://localhost:8080/",
          "height": 595
        },
        "outputId": "04ce26c6-a5e0-4d15-bfdd-494116faa817"
      },
      "source": [
        "!mkdir checkpoint_data\n",
        "!wget https://dl.fbaipublicfiles.com/librilight/CPC_checkpoints/not_hub/2levels_6k_top_ctc/checkpoint_30.pt -P checkpoint_data\n",
        "!wget https://dl.fbaipublicfiles.com/librilight/CPC_checkpoints/not_hub/2levels_6k_top_ctc/checkpoint_logs.json -P checkpoint_data\n",
        "!wget https://dl.fbaipublicfiles.com/librilight/CPC_checkpoints/not_hub/2levels_6k_top_ctc/checkpoint_args.json -P checkpoint_data\n",
        "!ls checkpoint_data"
      ],
      "execution_count": 38,
      "outputs": [
        {
          "output_type": "stream",
          "text": [
            "--2020-07-05 23:00:20--  https://dl.fbaipublicfiles.com/librilight/CPC_checkpoints/not_hub/2levels_6k_top_ctc/checkpoint_30.pt\n",
            "Resolving dl.fbaipublicfiles.com (dl.fbaipublicfiles.com)... 104.22.74.142, 172.67.9.4, 104.22.75.142, ...\n",
            "Connecting to dl.fbaipublicfiles.com (dl.fbaipublicfiles.com)|104.22.74.142|:443... connected.\n",
            "HTTP request sent, awaiting response... 200 OK\n",
            "Length: 113599715 (108M) [application/octet-stream]\n",
            "Saving to: ‘checkpoint_data/checkpoint_30.pt’\n",
            "\n",
            "checkpoint_30.pt    100%[===================>] 108.34M  10.5MB/s    in 12s     \n",
            "\n",
            "2020-07-05 23:00:33 (9.32 MB/s) - ‘checkpoint_data/checkpoint_30.pt’ saved [113599715/113599715]\n",
            "\n",
            "--2020-07-05 23:00:34--  https://dl.fbaipublicfiles.com/librilight/CPC_checkpoints/not_hub/2levels_6k_top_ctc/checkpoint_logs.json\n",
            "Resolving dl.fbaipublicfiles.com (dl.fbaipublicfiles.com)... 104.22.74.142, 172.67.9.4, 104.22.75.142, ...\n",
            "Connecting to dl.fbaipublicfiles.com (dl.fbaipublicfiles.com)|104.22.74.142|:443... connected.\n",
            "HTTP request sent, awaiting response... 200 OK\n",
            "Length: 20786 (20K) [text/plain]\n",
            "Saving to: ‘checkpoint_data/checkpoint_logs.json’\n",
            "\n",
            "checkpoint_logs.jso 100%[===================>]  20.30K   107KB/s    in 0.2s    \n",
            "\n",
            "2020-07-05 23:00:35 (107 KB/s) - ‘checkpoint_data/checkpoint_logs.json’ saved [20786/20786]\n",
            "\n",
            "--2020-07-05 23:00:37--  https://dl.fbaipublicfiles.com/librilight/CPC_checkpoints/not_hub/2levels_6k_top_ctc/checkpoint_args.json\n",
            "Resolving dl.fbaipublicfiles.com (dl.fbaipublicfiles.com)... 104.22.74.142, 172.67.9.4, 104.22.75.142, ...\n",
            "Connecting to dl.fbaipublicfiles.com (dl.fbaipublicfiles.com)|104.22.74.142|:443... connected.\n",
            "HTTP request sent, awaiting response... 200 OK\n",
            "Length: 2063 (2.0K) [text/plain]\n",
            "Saving to: ‘checkpoint_data/checkpoint_args.json’\n",
            "\n",
            "checkpoint_args.jso 100%[===================>]   2.01K  --.-KB/s    in 0s      \n",
            "\n",
            "2020-07-05 23:00:38 (30.0 MB/s) - ‘checkpoint_data/checkpoint_args.json’ saved [2063/2063]\n",
            "\n",
            "checkpoint_30.pt  checkpoint_args.json\tcheckpoint_logs.json\n"
          ],
          "name": "stdout"
        }
      ]
    },
    {
      "cell_type": "code",
      "metadata": {
        "id": "w-AuIpKBKKTi",
        "colab_type": "code",
        "colab": {
          "base_uri": "https://localhost:8080/",
          "height": 187
        },
        "outputId": "8ea760ed-6e60-49c4-fec5-663511d51f58"
      },
      "source": [
        "!ls"
      ],
      "execution_count": 39,
      "outputs": [
        {
          "output_type": "stream",
          "text": [
            "bin\t\t\t\t\t   lib\t  srv\n",
            "boot\t\t\t\t\t   lib32  swift\n",
            "checkpoint_data\t\t\t\t   lib64  sys\n",
            "content\t\t\t\t\t   media  tensorflow-1.15.2\n",
            "datalab\t\t\t\t\t   mnt\t  tmp\n",
            "dev\t\t\t\t\t   opt\t  tools\n",
            "dlib-19.18.0-cp27-cp27mu-linux_x86_64.whl  proc   usr\n",
            "dlib-19.18.0-cp36-cp36m-linux_x86_64.whl   root   var\n",
            "etc\t\t\t\t\t   run\n",
            "home\t\t\t\t\t   sbin\n"
          ],
          "name": "stdout"
        }
      ]
    },
    {
      "cell_type": "code",
      "metadata": {
        "colab_type": "code",
        "id": "SSSaiYo82_oY",
        "colab": {
          "base_uri": "https://localhost:8080/",
          "height": 394
        },
        "outputId": "b16c7bd7-1152-4bcc-c56b-339197e0458b"
      },
      "source": [
        "# %cd /content/CPC_audio\n",
        "from cpc.dataset import parseSeqLabels\n",
        "from cpc.feature_loader import loadModel, getCheckpointData\n",
        "import os\n",
        "\n",
        "checkpoint_path = 'checkpoint_data/checkpoint_30.pt'\n",
        "\n",
        "cpc_model, HIDDEN_CONTEXT_MODEL, HIDDEN_ENCODER_MODEL = loadModel([checkpoint_path])\n",
        "cpc_model = cpc_model.cuda()\n",
        "label_dict, N_PHONES = parseSeqLabels(data_dir+\"/chars.txt\")\n",
        "print(label_dict)\n",
        "dataset_train = load_dataset(train_dir, file_extension='.wav', phone_label_dict=label_dict)\n",
        "dataset_val = load_dataset(val_dir, file_extension='.wav', phone_label_dict=label_dict)\n",
        "data_loader_train = dataset_train.getDataLoader(BATCH_SIZE, \"speaker\", True)\n",
        "data_loader_val = dataset_val.getDataLoader(BATCH_SIZE, \"sequence\", False)"
      ],
      "execution_count": 40,
      "outputs": [
        {
          "output_type": "stream",
          "text": [
            "1it [00:00, 177.47it/s]"
          ],
          "name": "stderr"
        },
        {
          "output_type": "stream",
          "text": [
            "Loading checkpoint checkpoint_data/checkpoint_30.pt\n",
            "Loading the state dict at checkpoint_data/checkpoint_30.pt\n",
            "{'step': 160, '200630-212742_hau_e35_elicit_1': [3, 15, 16, 10, 1, 14, 10, 19, 15, 5, 10, 19, 1, 10, 19, 6, 4, 14, 4, 1, 7, 10, 19, 1, 19, 10, 11, 15, 5, 10, 19, 9, 10, 1, 13, 10, 1, 14, 10, 19, 2, 1, 12, 15, 3, 1, 10, 17, 4, 18, 1, 12, 10, 1, 6, 10, 4, 1, 11, 4, 1, 9, 10, 4, 1, 11, 10, 1, 11, 4, 1, 9, 8, 10, 5, 10, 19, 10], '200630-212742_hau_e35_elicit_3': [22, 10, 19, 3, 4, 1, 21, 10, 20, 4, 1, 9, 8, 4, 1, 18, 2, 1, 9, 10, 19, 3, 4, 1, 18, 10, 1, 10, 19, 17, 10, 4, 18, 1, 12, 10, 1, 17, 4, 11, 15, 1, 10, 1, 27, 2, 19, 4, 18, 1, 9, 10, 19, 10, 3, 15, 18, 10, 18, 1, 23, 10, 18, 28, 1, 22, 10, 18, 18, 10, 18, 1, 3, 15, 16, 10, 1, 9, 8, 4, 1, 18, 2, 1, 9, 10, 19, 3, 4, 1, 18, 10, 1, 14, 10, 19, 9, 8, 2, 1, 10, 1, 27, 2, 19, 4, 18, 1, 9, 10, 19, 10, 3, 15, 18, 10, 18, 1, 25, 4, 12, 10, 18, 1, 24, 15, 16, 29, 10, 1, 30, 1, 8, 10, 18, 18, 15, 18, 9, 10, 1, 26, 15, 20, 10, 18, 4, 1, 9, 15, 3, 10, 1, 3, 10, 19, 31, 4, 1, 9, 10, 19, 10, 15, 13, 10], '200630-212742_hau_e35_elicit_4': [32, 15, 18, 1, 3, 10, 29, 4, 18, 1, 26, 15, 20, 10, 18, 4, 1, 16, 10, 9, 15, 1, 35, 10, 8, 10, 12, 4, 1, 9, 15, 1, 29, 10, 13, 10, 13, 13, 10, 3, 2, 1, 9, 8, 4, 1, 9, 10, 4, 1, 12, 10, 1, 11, 10, 1, 9, 10, 16, 15, 1, 11, 15, 18, 5, 10, 1, 10, 1, 20, 28, 3, 10, 36, 4, 18, 9, 10, 1, 33, 10, 1, 26, 15, 20, 10, 18, 4, 1, 9, 15, 3, 10, 1, 6, 28, 1, 14, 5, 10, 13, 10, 19, 1, 16, 15, 20, 3, 4, 1, 10, 1, 8, 10, 18, 18, 15, 18, 9, 10, 1, 9, 10, 4, 1, 11, 10, 1, 25, 15, 12, 15, 1, 11, 10, 1, 18, 15, 29, 4, 1, 34, 10, 6, 6, 10, 15], '200630-212742_hau_e35_elicit_5': [33, 10, 1, 11, 10, 1, 9, 8, 4, 25, 10, 1, 34, 10, 6, 6, 10, 15, 1, 9, 10, 4, 1, 34, 10, 6, 6, 10, 25, 10, 5, 10, 1, 9, 15, 3, 10, 1, 13, 10, 16, 17, 10, 11, 2, 1, 9, 8, 4, 1, 37, 2, 1, 11, 10, 1, 17, 10, 19, 28, 1, 3, 10, 1, 12, 10, 1, 23, 10, 18, 28, 1, 9, 10, 4, 1, 11, 10, 1, 10, 16, 9, 10, 1, 16, 15, 9, 15, 1, 12, 10, 1, 36, 2, 5, 10, 1, 30, 17, 4, 18, 1, 12, 10, 1, 11, 10, 1, 29, 4, 13, 28, 1, 12, 10, 1, 18, 4, 1, 12, 10, 25, 10, 1, 36, 4, 3, 4, 18, 13, 10, 1, 3, 15, 1, 16, 10, 1, 11, 10, 1, 29, 4, 9, 9, 8, 2, 1, 3, 15, 1, 4, 12, 10, 18, 1, 30, 20, 20, 10, 8, 1, 11, 10, 1, 11, 10, 19, 12, 10], '200630-212742_hau_e35_elicit_6': [38, 10, 1, 25, 10, 1, 25, 10, 9, 3, 4, 11, 10, 1, 12, 10, 1, 4, 12, 28, 18, 10, 1, 18, 10, 1, 29, 4, 13, 28, 1, 12, 28, 16, 4, 18, 1, 13, 9, 4, 19, 10, 1, 12, 10, 1, 19, 10, 4, 18, 10, 1, 17, 10, 1, 12, 28, 16, 4, 18, 1, 4, 11, 10, 20, 4, 18, 10, 1, 12, 10, 1, 12, 15, 3, 4, 11, 10, 13, 10, 1, 17, 10, 1, 34, 10, 6, 6, 10, 25, 10, 5, 10, 1, 9, 15, 3, 10, 1, 3, 28, 19, 2, 1, 9, 8, 4, 1, 12, 28, 16, 4, 18, 1, 16, 15, 25, 15, 18, 11, 10, 19, 1, 16, 10, 25, 10, 18, 10, 19, 9, 10, 1, 11, 10, 1, 29, 4, 13, 10, 1, 11, 10, 1, 13, 10, 29, 4, 1, 24, 10, 18, 28], '200630-212742_hau_e35_elicit_8': [22, 10, 19, 3, 4, 1, 37, 15, 10, 8, 10, 16, 16, 10, 12, 15, 1, 30, 20, 21, 10, 20, 4, 1, 11, 10, 1, 16, 15, 20, 3, 4, 1, 23, 10, 18, 28, 1, 13, 9, 10, 5, 28, 18, 1, 9, 8, 2, 3, 10, 19, 10, 1, 4, 9, 8, 4, 19, 4, 18, 1, 12, 10, 1, 17, 10, 3, 5, 10, 4, 1, 3, 10, 29, 4, 18, 1, 10, 1, 3, 10, 9, 8, 2, 1, 9, 8, 4, 1, 10, 1, 39, 15, 19, 15, 16, 17, 15, 19, 15, 16], '200630-212742_hau_e35_elicit_9': [22, 15, 20, 10, 4, 16, 10, 18, 15, 1, 43, 10, 18, 1, 30, 17, 15, 8, 10, 16, 10, 1, 42, 40, 44, 41, 1, 1, 42, 40, 42, 45, 1, 37, 4, 20, 10, 12, 4, 11, 11, 10], '200630-212742_hau_e35_elicit_10': [22, 10, 19, 3, 4, 1, 22, 15, 20, 10, 4, 16, 10, 18, 15, 1, 9, 8, 4, 1, 18, 2, 1, 9, 10, 19, 3, 4, 1, 18, 10, 1, 10, 19, 17, 10, 4, 18, 1, 12, 10, 1, 8, 15, 46, 15, 1, 10, 1, 27, 2, 19, 4, 18, 1, 9, 10, 19, 10, 3, 15, 18, 10, 18, 1, 23, 10, 18, 28, 1, 9, 10, 18, 18, 10, 18, 1, 3, 15, 16, 10, 1, 9, 10, 19, 3, 4, 1, 18, 10, 1, 29, 10, 19, 3, 28, 1, 10, 1, 36, 4, 3, 4, 18, 1, 6, 15, 19, 4, 11, 10, 19, 1, 26, 15, 20, 10, 18, 4], '200630-212742_hau_e35_elicit_11': [30, 1, 29, 10, 19, 3, 28, 18, 1, 9, 10, 19, 10, 15, 13, 10, 19, 9, 10, 1, 26, 15, 20, 10, 18, 4, 1, 9, 15, 18, 1, 8, 10, 18, 10, 1, 9, 8, 4, 1, 9, 8, 4, 25, 10, 1, 25, 4, 12, 10, 18, 1, 24, 15, 16, 29, 10, 1, 9, 10, 17, 28, 12, 10, 1, 8, 10, 3, 10, 1, 9, 10, 4, 1, 11, 10, 1, 6, 10, 15, 18, 10, 1, 10, 1, 25, 4, 12, 10, 18, 1, 22, 10, 19, 3, 4, 18, 1, 33, 10, 5, 10, 3, 4], '200630-212742_hau_e35_elicit_12': [47, 10, 18, 10, 1, 18, 10, 18, 1, 6, 10, 15, 18, 2, 1, 36, 4, 3, 4, 18, 1, 5, 10, 18, 18, 10, 18, 1, 25, 4, 12, 10, 1, 9, 10, 4, 1, 5, 10, 18, 4, 1, 16, 15, 13, 15, 16, 1, 11, 10, 1, 36, 2, 1, 12, 10, 1, 9, 8, 4, 1, 48, 12, 10, 18, 1, 17, 10, 3, 10, 1, 9, 8, 4, 25, 10, 1, 25, 4, 12, 10, 18, 1, 24, 15, 16, 29, 10, 1, 17, 10, 1, 23, 10, 18, 10, 5, 10, 1, 17, 10, 1, 6, 10, 1, 9, 15, 1, 17, 4, 3, 10, 1, 17, 10], '200630-212742_hau_e35_elicit_13': [33, 10, 1, 11, 10, 1, 27, 4, 1, 8, 10, 3, 10, 1, 9, 10, 4, 1, 11, 10, 1, 10, 4, 3, 2, 5, 10, 1, 26, 15, 20, 10, 18, 4, 1, 36, 2, 5, 10, 1, 11, 10, 18, 10, 1, 18, 2, 16, 10, 18, 9, 15, 1, 22, 15, 1, 3, 15, 16, 10, 1, 9, 15, 3, 10, 1, 10, 16, 9, 10, 1, 16, 10, 9, 10, 1, 12, 10, 1, 36, 2, 5, 10, 1, 39, 10, 1, 6, 10, 1, 16, 15, 1, 6, 28, 1, 5, 15, 19, 4, 18, 3, 10, 1, 17, 10, 1, 9, 10, 4, 1, 12, 10, 4, 1, 3, 10, 4, 1, 3, 10, 1, 6, 28, 1, 5, 15, 19, 4, 18, 16, 15, 1, 12, 15, 3, 1, 12, 10, 1, 36, 2, 5, 10, 1, 3, 10, 4, 1, 18, 2, 1, 9, 10, 19, 3, 4], '200630-212742_hau_e35_elicit_14': [48, 12, 10, 18, 1, 3, 10, 1, 27, 2, 1, 25, 4, 12, 10, 18, 1, 37, 10, 20, 10, 16, 1, 35, 4, 17, 4, 19, 1, 16, 10, 1, 6, 28, 1, 25, 10, 19, 2, 1, 3, 10, 1, 47, 10, 1, 13, 10, 9, 8, 4, 1, 11, 10, 1, 27, 2, 1, 3, 15, 16, 10, 1, 11, 10, 1, 3, 4, 19, 10, 1, 9, 15, 1, 9, 15, 3, 10, 1, 10, 16, 9, 10], '200630-212742_hau_e35_elicit_15': [33, 10, 1, 9, 15, 3, 10, 1, 13, 10, 19, 15, 1, 9, 10, 4, 1, 11, 10, 1, 13, 10, 16, 17, 10, 11, 2, 1, 9, 15, 1, 33, 28, 18, 1, 16, 2, 1, 3, 15, 3, 10, 1, 8, 10, 18, 10, 1, 18, 4, 1, 9, 8, 4, 25, 10, 1, 25, 4, 12, 10, 18, 1, 24, 15, 16, 29, 10, 1, 22, 10, 4, 1, 37, 10, 20, 10, 16, 1, 35, 4, 17, 4, 19, 1, 11, 10, 1, 36, 2, 1, 12, 10, 1, 9, 8, 4, 1, 33, 28, 18, 1, 3, 10, 12, 10, 1, 16, 15, 1, 9, 8, 4, 25, 10, 1, 25, 4, 12, 10, 27, 2, 18, 9, 15, 1, 16, 15, 1, 8, 10, 4, 29, 4, 1, 49, 11, 10, 11, 10, 1, 9, 15, 1, 3, 28, 16, 10, 1, 25, 10, 1, 8, 10, 20, 10, 11, 2, 18, 9, 15], '200630-212742_hau_e35_elicit_16': [33, 10, 1, 9, 10, 19, 3, 4, 1, 11, 10, 1, 27, 4, 1, 8, 10, 3, 10, 1, 9, 10, 4, 1, 11, 10, 1, 14, 11, 10, 20, 2, 1, 9, 15, 1, 11, 10, 1, 13, 10, 29, 4, 1, 6, 15, 5, 10, 1, 25, 10, 1, 22, 8, 2, 8, 15, 1, 50, 9, 16, 10, 18, 15, 1, 11, 10, 1, 18, 2, 16, 4, 1, 4, 6, 4, 18, 1, 9, 8, 4, 1, 3, 15, 16, 10, 1, 11, 10, 1, 17, 10, 9, 8, 4, 1, 13, 10, 3, 28, 17, 4, 1, 12, 10, 1, 5, 15, 14, 10, 1, 12, 10, 1, 13, 15, 13, 10, 1, 11, 10, 1, 3, 15, 16, 10, 1, 11, 10, 19, 12, 10, 19, 1, 16, 10, 9, 10, 1, 11, 10, 1, 9, 8, 4, 25, 10, 1, 25, 4, 12, 10, 18, 1, 24, 15, 16, 29, 10], '200630-212742_hau_e35_elicit_17': [22, 10, 10, 18, 18, 10, 18, 1, 11, 10, 1, 9, 8, 4, 25, 10, 1, 11, 10, 1, 3, 15, 16, 10, 1, 9, 10, 16, 15, 1, 4, 3, 28, 18, 1, 23, 10, 18, 10, 5, 10, 1, 17, 4, 19, 18, 4, 1, 12, 10, 1, 14, 10, 15, 11, 2, 1, 10, 3, 10, 1, 17, 4, 9, 8, 4, 1, 22, 10, 19, 3, 4, 1, 22, 15, 20, 10, 4, 16, 10, 18, 15, 1, 11, 10, 1, 16, 15, 20, 3, 4, 1, 23, 10, 18, 28, 1, 13, 9, 10, 5, 28, 18, 1, 9, 8, 2, 3, 10, 19, 10, 1, 25, 28, 16, 10, 1, 3, 10, 29, 4, 18, 1, 11, 10, 1, 16, 15, 13, 15], '200630-212742_hau_e35_elicit_18': [48, 17, 19, 10, 8, 4, 16, 1, 33, 10, 17, 28, 1, 43, 10, 18, 1, 37, 10, 8, 16, 15, 12, 15, 1, 42, 40, 42, 45, 1, 1, 42, 40, 51, 52, 1, 37, 4, 20, 10, 12, 4, 11, 11, 10], '200630-212742_hau_e35_elicit_20': [22, 10, 19, 3, 4, 1, 48, 17, 19, 10, 8, 4, 16, 1, 33, 10, 17, 28, 1, 9, 8, 4, 1, 10, 3, 2, 1, 11, 4, 5, 10, 1, 20, 10, 14, 10, 17, 4, 1, 12, 10, 1, 37, 10, 4, 1, 17, 15, 46, 2, 1, 53, 10, 19, 15, 19, 15, 5, 10, 1, 22, 10, 17, 28, 18, 1, 53, 10, 20, 10, 12, 4, 16, 10, 1, 12, 10, 1, 11, 10, 1, 18, 10, 46, 10, 1, 5, 10, 13, 28, 1, 16, 10, 20, 10, 16, 1, 22, 10, 18, 4, 1, 10, 1, 16, 10, 13, 9, 10, 11, 4, 18, 1, 53, 10, 20, 10, 12, 4, 16, 10, 18, 1, 23, 10, 18, 28, 1, 11, 10, 1, 11, 4, 1, 18, 15, 29, 4, 18, 1, 36, 4, 18, 1, 10, 16, 10, 18, 10, 19, 9, 10, 1, 10, 16, 16, 10, 1, 30, 20, 20, 10, 8, 1, 17, 10, 4, 1, 18, 15, 29, 10, 1, 17, 10], '200630-212742_hau_e35_elicit_22': [11, 10, 1, 11, 10, 14, 2, 1, 13, 10, 1, 11, 10, 1, 11, 4, 1, 18, 10, 9, 10, 19, 10, 1, 7, 10, 3, 10, 8, 10, 3, 10, 1, 11, 10, 1, 11, 4, 1, 13, 10, 11, 4, 1, 8, 10, 19, 1, 9, 10, 4, 1, 12, 10, 1, 9, 10, 15, 19, 10, 18, 1, 25, 10, 19, 15, 19, 15, 5, 10, 1, 9, 15, 3, 10, 1, 13, 10, 17, 17, 10, 13, 10, 19, 1, 6, 10, 4, 1, 36, 4, 1, 9, 15, 1, 12, 10, 1, 11, 10, 14, 4, 1, 9, 10, 18, 18, 10, 18, 1, 9, 15, 3, 10, 1, 6, 28, 1, 9, 15, 3, 10, 1, 17, 4, 9, 8, 4, 1, 22, 10, 17, 28, 12, 10, 1, 8, 10, 3, 10, 1, 10, 3, 2, 1, 11, 4, 1, 16, 10, 9, 10, 1, 3, 4, 19, 10, 19, 4, 1, 12, 10, 1, 37, 10, 4, 1, 17, 15, 46, 2, 1, 25, 10, 19, 15, 19, 15, 5, 10], '200630-212742_hau_e35_elicit_23': [39, 10, 11, 10, 18, 1, 16, 15, 13, 15, 5, 10, 19, 1, 53, 10, 20, 10, 12, 4, 16, 10, 1, 22, 10, 18, 4, 1, 9, 10, 4, 1, 9, 10, 19, 3, 4, 18, 1, 23, 10, 18, 28, 1, 48, 17, 19, 10, 8, 4, 16, 1, 33, 10, 17, 28, 1, 11, 10, 1, 9, 10, 3, 2, 1, 18, 10, 46, 10, 1, 5, 10, 18, 4, 1, 10, 17, 28, 3, 4, 18, 9, 10, 1, 16, 10, 4, 1, 9, 15, 18, 10, 1, 30, 18, 25, 28, 1, 10, 1, 16, 10, 13, 9, 10, 11, 4, 18, 1, 53, 10, 20, 10, 12, 4, 16, 10, 18, 1, 23, 10, 18, 28], '200630-212742_hau_e35_elicit_24': [22, 10, 19, 3, 4, 1, 48, 17, 19, 10, 8, 4, 16, 1, 33, 10, 17, 28, 1, 11, 10, 1, 16, 15, 20, 3, 4, 1, 23, 10, 18, 28, 1, 13, 9, 10, 5, 28, 18, 1, 9, 8, 2, 3, 10, 19, 10, 1, 4, 9, 8, 4, 19, 4, 18, 1, 12, 10, 1, 17, 10, 3, 5, 10, 4, 1, 12, 10, 1, 5, 10, 13, 10, 1, 13, 10, 19, 10, 1, 47, 10, 1, 19, 10, 9, 15, 1, 10, 1, 5, 10, 13, 10, 18, 1, 22, 10, 29, 10, 19, 1, 30, 20, 20, 10, 8, 1, 11, 10, 1, 27, 4, 14, 10, 18, 9, 10, 1, 12, 10, 1, 19, 10, 8, 10, 16, 10, 1, 30, 16, 4, 18], '200630-212742_hau_e35_elicit_25': [50, 9, 16, 10, 18, 15, 1, 43, 10, 18, 1, 33, 10, 17, 28, 1, 42, 40, 51, 52, 1, 1, 42, 40, 54, 54, 1, 37, 4, 20, 10, 12, 4, 11, 11, 10], '200630-212742_hau_e35_elicit_26': [50, 9, 16, 10, 18, 15, 1, 43, 10, 18, 1, 33, 10, 17, 28, 1, 9, 8, 4, 1, 18, 2, 1, 9, 10, 19, 3, 4, 1, 18, 10, 1, 10, 19, 17, 10, 4, 18, 1, 12, 10, 1, 9, 8, 4, 12, 10, 1, 10, 1, 27, 2, 19, 4, 18, 1, 9, 10, 19, 10, 3, 15, 18, 10, 18, 1, 23, 10, 18, 28, 1, 9, 10, 18, 18, 10, 18, 1, 3, 15, 16, 10, 1, 9, 10, 19, 3, 4, 1, 18, 10, 1, 15, 3, 15, 1, 10, 1, 27, 2, 19, 4, 18, 1, 9, 10, 19, 10, 3, 15, 18, 10, 18, 1, 26, 15, 20, 10, 18, 4], '200630-212742_hau_e35_elicit_27': [23, 10, 20, 16, 10, 19, 1, 18, 10, 18, 1, 13, 10, 1, 37, 10, 4, 1, 39, 10, 17, 17, 10, 18, 1, 43, 10, 3, 4, 1, 13, 10, 1, 9, 10, 16, 28, 1, 10, 9, 10, 20, 4, 1, 18, 2, 1, 10, 1, 6, 10, 16, 10, 18, 4, 18, 9, 10, 1, 9, 10, 17, 28, 12, 10, 1, 11, 10, 1, 25, 4, 18, 10, 5, 10, 1, 16, 10, 8, 10, 4, 29, 4, 11, 10, 19, 1, 17, 10, 17, 17, 10, 18, 1, 25, 4, 12, 10, 1, 32, 10, 29, 10, 9, 10, 1, 9, 10, 4, 1, 10, 3, 10, 1, 19, 4, 14, 10, 1, 3, 4, 19, 10, 18, 13, 10, 1, 5, 10, 18, 18, 10, 18, 1, 20, 10, 14, 10, 17, 4, 18], '200630-212742_hau_e35_elicit_28': [30, 1, 20, 28, 3, 10, 36, 4, 18, 9, 10, 1, 11, 10, 1, 9, 10, 16, 15, 1, 3, 10, 18, 25, 10, 19, 10, 1, 12, 10, 25, 10, 1, 7, 10, 46, 2, 27, 10, 1, 22, 10, 18, 18, 10, 18, 1, 3, 15, 16, 10, 1, 10, 1, 6, 10, 16, 10, 18, 4, 18, 9, 10, 1, 22, 10, 19, 3, 4, 18, 1, 33, 15, 13, 9, 2, 1, 39, 2, 20, 20, 28, 1, 11, 10, 1, 3, 10, 18, 25, 10, 19, 2, 1, 9, 10, 4, 1, 10, 3, 10, 1, 8, 4, 20, 10, 36, 2, 1, 9, 8, 4, 1, 10, 3, 10, 1, 13, 15, 31, 2, 1, 9, 8, 4, 1, 7, 10, 3, 10, 1, 18, 10, 18, 1, 3, 15, 16, 10, 1, 9, 8, 4, 1, 18, 2, 1, 9, 10, 19, 3, 4, 18, 1, 12, 10, 11, 1, 10, 1, 25, 4, 18, 10, 1, 10, 1, 53, 28, 25, 2, 20], '200630-212742_hau_e35_elicit_29': [9, 10, 17, 28, 12, 10, 1, 11, 10, 18, 10, 1, 12, 10, 1, 25, 28, 18, 10, 1, 10, 1, 36, 10, 18, 1, 47, 10, 1, 16, 15, 20, 3, 4, 1, 23, 10, 18, 28, 1, 13, 9, 10, 5, 28, 18, 1, 9, 8, 2, 3, 10, 19, 10, 1, 46, 10, 11, 10, 1, 12, 10, 1, 5, 10, 13, 10, 1, 25, 28, 16, 10], '200630-212742_hau_e35_elicit_30': [30, 17, 12, 15, 20, 20, 10, 8, 4, 1, 43, 10, 18, 1, 33, 10, 17, 28, 1, 42, 40, 54, 54, 1, 1, 42, 40, 40, 55, 1, 37, 4, 20, 10, 12, 4, 11, 11, 10], '200630-212742_hau_e35_elicit_32': [30, 1, 6, 10, 16, 10, 18, 4, 18, 1, 22, 10, 19, 3, 4, 1, 30, 17, 12, 15, 20, 20, 10, 8, 4, 1, 56, 10, 9, 10, 19, 1, 23, 10, 18, 28, 1, 13, 10, 1, 11, 4, 1, 11, 10, 14, 2, 11, 10, 14, 2, 1, 12, 10, 1, 12, 10, 16, 10, 1, 32, 10, 1, 11, 4, 1, 25, 10, 20, 10, 17, 10, 1, 5, 10, 9, 15, 1, 20, 28, 3, 15, 13, 10, 18, 1, 10, 1, 5, 10, 9, 15, 1, 20, 28, 15, 13, 10, 18, 1, 3, 15, 16, 10, 1, 10, 1, 25, 10, 20, 10, 17, 36, 2, 1, 13, 10], '200630-212742_hau_e35_elicit_33': [22, 10, 19, 3, 4, 1, 30, 17, 12, 15, 20, 20, 10, 8, 4, 1, 11, 10, 1, 3, 10, 5, 28, 1, 10, 17, 15, 17, 15, 5, 10, 18, 1, 36, 4, 1, 25, 10, 17, 10, 1, 10, 1, 14, 10, 9, 10, 19, 1, 23, 10, 18, 28, 1, 12, 10, 1, 12, 10, 16, 10, 1, 33, 10, 25, 10, 1, 36, 4, 3, 4, 1, 10, 3, 5, 10, 4, 1, 36, 2, 5, 10, 1, 9, 8, 4, 1, 11, 10, 1, 9, 10, 3, 2, 1, 25, 4, 18, 10, 1, 34, 10, 15, 19, 2, 18, 1, 32, 15, 19, 10, 3, 4, 18, 1, 37, 10, 18, 11, 10, 1, 17, 10, 11, 10, 18, 1, 11, 10, 1, 19, 15, 9, 8, 2, 1, 9, 10, 18, 18, 10, 18, 1, 11, 10, 1, 25, 4, 18, 10, 1, 37, 10, 9, 10, 20, 20, 10, 36, 4, 18, 1, 32, 15, 19, 10, 3, 4, 18, 1, 37, 10, 18, 11, 10], '200630-212742_hau_e35_elicit_34': [22, 10, 18, 18, 10, 18, 1, 3, 15, 16, 10, 1, 10, 1, 6, 10, 16, 10, 18, 4, 18, 9, 10, 1, 10, 3, 10, 1, 29, 10, 19, 10, 1, 8, 10, 19, 17, 10, 1, 17, 4, 18, 12, 4, 25, 10, 1, 4, 12, 10, 18, 1, 9, 10, 19, 3, 4, 1, 6, 10, 4, 1, 8, 10, 15, 1, 5, 10, 18, 12, 10, 1, 5, 10, 18, 18, 10, 18, 1, 11, 10, 18, 10, 1, 46, 10, 11, 10, 1, 12, 10, 25, 10, 1, 36, 4, 3, 4, 18, 1, 10, 20, 10, 12, 15, 18, 1, 16, 10, 9, 10, 19, 10, 15, 13, 10, 19, 1, 23, 10, 18, 28, 1, 8, 10, 19, 1, 6, 15, 5, 10, 1, 11, 10, 15, 1, 46, 4, 18, 1, 18, 10, 18], '200630-212742_hau_e35_elicit_35': [22, 10, 19, 3, 4, 1, 30, 17, 12, 15, 20, 20, 10, 8, 4, 1, 46, 10, 18, 1, 33, 10, 17, 28, 1, 11, 10, 1, 11, 4, 1, 9, 10, 19, 10, 15, 13, 10, 19, 1, 23, 10, 18, 28, 1, 13, 9, 10, 5, 28, 18, 1, 9, 8, 2, 3, 10, 19, 10, 1, 4, 9, 8, 4, 19, 4, 18, 1, 12, 10, 1, 17, 10, 3, 5, 10, 4, 1, 12, 10, 1, 5, 10, 13, 10, 1, 13, 10, 3, 5, 10, 9, 1, 3, 10, 29, 4, 18, 1, 11, 10, 1, 19, 10, 9, 15, 1, 10, 1, 23, 10, 19, 28, 29, 4, 1, 30, 20, 20, 10, 8, 1, 11, 10, 1, 27, 4, 14, 10, 18, 9, 10, 1, 12, 10, 1, 19, 10, 8, 10, 16, 10, 1, 30, 16, 4, 18], '200630-212742_hau_e35_elicit_36': [37, 15, 8, 10, 16, 16, 10, 12, 15, 1, 39, 10, 20, 20, 28, 1, 42, 40, 40, 55, 1, 1, 42, 40, 45, 57, 1, 37, 4, 20, 10, 12, 4, 11, 11, 10], '200630-212742_hau_e35_elicit_37': [22, 10, 19, 3, 4, 1, 37, 15, 8, 10, 16, 16, 10, 12, 15, 1, 39, 2, 20, 20, 28, 1, 9, 8, 4, 1, 18, 2, 1, 9, 10, 19, 3, 4, 1, 18, 10, 1, 10, 19, 17, 10, 4, 18, 1, 12, 10, 1, 13, 10, 3, 5, 10, 9, 1, 10, 1, 27, 2, 19, 4, 18, 1, 9, 10, 19, 10, 3, 15, 18, 10, 1, 23, 10, 18, 28, 1, 9, 10, 18, 18, 10, 18, 1, 3, 15, 16, 10, 1, 9, 10, 19, 3, 4, 1, 18, 10, 1, 17, 4, 11, 10, 19, 1, 10, 1, 27, 2, 19, 4, 18, 1, 9, 10, 19, 10, 3, 15, 18, 10, 18, 1, 26, 15, 20, 10, 18, 4], '200630-212742_hau_e35_elicit_38': [22, 10, 19, 3, 4, 1, 18, 2, 1, 16, 10, 4, 1, 11, 10, 5, 10, 18, 1, 10, 20, 8, 2, 19, 4, 1, 22, 10, 17, 28, 12, 10, 1, 3, 11, 10, 3, 3, 11, 10, 5, 10, 18, 1, 8, 10, 20, 4, 1, 12, 10, 1, 11, 10, 3, 2, 1, 12, 10, 1, 9, 8, 4, 1, 17, 10, 4, 1, 9, 10, 16, 15, 1, 5, 10, 13, 10, 1, 16, 10, 13, 9, 10, 20, 10, 1, 12, 10, 25, 10, 1, 5, 10, 27, 2, 18, 1, 16, 10, 9, 10, 19, 10, 15, 13, 10, 19, 9, 10, 1, 17, 10, 1, 9, 10, 4, 1, 5, 10, 13, 10, 1, 49, 11, 10, 19, 1, 13, 10, 18, 25, 10, 19, 46, 10, 1, 12, 10, 1, 11, 10, 1, 9, 10, 16, 15, 1, 13, 10, 1, 36, 4, 3, 4, 18, 1, 25, 4, 12, 10, 1, 3, 15, 16, 10, 1, 11, 10, 1, 9, 8, 10, 5, 28, 1, 3, 10, 18, 13, 10], '200630-212742_hau_e35_elicit_39': [47, 10, 1, 11, 4, 1, 9, 10, 19, 10, 15, 13, 10, 19, 1, 23, 10, 18, 28, 1, 13, 10, 1, 13, 9, 10, 5, 28, 18, 1, 9, 8, 2, 3, 10, 19, 10, 1, 25, 28, 16, 10, 1, 9, 8, 10, 1, 46, 10, 11, 10, 1, 12, 10, 1, 5, 10, 13, 10, 1, 17, 10, 3, 5, 10, 4, 1, 47, 10, 1, 16, 15, 13, 15, 1, 10, 1, 25, 4, 12, 10, 18, 1, 9, 10, 19, 10, 15, 13, 10, 1, 3, 15, 16, 10, 1, 10, 1, 18, 10, 18, 1, 10, 3, 10, 1, 17, 4, 18, 18, 2, 1, 9, 8, 4], '200630-212742_hau_e35_elicit_40': [32, 15, 3, 15, 19, 1, 43, 10, 18, 1, 39, 10, 20, 20, 28, 1, 42, 40, 45, 57, 1, 1, 42, 40, 45, 51, 1, 37, 4, 20, 10, 12, 4, 11, 11, 10], '200630-212742_hau_e35_elicit_41': [22, 10, 19, 3, 4, 1, 32, 15, 3, 15, 19, 1, 9, 8, 4, 1, 18, 2, 1, 9, 10, 19, 3, 4, 1, 18, 10, 1, 10, 19, 17, 10, 4, 18, 1, 12, 10, 1, 13, 10, 19, 10, 1, 10, 1, 27, 2, 19, 4, 18, 1, 9, 10, 19, 10, 3, 15, 18, 10, 18, 1, 23, 10, 18, 28, 1, 22, 10, 18, 18, 10, 18, 1, 3, 15, 16, 10, 1, 9, 10, 19, 3, 4, 1, 18, 10, 1, 9, 8, 4, 12, 10, 1, 10, 1, 27, 2, 19, 4, 18, 1, 9, 10, 19, 10, 3, 15, 18, 10, 18, 1, 26, 15, 20, 10, 18, 4], '200630-212742_hau_e35_elicit_43': [24, 15, 16, 29, 10, 19, 1, 23, 10, 19, 10], '200630-212742_hau_e35_elicit_44': [22, 10, 4, 1, 12, 10, 25, 10, 1, 17, 10, 11, 10, 1, 5, 10, 9, 15, 1, 49, 11, 10, 18, 1, 13, 9, 4, 19, 10, 19, 15, 1, 12, 10, 1, 9, 15, 3, 10, 1, 8, 10, 46, 10, 1, 12, 10, 1, 21, 10, 16, 17, 10, 18, 1, 23, 10, 18, 28, 1, 22, 8, 2, 8, 15, 1, 12, 10, 1, 37, 10, 16, 16, 10, 18, 1, 37, 10, 4, 1, 58, 10, 29, 4, 11, 10, 1, 12, 10, 1, 53, 10, 20, 10, 12, 4, 16, 10, 1, 47, 15, 9, 15, 29, 15, 1, 12, 10, 1, 5, 10, 9, 15, 1, 49, 11, 10, 18, 1, 16, 15, 13, 10, 18, 2, 1, 3, 10, 46, 10, 18, 1, 9, 15, 3, 10, 1, 11, 4, 1, 16, 10, 9, 10, 1, 36, 10, 29, 29, 10], '200630-212742_hau_e35_elicit_45': [39, 10, 11, 10, 18, 1, 29, 4, 13, 28, 5, 10, 19, 1, 53, 10, 20, 10, 12, 4, 16, 10, 1, 47, 15, 9, 15, 29, 15, 1, 12, 10, 25, 10, 1, 25, 4, 12, 10, 18, 1, 9, 10, 19, 3, 4, 1, 9, 10, 4, 1, 16, 15, 13, 10, 18, 2, 1, 9, 15, 3, 2, 1, 11, 4, 1, 16, 15, 9, 15, 1, 17, 10, 10, 1, 12, 10, 1, 36, 2, 5, 10, 1, 37, 15, 13, 15, 16, 1, 17, 4, 11, 10, 19, 1, 9, 15, 18, 1, 19, 4, 18, 27, 10, 11, 4, 1, 16, 15, 13, 15, 16, 1, 46, 10, 19, 4], '200630-212742_hau_e35_elicit_46': [33, 10, 1, 9, 10, 19, 3, 4, 18, 1, 53, 10, 11, 10, 1, 33, 10, 17, 28, 1, 11, 10, 1, 9, 10, 16, 15, 1, 20, 10, 17, 10, 19, 4, 1, 9, 10, 4, 1, 11, 10, 1, 46, 10, 15, 19, 10, 1, 46, 10, 16, 10, 19, 10, 19, 1, 11, 10, 14, 4, 1, 11, 10, 1, 27, 2, 1, 11, 10, 1, 29, 10, 13, 10, 13, 13, 10, 3, 2, 1, 9, 15, 1, 35, 10, 16, 10, 10, 1, 9, 15, 3, 10, 1, 17, 4, 9, 15, 1, 12, 10, 1, 4, 8, 15, 1, 9, 15, 18, 10, 1, 6, 10, 13, 28, 18, 1, 9, 15, 18, 1, 25, 15, 12, 15, 1, 18, 2, 1, 10, 9, 8, 2, 1, 9, 15, 18, 1, 9, 10, 3, 2, 1, 3, 28, 16, 10, 5, 10, 1, 32, 10, 3, 10, 4, 1, 18, 2, 1, 9, 15, 3, 10, 1, 9, 10, 3, 2, 1, 9, 10, 17, 28, 18, 1, 9, 8, 4, 19, 4, 18, 1, 11, 10, 14, 4], '200630-212742_hau_e35_elicit_48': [37, 15, 8, 10, 16, 16, 10, 12, 15, 1, 30, 17, 17, 10, 9, 1, 42, 45, 44, 57, 1, 1, 42, 45, 42, 45, 1, 37, 4, 20, 10, 12, 4, 11, 11, 10], '200630-212742_hau_e35_elicit_49': [22, 10, 19, 3, 4, 1, 37, 15, 8, 10, 16, 16, 10, 12, 15, 1, 30, 17, 17, 10, 9, 1, 9, 8, 4, 1, 18, 2, 1, 9, 10, 19, 3, 4, 1, 18, 10, 1, 54, 42, 1, 10, 1, 27, 2, 19, 4, 18, 1, 9, 10, 19, 10, 3, 15, 18, 10, 18, 1, 23, 10, 18, 28, 1, 9, 10, 18, 18, 10, 18, 1, 3, 15, 16, 10, 1, 9, 10, 19, 3, 4, 1, 18, 10, 1, 45, 1, 10, 1, 27, 2, 19, 4, 18, 1, 9, 10, 19, 10, 3, 15, 18, 10, 18, 1, 26, 15, 20, 10, 18, 4, 1, 8, 10, 19, 1, 5, 10, 11, 10, 15, 1, 3, 15, 16, 10, 1, 9, 8, 4, 1, 18, 2, 1, 9, 10, 19, 3, 4, 1, 18, 10, 1, 29, 10, 19, 3, 28, 1, 12, 10, 1, 32, 15, 19, 10, 5, 10, 1, 9, 15, 3, 10, 1, 29, 10, 19, 10, 1, 18, 10, 46, 10, 5, 10], '200630-212742_hau_e35_elicit_50': [22, 10, 19, 3, 4, 1, 37, 15, 8, 10, 16, 16, 10, 12, 15, 1, 30, 17, 17, 10, 9, 1, 16, 15, 13, 15, 16, 1, 18, 2, 1, 27, 10, 19, 15, 16, 4, 1, 3, 15, 16, 10, 1, 16, 10, 4, 1, 29, 10, 46, 10, 1, 17, 10, 1, 29, 10, 9, 10, 5, 10, 1, 3, 28, 1, 3, 15, 16, 10, 1, 10, 18, 10, 1, 4, 11, 10, 1, 36, 2, 5, 10, 1, 16, 15, 13, 15, 16, 1, 18, 2, 1, 3, 10, 4, 29, 4, 1, 46, 10, 11, 10, 1, 47, 10, 1, 3, 10, 9, 10, 18, 36, 2, 1, 9, 10, 19, 3, 4, 1, 16, 10, 4, 1, 8, 10, 14, 15, 19, 4, 1, 12, 10, 1, 27, 10, 16, 10, 10, 19, 9, 10], '200630-212742_hau_e35_elicit_51': [22, 10, 19, 3, 4, 1, 30, 17, 17, 10, 9, 1, 11, 10, 1, 11, 4, 1, 16, 15, 20, 3, 4, 1, 13, 10, 19, 2, 1, 12, 10, 1, 32, 15, 19, 10, 5, 10, 1, 9, 10, 17, 28, 12, 10, 1, 8, 10, 3, 10, 1, 8, 10, 3, 4, 16, 10, 18, 9, 10, 1, 9, 15, 3, 10, 1, 9, 10, 16, 15, 1, 12, 10, 16, 10, 1, 13, 10, 1, 12, 10, 20, 4, 20, 4, 18, 1, 8, 10, 14, 15, 19, 4, 18, 9, 10, 1, 12, 10, 1, 3, 10, 5, 10, 4, 36, 4, 18, 9, 10, 1, 9, 15, 18, 10, 1, 4, 11, 10, 1, 11, 4, 18, 1, 16, 10, 25, 10, 18, 10, 1, 3, 10, 4, 1, 13, 9, 10, 11, 2, 1, 12, 10, 1, 32, 15, 19, 10, 5, 10], '200630-212742_hau_e35_elicit_52': [8, 10, 19, 1, 9, 10, 4, 1, 12, 10, 1, 13, 10, 1, 3, 10, 4, 1, 27, 10, 20, 20, 4, 18, 1, 16, 15, 18, 10, 29, 15, 19, 36, 4, 1, 11, 10, 1, 29, 10, 19, 10, 1, 25, 15, 12, 10, 18, 10, 1, 10, 1, 13, 9, 10, 3, 10, 18, 4, 18, 1, 32, 15, 19, 10, 5, 10, 18, 18, 10, 18, 1, 12, 10, 1, 5, 10, 9, 15, 1, 12, 10, 25, 10, 1, 36, 4, 3, 4, 18, 1, 8, 10, 3, 4, 16, 10, 18, 1, 9, 10, 19, 3, 4, 1, 30, 17, 17, 10, 9, 1, 3, 11, 10, 3, 3, 11, 10, 5, 10, 18, 1, 13, 9, 10, 19, 4, 1, 11, 10, 1, 11, 10, 18, 3, 10, 5, 10, 1, 9, 10, 19, 10, 3, 15, 18, 10, 1, 12, 10, 1, 9, 10, 15, 19, 10, 18, 1, 16, 10, 10, 4, 3, 10, 1, 10, 20, 17, 10, 9, 8, 4], '200630-212742_hau_e35_elicit_54': [10, 3, 10, 1, 25, 4, 18, 10, 1, 5, 10, 9, 15, 1, 3, 10, 9, 15, 5, 10, 18, 18, 4, 1, 10, 1, 23, 10, 18, 28, 1, 22, 10, 18, 18, 10, 18, 1, 3, 15, 16, 10, 1, 10, 1, 6, 10, 16, 10, 18, 4, 18, 9, 10, 1, 18, 2, 1, 10, 1, 36, 4, 3, 4, 1, 9, 8, 2, 3, 10, 19, 10, 19, 1, 42, 45, 42, 44, 1, 10, 3, 10, 1, 25, 4, 18, 10, 1, 5, 10, 13, 10, 1, 16, 10, 3, 10, 19, 10, 18, 13, 10, 1, 10, 1, 36, 4, 3, 4, 18, 1, 38, 10, 9, 9, 10, 19, 10, 5, 10, 1, 5, 10, 36, 36, 2, 1, 10, 1, 11, 10, 18, 6, 15, 1, 13, 10, 1, 3, 28, 16, 10, 1, 25, 4, 12, 10, 18, 1, 43, 10, 18, 8, 10, 15, 9, 10], '200630-212742_hau_e35_elicit_55': [22, 10, 19, 3, 4, 1, 37, 15, 8, 10, 16, 16, 10, 12, 15, 1, 30, 17, 17, 10, 9, 1, 11, 10, 1, 11, 4, 1, 9, 10, 19, 10, 15, 13, 10, 19, 1, 23, 10, 18, 28, 1, 13, 10, 1, 13, 9, 10, 5, 28, 18, 1, 9, 8, 2, 3, 10, 19, 10, 1, 25, 28, 16, 10, 1, 9, 8, 10, 1, 9, 8, 4, 12, 10, 1, 47, 10, 1, 19, 10, 9, 15, 1, 10, 1, 9, 8, 2, 3, 10, 19, 10, 19, 1, 42, 45, 42, 45, 1, 30, 18, 1, 17, 4, 18, 18, 2, 1, 9, 8, 4, 1, 10, 1, 25, 4, 12, 10, 18, 9, 10, 1, 12, 10, 1, 3, 2, 1, 38, 10, 9, 9, 10, 19, 10, 5, 10], '200630-212742_hau_e35_elicit_56': [30, 17, 12, 15, 20, 20, 10, 8, 4, 1, 39, 10, 11, 2, 19, 28, 1, 43, 10, 18, 1, 30, 17, 17, 10, 9, 1, 42, 45, 55, 52, 1, 1, 42, 45, 54, 57, 1, 37, 4, 20, 10, 12, 4, 11, 11, 10], '200630-212742_hau_e35_elicit_58': [30, 18, 1, 18, 10, 46, 10, 1, 9, 10, 19, 3, 4, 1, 30, 17, 12, 15, 20, 20, 10, 8, 4, 1, 10, 1, 16, 10, 13, 9, 10, 11, 4, 18, 1, 9, 10, 19, 3, 4, 18, 1, 23, 10, 18, 28, 1, 20, 28, 3, 10, 36, 4, 18, 1, 11, 10, 18, 10, 1, 59, 4, 19, 28, 16, 10, 18, 1, 23, 10, 18, 28, 1, 22, 8, 4, 1, 18, 2, 1, 29, 10, 19, 3, 28, 18, 1, 59, 4, 19, 28, 16, 10, 18, 1, 23, 10, 18, 28, 1, 12, 10, 1, 11, 10, 1, 6, 10, 16, 10, 1, 9, 10, 19, 3, 4, 1, 22, 10, 19, 3, 4, 1, 30, 17, 12, 15, 20, 20, 10, 8, 4, 1, 39, 10, 11, 2, 19, 28, 1, 16, 15, 13, 15, 16, 1, 18, 2, 1, 16, 10, 4, 1, 8, 10, 14, 15, 19, 4, 1, 12, 10, 1, 3, 15, 16, 10, 1, 13, 10, 13, 13, 10, 20, 4, 18, 1, 27, 10, 16, 10, 10, 19, 9, 10], '200630-212742_hau_e35_elicit_59': [30, 1, 6, 10, 16, 10, 18, 4, 18, 1, 9, 10, 19, 3, 4, 1, 30, 17, 12, 15, 20, 20, 10, 8, 4, 1, 10, 3, 10, 1, 3, 10, 16, 16, 10, 20, 10, 1, 10, 4, 3, 4, 18, 1, 19, 15, 5, 10, 18, 1, 29, 10, 16, 29, 28, 1, 12, 10, 1, 10, 3, 10, 1, 27, 10, 5, 28, 1, 12, 10, 25, 10, 1, 23, 28, 25, 4, 18, 1, 59, 10, 20, 10, 5, 10, 1, 6, 15, 5, 10, 1, 53, 5, 10, 15, 19, 28, 18, 1, 33, 15, 13, 9, 2, 1, 9, 10, 18, 18, 10, 18, 1, 10, 3, 10, 1, 19, 10, 19, 19, 10, 17, 10, 1, 9, 8, 4, 1, 6, 15, 5, 10, 1, 15, 18, 25, 15, 5, 10, 18, 18, 4, 1, 12, 10, 1, 25, 4, 12, 10, 27, 2], '200630-212742_hau_e35_elicit_60': [22, 10, 19, 3, 4, 1, 30, 17, 12, 15, 20, 20, 10, 8, 4, 1, 39, 10, 11, 2, 19, 28, 1, 11, 10, 1, 16, 15, 20, 3, 4, 1, 23, 10, 18, 28, 1, 18, 10, 1, 13, 9, 10, 5, 28, 18, 1, 9, 8, 2, 3, 10, 19, 10, 1, 4, 9, 8, 4, 19, 4, 18, 1, 12, 10, 1, 17, 10, 3, 5, 10, 4], '200630-212742_hau_e35_elicit_61': [37, 15, 8, 10, 16, 16, 10, 12, 15, 1, 22, 10, 18, 15, 9, 4, 1, 42, 45, 54, 57, 1, 1, 42, 45, 52, 57, 1, 37, 4, 20, 10, 12, 4, 11, 11, 10], '200630-212742_hau_e35_elicit_62': [37, 15, 8, 10, 16, 16, 10, 12, 15, 1, 22, 10, 18, 15, 9, 4, 1, 48], '200630-212742_hau_e35_elicit_63': [22, 10, 19, 3, 4, 1, 37, 15, 8, 10, 16, 16, 10, 12, 15, 1, 22, 10, 18, 15, 9, 4, 1, 9, 8, 4, 1, 18, 2, 1, 9, 10, 19, 3, 4, 1, 18, 10, 1, 54, 57, 1, 10, 1, 27, 2, 19, 4, 18, 1, 9, 10, 19, 10, 3, 15, 18, 10, 18, 1, 23, 10, 18, 28, 1, 9, 10, 18, 18, 10, 18, 1, 3, 15, 16, 10, 1, 9, 10, 19, 3, 4, 1, 18, 10, 1, 42, 42, 1, 10, 1, 27, 2, 19, 4, 18, 1, 9, 10, 19, 10, 3, 15, 18, 10, 18, 1, 26, 15, 20, 10, 18, 4], '200630-212742_hau_e35_elicit_64': [22, 10, 19, 3, 4, 1, 37, 15, 8, 10, 16, 16, 10, 12, 15, 1, 22, 10, 18, 15, 9, 4, 1, 17, 10, 17, 17, 10, 18, 1, 16, 10, 20, 10, 16, 4, 18, 1, 10, 12, 12, 4, 18, 4, 1, 18, 2, 1, 9, 10, 18, 18, 10, 18, 1, 3, 15, 16, 10, 1, 9, 15, 29, 4, 1, 37, 15, 13, 15, 16, 1, 18, 2, 1, 16, 10, 19, 10, 9, 1, 13, 9, 28, 19, 28, 1, 16, 10, 18, 10, 25, 10, 19, 36, 4, 1, 9, 10, 18, 18, 10, 18, 1, 3, 15, 16, 10, 1, 16, 10, 9, 10, 18, 10, 18, 4, 18, 1, 10, 12, 12, 4, 18, 4], '200630-212742_hau_e35_elicit_65': [30, 1, 6, 10, 16, 10, 18, 4, 18, 1, 9, 10, 19, 3, 4, 1, 37, 15, 8, 10, 16, 16, 10, 12, 15, 1, 22, 10, 18, 15, 9, 4, 1, 10, 18, 1, 14, 10, 19, 10, 1, 25, 4, 18, 10, 1, 5, 10, 9, 15, 1, 16, 10, 3, 10, 19, 10, 18, 13, 15, 1, 12, 10, 1, 10, 9, 4, 17, 4, 13, 28, 36, 4, 1, 12, 10, 1, 12, 10, 4, 1, 9, 10, 15, 19, 10, 18, 1, 3, 10, 11, 10, 18, 1, 16, 28, 19, 2, 1, 19, 10, 11, 15, 5, 10], '200630-212742_hau_e35_elicit_66': [37, 15, 8, 10, 16, 16, 10, 12, 15, 1, 48, 18, 15, 5, 10, 1, 30, 17, 17, 10, 9, 1, 42, 45, 52, 57], '200630-212742_hau_e35_elicit_67': [22, 10, 19, 3, 4, 1, 37, 15, 8, 10, 16, 16, 10, 12, 15, 1, 48, 18, 15, 5, 10, 1, 9, 8, 4, 1, 18, 2, 1, 9, 10, 19, 3, 4, 1, 18, 10, 1, 54, 51, 1, 10, 1, 27, 2, 19, 4, 18, 1, 9, 10, 19, 10, 3, 15, 18, 10, 18, 1, 23, 10, 18, 28, 1, 9, 10, 18, 18, 10, 18, 1, 3, 15, 16, 10, 1, 9, 10, 19, 3, 4, 1, 18, 10, 1, 42, 55, 1, 10, 1, 27, 2, 19, 4, 18, 1, 9, 10, 19, 10, 3, 15, 18, 10, 18, 1, 26, 15, 20, 10, 18, 4, 1, 30, 18, 1, 11, 4, 1, 16, 10, 9, 10, 1, 9, 10, 19, 10, 15, 13, 10, 19, 1, 23, 10, 18, 28, 1, 20, 28, 3, 10, 36, 4, 18, 1, 11, 10, 18, 10, 1, 19, 4, 14, 2, 1, 12, 10, 1, 16, 15, 14, 10, 16, 4, 18, 1, 32, 15, 19, 10, 3, 4, 18, 1, 23, 10, 18, 28], '200630-212742_hau_e35_elicit_68': [22, 10, 18, 18, 10, 18, 1, 3, 15, 16, 10, 1, 11, 10, 1, 11, 4, 1, 8, 10, 3, 4, 16, 4, 1, 10, 1, 39, 4, 36, 8, 4, 1, 12, 10, 1, 3, 15, 16, 10, 1, 25, 15, 18, 12, 15, 16, 10, 19, 1, 37, 4, 18, 27, 4, 17, 4, 19, 4, 1, 5, 10, 36, 36, 2, 1, 13, 10, 1, 8, 10, 46, 10, 1, 12, 10, 1, 23, 15, 18, 11, 10, 1, 12, 10, 1, 23, 15, 19, 15, 1, 3, 10, 29, 4, 18, 1, 6, 10, 16, 28, 5, 10, 19, 9, 10, 1, 9, 10, 19, 3, 4], '200630-212742_hau_e35_elicit_69': [22, 10, 19, 3, 4, 1, 37, 15, 8, 10, 16, 16, 10, 12, 15, 1, 48, 18, 15, 5, 10, 1, 30, 17, 17, 10, 9, 1, 17, 10, 4, 1, 11, 4, 1, 13, 9, 10, 5, 28, 18, 1, 6, 10, 16, 10, 18, 4, 1, 10, 1, 3, 10, 18, 1, 3, 10, 19, 10, 25, 10, 19, 1, 16, 15, 20, 3, 4, 18, 1, 23, 10, 18, 28, 1, 17, 10, 1, 47, 10, 1, 11, 4, 1, 9, 10, 19, 10, 15, 13, 10, 1, 13, 10, 1, 13, 9, 10, 5, 28, 18, 1, 5, 10, 13, 10, 1, 9, 8, 4, 12, 10, 1, 3, 10, 36, 10, 20, 1, 47, 10, 1, 19, 10, 9, 15, 1, 10, 1, 36, 4, 3, 4, 18, 1, 9, 8, 2, 3, 10, 19, 10, 19, 1, 42, 45, 52, 57, 1, 30, 20, 20, 10, 8, 1, 11, 10, 1, 27, 4, 14, 10, 18, 9, 10, 1, 30, 16, 4, 18], '200630-212742_hau_e35_elicit_70': [22, 10, 19, 3, 4, 18, 1, 23, 10, 18, 28, 1, 30, 12, 28, 1, 43, 10, 18, 1, 30, 17, 12, 15, 20, 20, 10, 8, 4, 1, 39, 10, 11, 2, 19, 28, 1, 42, 45, 52, 57, 1, 1, 55, 44, 42, 51], '200630-212742_hau_e35_elicit_71': [30, 20, 8, 10, 27, 4, 1, 30, 12, 28, 1, 39, 10, 11, 2, 19, 28, 1, 22, 8, 4, 1, 18, 2, 1, 22, 10, 19, 3, 4, 1, 18, 10, 1, 54, 54, 1, 10, 1, 27, 2, 19, 4, 18, 1, 9, 10, 19, 10, 3, 15, 18, 10, 18, 1, 23, 10, 18, 28, 1, 3, 15, 16, 10, 1, 9, 10, 19, 3, 4, 1, 18, 10, 1, 42, 57, 1, 10, 1, 9, 10, 19, 10, 3, 15, 18, 10, 18, 1, 26, 15, 20, 10, 18, 4, 1, 32, 15, 18, 1, 12, 10, 25, 10, 1, 29, 10, 19, 3, 28, 18, 1, 9, 10, 19, 10, 15, 13, 10, 19, 1, 23, 10, 18, 28, 1, 6, 15, 5, 10, 1, 11, 10, 15, 1, 55, 44, 42, 41], '200630-212742_hau_e35_elicit_72': [16, 10, 19, 4, 25, 10, 11, 4, 1, 30, 20, 8, 10, 27, 4, 1, 33, 19, 1, 30, 12, 28, 1, 39, 10, 11, 2, 19, 28, 1, 9, 8, 4, 1, 18, 2, 1, 9, 10, 19, 3, 4, 18, 1, 12, 10, 1, 11, 10, 1, 29, 4, 1, 3, 28, 5, 10, 18, 2, 1, 9, 10, 19, 3, 4, 1, 12, 10, 46, 2, 5, 10, 1, 10, 1, 3, 10, 18, 1, 3, 10, 19, 10, 25, 10, 19, 1, 16, 15, 20, 3, 4, 18, 1, 23, 10, 18, 28, 1, 22, 10, 19, 3, 4, 1, 11, 10, 1, 16, 15, 20, 3, 4, 1, 23, 10, 18, 28, 1, 18, 10, 1, 13, 9, 10, 5, 28, 18, 1, 9, 8, 2, 3, 10, 19, 15, 1, 54, 42, 1, 13, 15, 18, 1, 12, 10, 25, 10, 1, 42, 45, 52, 57, 1, 8, 10, 19, 1, 6, 15, 5, 10, 1, 55, 44, 42, 51], '200630-212742_hau_e35_elicit_73': [32, 9, 28, 8, 28, 18, 1, 16, 10, 10, 4, 3, 10, 36, 4, 18, 1, 17, 10, 18, 3, 4, 1, 5, 10, 3, 4, 20, 4, 18, 1, 12, 28, 3, 10, 1, 16, 10, 10, 4, 3, 10, 36, 4, 18, 1, 8, 15, 3, 15, 16, 10, 19, 1, 60, 18, 2, 1, 38, 30, 1, 3, 15, 16, 10, 1, 13, 9, 28, 8, 28, 18, 1, 5, 10, 3, 4, 20, 4, 18, 1, 38, 10, 27, 2, 19, 4, 11, 10, 1, 10, 1, 14, 10, 9, 10, 19, 1, 22, 4, 18, 4, 25, 10, 20, 1, 33, 10, 19, 10, 27, 10, 1, 12, 10, 1, 16, 10, 19, 13, 10, 17, 10, 19, 1, 16, 10, 9, 10, 19, 10, 15, 13, 10, 19, 1, 23, 10, 18, 28, 1, 13, 10, 1, 46, 10, 15, 3, 10, 3, 10, 1, 10, 1, 4, 11, 10, 1, 13, 9, 10, 5, 28, 18, 1, 16, 15, 20, 3, 4, 18, 9, 10], '200630-212742_hau_e35_elicit_74': [7, 10, 4, 8, 15, 5, 10, 19, 9, 10], '200630-212742_hau_e35_elicit_76': [22, 8, 4, 1, 46, 10, 1, 18, 2, 1, 25, 10, 1, 9, 10, 19, 3, 4, 1, 30, 17, 12, 15, 20, 20, 10, 8, 4, 1, 39, 10, 11, 2, 19, 28, 1, 9, 8, 4, 1, 3, 15, 16, 10, 1, 46, 10, 18, 1, 9, 10, 19, 3, 4, 1, 37, 15, 8, 10, 16, 16, 10, 12, 15, 1, 30, 17, 17, 10, 9, 1, 9, 8, 4, 1, 3, 15, 16, 10, 1, 46, 10, 18, 1, 9, 10, 19, 3, 4, 1, 16, 10, 20, 10, 16, 1, 48, 17, 19, 10, 8, 4, 16, 1, 33, 10, 17, 28, 1, 17, 10, 29, 15, 20, 10, 13, 10, 18, 4, 1, 3, 15, 16, 10, 1, 17, 10, 9, 15, 20, 20, 15, 31, 2, 1, 22, 15, 18, 10, 18, 1, 16, 10, 8, 10, 4, 29, 4, 11, 10, 19, 9, 10, 1, 7, 10, 27, 4, 11, 10, 1, 7, 10, 9, 4, 11, 10], '200630-212742_hau_e35_elicit_77': [22, 10, 17, 28, 12, 10, 1, 8, 10, 3, 10, 1, 36, 4, 3, 10, 3, 3, 2, 18, 1, 9, 15, 18, 10, 18, 9, 10, 1, 9, 8, 4, 1, 18, 2, 1, 30, 20, 8, 10, 27, 4, 1, 33, 19, 1, 30, 12, 28, 1, 30, 17, 12, 15, 20, 20, 10, 8, 4, 1, 39, 10, 11, 2, 19, 28, 1, 59, 26, 24, 1, 58, 58, 33, 1, 35, 61, 1, 30, 16, 16, 10, 1, 10, 18, 1, 29, 4, 1, 3, 4, 19, 10, 18, 9, 10, 1, 12, 10, 1, 30, 20, 8, 10, 27, 4, 1, 33, 19, 1, 30, 12, 28, 1, 39, 10, 11, 2, 19, 28], '200630-212742_hau_e35_elicit_78': [32, 10, 9, 28, 5, 10, 19, 9, 10], '200630-212742_hau_e35_elicit_80': [11, 10, 1, 9, 10, 16, 15, 1, 18, 10, 9, 10, 19, 10, 19, 1, 6, 10, 19, 36, 2, 5, 10, 1, 6, 15, 5, 10, 1, 16, 10, 3, 10, 19, 10, 18, 13, 10, 19, 1, 3, 28, 11, 28, 18, 1, 58, 10, 19, 10, 17, 36, 4, 1, 13, 10, 1, 23, 10, 18, 28, 1, 5, 10, 13, 28, 1, 49, 22, 36, 8, 28, 28, 20, 1, 29, 28, 19, 1, 30, 19, 10, 17, 4, 36, 1, 22, 13, 15, 12, 4, 2, 9, 1, 22, 30, 22, 1, 4, 18, 12, 10, 1, 11, 10, 1, 29, 4, 13, 10, 1, 10, 1, 9, 8, 2, 3, 10, 19, 10, 19, 1, 42, 45, 51, 41, 1, 47, 10, 1, 3, 15, 16, 10, 1, 8, 10, 20, 10, 19, 10, 36, 4, 1, 16, 10, 3, 10, 19, 10, 18, 13, 10, 19, 1, 49, 34, 10, 19, 4, 10, 1, 59, 20, 2, 19, 4, 36, 10, 20, 1, 59, 28, 20, 20, 2, 25, 2, 1, 12, 10, 1, 3, 2, 1, 34, 10, 19, 4, 11, 10, 1, 10, 1, 9, 8, 2, 3, 10, 19, 10, 19, 1, 42, 45, 54, 55], '200630-212742_hau_e35_elicit_82': [23, 10, 29, 4, 18, 1, 6, 10, 16, 28, 5, 10, 19, 9, 10, 1, 9, 10, 19, 3, 4, 1, 30, 20, 8, 10, 27, 4, 1, 33, 19, 1, 30, 12, 28, 1, 39, 10, 11, 2, 19, 28, 1, 11, 10, 1, 11, 4, 1, 10, 4, 3, 4, 18, 1, 17, 10, 18, 3, 4, 1, 13, 10, 19, 2, 1, 12, 10, 1, 49, 32, 8, 2, 1, 39, 10, 18, 3, 1, 28, 29, 1, 39, 19, 4, 13, 4, 9, 8, 1, 21, 2, 9, 13, 1, 30, 29, 19, 4, 36, 10, 1, 8, 10, 19, 1, 6, 15, 5, 10, 1, 9, 8, 2, 3, 10, 19, 10, 19, 1, 42, 45, 51, 45, 1, 4, 18, 12, 10, 1, 12, 10, 25, 10, 1, 18, 10, 18, 1, 3, 15, 16, 10, 1, 11, 10, 1, 6, 10, 19, 36, 2], '200630-212742_hau_e35_elicit_83': [6, 15, 5, 10, 1, 8, 15, 3, 15, 16, 10, 19, 1, 18, 10, 18, 1, 13, 10, 1, 49, 38, 10, 13, 4, 62, 2, 1, 30, 15, 13, 8, 28, 19, 4, 13, 11, 1, 5, 10, 36, 36, 2, 1, 10, 3, 2, 1, 11, 4, 5, 10, 1, 20, 10, 14, 10, 17, 4, 1, 12, 10, 1, 38, 30, 1, 10, 1, 16, 10, 13, 9, 10, 11, 4, 18, 1, 10, 3, 10, 5, 15, 18, 1, 16, 10, 27, 10, 20, 4, 9, 10], '200630-212742_hau_e35_elicit_84': [30, 1, 9, 8, 2, 3, 10, 19, 10, 19, 1, 42, 45, 54, 51, 1, 3, 15, 16, 10, 1, 10, 3, 10, 1, 6, 10, 31, 2, 1, 9, 8, 4, 1, 10, 1, 16, 10, 13, 9, 10, 11, 4, 18, 1, 5, 10, 3, 4, 20, 4, 1, 10, 1, 37, 10, 27, 4, 20, 4, 9, 10, 19, 1, 58, 10, 19, 12, 4, 18, 1, 30, 19, 2, 5, 10, 1, 12, 10, 1, 3, 2, 1, 23, 10, 12, 15, 18, 10], '200630-212742_hau_e35_elicit_85': [33, 10, 25, 10, 1, 3, 10, 18, 1, 5, 10, 18, 18, 10, 18, 1, 16, 15, 14, 10, 16, 4, 18, 1, 3, 15, 16, 10, 1, 10, 3, 10, 1, 11, 4, 1, 16, 10, 9, 10, 1, 5, 10, 3, 4, 20, 4, 18, 1, 12, 28, 3, 10, 1, 18, 10, 1, 23, 10, 18, 28, 1, 13, 15, 18, 1, 12, 10, 25, 10, 1, 9, 8, 2, 3, 10, 19, 10, 19, 1, 42, 45, 54, 41, 1, 8, 10, 19, 1, 6, 15, 5, 10, 1, 42, 45, 52, 55, 1, 22, 10, 18, 18, 10, 18, 1, 11, 10, 1, 6, 10, 16, 10, 1, 5, 10, 3, 4, 20, 4, 18, 1, 38, 10, 27, 2, 19, 4, 11, 10, 1, 10, 1, 14, 10, 9, 10, 19, 1, 22, 4, 18, 4, 25, 10, 20, 1, 16, 15, 14, 10, 16, 4, 18, 1, 12, 10, 1, 11, 10, 18, 10, 1, 3, 10, 18, 9, 10, 1, 10, 3, 10, 1, 11, 4, 1, 16, 10, 9, 10, 1, 22, 10, 19, 10, 15, 13, 10, 19, 1, 23, 10, 18, 28], '200630-212742_hau_e35_elicit_87': [30, 20, 8, 27, 4, 1, 33, 19, 1, 30, 12, 28, 1, 30, 17, 12, 15, 20, 20, 10, 8, 4, 1, 39, 10, 11, 2, 19, 28, 1, 11, 10, 1, 6, 10, 16, 28, 1, 9, 10, 19, 3, 4, 18, 1, 23, 10, 18, 28, 1, 10, 1, 9, 8, 2, 3, 10, 19, 10, 19, 1, 42, 45, 52, 57, 1, 22, 8, 4, 1, 18, 2, 1, 9, 10, 19, 3, 4, 18, 1, 23, 10, 18, 28, 1, 18, 10, 1, 54, 54, 1, 9, 10, 18, 18, 10, 18, 1, 3, 15, 16, 10, 1, 9, 10, 19, 3, 4, 1, 18, 10, 1, 25, 28, 16, 10, 1, 9, 8, 10, 1, 15, 3, 15, 1, 10, 1, 27, 2, 19, 4, 18, 1, 9, 10, 19, 10, 3, 15, 18, 10, 18, 1, 26, 15, 20, 10, 18, 4], '200630-212742_hau_e35_elicit_89': [30, 20, 8, 10, 27, 4, 1, 33, 19, 1, 30, 12, 28, 1, 39, 10, 11, 2, 19, 28, 1, 11, 10, 1, 17, 10, 11, 10, 19, 1, 12, 10, 1, 25, 10, 25, 10, 19, 15, 16, 10, 19, 1, 25, 15, 12, 15, 18, 16, 10, 5, 10, 19, 1, 12, 10, 1, 17, 10, 1, 6, 10, 4, 1, 11, 4, 5, 15, 1, 10, 1, 14, 4, 12, 4, 12, 12, 4, 25, 2, 1, 13, 10, 1, 17, 10, 1, 22, 8, 4, 1, 18, 2, 1, 9, 10, 19, 3, 4, 18, 1, 12, 10, 1, 23, 10, 18, 28, 1, 13, 10, 1, 6, 10, 16, 10, 1, 27, 10, 8, 10, 1, 10, 1, 8, 10, 18, 18, 15, 18, 9, 10], '200630-212742_hau_e35_elicit_90': [47, 10, 1, 11, 4, 1, 6, 10, 16, 10, 18, 4, 1, 12, 10, 1, 25, 5, 10, 16, 18, 28, 18, 4, 1, 25, 28, 16, 10, 1, 9, 8, 10, 1, 17, 4, 11, 10, 19, 1, 9, 10, 18, 18, 10, 18, 1, 3, 15, 16, 10, 1, 11, 10, 1, 11, 4, 1, 10, 4, 3, 4, 1, 12, 10, 1, 9, 8, 15, 25, 10, 17, 10, 18, 18, 4, 18, 1, 14, 10, 9, 10, 1, 25, 15, 12, 10, 1, 25, 28, 16, 10, 1, 9, 8, 10, 1, 15, 3, 15, 1, 47, 10, 1, 25, 10, 1, 36, 10, 18, 27, 2, 36, 10, 18, 27, 2, 1, 4, 19, 4, 4, 19, 4, 1, 33, 10, 1, 17, 10, 3, 4, 18, 9, 10, 1, 11, 10, 3, 2, 1, 36, 2, 5, 10, 1, 33, 10, 1, 16, 15, 1, 16, 15, 3, 2, 1, 11, 4, 1, 10, 3, 10, 1, 6, 28, 1, 10, 18, 10, 1, 11, 4, 1, 12, 10, 1, 16, 15, 1, 11, 10, 18, 6, 15, 1, 3, 15, 16, 10, 1, 9, 10, 4, 1, 10, 18, 1, 11, 4, 1, 10, 1, 25, 10, 11, 10, 1, 16, 10, 18, 10, 1, 37, 10, 8, 16, 28, 28, 12, 1, 55, 44, 42, 51], '200630-212742_hau_e35_elicit_92': [50, 17, 10, 18, 1, 16, 10, 19, 10, 9, 1, 15, 17, 10, 1, 8, 10, 19, 1, 6, 15, 5, 10, 1, 3, 10, 18, 1, 14, 15, 18, 25, 4, 11, 28, 11, 4, 1, 8, 10, 19, 1, 6, 15, 5, 10, 1, 25, 4, 18, 10, 1, 16, 10, 9, 10, 20, 20, 10, 13, 10, 4, 1, 16, 10, 3, 10, 19, 10, 18, 13, 15, 1, 12, 10, 1, 9, 10, 15, 19, 10, 18, 1, 10, 11, 11, 15, 3, 10, 18, 1, 10, 20, 8, 2, 19, 4, 1, 16, 10, 9, 15, 1, 13, 10, 19, 4, 18, 1, 11, 10, 5, 10, 1, 39, 10, 19, 4, 1, 16, 15, 1, 20, 2, 14, 10, 1, 50, 16, 10, 19, 15, 1, 55, 44, 44, 40, 1, 16, 15, 1, 46, 10, 18, 1, 13, 9, 10, 3, 15, 19, 28], '200630-212742_hau_e35_elicit_93': [23, 4, 19, 10, 1, 6, 15, 5, 10, 1, 25, 10, 1, 10, 12, 12, 4, 18, 4, 18, 1, 37, 15, 9, 15, 20, 15, 18, 36, 4, 1, 12, 10, 1, 13, 9, 10, 11, 10, 19, 1, 12, 10, 1, 4, 17, 10, 12, 10, 1, 12, 10, 1, 3, 15, 16, 10, 1, 16, 15, 9, 15, 20, 15, 18, 13, 10, 19, 1, 12, 10, 1, 5, 10, 46, 10, 18, 12, 10, 1, 17, 10, 1, 16, 15, 9, 15, 20, 16, 4, 1, 17, 10], '200630-212742_hau_e35_elicit_94': [53, 4, 18, 10, 1, 16, 10, 9, 10, 20, 20, 10, 13, 10, 4, 1, 12, 10, 1, 16, 10, 3, 10, 19, 10, 18, 13, 15, 18, 1, 48, 9, 20, 10, 16, 4, 11, 11, 10, 1, 10, 1, 36, 4, 3, 4, 18, 1, 17, 4, 19, 18, 4, 1, 12, 10, 1, 14, 10, 15, 11, 15, 3, 10, 18, 1, 23, 10, 18, 28], '200630-212742_hau_e35_elicit_95': [38, 15, 18, 10, 1, 9, 28, 11, 10, 11, 11, 10, 1, 25, 10, 1, 16, 10, 20, 10, 16, 10, 4, 1, 12, 10, 1, 16, 10, 9, 15, 1, 5, 10, 10, 6, 4, 1, 12, 10, 1, 9, 10, 15, 19, 10, 18, 1, 16, 10, 9, 15, 1, 11, 4, 5, 10, 1, 10, 12, 12, 4, 18, 4, 1, 8, 4, 12, 4, 16, 10], '200630-212742_hau_e35_elicit_96': [39, 10, 12, 10, 1, 25, 28, 11, 28, 18, 1, 17, 10, 11, 10, 1, 25, 10, 1, 10, 4, 5, 10, 13, 10, 19, 1, 12, 10, 1, 9, 8, 10, 19, 4, 10, 19, 1, 37, 15, 9, 15, 20, 15, 18, 36, 4, 1, 12, 10, 1, 14, 10, 19, 29, 10, 29, 10, 1, 10, 4, 3, 4, 1, 12, 10, 1, 4, 13, 10, 1, 12, 10, 1, 6, 10, 19, 13, 10, 19, 1, 12, 10, 1, 8, 15, 3, 15, 18, 36, 2, 8, 15, 3, 15, 18, 36, 2, 1, 17, 4, 9, 10, 1, 13, 10, 29, 10, 19, 3, 4, 18, 13, 10, 1, 12, 10, 4, 12, 10, 4, 13, 10, 36, 36, 2], '200630-212742_hau_e35_elicit_97': [22, 10, 3, 2, 1, 25, 4, 18, 10, 1, 3, 10, 13, 10, 18, 25, 10, 19, 1, 25, 4, 12, 10, 18, 1, 9, 10, 19, 3, 4, 1, 12, 10, 1, 12, 15, 5, 10, 13, 9, 15, 1, 12, 10, 1, 9, 4, 16, 4, 18, 13, 4], '200630-212742_hau_e35_elicit_98': [58, 15, 20, 20, 15, 31, 2, 1, 13, 4, 13, 15, 18, 10, 18, 1, 36, 4, 3, 4, 18, 1, 25, 4, 12, 10, 18, 1, 9, 10, 19, 3, 4, 1, 12, 10, 1, 13, 10, 11, 4, 20, 1, 16, 10, 4, 1, 3, 11, 10, 15], '200630-212742_hau_e35_elicit_99': [22, 10, 3, 2, 1, 25, 4, 18, 10, 1, 25, 4, 12, 10, 27, 2, 18, 1, 21, 10, 16, 17, 10, 4, 1, 53, 10, 20, 10, 12, 4, 16, 10, 1, 21, 10, 6, 4, 19, 4, 1, 12, 10, 1, 25, 4, 12, 10, 27, 2, 18, 1, 8, 10, 3, 4, 16, 10, 4, 1, 12, 10, 1, 3, 2, 1, 14, 10, 18, 10, 18, 10, 18, 1, 8, 15, 3, 15, 16, 28, 16, 4], '200630-212742_hau_e35_elicit_100': [21, 10, 12, 10, 13, 10, 1, 8, 10, 3, 4, 16, 10, 4, 1, 12, 10, 1, 10, 17, 10, 17, 2, 18, 1, 8, 10, 5, 10], '200630-212742_hau_e35_elicit_101': [24, 10, 9, 15, 5, 10, 19, 9, 10], '200630-212742_hau_e35_elicit_102': [30, 20, 8, 10, 27, 4, 1, 33, 19, 1, 30, 12, 28, 1, 39, 10, 11, 2, 19, 28, 1, 11, 10, 1, 16, 15, 20, 3, 4, 1, 23, 10, 18, 28, 1, 18, 10, 1, 13, 9, 10, 5, 28, 18, 1, 9, 8, 2, 3, 10, 19, 15, 1, 54, 42, 1, 47, 10, 1, 19, 10, 9, 15, 1, 10, 1, 19, 10, 18, 10, 19, 1, 52, 1, 25, 10, 1, 5, 10, 13, 10, 18, 1, 47, 15, 18, 4, 1, 18, 10, 1, 9, 8, 2, 3, 10, 19, 10, 19, 1, 55, 44, 42, 51, 1, 47, 10, 1, 19, 10, 9, 15, 1, 11, 10, 1, 17, 10, 19, 1, 49, 11, 10, 11, 10, 1, 16, 10, 6, 10, 1, 57, 42, 1, 12, 10, 1, 3, 15, 16, 10, 1, 49, 11, 10, 11, 10, 1, 16, 10, 13, 10, 1, 57, 44, 1, 30, 20, 20, 10, 8, 1, 11, 10, 1, 27, 4, 14, 10, 18, 9, 10, 1, 12, 10, 1, 19, 10, 8, 10, 16, 10, 1, 10, 16, 4, 18], '200630-212742_hau_e35_elicit_103': [22, 10, 19, 3, 4, 18, 1, 23, 10, 18, 28, 1, 37, 15, 8, 10, 16, 16, 10, 12, 15, 1, 22, 10, 18, 15, 9, 4, 1, 48, 48, 1, 55, 44, 42, 51, 1, 6, 15, 5, 10, 1, 11, 10, 15], '200630-212742_hau_e35_elicit_104': [22, 10, 19, 3, 4, 18, 1, 23, 10, 18, 28, 1, 37, 15, 8, 10, 16, 16, 10, 12, 15, 1, 22, 10, 18, 15, 9, 4, 1, 48, 48], '200630-212742_hau_e35_elicit_105': [22, 10, 19, 3, 4, 18, 1, 23, 10, 18, 28, 1, 37, 15, 8, 10, 16, 16, 10, 12, 15, 1, 22, 10, 18, 15, 9, 4, 1, 48, 48, 1, 37, 15, 13, 15, 1, 18, 2, 1, 16, 10, 9, 10, 18, 4, 18, 1, 10, 12, 12, 4, 18, 4, 1, 12, 10, 1, 3, 15, 16, 10, 1, 6, 10, 16, 10, 18, 4, 1, 17, 10, 9, 10, 19, 10, 3, 2, 1, 3, 15, 16, 10, 1, 16, 10, 20, 10, 16, 4, 1, 37, 10, 20, 10, 16, 4, 18, 1, 16, 10, 3, 10, 19, 10, 18, 13, 10, 1, 9, 10, 18, 18, 10, 18, 18, 1, 3, 15, 16, 10, 1, 16, 10, 10, 4, 3, 10, 36, 4, 18, 1, 17, 10, 18, 3, 4, 1, 25, 28, 25, 10, 25, 25, 2, 18, 1, 16, 10, 9, 10, 18, 4, 18, 1, 13, 10, 13, 13, 10, 20, 4, 18, 1, 10, 19, 6, 4, 14, 4], '200630-212742_hau_e35_elicit_106': [47, 10, 1, 11, 4, 1, 3, 10, 19, 10, 13, 15, 18, 1, 10, 12, 12, 4, 18, 4, 1, 12, 10, 1, 18, 10, 1, 6, 10, 16, 10, 18, 4, 1, 10, 1, 16, 10, 13, 10, 3, 10, 4, 1, 16, 10, 9, 15, 1, 6, 15, 19, 29, 4, 1, 47, 10, 18, 10, 1, 12, 10, 1, 12, 4, 25, 4, 19, 28, 19, 4, 18, 1, 29, 10, 19, 3, 28, 1, 17, 4, 11, 15, 1, 10, 1, 29, 10, 18, 18, 15, 3, 10, 1, 12, 10, 17, 10, 18, 12, 10, 17, 10, 18, 1, 46, 10, 11, 10, 1, 10, 1, 29, 10, 18, 18, 4, 18, 1, 13, 9, 4, 16, 4, 1, 12, 10, 1, 13, 10, 18, 10, 12, 4, 1, 60, 36, 28, 18, 28, 16, 4, 36, 9, 1, 12, 10, 25, 10, 1, 35, 10, 16, 4, 10, 19, 1, 30, 8, 16, 10, 12, 15, 1, 39, 2, 20, 20, 28, 1, 12, 10, 1, 3, 2, 1, 34, 10, 19, 4, 11, 10], '200630-212742_hau_e35_elicit_107': [43, 10, 11, 10, 18, 1, 3, 15, 16, 10, 1, 10, 1, 29, 10, 18, 18, 4, 18, 1, 22, 8, 10, 19, 4, 10, 19, 1, 37, 15, 9, 15, 20, 15, 18, 36, 4, 1, 48, 9, 20, 10, 16, 4, 36, 1, 20, 10, 5, 1, 12, 10, 25, 10, 1, 35, 10, 16, 4, 10, 19, 1, 30, 29, 4, 19, 3, 10, 1, 13, 10, 1, 14, 10, 9, 10, 12, 10, 14, 10, 9, 10, 1, 30, 29, 19, 4, 36, 10, 18, 1, 48, 18, 13, 2, 19, 18, 10, 13, 4, 28, 18, 10, 20, 1, 50, 18, 4, 62, 2, 19, 9, 4, 13, 11, 1, 12, 10, 1, 3, 2, 1, 23, 10, 19, 13, 15, 16, 1, 13, 10, 1, 14, 10, 9, 10, 19, 1, 22, 15, 12, 10, 18, 1, 22, 10, 18, 18, 10, 18, 1, 3, 15, 16, 10, 1, 11, 10, 1, 11, 4, 1, 12, 4, 25, 4, 19, 4, 1, 18, 10, 1, 17, 4, 11, 15, 1, 10, 1, 29, 10, 18, 18, 4, 18, 9, 10, 1, 18, 10, 1, 13, 9, 4, 16, 4, 1, 12, 10, 1, 13, 10, 18, 10, 12, 4, 1, 2, 36, 28, 18, 28, 16, 4, 36, 9], '200630-212742_hau_e35_elicit_108': [47, 10, 1, 17, 10, 12, 10, 1, 25, 10, 25, 10, 19, 15, 16, 10, 19, 1, 25, 15, 12, 15, 18, 16, 10, 5, 10, 1, 5, 10, 27, 2, 18, 1, 36, 4, 1, 25, 10, 17, 10, 18, 1, 10, 12, 12, 4, 18, 4, 9, 10, 1, 12, 10, 1, 3, 15, 16, 10, 1, 14, 10, 9, 10, 19, 9, 10, 1, 7, 10, 16, 9, 8, 10, 14, 4, 18, 1, 16, 10, 9, 10, 18, 4, 1, 18, 2, 1, 16, 10, 4, 1, 16, 15, 20, 3, 4, 1, 3, 15, 16, 10, 1, 17, 10, 9, 10, 19, 10, 3, 2], '200630-212742_hau_e35_elicit_109': [23, 10, 29, 4, 18, 1, 6, 10, 16, 28, 5, 10, 19, 9, 10, 1, 9, 10, 19, 3, 4, 1, 11, 10, 1, 29, 10, 19, 10, 1, 3, 10, 19, 10, 18, 13, 10, 19, 5, 10, 1, 10, 1, 35, 10, 16, 4, 10, 19, 9, 10, 1, 13, 10, 1, 30, 8, 16, 10, 12, 15, 1, 39, 2, 20, 20, 28, 1, 9, 10, 18, 18, 10, 18, 1, 11, 10, 1, 3, 28, 16, 10, 1, 10, 4, 18, 3, 4, 18, 9, 10, 1, 18, 10, 1, 17, 10, 18, 3, 4, 1, 5, 10, 18, 12, 10, 1, 8, 10, 19, 1, 9, 10, 4, 1, 12, 10, 1, 11, 10, 1, 6, 10, 16, 28, 1, 25, 5, 10, 16, 18, 10, 18, 1, 17, 10, 17, 17, 10, 18, 1, 17, 10, 18, 3, 4, 18, 1, 38, 10, 27, 2, 19, 4, 11, 10], '200630-212742_hau_e35_elicit_110': [22, 8, 4, 1, 18, 2, 1, 46, 10, 18, 1, 30, 19, 2, 5, 10, 1, 18, 10, 1, 29, 10, 19, 3, 28, 1, 12, 10, 1, 11, 10, 1, 29, 10, 19, 10, 1, 6, 10, 16, 10, 1, 9, 8, 15, 25, 10, 17, 10, 18, 1, 17, 10, 18, 3, 4, 18, 1, 26, 4, 19, 9, 13, 1, 39, 10, 18, 3], '200630-212742_hau_e35_elicit_111': [22, 8, 4, 1, 18, 2, 1, 22, 10, 19, 3, 4, 18, 1, 23, 10, 18, 28, 1, 18, 10, 1, 29, 10, 19, 3, 28, 1, 12, 10, 1, 10, 3, 10, 1, 18, 10, 46, 10, 1, 10, 1, 14, 10, 19, 14, 10, 9, 8, 4, 18, 1, 25, 5, 10, 16, 18, 10, 13, 4, 18, 1, 27, 10, 8, 10, 19, 1, 23, 10, 18, 28, 1, 11, 10, 1, 3, 10, 19, 31, 4, 1, 3, 11, 10, 15, 13, 15, 13, 13, 15, 3, 10, 18, 1, 25, 4, 19, 16, 10, 16, 10, 5, 10, 1, 12, 10, 1, 12, 10, 16, 10], '200630-212742_hau_e35_elicit_113': [30, 18, 1, 8, 10, 29, 4, 1, 37, 10, 4, 1, 37, 10, 19, 13, 10, 17, 10, 1, 22, 10, 19, 3, 4, 1, 37, 15, 8, 10, 16, 16, 10, 12, 15, 1, 22, 10, 18, 15, 9, 4, 1, 48, 48, 1, 10, 1, 19, 10, 18, 10, 19, 1, 57, 42, 1, 25, 10, 1, 5, 10, 13, 10, 18, 1, 47, 15, 20, 4, 1, 18, 10, 1, 9, 8, 2, 3, 10, 19, 10, 19, 1, 42, 45, 52, 42, 1, 57, 42, 1, 35, 15, 20, 11, 1, 42, 45, 52, 42, 1, 22, 8, 2, 3, 10, 19, 10, 1, 46, 10, 11, 10, 1, 3, 2, 18, 10, 18, 1, 17, 10, 11, 10, 18, 1, 9, 10, 16, 15, 18, 1, 49, 11, 10, 18, 36, 4, 18, 1, 3, 10, 18, 1, 38, 10, 27, 2, 19, 4, 11, 10], '200630-212742_hau_e35_elicit_114': [22, 8, 4, 1, 46, 10, 1, 18, 2, 1, 25, 10, 1, 30, 16, 17, 10, 9, 10, 12, 10, 1, 37, 15, 8, 10, 16, 16, 10, 12, 1, 30, 16, 4, 18, 15, 1, 22, 15, 18, 15, 9, 4, 1, 22, 15, 18, 10, 18, 1, 16, 10, 8, 10, 4, 29, 4, 11, 10, 19, 9, 10, 1, 7, 10, 27, 4, 11, 10, 1, 22, 10, 15, 12, 10, 13, 15, 1, 35, 4, 3, 10, 1, 18, 2, 1, 9, 8, 4, 1, 25, 10, 1, 9, 10, 19, 3, 4, 18, 1, 23, 10, 18, 28, 1, 16, 10, 19, 4, 25, 10, 11, 4, 1, 37, 15, 8, 10, 16, 16, 10, 12, 15, 1, 22, 15, 18, 15, 9, 4, 1, 37, 10, 27, 2, 1, 30, 6, 10, 19, 10, 4], '200630-212742_hau_e35_elicit_115': [22, 10, 20, 9, 10, 20, 10], '200630-212742_hau_e35_elicit_116': [37, 10, 4, 1, 37, 10, 19, 13, 10, 17, 10, 1, 22, 10, 19, 3, 4, 1, 37, 15, 8, 10, 16, 16, 10, 12, 15, 1, 22, 10, 18, 15, 9, 4, 1, 48, 48, 1, 46, 10, 1, 18, 2, 1, 25, 10, 1, 37, 15, 8, 10, 16, 16, 10, 12, 15, 1, 30, 16, 4, 18, 15, 1, 22, 10, 18, 15, 9, 4, 1, 21, 10, 18, 12, 10, 1, 9, 8, 4, 1, 3, 15, 16, 10, 1, 46, 10, 1, 18, 2, 1, 25, 10, 1, 37, 10, 19, 4, 25, 10, 11, 4, 1, 22, 10, 19, 3, 4, 1, 37, 15, 8, 10, 16, 16, 10, 12, 15, 1, 22, 10, 18, 15, 9, 4, 1, 48, 1, 30, 20, 20, 10, 8, 1, 11, 10, 1, 27, 4, 14, 10, 18, 9, 10, 1, 12, 10, 1, 24, 10, 8, 10, 16, 10], '200630-212742_hau_e35_elicit_117': [5, 10, 13, 28, 1, 9, 10, 19, 3, 4, 18, 1, 23, 10, 18, 28, 1, 18, 10, 1, 54, 51, 1, 42, 45, 54, 57, 42, 45, 52, 57, 1, 23, 2, 18, 10, 18, 1, 3, 10, 3, 10, 18, 9, 10, 1, 11, 10, 1, 17, 10, 19, 1, 3, 15, 27, 2, 19, 10, 19, 1, 16, 15, 20, 3, 4, 1, 20, 28, 3, 10, 36, 4, 18, 1, 11, 10, 18, 10, 1, 9, 8, 2, 3, 10, 19, 10, 1, 55, 1, 12, 10, 1, 8, 10, 4, 8, 15, 5, 10], '200630-212742_hau_e35_elicit_118': [22, 8, 4, 1, 3, 15, 16, 10, 1, 22, 10, 19, 3, 4, 1, 37, 15, 8, 10, 16, 16, 10, 12, 15, 1, 22, 10, 18, 15, 9, 4, 1, 46, 10, 18, 1, 18, 2, 1, 25, 10, 1, 22, 10, 19, 3, 4, 1, 30, 17, 12, 15, 20, 20, 10, 8, 4, 1, 39, 10, 11, 2, 19, 28, 1, 9, 10, 19, 3, 4, 18, 1, 23, 10, 18, 28, 1, 18, 10, 1, 54, 51, 1, 22, 8, 4, 1, 3, 15, 16, 10, 1, 46, 10, 18, 1, 22, 10, 19, 3, 4, 1, 37, 15, 8, 10, 16, 16, 10, 12, 15, 1, 30, 17, 17, 10, 9, 1, 9, 10, 19, 3, 4, 18, 1, 23, 10, 18, 28, 1, 18, 10, 1, 54, 42], '200630-212742_hau_e35_elicit_119': [22, 8, 4, 1, 23, 15, 16, 10, 1, 46, 10, 18, 1, 22, 10, 19, 3, 4, 1, 30, 17, 12, 15, 20, 20, 10, 8, 4, 1, 9, 10, 19, 3, 4, 18, 1, 23, 10, 18, 28, 1, 18, 10, 1, 51, 41, 1, 22, 8, 4, 1, 3, 15, 16, 10, 1, 46, 10, 18, 1, 22, 10, 19, 3, 4, 1, 48, 17, 19, 10, 8, 4, 16, 1, 33, 10, 17, 28, 1, 9, 10, 19, 3, 4, 18, 1, 23, 10, 18, 28, 1, 18, 10, 1, 51, 54], '200630-212742_hau_e35_elicit_120': [23, 10, 19, 10, 13, 15], '200630-212742_hau_e35_elicit_121': [37, 10, 4, 1, 37, 10, 19, 13, 10, 17, 10, 1, 22, 10, 19, 3, 4, 1, 37, 15, 8, 10, 16, 16, 10, 12, 15, 1, 22, 10, 18, 15, 9, 4, 1, 48, 48, 1, 11, 10, 1, 11, 4, 1, 3, 10, 19, 10, 13, 15, 18, 9, 10, 1, 18, 10, 1, 29, 4, 19, 10, 16, 10, 19, 2, 1, 10, 1, 16, 10, 3, 10, 19, 10, 18, 13, 10, 19, 1, 22, 13, 1, 30, 18, 18, 2, 9, 1, 59, 10, 13, 8, 28, 20, 4, 36, 1, 61, 19, 4, 16, 10, 19, 11, 1, 22, 36, 8, 28, 28, 20, 1, 12, 10, 1, 3, 2, 1, 23, 10, 3, 15, 19, 4, 1, 23, 10, 12, 15, 18, 10, 1, 12, 10, 25, 10, 1, 9, 8, 2, 3, 10, 19, 10, 19, 1, 42, 45, 52, 41, 1, 6, 15, 5, 10, 1, 42, 45, 41, 55], '200630-212742_hau_e35_elicit_122': [33, 10, 25, 10, 1, 18, 10, 18, 1, 3, 15, 16, 10, 1, 11, 10, 1, 5, 15, 36, 2, 1, 6, 15, 5, 10, 1, 16, 10, 3, 10, 19, 10, 18, 13, 10, 19, 1, 9, 4, 3, 10, 18, 12, 4, 19, 2, 1, 13, 10, 1, 23, 4, 18, 25, 9, 1, 59, 28, 20, 20, 2, 25, 2, 1, 12, 10, 1, 3, 2, 1, 58, 10, 25, 10, 9, 1, 12, 10, 25, 10, 1, 9, 8, 2, 3, 10, 19, 10, 19, 1, 42, 45, 41, 57, 1, 6, 15, 5, 10, 1, 42, 45, 41, 41], '200630-212742_hau_e35_elicit_124': [47, 10, 1, 3, 15, 16, 10, 1, 9, 10, 16, 15, 1, 12, 4, 25, 4, 19, 4, 18, 9, 10, 1, 18, 10, 1, 17, 4, 11, 15, 1, 9, 8, 4, 16, 10, 1, 10, 1, 29, 10, 18, 18, 4, 18, 1, 13, 9, 4, 16, 4, 1, 12, 10, 1, 13, 10, 18, 10, 12, 4, 1, 2, 36, 28, 18, 28, 16, 4, 36, 9, 1, 10, 1, 5, 10, 18, 18, 10, 18, 1, 35, 10, 16, 4, 10, 1, 13, 10, 1, 30, 8, 16, 10, 12, 15, 1, 39, 2, 20, 20, 28, 1, 12, 10, 1, 3, 2, 1, 34, 10, 19, 4, 11, 10, 1, 10, 1, 9, 8, 2, 3, 10, 19, 10, 19, 1, 42, 45, 40, 57], '200630-212742_hau_e35_elicit_125': [7, 10, 3, 10, 1, 18, 10, 18, 1, 10, 1, 29, 10, 18, 18, 4, 18, 1, 4, 20, 4, 16, 4, 18, 1, 10, 12, 12, 4, 18, 4, 1, 16, 10, 1, 17, 10, 1, 10, 1, 17, 10, 19, 1, 37, 10, 4, 1, 37, 10, 19, 13, 10, 17, 10, 1, 22, 10, 19, 3, 4, 1, 3, 15, 16, 10, 1, 16, 10, 20, 10, 16, 4, 1, 10, 1, 17, 10, 11, 10, 1, 17, 10, 1, 9, 10, 17, 28, 12, 10, 1, 11, 10, 1, 11, 4, 1, 3, 10, 19, 10, 13, 15, 18, 1, 10, 12, 12, 4, 18, 4, 1, 16, 10, 4, 1, 6, 15, 19, 29, 4], '200630-212742_hau_e35_elicit_126': [47, 10, 1, 11, 4, 1, 3, 10, 19, 10, 13, 15, 18, 1, 12, 4, 25, 4, 19, 4, 1, 10, 1, 29, 10, 18, 18, 4, 18, 1, 22, 8, 10, 19, 4, 10, 19, 1, 37, 15, 9, 15, 20, 15, 18, 36, 4, 1, 10, 1, 35, 10, 16, 4, 10, 19, 1, 14, 10, 9, 10, 12, 10, 14, 10, 9, 10, 1, 13, 10, 1, 30, 29, 4, 19, 3, 10, 1, 30, 29, 19, 4, 36, 10, 18, 1, 48, 18, 13, 2, 19, 18, 10, 13, 4, 28, 18, 10, 20, 1, 50, 18, 4, 62, 2, 19, 9, 4, 13, 11, 1, 12, 10, 1, 3, 2, 1, 3, 10, 19, 13, 15, 16, 1, 46, 4, 18, 1, 22, 15, 12, 10, 18, 1, 4, 18, 12, 10, 1, 11, 10, 1, 11, 4, 1, 3, 10, 19, 10, 13, 15, 1, 12, 10, 25, 10, 1, 9, 8, 2, 3, 10, 19, 10, 19, 1, 42, 45, 45, 42, 1, 6, 15, 5, 10, 1, 42, 45, 45, 41], '200630-212742_hau_e35_elicit_127': [53, 28, 25, 10, 11, 11, 10, 19, 1, 30, 4, 3, 4], '200630-212742_hau_e35_elicit_128': [37, 10, 4, 1, 37, 10, 19, 13, 10, 17, 10, 1, 22, 10, 19, 3, 4, 1, 37, 15, 8, 10, 16, 16, 10, 12, 15, 1, 22, 10, 18, 15, 9, 4, 1, 48, 48, 1, 11, 10, 1, 29, 10, 19, 10, 1, 12, 10, 1, 10, 4, 3, 4, 18, 1, 16, 10, 20, 10, 18, 13, 10, 1, 10, 1, 35, 10, 16, 4, 10, 19, 1, 30, 8, 16, 10, 12, 15, 1, 39, 2, 20, 20, 28, 1, 13, 10, 1, 34, 10, 19, 4, 11, 10, 1, 47, 10, 1, 6, 10, 16, 10, 1, 16, 10, 20, 10, 16, 4, 1, 10, 1, 5, 10, 18, 18, 10, 18, 1, 27, 10, 16, 4, 10, 19, 1, 17, 10, 11, 10, 18, 1, 25, 10, 16, 10, 1, 3, 10, 19, 10, 13, 15, 18, 1, 12, 4, 25, 4, 19, 4, 18, 9, 10, 1, 18, 10, 1, 17, 4, 11, 15], '200630-212742_hau_e35_elicit_129': [47, 10, 1, 11, 4, 1, 5, 10, 18, 18, 10, 18, 1, 10, 4, 3, 4, 1, 18, 10, 1, 16, 10, 20, 4, 18, 13, 10, 1, 18, 10, 1, 13, 9, 10, 5, 28, 18, 1, 9, 8, 2, 3, 10, 19, 10, 1, 55, 1, 12, 10, 25, 10, 1, 9, 8, 2, 3, 10, 19, 10, 19, 1, 42, 45, 40, 57, 1, 6, 15, 5, 10, 1, 42, 45, 40, 54], '200630-212742_hau_e35_elicit_130': [47, 10, 1, 17, 10, 19, 1, 10, 4, 3, 4, 18, 1, 37, 10, 20, 10, 18, 13, 10, 1, 10, 1, 9, 8, 2, 3, 10, 19, 10, 19, 1, 42, 45, 40, 54, 1, 4, 18, 12, 10, 1, 11, 10, 1, 3, 28, 16, 10, 1, 10, 4, 3, 4, 1, 12, 10, 1, 5, 10, 18, 4, 1, 3, 10, 16, 29, 10, 18, 4, 1, 16, 10, 4, 1, 6, 10, 16, 10, 18, 1, 3, 10, 18, 9, 10, 1, 16, 10, 4, 1, 9, 15, 18, 10, 1, 48, 36, 28, 18, 1, 58, 4, 16, 4, 13, 2, 12, 1, 5, 10, 18, 12, 10, 1, 9, 8, 4, 1, 3, 15, 16, 10, 1, 5, 10, 18, 18, 10, 18, 1, 3, 10, 16, 29, 10, 18, 4, 1, 19, 2, 9, 8, 2, 1, 18, 2, 18, 10, 1, 17, 10, 3, 15, 18, 10, 1, 17, 4, 11, 15], '200630-212742_hau_e35_elicit_131': [37, 28, 19, 25, 10, 18, 1, 53, 15, 10, 19, 10, 18, 13, 11, 1, 32, 19, 15, 9, 13, 1, 39, 10, 18, 3, 1, 12, 10, 1, 3, 2, 1, 38, 2, 5, 1, 47, 28, 19, 3, 1, 13, 10, 1, 14, 10, 9, 10, 19, 1, 30, 16, 15, 19, 3, 10, 1, 12, 10, 1, 3, 15, 16, 10, 1, 39, 10, 19, 4, 18, 25, 1, 39, 19, 28, 13, 8, 2, 19, 9, 1, 12, 10, 1, 3, 2, 1, 58, 28, 18, 12, 28, 18, 1, 13, 10, 1, 14, 10, 9, 10, 19, 1, 39, 15, 19, 13, 10, 18, 4, 11, 10, 1, 3, 28, 1, 3, 15, 16, 10, 1, 3, 10, 4, 1, 13, 9, 10, 11, 2, 1, 16, 15, 1, 36, 2, 1, 13, 10, 1, 14, 10, 9, 10, 19, 1, 48, 18, 25, 4, 20, 10], '200630-212742_hau_e35_elicit_132': [30, 1, 9, 8, 2, 3, 10, 19, 10, 19, 1, 42, 45, 45, 41, 1, 11, 10, 1, 17, 10, 19, 4, 1, 11, 10, 1, 3, 28, 16, 10, 1, 17, 10, 18, 3, 4, 18, 1, 8, 10, 46, 4, 18, 1, 3, 10, 4, 1, 5, 10, 13, 28, 1, 50, 18, 4, 13, 2, 12, 1, 39, 10, 18, 3, 1, 29, 28, 19, 1, 30, 29, 19, 4, 36, 10, 1, 5, 10, 18, 12, 10, 1, 10, 3, 10, 1, 29, 4, 1, 9, 10, 18, 4, 1, 12, 10, 1, 50, 39, 30, 1, 5, 10, 18, 12, 10, 1, 11, 10, 1, 9, 8, 4, 25, 10, 1, 10, 1, 16, 10, 13, 9, 10, 11, 4, 18, 1, 16, 10, 18, 10, 27, 10, 18, 1, 25, 10, 16, 10, 25, 10, 19, 4, 1, 53, 2, 18, 2, 19, 10, 20, 1, 37, 10, 18, 10, 25, 2, 19], '200630-212742_hau_e35_elicit_133': [18, 10, 1, 9, 10, 9, 8, 2, 18, 1, 17, 10, 9, 8, 4, 1, 12, 10, 1, 3, 15, 16, 10, 1, 9, 10, 19, 19, 10, 29, 10, 1, 8, 10, 13, 9, 10, 19, 4, 1, 59, 19, 2, 12, 4, 13, 1, 10, 18, 12, 1, 24, 4, 9, 3, 1, 37, 10, 18, 10, 25, 2, 16, 2, 18, 13, 1, 33, 4, 62, 4, 9, 4, 28, 18, 1, 47, 10, 1, 11, 4, 1, 10, 4, 3, 4, 1, 12, 10, 1, 5, 10, 18, 18, 10, 18, 1, 17, 10, 18, 3, 4, 1, 18, 10, 1, 50, 39, 30, 1, 8, 10, 19, 1, 9, 10, 4, 1, 12, 10, 1, 11, 10, 1, 3, 10, 4, 1, 16, 10, 13, 9, 10, 11, 4, 18, 1, 17, 10, 17, 17, 10, 18, 1, 16, 10, 18, 10, 27, 10, 1, 10, 1, 5, 10, 18, 18, 10, 18, 1, 29, 10, 18, 18, 4, 1, 18, 10, 9, 10], '200630-212742_hau_e35_elicit_134': [30, 1, 9, 8, 2, 3, 10, 19, 10, 19, 1, 55, 44, 44, 54, 1, 37, 10, 4, 1, 37, 10, 19, 13, 10, 17, 10, 1, 22, 10, 19, 3, 4, 1, 37, 15, 8, 10, 16, 16, 10, 12, 15, 1, 22, 10, 18, 15, 9, 4, 1, 48, 48, 1, 11, 10, 1, 17, 10, 19, 1, 5, 10, 18, 18, 10, 18, 1, 17, 10, 18, 3, 4, 1, 18, 10, 1, 50, 39, 30, 1, 11, 10, 1, 3, 28, 16, 10, 1, 26, 4, 19, 9, 13, 1, 39, 10, 18, 3, 1, 30, 1, 5, 10, 18, 18, 10, 18, 1, 17, 10, 18, 3, 4, 1, 9, 10, 4, 1, 12, 10, 1, 11, 10, 1, 19, 4, 14, 2, 1, 16, 15, 14, 10, 16, 4, 18, 1, 17, 10, 17, 17, 10, 18, 1, 37, 10, 18, 10, 27, 10, 1, 37, 33, 1, 10, 1, 9, 8, 2, 3, 10, 19, 10, 19, 1, 55, 44, 44, 45], '200630-212742_hau_e35_elicit_135': [16, 15, 14, 10, 16, 4, 18, 1, 12, 10, 1, 11, 10, 1, 6, 10, 16, 10, 1, 9, 8, 4, 1, 18, 2, 1, 46, 10, 18, 1, 30, 19, 2, 5, 10, 1, 18, 10, 1, 29, 10, 19, 3, 28, 1, 12, 10, 1, 11, 10, 1, 29, 10, 19, 10, 1, 19, 4, 14, 2, 1, 9, 8, 4, 1, 13, 15, 18, 1, 12, 10, 25, 10, 1, 20, 28, 3, 10, 36, 4, 18, 1, 12, 10, 1, 10, 3, 10, 1, 17, 15, 46, 2, 1, 17, 10, 18, 3, 4, 18, 1, 10, 1, 9, 8, 2, 3, 10, 19, 10, 19, 1, 42, 40, 45, 51, 1, 21, 10, 13, 28, 1, 3, 2, 18, 10, 18], '200630-212742_hau_e35_elicit_136': [4, 11, 10, 1, 13, 9, 10, 5, 28, 18, 1, 9, 8, 2, 3, 10, 19, 10, 1, 46, 10, 19, 4, 1, 12, 10, 1, 25, 28, 16, 10, 1, 9, 8, 10, 1, 17, 4, 11, 10, 19, 1, 42, 42, 54, 1, 12, 10, 1, 5, 10, 18, 18, 10, 18, 1, 17, 10, 18, 3, 4, 1, 11, 10, 1, 11, 4, 1, 17, 10, 1, 10, 1, 13, 10, 31, 10, 1, 9, 10, 16, 15, 18, 1, 46, 10, 18, 1, 30, 19, 2, 5, 10, 1, 12, 10, 1, 11, 10, 1, 19, 4, 14, 2, 1, 5, 10, 18, 18, 10, 18, 1, 16, 15, 14, 10, 16, 4, 1, 12, 10, 1, 37, 10, 4, 1, 37, 10, 19, 13, 10, 17, 10, 1, 22, 10, 19, 3, 4, 1, 11, 10, 1, 19, 4, 14, 2, 1, 17, 10], '200630-212742_hau_e35_elicit_137': [53, 5, 10, 16, 18, 10, 18, 1, 39, 10, 17, 17, 10, 18, 1, 39, 10, 18, 3, 4, 18, 1, 38, 10, 27, 2, 19, 4, 11, 10], '200630-212742_hau_e35_elicit_139': [34, 10, 16, 28, 5, 10, 19, 9, 10, 1, 22, 10, 19, 3, 4], '200630-212742_hau_e35_elicit_141': [9, 15, 3, 10, 1, 16, 4, 14, 10, 1, 5, 10, 1, 25, 5, 10, 16, 18, 10, 13, 4, 18, 1, 27, 10, 8, 10, 19, 1, 23, 10, 18, 28, 1, 14, 10, 19, 14, 10, 9, 8, 4, 18, 1, 60, 18, 25, 19, 1, 33, 19, 1, 24, 10, 17, 4, 15, 1, 37, 15, 9, 10, 1, 23, 5, 10, 18, 3, 5, 10, 9, 28, 1, 34, 10, 31, 2, 18, 1, 12, 10, 1, 11, 10, 1, 9, 10, 16, 15, 1, 10, 16, 4, 18, 36, 2, 5, 10, 19, 1, 25, 5, 10, 16, 18, 10, 13, 4, 18, 1, 27, 10, 8, 10, 19, 1, 4, 18, 12, 10, 1, 13, 10, 1, 17, 10, 11, 11, 10, 18, 10, 1, 37, 15, 8, 10, 16, 16, 10, 12, 15, 1, 22, 10, 18, 15, 9, 4, 1, 48, 48, 1, 10, 1, 16, 10, 13, 9, 10, 11, 4, 18, 1, 9, 10, 17, 28, 18, 1, 9, 10, 19, 3, 4, 18, 1, 23, 10, 18, 28], '200630-212742_hau_e35_elicit_142': [21, 10, 18, 18, 10, 18, 1, 9, 10, 18, 10, 19, 5, 10, 1, 13, 10, 1, 29, 4, 13, 28, 1, 13, 10, 1, 17, 10, 3, 4, 18, 1, 9, 10, 3, 10, 13, 10, 19, 2, 18, 1, 25, 5, 10, 16, 18, 10, 13, 4, 18, 1, 27, 10, 8, 10, 19, 1, 23, 10, 18, 28, 1, 30, 20, 8, 10, 27, 4, 1, 24, 10, 17, 4, 15, 1, 22, 15, 20, 2, 16, 10, 18, 1, 39, 4, 36, 8, 4, 1, 12, 10, 1, 11, 10, 16, 16, 10, 36, 4, 18, 1, 19, 10, 18, 10, 19, 1, 58, 10, 8, 10, 12, 4, 1, 40, 1, 25, 10, 1, 5, 10, 13, 10, 18, 1, 35, 15, 20, 4, 1, 18, 10, 1, 9, 8, 2, 3, 10, 19, 10, 19, 1, 55, 44, 42, 51, 1, 40, 44, 52, 55, 44, 42, 51], '200630-212742_hau_e35_elicit_143': [32, 15, 18, 1, 12, 10, 25, 10, 1, 5, 10, 18, 18, 10, 18, 1, 19, 10, 18, 10, 1, 8, 10, 19, 1, 6, 15, 5, 10, 1, 11, 10, 18, 6, 15, 1, 18, 10, 18, 1, 55, 44, 42, 41, 1, 37, 15, 8, 10, 16, 16, 10, 12, 15, 1, 22, 10, 18, 15, 9, 4, 1, 48, 48, 1, 9, 8, 4, 1, 18, 2, 1, 9, 10, 19, 3, 4, 18, 1, 23, 10, 18, 28], '200630-212742_hau_e35_elicit_144': [32, 10, 19, 4, 8, 4, 18, 1, 37, 10, 9, 10, 19, 10, 15, 13, 10, 19, 1, 23, 10, 18, 28], '200630-212742_hau_e35_elicit_145': [23, 10, 18, 28, 1, 25, 10, 19, 4, 1, 18, 2, 1, 16, 10, 4, 1, 12, 10, 46, 10, 46, 46, 2, 18, 1, 13, 10, 19, 4, 8, 4, 1, 30, 3, 5, 10, 4, 1, 19, 10, 10, 11, 15, 11, 11, 15, 3, 10, 1, 16, 10, 17, 10, 16, 17, 10, 18, 13, 10, 1, 12, 10, 18, 25, 10, 18, 2, 1, 12, 10, 1, 10, 9, 10, 20, 4, 18, 1, 5, 10, 18, 12, 10, 1, 11, 10, 1, 3, 10, 29, 10, 1, 25, 10, 19, 4, 18, 1, 23, 10, 18, 28, 1, 12, 10, 1, 3, 15, 16, 10, 1, 14, 10, 19, 18, 4, 18, 1, 12, 10, 1, 10, 3, 10, 1, 3, 10, 29, 10, 1, 13, 10], '200630-212742_hau_e35_elicit_146': [30, 16, 16, 10, 1, 6, 10, 18, 36, 2, 1, 16, 10, 29, 4, 1, 9, 8, 10, 8, 10, 19, 10, 1, 9, 8, 4, 1, 18, 2, 1, 36, 2, 5, 10, 1, 10, 18, 1, 3, 10, 29, 10, 1, 23, 10, 18, 28, 1, 18, 2, 1, 10, 1, 14, 10, 19, 18, 4, 1, 18, 10, 1, 13, 10, 19, 10, 1, 33, 28, 3, 10, 27, 4, 1, 42, 45, 54, 40, 1, 30, 9, 8, 4, 5, 10, 27, 15, 1, 60, 18, 2, 16, 1, 12, 10, 1, 30, 17, 10, 20, 28, 25, 15, 1, 17, 10, 17, 15, 1, 9, 8, 2, 3, 10, 19, 10, 19, 1, 17, 15, 25, 15], '200630-212742_hau_e35_elicit_148': [9, 10, 4, 1, 12, 10, 4, 1, 36, 2, 5, 10, 1, 10, 18, 10, 1, 25, 10, 18, 4, 18, 1, 12, 10, 25, 10, 1, 10, 19, 2, 5, 10, 36, 4, 1, 9, 15, 3, 10, 1, 6, 28, 1, 11, 10, 18, 3, 4, 18, 1, 12, 10, 1, 18, 15, 29, 4, 18, 1, 29, 10, 19, 10, 15, 13, 10, 1, 9, 15, 1, 9, 15, 3, 10, 1, 29, 10, 19, 10, 1, 6, 10, 16, 10, 1, 10, 1, 5, 10, 18, 18, 10, 18, 1, 11, 10, 18, 3, 4, 18], '200630-212742_hau_e35_elicit_149': [33, 10, 25, 10, 1, 36, 4, 3, 4, 18, 1, 4, 19, 4, 18, 1, 5, 10, 46, 10, 18, 18, 10, 18, 1, 16, 15, 13, 10, 18, 2, 1, 10, 3, 5, 10, 4, 1, 5, 10, 18, 12, 10, 1, 10, 3, 2, 1, 25, 10, 18, 4, 18, 1, 9, 8, 4, 1, 11, 10, 1, 29, 10, 19, 10, 1, 6, 10, 16, 10, 1, 10, 1, 5, 10, 18, 4, 1, 12, 15, 13, 9, 2, 1, 12, 10, 1, 12, 10, 25, 10, 1, 17, 10, 11, 10, 1, 10, 3, 10, 1, 19, 4, 14, 10, 1, 3, 4, 19, 10, 18, 1, 12, 15, 13, 9, 2, 18, 1, 12, 10, 1, 9, 15, 18, 10, 18, 9, 10, 1, 22, 15, 18, 10, 18, 1, 5, 10, 18, 18, 10, 18, 1, 16, 15, 13, 15, 16, 4, 18, 1, 9, 8, 4, 1, 18, 2, 1, 33, 10, 20, 10], '200630-212742_hau_e35_elicit_150': [22, 10, 17, 28, 12, 10, 1, 8, 10, 3, 10, 1, 9, 10, 4, 1, 10, 3, 10, 1, 19, 4, 14, 10, 1, 3, 4, 19, 10, 18, 1, 12, 15, 13, 9, 2, 18, 1, 12, 10, 1, 33, 15, 13, 9, 2, 18, 1, 33, 10, 20, 10, 1, 22, 8, 4, 1, 3, 15, 16, 10, 1, 33, 10, 20, 10, 18, 1, 18, 10, 18, 1, 16, 15, 13, 15, 16, 1, 18, 2, 1, 16, 10, 29, 10, 19, 15, 36, 4, 1, 3, 15, 16, 10, 1, 11, 10, 18, 10, 1, 12, 10, 1, 11, 10, 11, 10], '200630-212742_hau_e35_elicit_151': [33, 15, 13, 9, 2, 18, 1, 33, 10, 20, 10, 1, 30, 18, 1, 9, 10, 16, 28, 1, 5, 10, 18, 18, 10, 18, 1, 8, 28, 13, 28, 1, 12, 10, 25, 10, 1, 9, 8, 10, 29, 4, 18, 1, 29, 20, 4, 3, 19, 1, 10, 1, 9, 8, 2, 3, 10, 19, 10, 19, 1, 55, 44, 42, 52], '200630-212742_hau_e35_elicit_152': [22, 8, 4, 1, 33, 10, 20, 10, 1, 12, 10, 1, 27, 10, 16, 10, 10, 19, 9, 10, 1, 9, 15, 18, 10, 1, 6, 10, 15, 18, 2, 1, 10, 1, 5, 10, 18, 18, 10, 18, 1, 33, 15, 13, 9, 2, 1, 18, 10, 1, 33, 10, 20, 10, 1, 5, 10, 18, 12, 10, 1, 11, 10, 18, 6, 15, 1, 11, 10, 1, 6, 10, 16, 10, 1, 17, 10, 17, 17, 10, 19, 1, 15, 18, 25, 15, 5, 10, 1, 3, 15, 16, 10, 1, 16, 10, 1, 10, 3, 10, 1, 9, 10, 16, 15, 1, 14, 10, 19, 10, 16, 10, 19, 1, 8, 15, 3, 15, 16, 10, 1, 25, 15, 12, 10, 1, 33, 10, 20, 10, 1, 10, 1, 27, 10, 8, 10, 19, 1, 23, 10, 18, 28, 1, 5, 10, 36, 36, 2, 1, 3, 2, 1, 12, 10, 1, 8, 2, 20, 4, 3, 5, 10, 13, 10, 1, 10, 1, 53, 5, 10, 16, 10, 27, 10], '200630-212742_hau_e35_elicit_153': [22, 10, 18, 18, 10, 18, 1, 3, 15, 16, 10, 1, 10, 3, 5, 10, 4, 1, 5, 10, 9, 15, 1, 16, 15, 13, 10, 18, 2, 18, 1, 12, 10, 1, 9, 15, 16, 10, 1, 9, 15, 3, 2, 1, 6, 10, 15, 18, 2, 1, 10, 1, 3, 10, 18, 1, 53, 5, 10, 15, 19, 28, 18, 1, 33, 15, 13, 9, 2, 1, 5, 10, 9, 15, 1, 3, 15, 16, 10, 1, 10, 1, 12, 15, 13, 9, 2, 18, 1, 26, 10, 18, 4, 9, 10, 15, 1, 5, 10, 9, 15, 1, 3, 15, 16, 10, 1, 10, 1, 37, 10, 25, 5, 10, 18, 1, 5, 10, 9, 15, 1, 3, 15, 16, 10, 1, 9, 15, 18, 10, 1, 6, 10, 15, 18, 2, 1, 10, 1, 32, 10, 18, 10, 25, 10, 19], '200630-212742_hau_e35_elicit_156': [21, 10, 18, 18, 10, 18, 1, 3, 15, 19, 16, 4, 1, 12, 10, 25, 10, 1, 9, 8, 4, 1, 10, 3, 10, 1, 9, 10, 16, 28, 1, 9, 15, 18, 10, 18, 1, 3, 10, 9, 15, 5, 10, 19, 1, 3, 15, 19, 16, 4, 1, 9, 10, 18, 18, 10, 18, 1, 3, 15, 16, 10, 1, 9, 8, 4, 1, 18, 2, 1, 11, 10, 1, 8, 10, 4, 29, 10, 19, 1, 12, 10, 1, 3, 28, 25, 4, 18, 1, 27, 10, 3, 10, 19, 10, 1, 21, 10, 46, 10, 18, 18, 10, 18, 1, 16, 10, 29, 10, 19, 10, 15, 13, 10, 1, 12, 10, 1, 13, 10, 29, 4, 11, 10, 13, 10, 11, 4, 13, 10, 29, 4, 11, 10, 1, 9, 10, 4, 1, 9, 15, 3, 10, 1, 29, 10, 19, 10, 1, 27, 10, 19, 19, 10, 17, 10, 1, 18, 28, 16, 10, 1, 10, 1, 5, 10, 18, 18, 10, 18, 1, 11, 10, 18, 3, 4, 18, 1, 3, 15, 19, 16, 4, 18], '200630-212742_hau_e35_elicit_157': [33, 10, 1, 9, 15, 3, 10, 1, 25, 5, 10, 12, 10, 1, 3, 15, 16, 10, 1, 9, 10, 4, 1, 9, 15, 3, 10, 1, 11, 4, 1, 12, 10, 36, 2, 18, 1, 36, 2, 5, 10, 1, 5, 10, 18, 18, 10, 18, 1, 46, 10, 9, 10, 1, 13, 10, 18, 10, 1, 12, 10, 1, 10, 20, 17, 10, 19, 3, 10, 1, 22, 10, 17, 28, 12, 10, 1, 8, 10, 3, 10, 1, 9, 10, 4, 1, 9, 15, 3, 10, 1, 19, 4, 46, 10, 1, 11, 4, 18, 1, 29, 10, 19, 10, 15, 13, 10, 1, 9, 10, 18, 18, 10, 18, 1, 3, 15, 16, 10, 1, 9, 15, 18, 10, 1, 18, 28, 16, 10], '200630-212742_hau_e35_elicit_158': [30, 16, 16, 10, 1, 39, 10, 8, 10, 25, 28, 1, 42, 45, 45, 40, 1, 11, 10, 1, 3, 10, 5, 28, 1, 10, 1, 20, 4, 13, 13, 10, 29, 4, 18, 9, 10, 1, 36, 2, 5, 10, 1, 5, 10, 18, 4, 1, 16, 15, 13, 15, 16, 1, 12, 10, 1, 10, 3, 2, 1, 3, 4, 19, 10, 1, 33, 10, 20, 10, 1, 9, 8, 4, 1, 11, 10, 1, 29, 10, 19, 10, 1, 6, 10, 16, 10, 1, 10, 1, 3, 10, 18, 1, 33, 15, 13, 9, 2, 18, 1, 33, 10, 20, 10, 1, 9, 8, 4, 1, 12, 10, 1, 16, 10, 13, 10, 18, 9, 10, 1, 5, 10, 18, 12, 10], '200630-212742_hau_e35_elicit_159': [12, 10, 25, 10, 1, 17, 10, 11, 10, 1, 9, 15, 3, 10, 1, 8, 10, 4, 29, 4, 1, 49, 11, 10, 11, 10, 1, 8, 10, 19, 1, 25, 15, 12, 10, 1, 17, 10, 3, 5, 10, 4, 1, 21, 10, 18, 18, 10, 18, 1, 16, 15, 13, 15, 16, 1, 10, 18, 1, 36, 2, 1, 12, 10, 25, 10, 1, 10, 19, 2, 5, 10, 1, 11, 10, 1, 29, 4, 13, 28], '200630-212742_hau_e35_elicit_160': [23, 15, 18, 12, 4, 18, 1, 32, 9, 10, 19, 4, 18, 1, 37, 15, 20, 3, 4], '200630-212742_hau_e35_elicit_161': [56, 28, 29, 10, 19, 1, 53, 4, 12, 10, 18, 1, 22, 10, 19, 3, 4, 18, 1, 23, 10, 18, 28, 1, 53, 4, 12, 10, 18, 1, 24, 15, 16, 29, 10], '200630-212742_hau_e35_elicit_162': [23, 15, 12, 4, 18, 1, 13, 9, 10, 19, 4, 18, 1, 16, 15, 20, 3, 4, 18, 1, 16, 10, 9, 10, 19, 10, 15, 13, 10, 19, 1, 23, 10, 18, 28, 1, 3, 15, 18, 12, 4, 1, 18, 2, 1, 12, 10, 1, 29, 4, 13, 10, 13, 13, 10, 36, 36, 2, 18, 1, 16, 10, 20, 10, 16, 4, 1, 37, 15, 8, 10, 16, 16, 10, 12, 15, 1, 37, 15, 25, 4, 20, 4, 1, 11, 10, 1, 19, 15, 17, 15, 13, 10, 5, 10, 9, 10, 19, 3, 4, 18, 1, 23, 10, 18, 28, 1, 37, 15, 8, 10, 16, 16, 10, 12, 15, 1, 24, 15, 16, 29, 10, 13, 15, 18, 1, 9, 10, 16, 10, 1, 12, 10, 1, 9, 8, 2, 3, 10, 19, 15, 1, 46, 10, 19, 4, 1, 9, 8, 4, 12, 10, 1, 12, 10, 1, 9, 15, 3, 10, 1, 9, 8, 15, 46, 2], '200630-212742_hau_e35_elicit_163': [58, 4, 13, 13, 10, 29, 4, 1, 18, 2, 1, 12, 10, 1, 11, 10, 3, 2, 1, 46, 10, 15, 3, 2, 1, 12, 10, 1, 5, 10, 9, 15, 1, 14, 10, 4, 12, 28, 12, 4, 1, 12, 10, 1, 12, 10, 17, 10, 19, 15, 1, 12, 10, 1, 9, 8, 10, 5, 10, 19, 5, 10, 19, 4, 18, 1, 25, 15, 12, 10, 18, 10, 19, 1, 12, 10, 1, 9, 10, 19, 10, 15, 13, 10, 1, 12, 10, 1, 3, 15, 16, 10, 1, 16, 15, 14, 10, 16, 10, 4, 1, 12, 10, 1, 9, 10, 15, 19, 10, 18, 1, 10, 17, 15, 17, 15, 5, 10, 1, 12, 10, 1, 5, 10, 18, 18, 10, 18, 1, 16, 10, 20, 10, 16, 4, 1, 11, 10, 1, 19, 15, 17, 10, 13, 10, 5, 10, 1, 9, 10, 19, 3, 4, 18, 1, 12, 28, 16, 4, 18, 1, 11, 10, 1, 9, 10, 16, 15, 1, 36, 4, 3, 10, 3, 3, 4, 11, 10, 19, 1, 12, 10, 16, 10, 19, 1, 25, 15, 12, 10, 18, 10, 19, 1, 12, 10, 1, 16, 15, 20, 3, 4, 18, 9, 10, 1, 10, 1, 17, 4, 9, 10, 1, 13, 10, 29, 10, 19, 3, 4, 18, 1, 9, 8, 10, 19, 4, 10, 19, 1, 37, 15, 9, 15, 20, 15, 18, 36, 4], '200630-212742_hau_e35_elicit_166': [3, 15, 16, 10, 1, 9, 10, 20, 28, 18, 1, 9, 10, 19, 10, 15, 13, 10, 19, 1, 7, 10, 15, 9, 10, 5, 10, 1, 12, 28, 16, 4, 18, 1, 9, 10, 16, 15, 18, 1, 36, 4, 3, 10, 3, 3, 2, 18, 1, 25, 28, 11, 28, 18, 1, 17, 10, 11, 10, 18, 1, 23, 10, 18, 10, 5, 10, 1, 5, 10, 27, 2, 18, 1, 25, 15, 12, 10, 18, 10, 19, 1, 12, 10, 1, 16, 15, 20, 3, 4, 1, 23, 15, 16, 10, 1, 9, 10, 18, 18, 15, 1, 10, 1, 8, 10, 18, 3, 10, 20, 4, 1, 5, 10, 46, 10, 18, 18, 10, 18, 1, 13, 9, 10, 19, 2, 13, 9, 10, 19, 2, 1, 9, 15, 1, 10, 3, 2, 1, 25, 10, 18, 4, 1, 10, 1, 36, 4, 17, 4, 11, 10, 19, 1, 33, 10, 15, 20, 10, 19, 1, 50, 9, 16, 10, 18, 4, 11, 11, 10], '200630-212742_hau_e35_elicit_167': [3, 10, 16, 10, 3, 10, 16, 10, 1, 8, 10, 19, 1, 20, 28, 3, 10, 36, 4, 18, 1, 12, 10, 1, 32, 15, 19, 10, 5, 10, 1, 9, 15, 3, 10, 1, 36, 4, 1, 56, 10, 9, 10, 19, 1, 7, 10, 15, 9, 10, 1, 12, 10, 1, 11, 10, 14, 4, 1, 9, 15, 3, 10, 1, 29, 10, 19, 10, 1, 13, 9, 10, 19, 4, 18, 1, 7, 15, 3, 15, 16, 10, 19, 1, 53, 10, 19, 25, 10, 27, 4, 11, 10, 1, 9, 10, 18, 18, 10, 18, 1, 9, 15, 3, 10, 1, 29, 10, 46, 10, 46, 10, 1, 9, 10, 15, 19, 10, 18, 1, 20, 10, 19, 12, 15, 18, 10, 18, 1, 30, 19, 2, 5, 10, 1, 8, 10, 19], '200630-212742_hau_e35_elicit_168': [6, 15, 5, 10, 1, 12, 15, 3, 3, 10, 18, 1, 14, 10, 9, 10, 9, 8, 2, 18, 1, 12, 10, 1, 9, 15, 3, 10, 1, 16, 15, 20, 3, 10, 1, 10, 1, 30, 29, 4, 19, 3, 10, 1, 13, 10, 1, 47, 10, 16, 16, 10, 1, 3, 10, 16, 10, 19, 1, 11, 10, 12, 12, 10, 1, 29, 4, 13, 10, 36, 36, 2, 18, 1, 16, 10, 9, 10, 18, 4, 18, 1, 13, 10, 19, 4, 8, 4, 18, 1, 30, 29, 4, 19, 3, 10, 1, 13, 10, 1, 47, 10, 16, 16, 10, 1, 26, 10, 19, 29, 2, 9, 10, 1, 39, 28, 10, 8, 2, 18, 1, 42, 45, 40, 52, 1, 11, 10, 1, 5, 10, 20, 20, 10, 29, 10, 1, 10, 1, 58, 4, 13, 13, 10, 29, 4, 18, 9, 10], '200630-212742_hau_e35_elicit_169': [30, 17, 4, 18, 1, 33, 10, 1, 23, 2, 1, 59, 4, 3, 4, 18, 1, 23, 15, 18, 12, 4], '200630-212742_hau_e35_elicit_171': [48, 12, 10, 18, 1, 9, 10, 19, 3, 4, 1, 11, 10, 1, 11, 4, 1, 10, 12, 10, 20, 36, 4, 1, 13, 9, 28, 19, 28, 18, 1, 30, 20, 20, 10, 8, 1, 6, 10, 4, 1, 11, 10, 18, 3, 10, 1, 9, 8, 4, 1, 13, 10, 1, 8, 10, 18, 11, 10, 19, 1, 13, 9, 4, 18, 3, 2, 1, 27, 4, 27, 4, 11, 28, 11, 4, 18, 1, 9, 28, 18, 1, 6, 15, 36, 4, 11, 10, 1, 48, 12, 10, 18, 1, 3, 15, 16, 10, 1, 11, 10, 1, 11, 4, 1, 6, 10, 20, 15, 18, 36, 4, 1, 9, 28, 18, 1, 6, 15, 36, 4, 11, 10, 1, 6, 10, 4, 1, 11, 10, 18, 3, 10, 1, 9, 8, 4, 1, 13, 10, 1, 8, 10, 18, 11, 10, 19, 1, 13, 9, 4, 18, 3, 2, 1, 27, 4, 27, 4, 11, 28, 11, 4, 18, 1, 13, 9, 28, 19, 28, 18, 1, 30, 20, 20, 10, 8], '200630-212742_hau_e35_elicit_172': [38, 10, 1, 25, 10, 19, 25, 10, 46, 2, 1, 3, 10, 1, 12, 10, 1, 27, 4, 18, 1, 13, 9, 28, 19, 28, 18, 1, 30, 20, 20, 10, 8, 1, 23, 28, 5, 10, 18, 2, 1, 19, 10, 4, 1, 16, 10, 4, 1, 46, 10, 18, 46, 10, 18, 10, 19, 1, 16, 15, 13, 15, 5, 10, 1, 18, 2, 1, 23, 15, 16, 10, 1, 10, 18, 10, 1, 36, 4, 3, 10, 1, 16, 15, 3, 15, 1, 4, 27, 10, 19, 28, 19, 4, 18, 3, 15, 1, 3, 10, 5, 10, 4, 1, 18, 2, 1, 10, 1, 24, 10, 18, 10, 19, 1, 56, 4, 11, 10, 16, 10, 1, 32, 28, 1, 5, 10, 18, 12, 10, 1, 10, 3, 10, 1, 9, 8, 4, 25, 10, 19, 1, 12, 10, 1, 9, 8, 4, 1, 30, 20, 27, 10, 18, 18, 10, 1, 13, 28, 1, 20, 10, 20, 20, 2, 1, 18, 2, 1, 11, 10, 1, 13, 9, 4, 19, 10], '200630-212742_hau_e35_elicit_173': [23, 15, 16, 10, 1, 19, 10, 11, 15, 5, 10, 19, 1, 12, 15, 18, 4, 11, 10, 1, 17, 10, 1, 13, 10, 1, 6, 10, 16, 10, 1, 17, 10, 1, 29, 10, 36, 2, 1, 27, 4, 18, 1, 12, 10, 46, 4, 18, 1, 19, 15, 46, 4, 1, 30, 20, 14, 15, 19, 10, 18, 4, 1, 57, 42, 40, 54], '200630-212742_hau_e35_elicit_174': [39, 10, 17, 4, 1, 38, 10, 1, 26, 10, 19, 3, 28], '200630-212742_hau_e35_elicit_175': [39, 10, 17, 4, 1, 18, 2, 1, 12, 10, 1, 11, 10, 1, 11, 4, 1, 16, 10, 25, 10, 18, 10, 1, 10, 1, 36, 4, 3, 4, 18, 1, 3, 11, 10, 15, 13, 10, 13, 10, 1, 18, 4, 11, 11, 10, 1, 25, 10, 1, 9, 10, 19, 3, 4, 1, 10, 1, 36, 4, 3, 4, 18, 1, 12, 15, 3, 3, 10, 18, 1, 10, 20, 10, 16, 15, 19, 10, 18, 1, 9, 10, 19, 10, 15, 13, 10, 19, 9, 10, 1, 59, 2, 5, 10, 1, 11, 10, 1, 14, 15, 12, 15, 19, 36, 4, 1, 18, 2, 16, 10, 18, 1, 11, 10, 19, 12, 10, 19, 16, 1, 30, 20, 20, 10, 8, 1, 12, 10, 1, 5, 10, 18, 18, 10, 18, 1, 9, 10, 19, 10, 15, 13, 10, 1, 13, 10, 9, 10, 1, 17, 10, 1, 12, 15, 18, 4, 11, 10, 1, 17, 10, 1, 37, 10, 20, 10, 16, 1, 11, 10, 1, 36, 2], '200630-212742_hau_e35_elicit_176': [33, 28, 20, 2, 1, 18, 2, 1, 10, 1, 3, 10, 18, 1, 9, 10, 19, 3, 4, 1, 11, 10, 1, 3, 11, 10, 15, 13, 10, 13, 10, 1, 18, 4, 11, 11, 10, 1, 10, 1, 36, 4, 3, 4, 18, 1, 9, 10, 19, 10, 15, 13, 10, 1, 47, 10, 1, 18, 2, 16, 4, 1, 13, 10, 4, 16, 10, 3, 28, 18, 1, 30, 20, 20, 10, 8, 1, 10, 1, 36, 4, 3, 4, 18, 1, 12, 15, 3, 3, 10, 18, 1, 10, 20, 10, 16, 15, 19, 10, 18, 9, 10, 1, 47, 10, 1, 14, 15, 12, 15, 19, 36, 4, 1, 9, 10, 16, 15, 18, 1, 11, 10, 19, 12, 10, 19, 1, 30, 20, 20, 10, 8, 1, 12, 10, 1, 4, 13, 10, 1, 13, 10, 1, 8, 10, 18, 11, 10, 19, 1, 25, 11, 10, 19, 10, 1, 10, 20, 10, 16, 15, 19, 10, 18, 1, 12, 10], '200630-212742_hau_e35_elicit_177': [9, 15, 3, 10, 1, 9, 8, 10, 29, 4, 1, 10, 12, 12, 4, 18, 4, 1, 12, 10, 1, 12, 15, 18, 4, 11, 10, 1, 18, 10, 1, 17, 10, 11, 4, 18, 1, 30, 20, 20, 10, 8], '200630-212742_hau_e35_elicit_178': [47, 10, 1, 9, 10, 18, 4, 1, 36, 2, 5, 10, 1, 8, 10, 14, 4, 14, 10, 1, 30, 20, 20, 10, 8, 1, 17, 10, 4, 1, 27, 4, 31, 4, 18, 13, 10, 19, 1, 12, 10, 1, 9, 8, 4, 1, 10, 1, 3, 10, 18, 9, 15, 1, 12, 28, 16, 4, 18, 1, 3, 10, 5, 10, 4, 1, 11, 10, 1, 6, 10, 16, 10, 1, 9, 8, 15, 25, 10, 17, 10, 18, 9, 15, 1, 17, 10, 1, 10, 10, 1, 9, 10, 4, 1, 12, 28, 16, 4, 18, 1, 11, 10, 1, 12, 10, 4, 12, 10, 4, 13, 10, 1, 16, 15, 9, 15, 1, 10, 12, 12, 4, 18, 4, 18, 9, 15, 1, 12, 10, 1, 12, 15, 18, 4, 11, 10, 19, 9, 15, 1, 37, 10, 29, 4, 1, 25, 4, 19, 16, 10, 18, 1, 17, 10, 20, 10, 4, 1, 10, 1, 25, 10, 19, 2, 1, 9, 8, 4], '200630-212742_hau_e35_elicit_179': [9, 8, 4, 1, 18, 2, 1, 10, 1, 9, 8, 4, 25, 10, 1, 13, 9, 10, 3, 10, 18, 4, 18, 9, 10, 1, 12, 10, 1, 13, 10, 20, 10, 3, 10, 5, 10, 18, 9, 10], '200630-212742_hau_e35_elicit_180': [39, 10, 17, 4, 1, 38, 10, 1, 39, 4, 11, 15], '200630-212742_hau_e35_elicit_181': [33, 10, 25, 10, 1, 36, 4, 3, 4, 18, 1, 10, 17, 15, 17, 15, 5, 10, 18, 1, 12, 10, 1, 9, 15, 3, 2, 1, 6, 10, 16, 10, 1, 12, 28, 20, 2, 1, 10, 1, 3, 10, 18, 1, 9, 10, 3, 4, 1, 10, 3, 5, 10, 4, 1, 3, 11, 10, 15, 13, 10, 13, 10, 1, 3, 5, 10, 19, 27, 4, 18, 4, 18, 9, 10, 1, 10, 1, 16, 10, 27, 10, 20, 4, 9, 10, 1, 13, 10, 1, 8, 10, 18, 11, 10, 19, 1, 17, 10, 11, 11, 10, 18, 10, 1, 9, 28, 18, 1, 10, 20, 8, 2, 19, 4, 1, 12, 10, 1, 16, 10, 10, 17, 28, 13, 10, 18, 9, 10, 1, 12, 10, 1, 3, 15, 16, 10, 1, 14, 4, 18, 1, 9, 8, 10, 19, 19, 4, 1, 12, 10, 1, 16, 10, 10, 17, 28, 13, 10, 18, 9, 10], '200630-212742_hau_e35_elicit_182': [59, 4, 3, 4, 18, 1, 10, 17, 4, 18, 1, 12, 10, 1, 11, 10, 1, 9, 8, 10, 29, 4, 1, 13, 15, 29, 10, 29, 4, 1, 13, 28, 1, 11, 10, 1, 11, 4, 1, 9, 15, 13, 15, 19, 10, 1, 12, 10, 1, 10, 17, 4, 18, 1, 12, 10, 1, 11, 10, 3, 2, 1, 8, 10, 20, 10, 9, 13, 10, 36, 36, 2, 1, 18, 2, 1, 25, 10, 1, 16, 10, 6, 10, 1, 21, 10, 13, 28, 1, 10, 17, 4, 18, 1, 12, 10, 1, 10, 3, 10, 1, 9, 10, 18, 4, 1, 18, 10, 1, 9, 15, 13, 15, 19, 10, 19, 1, 16, 10, 6, 10, 1, 5, 10, 18, 12, 10, 1, 17, 10, 4, 1, 11, 4, 1, 3, 10, 16, 10, 1, 12, 10, 1, 18, 10, 1, 16, 10, 13, 10, 1, 17, 10], '200630-212742_hau_e35_elicit_183': [23, 10, 19, 1, 11, 10, 1, 31, 10, 19, 18, 10, 13, 10, 19, 1, 12, 10, 1, 12, 15, 3, 4, 11, 10, 19, 1, 13, 10, 20, 10, 3, 10, 5, 10, 1, 10, 1, 5, 10, 27, 2, 18, 1, 10, 12, 28, 1, 23, 10, 19, 1, 11, 10, 1, 11, 4, 1, 10, 12, 28, 1, 12, 10, 1, 6, 4, 18, 10, 19, 2, 1, 10, 6, 15, 19, 29, 10, 1, 12, 10, 1, 3, 15, 16, 10, 1, 10, 20, 8, 10, 19, 4, 18, 4], '200630-212742_hau_e35_elicit_185': [37, 15, 13, 10, 18, 2, 18, 1, 12, 10, 1, 3, 2, 1, 6, 10, 25, 10, 11, 2, 1, 12, 10, 1, 9, 8, 4, 1, 9, 15, 1, 6, 10, 16, 10, 1, 16, 15, 13, 10, 18, 2, 18, 1, 3, 4, 19, 3, 4, 1, 18, 2, 1, 12, 10, 1, 3, 15, 16, 10, 1, 16, 10, 20, 10, 16, 10, 4, 1, 16, 10, 9, 15, 1, 9, 28, 18, 1, 10, 20, 8, 2, 19, 4, 1, 12, 10, 1, 16, 10, 9, 15, 1, 13, 9, 28, 19, 28, 18, 1, 30, 20, 20, 10, 8, 1, 12, 10, 1, 16, 10, 9, 15, 1, 25, 11, 10, 19, 10, 1, 12, 10, 1, 16, 10, 9, 15, 1, 25, 15, 12, 15, 18, 1, 12, 15, 18, 4, 11, 10, 1, 33, 15, 3, 1, 9, 15, 1, 6, 10, 16, 10, 1, 9, 15, 1, 6, 10, 1, 9, 15, 1, 3, 15, 9, 10, 18, 36, 2, 1, 9, 8, 4, 1, 22, 10, 18, 18, 10, 18, 1, 3, 15, 16, 10, 1, 11, 10, 1, 18, 4, 9, 10, 18, 36, 4, 1, 27, 10, 8, 4, 20, 10, 4, 1, 12, 10, 1, 29, 10, 27, 4, 19, 10, 4], '200630-212742_hau_e35_elicit_186': [47, 10, 1, 6, 10, 16, 28, 1, 27, 10, 27, 4, 19, 13, 10, 36, 36, 2, 1, 10, 1, 36, 4, 3, 4, 18, 1, 19, 10, 19, 19, 10, 17, 10, 1, 12, 15, 3, 4, 11, 10, 19, 1, 10, 20, 15, 16, 16, 10, 1, 12, 10, 1, 3, 15, 16, 10, 1, 13, 9, 10, 19, 2, 1, 9, 10, 19, 10, 15, 13, 10, 19, 9, 10, 1, 10, 1, 3, 10, 18, 3, 10, 18, 9, 10, 1, 12, 10, 1, 3, 15, 16, 10, 1, 4, 11, 10, 20, 10, 18, 9, 10, 1, 23, 10, 19, 1, 11, 10, 1, 6, 10, 16, 28, 1, 17, 10, 5, 10, 18, 1, 19, 4, 25, 10, 1, 33, 15, 3, 1, 5, 10, 18, 12, 10, 1, 11, 10, 1, 25, 10, 1, 12, 10, 16, 10, 1, 11, 10, 1, 11, 10, 1, 46, 10, 15, 3, 10, 1, 11, 10, 1, 9, 10, 3, 10], '200630-212742_hau_e35_elicit_187': [3, 10, 19, 1, 3, 15, 16, 10, 1, 11, 10, 1, 6, 10, 16, 10, 1, 12, 28, 3, 4, 1, 23, 28, 5, 10, 1, 11, 10, 1, 9, 28, 1, 9, 10, 4, 1, 11, 10, 1, 8, 10, 15, 1, 3, 10, 18, 9, 10, 1, 3, 15, 16, 10, 1, 3, 10, 19, 1, 11, 10, 1, 6, 10, 16, 10, 1, 9, 8, 4, 16, 29, 4, 46, 10, 1, 23, 28, 5, 10, 1, 11, 10, 1, 6, 28, 1, 11, 10, 1, 8, 10, 15, 1, 3, 10, 18, 13, 10, 1, 11, 10, 1, 8, 15, 13, 10, 1, 3, 15, 16, 10, 1, 3, 10, 19, 1, 11, 10, 1, 6, 10, 16, 10, 1, 25, 15, 19, 4, 18, 1, 6, 10, 16, 10], '200630-212742_hau_e35_elicit_188': [33, 15, 3, 1, 9, 8, 4, 16, 29, 4, 46, 10, 19, 1, 12, 10, 1, 10, 3, 2, 1, 9, 28, 1, 9, 10, 4, 1, 10, 1, 9, 8, 4, 16, 29, 4, 46, 10, 1, 10, 1, 3, 10, 4, 1, 10, 1, 6, 10, 15, 18, 10, 1, 37, 10, 29, 4, 1, 25, 4, 19, 16, 10, 18, 1, 17, 10, 20, 10, 4, 1, 10, 1, 25, 10, 19, 2, 1, 9, 8, 4, 1, 9, 8, 4, 1, 18, 2, 1, 10, 1, 9, 8, 4, 25, 10, 1, 13, 9, 10, 3, 10, 18, 4, 18, 9, 10, 1, 12, 10, 1, 13, 10, 20, 10, 3, 10, 5, 10, 18, 9, 10], '200630-212742_hau_e35_elicit_189': [39, 10, 17, 4, 1, 38, 10, 1, 50, 3, 15], '200630-212742_hau_e35_elicit_190': [39, 10, 17, 4, 1, 18, 2, 1, 12, 10, 1, 11, 10, 1, 11, 4, 1, 16, 10, 25, 10, 18, 10, 1, 10, 1, 25, 10, 16, 2, 1, 12, 10, 1, 13, 9, 10, 19, 10, 1, 16, 10, 9, 10, 19, 10, 15, 13, 10, 1, 13, 10, 1, 8, 10, 18, 11, 10, 19, 1, 19, 10, 19, 19, 10, 17, 10, 1, 10, 11, 11, 15, 3, 10, 1, 25, 10, 1, 27, 10, 16, 4, 10, 18, 1, 12, 10, 1, 6, 10, 1, 9, 15, 1, 12, 10, 29, 10, 5, 10, 1, 9, 10, 19, 3, 4, 1, 5, 10, 27, 2, 18, 1, 25, 15, 12, 10, 18, 10, 19, 1, 12, 10, 1, 9, 10, 19, 10, 15, 13, 10, 19, 9, 10, 1, 10, 1, 12, 15, 3, 3, 10, 18, 1, 29, 10, 46, 4, 18, 1, 16, 10, 9, 10, 19, 10, 15, 13, 10, 19], '200630-212742_hau_e35_elicit_191': [30, 18, 1, 20, 4, 9, 9, 10, 29, 10, 1, 16, 15, 14, 10, 16, 10, 4, 1, 4, 9, 8, 4, 19, 4, 18, 1, 12, 10, 1, 17, 4, 11, 10, 19, 1, 12, 10, 3, 4, 12, 10, 3, 4, 1, 3, 15, 16, 10, 1, 3, 28, 5, 10, 18, 2, 1, 46, 10, 11, 10, 1, 12, 10, 1, 4, 19, 4, 18, 1, 10, 11, 11, 15, 3, 10, 18, 1, 12, 10, 1, 9, 15, 3, 10, 1, 3, 10, 16, 10, 1, 36, 2, 1, 9, 8, 4, 1, 13, 10, 19, 2, 1, 3, 15, 16, 10, 1, 12, 10, 1, 9, 4, 29, 29, 28, 29, 4, 1, 3, 28, 1, 9, 4, 29, 29, 10, 19, 1, 5, 10, 18, 12, 10, 1, 11, 10, 1, 3, 10, 16, 10, 13, 10, 1, 10, 1, 18, 10, 46, 10, 1, 10, 1, 3, 10, 18, 1, 3, 28, 5, 10, 18, 2, 1, 16, 15, 14, 10, 16, 4, 1, 37, 10, 20, 10, 16, 1, 11, 10, 1, 36, 2], '200630-212742_hau_e35_elicit_192': [39, 10, 17, 4, 1, 18, 10, 1, 8, 15, 46, 15, 1, 36, 4, 3, 4, 18, 1, 10, 17, 15, 17, 15, 5, 10, 18, 1, 12, 10, 1, 9, 15, 3, 10, 1, 6, 10, 16, 10, 1, 12, 28, 20, 2, 1, 10, 1, 3, 10, 18, 9, 10, 1, 25, 10, 16, 2, 1, 12, 10, 1, 13, 9, 10, 19, 10, 1, 16, 10, 9, 10, 19, 10, 15, 13, 10, 19, 9, 10, 1, 13, 10, 1, 11, 10, 12, 12, 10, 1, 25, 11, 10, 19, 10, 18, 13, 10, 1, 6, 10, 4, 1, 6, 10, 16, 10, 1, 10, 17, 15, 1, 16, 10, 4, 1, 11, 4, 5, 15, 5, 10, 1, 10, 1, 25, 10, 19, 2, 1, 9, 8, 4], '200630-212742_hau_e35_elicit_193': [22, 10, 17, 28, 12, 10, 1, 6, 10, 16, 28, 5, 10, 19, 9, 10, 1, 16, 10, 4, 1, 3, 15, 20, 10, 1, 12, 10, 1, 3, 28, 5, 10, 1, 9, 10, 18, 18, 10, 18, 1, 3, 15, 16, 10, 1, 10, 17, 4, 18, 1, 13, 10, 16, 17, 10, 11, 10, 1, 18, 2, 1, 9, 8, 4, 1, 30, 1, 25, 10, 17, 10, 18, 1, 30, 20, 20, 10, 8, 1, 25, 10, 16, 2, 1, 12, 10, 1, 9, 15], '200630-212742_hau_e35_elicit_194': [21, 10, 18, 18, 10, 18, 1, 3, 15, 5, 10, 1, 23, 15, 20, 10, 1, 12, 10, 1, 12, 15, 3, 3, 10, 18, 1, 16, 10, 9, 10, 19, 10, 15, 13, 10, 1, 17, 10, 1, 10, 17, 15, 1, 18, 2, 1, 16, 10, 4, 1, 11, 4, 5, 15, 5, 10, 1, 10, 1, 25, 10, 19, 2, 1, 9, 8, 4, 1, 9, 8, 4, 1, 3, 10, 46, 10, 4, 1, 17, 10, 1, 12, 28, 20, 2, 1, 9, 10, 4, 1, 12, 10, 1, 5, 10, 3, 4, 20, 36, 4, 1, 22, 10, 17, 28, 12, 10, 1, 8, 10, 3, 10, 1, 6, 10, 4, 1, 9, 10, 16, 10, 19, 1, 12, 10, 1, 16, 15, 14, 10, 16, 10, 4, 1, 3, 10, 16, 10, 19, 1, 8, 10, 3, 10], '200630-212742_hau_e35_elicit_195': [21, 10, 6, 4, 19, 10, 4, 1, 21, 10, 6, 4, 19, 10, 4, 1, 9, 15, 1, 18, 2, 1, 16, 10, 9, 15, 1, 13, 10, 4, 16, 10, 3, 10, 1, 16, 10, 9, 10, 1, 10, 1, 5, 10, 27, 2, 18, 1, 3, 15, 20, 10, 1, 12, 10, 1, 8, 10, 19, 3, 28, 3, 4, 18, 1, 9, 4, 11, 10, 9, 10, 1, 10, 1, 12, 15, 3, 3, 10, 18, 1, 29, 10, 46, 4, 18, 1, 16, 10, 9, 10, 19, 10, 15, 13, 10, 19, 9, 10, 1, 22, 15, 1, 18, 2, 1, 4, 19, 4, 18, 1, 9, 15, 1, 25, 10, 20, 10, 12, 4, 16, 10, 1, 5, 10, 20, 4, 1, 36, 8, 4, 19, 28, 16, 10, 1, 12, 10, 1, 9, 10, 15, 19, 10, 18, 9, 15, 1, 22, 15, 1, 6, 10, 16, 28, 1, 16, 10, 19, 10, 9, 10, 1, 13, 9, 28, 19, 28, 18, 1, 3, 28, 5, 10, 1, 9, 10, 4, 1, 30, 20, 20, 10, 8, 1, 3, 10, 46, 10, 4], '200630-212742_hau_e35_elicit_196': [22, 8, 15, 25, 10, 17, 10, 18, 18, 4, 1, 22, 15, 1, 18, 2, 1, 16, 10, 9, 15, 1, 27, 10, 25, 28, 19, 10, 18, 13, 10, 19, 1, 25, 10, 19, 15, 19, 15, 5, 10, 18, 1, 12, 10, 1, 9, 15, 3, 2, 1, 18, 2, 9, 10, 1, 12, 10, 1, 9, 8, 4, 1, 37, 10, 9, 15, 1, 13, 10, 19, 10, 1, 16, 10, 9, 10, 1, 27, 10, 16, 10, 10, 1, 10, 1, 12, 15, 3, 1, 20, 28, 3, 10, 36, 4, 18, 1, 12, 10, 1, 11, 10, 3, 2, 1, 17, 15, 14, 10, 13, 10, 1, 21, 10, 46, 10, 18, 18, 10, 18, 1, 9, 15, 1, 18, 2, 1, 8, 10, 3, 4, 16, 10, 4, 1, 12, 4, 25, 10, 13, 10, 4, 1, 12, 10, 1, 16, 10, 9, 15, 1, 15, 18, 25, 15, 5, 10, 18, 18, 4], '200630-212742_hau_e35_elicit_198': [35, 10, 16, 4, 10, 18, 1, 32, 9, 10, 19, 28, 1, 22, 15, 1, 18, 2, 1, 49, 11, 10, 18, 1, 8, 4, 9, 17, 10, 1, 16, 10, 9, 15, 1, 15, 16, 10, 19, 18, 4, 1, 12, 10, 1, 3, 11, 10, 3, 3, 11, 10, 5, 10, 18, 1, 10, 4, 3, 4, 1, 12, 10, 1, 3, 15, 16, 10, 1, 8, 10, 18, 4, 1, 25, 10, 1, 10, 4, 3, 10, 13, 10, 1, 16, 15, 16, 16, 15, 18, 10, 18, 1, 10, 4, 3, 4, 1, 37, 10, 9, 15, 1, 3, 15, 20, 10, 1, 12, 10, 1, 3, 10, 4, 3, 10, 5, 28, 18, 1, 10, 20, 10, 16, 15, 19, 10, 18, 1, 17, 4, 19, 18, 4, 1, 12, 10, 1, 9, 10, 15, 19, 10, 18, 1, 10, 17, 15, 17, 15, 5, 10, 18, 1, 12, 10, 1, 9, 15, 3, 10, 1, 9, 8, 10, 29, 4, 1, 10, 20, 15, 16, 16, 10], '200630-212742_hau_e35_elicit_199': [23, 10, 16, 10, 19, 1, 13, 10, 19, 15, 19, 19, 15, 3, 10, 18, 1, 17, 15, 3, 15, 3, 15, 5, 10, 1, 4, 17, 10, 12, 10, 1, 6, 10, 16, 10, 18, 13, 10, 3, 2, 5, 10, 19, 1, 16, 10, 10, 15, 19, 10, 13, 10, 1, 12, 10, 1, 9, 10, 15, 19, 10, 18, 9, 15, 1, 10, 17, 15, 17, 15, 5, 10, 18, 1, 12, 10, 1, 9, 15, 3, 2, 1, 17, 15, 14, 10, 13, 10, 19, 1, 9, 10, 9, 10, 18, 13, 28, 1, 17, 10, 1, 9, 8, 10, 19, 4, 10, 1, 17, 10, 1, 23, 15, 16, 10, 1, 16, 10, 9, 15, 1, 25, 11, 10, 19, 10, 1, 10, 17, 4, 18, 1, 12, 10, 1, 11, 10, 1, 20, 10, 20, 10, 36, 2, 1, 38, 10, 1, 12, 10, 25, 10, 1, 13, 10, 19, 17, 4, 11, 11, 10, 1, 12, 10, 1, 9, 10, 15, 19, 10, 18, 9, 15], '200630-212742_hau_e35_elicit_200': [33, 28, 25, 10, 19, 10, 5, 10, 1, 22, 15, 1, 18, 2, 1, 16, 10, 9, 15, 1, 13, 10, 4, 16, 10, 3, 10, 1, 16, 10, 9, 10, 1, 5, 10, 27, 2, 18, 1, 3, 15, 20, 10, 1, 12, 10, 1, 8, 15, 3, 15, 18, 36, 2, 8, 15, 3, 15, 18, 36, 2, 1, 22, 15, 1, 18, 2, 1, 16, 10, 9, 15, 1, 3, 10, 16, 28, 1, 12, 15, 3, 1, 5, 10, 18, 12, 10, 1, 11, 10, 1, 11, 4, 1, 20, 10, 4, 29, 4, 1, 13, 10, 19, 2, 1, 3, 15, 16, 10, 1, 12, 10, 1, 20, 10, 12, 10, 17, 13, 10, 19, 1, 12, 10, 1, 9, 8, 4], '200630-212742_hau_e35_elicit_201': [26, 10, 12, 10, 5, 10, 1, 22, 15, 1, 18, 2, 1, 16, 10, 9, 15, 1, 6, 10, 16, 10, 1, 13, 10, 19, 2, 1, 12, 10, 1, 9, 10, 19, 3, 4, 1, 16, 10, 9, 15, 1, 10, 4, 5, 10, 13, 10, 19, 1, 12, 10, 1, 17, 15, 14, 10, 13, 15, 18, 9, 10, 1, 12, 28, 16, 4, 18, 1, 3, 10, 19, 1, 11, 10, 1, 17, 15, 14, 10, 13, 15, 1, 12, 10, 1, 5, 10, 9, 15, 18, 1, 9, 15], '200630-212742_hau_e35_elicit_202': [37, 10, 9, 8, 10, 5, 10, 19, 13, 10, 1, 22, 15, 1, 18, 2, 1, 16, 15, 13, 10, 18, 2, 1, 16, 10, 9, 15, 1, 8, 10, 18, 3, 10, 20, 4, 1, 5, 10, 46, 10, 18, 12, 10, 1, 6, 10, 1, 9, 15, 1, 19, 4, 14, 10, 1, 11, 4, 1, 16, 10, 9, 10, 1, 18, 15, 18, 4, 1, 10, 1, 36, 4, 3, 4, 18, 1, 10, 17, 15, 17, 15, 5, 10, 1, 3, 10, 29, 4, 18, 1, 10, 17, 4, 18, 1, 11, 10, 1, 3, 10, 4, 1, 25, 10, 1, 27, 10, 16, 10, 10, 1, 22, 4, 29, 29, 10, 19, 9, 15, 1, 4, 13, 10, 1, 36, 2, 1, 8, 10, 18, 3, 10, 20, 4, 1, 33, 15, 3, 1, 3, 15, 5, 10, 1, 16, 15, 13, 15, 16, 1, 16, 10, 4, 1, 8, 10, 18, 3, 10, 20, 4, 1, 6, 10, 1, 10, 1, 9, 10, 16, 2, 1, 9, 8, 4, 1, 12, 10, 1, 8, 10, 18, 25, 2, 18, 1, 18, 2, 9, 10, 1, 13, 10, 3, 10, 1, 13, 9, 10, 18, 13, 9, 10, 18, 1, 12, 10, 1, 9, 10, 15, 19, 10, 18, 9, 15], '200630-212742_hau_e35_elicit_203': [37, 10, 10, 4, 3, 10, 13, 10, 18, 1, 34, 10, 3, 3, 10, 1, 22, 15, 1, 10, 16, 4, 18, 13, 10, 13, 13, 15, 18, 1, 16, 15, 13, 10, 18, 2, 1, 18, 2, 1, 12, 10, 1, 6, 10, 1, 9, 15, 1, 19, 4, 14, 10, 1, 3, 10, 19, 31, 28, 1, 12, 15, 3, 4, 11, 10, 1, 9, 15, 18, 10, 1, 9, 10, 19, 19, 10, 29, 10, 1, 13, 10, 1, 17, 4, 9, 10, 1, 12, 10, 36, 2, 5, 10, 1, 22, 4, 29, 29, 10, 19, 9, 15, 1, 4, 13, 10, 1, 36, 2, 1, 10, 16, 10, 18, 10], '200630-212742_hau_e35_elicit_204': [37, 10, 19, 15, 17, 15, 13, 10, 1, 22, 15, 1, 18, 2, 1, 5, 10, 46, 10, 18, 12, 10, 1, 13, 10, 9, 3, 10, 36, 2, 1, 12, 15, 3, 3, 10, 18, 1, 10, 17, 15, 17, 15, 5, 10, 1, 11, 10, 1, 8, 10, 15, 1, 3, 10, 18, 9, 15], '200630-212742_hau_e35_elicit_205': [49, 47, 10, 18, 1, 30, 4, 3, 2, 1, 22, 15, 1, 18, 2, 1, 16, 10, 9, 15, 1, 3, 10, 4, 3, 10, 5, 28, 1, 10, 1, 13, 9, 10, 3, 10, 18, 4, 18, 1, 25, 10, 19, 15, 19, 15, 5, 10, 18, 1, 37, 15, 9, 15, 20, 16, 4], '200630-212742_hau_e35_elicit_206': [49, 47, 10, 18, 1, 58, 2, 14, 2, 18, 1, 30, 9, 4, 19, 4, 1, 22, 15, 1, 18, 2, 1, 9, 15, 3, 2, 1, 6, 10, 16, 10, 1, 4, 12, 28, 18, 1, 9, 10, 19, 3, 4, 1, 10, 1, 25, 10, 19, 15, 19, 15, 5, 10, 18, 1, 16, 10, 14, 4, 11, 10, 1, 21, 10, 13, 28, 1, 27, 10, 16, 4, 10, 18, 1, 13, 9, 10, 19, 28, 18, 1, 29, 10, 19, 4, 18, 1, 3, 10, 11, 10, 1, 3, 2, 18, 10, 18], '200630-212742_hau_e35_elicit_207': [37, 10, 9, 15, 1, 53, 10, 12, 4, 1, 22, 15, 1, 18, 2, 1, 16, 10, 9, 15, 1, 13, 9, 10, 19, 28, 18, 1, 9, 10, 19, 3, 4, 1, 12, 10, 1, 19, 10, 18, 10], '200630-212742_hau_e35_elicit_208': [37, 10, 9, 15, 1, 13, 9, 10, 19, 28, 18, 1, 9, 10, 19, 3, 4, 1, 12, 10, 1, 12, 10, 12, 12, 10, 19, 2], '200630-212742_hau_e35_elicit_209': [37, 10, 20, 10, 16, 10, 4, 1, 37, 15, 13, 10, 18, 2, 1, 18, 2, 1, 16, 10, 9, 15, 1, 6, 15, 6, 6, 15, 19, 29, 10, 18, 1, 9, 10, 18, 4, 1, 10, 17, 10, 17, 2, 18, 1, 12, 28, 25, 10, 19, 28, 1, 10, 1, 29, 10, 25, 2, 18, 1, 4, 20, 4, 16, 4, 1, 12, 10, 1, 3, 15, 16, 10, 1, 13, 9, 28, 19, 28, 18, 1, 30, 20, 20, 10, 8, 1, 30, 4, 3, 4, 18, 1, 9, 15, 1, 9, 8, 4, 1, 18, 2, 1, 9, 8, 4, 19, 11, 10, 13, 10, 19, 1, 12, 10, 1, 9, 10, 19, 3, 4, 1, 10, 1, 36, 4, 3, 4, 18, 1, 12, 15, 3, 3, 10, 18, 1, 20, 10, 16, 15, 19, 10, 18, 9, 10], '200630-212742_hau_e35_elicit_211': [37, 10, 9, 15, 1, 32, 9, 10, 19, 2, 32, 9, 10, 19, 2, 1, 22, 15, 1, 18, 2, 1, 16, 15, 13, 10, 18, 2, 18, 1, 12, 10, 1, 9, 15, 3, 2, 1, 11, 4, 18, 1, 25, 11, 10, 19, 10, 1, 12, 28, 16, 4, 18, 1, 30, 20, 20, 10, 8], '200630-212742_hau_e35_elicit_215': [33, 10, 25, 10, 1, 36, 4, 3, 4, 18, 1, 4, 19, 4, 18, 1, 5, 10, 46, 10, 18, 18, 10, 18, 1, 12, 10, 5, 10, 3, 10, 4, 1, 10, 3, 5, 10, 4, 1, 5, 10, 18, 46, 10, 18, 12, 10, 1, 10, 3, 2, 1, 13, 10, 18, 10, 12, 10, 1, 12, 28, 16, 4, 18, 1, 9, 10, 19, 3, 4, 1, 11, 10, 1, 29, 2, 36, 2, 1, 12, 10, 25, 10, 1, 29, 4, 20, 4, 18, 1, 12, 10, 25, 10, 1, 4, 12, 10, 18, 1, 19, 10, 18, 10, 1, 13, 10, 1, 31, 10, 36, 4, 1, 22, 10, 17, 28, 12, 10, 1, 8, 10, 3, 10, 1, 4, 19, 4, 18, 1, 5, 10, 46, 10, 18, 18, 10, 18, 1, 12, 10, 5, 10, 3, 10, 4, 1, 10, 3, 10, 18, 1, 9, 10, 16, 2, 1, 9, 15, 1, 12, 10, 1, 14, 10, 19, 29, 4, 1, 25, 15, 12, 15, 1, 12, 10, 1, 3, 15, 16, 10, 1, 4, 11, 10, 1, 13, 9, 10, 20, 20, 10, 3, 2, 1, 3, 5, 10, 6, 10, 6, 6, 10, 17, 10, 4, 1, 12, 10, 1, 9, 10, 15, 19, 10, 18, 9, 15], '200630-212742_hau_e35_elicit_216': [53, 15, 6, 15, 19, 4, 1, 33, 15, 3, 4, 11, 10, 1, 36, 2, 1, 12, 10, 1, 10, 3, 2, 1, 13, 10, 18, 10, 12, 10, 19, 1, 13, 10, 1, 16, 15, 9, 10, 16, 16, 10, 18, 1, 10, 1, 13, 10, 9, 3, 10, 19, 1, 12, 15, 3, 4, 11, 10, 19, 1, 14, 10, 9, 10, 1, 12, 28, 16, 4, 18, 1, 46, 10, 5, 10, 4, 18, 4, 11, 10, 19, 1, 16, 10, 19, 10, 9, 10, 1, 8, 10, 20, 4, 1, 10, 1, 20, 28, 3, 10, 36, 4, 18, 1, 13, 10, 29, 4, 11, 10, 1, 27, 4, 8, 10, 12, 4, 1, 12, 10, 1, 9, 10, 15, 19, 10, 18, 1, 10, 17, 15, 17, 15, 5, 10], '200630-212742_hau_e35_elicit_217': [33, 10, 3, 10, 19, 15, 1, 53, 5, 10, 19, 10, 6, 10, 18, 1, 16, 15, 13, 10, 18, 2, 1, 18, 2, 1, 9, 10, 18, 18, 10, 18, 1, 3, 15, 16, 10, 1, 27, 10, 19, 15, 16, 10, 4, 1, 5, 10, 46, 10, 18, 12, 10, 1, 9, 15, 3, 2, 1, 3, 2, 5, 10, 11, 2, 1, 12, 10, 1, 9, 10, 19, 3, 4, 1, 10, 1, 3, 28, 12, 10, 5, 10, 18, 2, 1, 20, 28, 3, 10, 36, 4, 1, 12, 28, 16, 4, 18, 1, 9, 8, 4, 19, 4, 18, 1, 3, 28, 13, 10, 3, 5, 10, 18, 10], '200630-212742_hau_e35_elicit_218': [23, 10, 11, 10, 18, 1, 47, 10, 14, 4, 1, 30, 1, 13, 10, 18, 10, 12, 4, 1, 18, 10, 25, 10, 19, 13, 10, 13, 13, 15, 18, 1, 3, 10, 11, 10, 18, 1, 11, 10, 14, 4, 1, 3, 10, 16, 10, 19, 1, 4, 19, 4, 18, 1, 9, 15, 1, 3, 5, 10, 19, 4, 1, 12, 10, 1, 17, 10, 3, 10, 1, 16, 10, 9, 15, 1, 25, 10, 19, 3, 15, 5, 10, 1, 9, 15, 20, 3, 2, 1, 12, 10, 1, 9, 10, 15, 19, 10, 18, 9, 15, 1, 16, 10, 9, 15, 1, 13, 10, 19, 4, 18, 1, 11, 10, 5, 10], '200630-212742_hau_e35_elicit_219': [58, 4, 3, 4, 13, 28, 36, 4, 1, 30, 1, 9, 10, 16, 15, 1, 16, 15, 13, 10, 18, 2, 1, 11, 10, 19, 12, 10, 12, 12, 15, 1, 5, 10, 46, 10, 18, 12, 10, 1, 6, 10, 1, 9, 15, 1, 19, 4, 14, 10, 1, 17, 10, 4, 1, 5, 10, 1, 16, 15, 13, 10, 18, 2, 1, 16, 10, 25, 15, 18, 25, 15, 18, 10, 1, 9, 10, 17, 28, 12, 10, 1, 3, 10, 19, 1, 9, 15, 1, 16, 15, 13, 10, 18, 2, 18, 1, 9, 15, 1, 17, 15, 14, 10, 13, 15, 1, 11, 10, 1, 6, 15, 5, 10, 1, 25, 10, 19, 4, 18, 1, 12, 10, 1, 17, 10, 1, 18, 10, 9, 15, 1, 17, 10, 1, 23, 10, 19, 1, 9, 15, 1, 17, 15, 14, 10, 13, 15, 1, 12, 10, 1, 6, 15, 5, 10, 1, 14, 10, 9, 10, 9, 8, 2, 18, 1, 5, 10, 27, 2, 1, 12, 28, 16, 4, 18, 1, 3, 4, 5, 28, 18, 1, 20, 10, 29, 4, 11, 10], '200630-212742_hau_e35_elicit_221': [21, 10, 46, 10, 18, 18, 10, 18, 1, 9, 15, 1, 9, 15, 3, 2, 1, 5, 10, 3, 4, 20, 13, 10, 19, 1, 9, 10, 19, 3, 4, 1, 10, 1, 36, 4, 3, 4, 18, 1, 20, 10, 16, 10, 19, 4, 18, 1, 11, 10, 14, 4, 1, 30, 11, 11, 15, 3, 10, 18, 1, 9, 15, 1, 9, 15, 18, 1, 8, 10, 46, 10, 1, 12, 10, 1, 9, 8, 4, 19, 11, 10, 1, 19, 15, 18, 12, 15, 18, 10, 1, 3, 10, 19, 2, 1, 8, 10, 9, 3, 2, 18, 1, 37, 15, 9, 15, 20, 15, 18, 36, 4, 1, 12, 10, 1, 9, 10, 15, 19, 10, 18, 9, 15], '200630-212742_hau_e35_elicit_222': [37, 10, 9, 10, 18, 10, 1, 47, 10, 14, 4, 1, 37, 15, 13, 10, 18, 2, 1, 18, 2, 1, 5, 10, 46, 10, 18, 12, 10, 1, 19, 10, 10, 11, 4, 18, 9, 15, 1, 11, 10, 3, 2, 1, 11, 10, 11, 2, 1, 17, 10, 14, 4, 18, 1, 36, 4, 3, 4, 1, 9, 10, 17, 28, 12, 10, 1, 13, 10, 17, 17, 10, 9, 1, 9, 8, 4, 1, 11, 10, 14, 4, 1, 46, 10, 18, 1, 6, 10, 16, 17, 10, 1, 18, 2, 1, 10, 16, 16, 10, 1, 17, 10, 1, 11, 10, 5, 10, 1, 3, 28, 1, 9, 10, 15, 19, 4, 1, 17, 10, 1, 37, 10, 29, 4, 1, 25, 4, 19, 16, 10, 18, 1, 17, 10, 20, 10, 4, 1, 10, 1, 25, 10, 19, 2, 1, 9, 8, 4, 1, 9, 8, 4, 1, 18, 2, 1, 10, 1, 9, 8, 4, 25, 10, 1, 13, 9, 10, 3, 10, 18, 4, 18, 9, 10, 1, 12, 10, 1, 13, 10, 20, 10, 3, 10, 5, 10, 18, 9, 10], '200630-212742_hau_e35_elicit_223': [39, 10, 17, 4, 1, 38, 10, 1, 7, 15, 46, 15], '200630-212742_hau_e35_elicit_224': [21, 10, 18, 18, 10, 18, 1, 17, 10, 17, 4, 1, 18, 2, 1, 12, 10, 1, 11, 10, 1, 11, 4, 1, 16, 10, 25, 10, 18, 10, 1, 25, 10, 16, 2, 1, 12, 10, 1, 6, 10, 16, 10, 18, 1, 27, 4, 19, 10, 18, 1, 3, 28, 13, 10, 3, 5, 10, 18, 10, 1, 10, 1, 20, 28, 3, 10, 36, 4, 18, 1, 12, 10, 1, 10, 3, 2, 1, 6, 10, 15, 18, 2, 1, 10, 1, 25, 4, 12, 10, 1, 3, 28, 1, 10, 1, 8, 10, 20, 4, 18, 1, 13, 10, 29, 4, 11, 10, 1, 10, 1, 11, 10, 11, 4, 18, 1, 12, 10, 1, 11, 10, 18, 10, 11, 4, 1, 11, 10, 1, 36, 10, 18, 27, 10, 1, 12, 10, 25, 10, 1, 10, 16, 4, 18, 36, 4, 1, 6, 15, 5, 10, 1, 13, 9, 28, 19, 28, 18, 1, 3, 10, 5, 28, 1, 8, 10, 19, 4, 1, 12, 10, 25, 10, 1, 10, 17, 28, 3, 10, 18, 1, 25, 10, 17, 10, 1, 12, 10, 1, 3, 15, 16, 10, 1, 4, 19, 4, 18, 1, 16, 10, 13, 10, 3, 10, 18, 1, 12, 10, 1, 9, 15, 3, 10, 1, 3, 10, 16, 10, 13, 10, 1, 9, 10, 19, 3, 4, 1, 11, 10, 1, 46, 10, 15, 3, 10, 1, 37, 10, 20, 10, 16, 1, 11, 10, 1, 36, 2], '200630-212742_hau_e35_elicit_226': [47, 10, 1, 6, 10, 16, 10, 1, 16, 10, 4, 1, 17, 10, 11, 11, 10, 18, 10, 1, 25, 15, 12, 15, 18, 12, 15, 18, 4, 11, 10, 1, 10, 1, 36, 4, 3, 4, 18, 1, 10, 17, 4, 18, 1, 12, 10, 1, 11, 10, 1, 9, 8, 10, 29, 4, 1, 16, 10, 13, 10, 19, 9, 10, 1, 12, 10, 1, 46, 10, 18, 9, 10, 1, 9, 10, 17, 28, 12, 10, 1, 3, 10, 19, 1, 9, 15, 1, 8, 10, 18, 10, 1, 9, 8, 4, 1, 10, 4, 3, 10, 13, 10, 1, 10, 12, 10, 20, 36, 4, 1, 58, 10, 20, 20, 2, 1, 18, 2, 1, 12, 10, 25, 10, 1, 16, 10, 13, 10, 18, 3, 15, 1, 12, 10, 1, 46, 4, 11, 10, 18, 3, 15, 1, 10, 3, 5, 10, 4, 1, 5, 10, 18, 4, 1, 16, 10, 14, 4, 11, 4, 1, 10, 1, 25, 10, 19, 2, 1, 3, 15, 1, 9, 10, 4, 1, 3, 15, 1, 11, 4, 1, 9, 10, 15, 18, 10, 19, 9, 15, 1, 30, 20, 14, 15, 19, 10, 18, 4, 1, 52, 51, 42, 51], '200630-212742_hau_e35_elicit_227': [47, 10, 1, 6, 10, 16, 10, 1, 16, 10, 4, 1, 17, 10, 11, 11, 10, 18, 10, 1, 3, 5, 10, 46, 10, 11, 4, 18, 9, 10, 1, 5, 10, 27, 2, 18, 1, 19, 10, 9, 8, 4, 18, 1, 46, 10, 15, 3, 10, 19, 1, 31, 10, 18, 25, 10, 19, 2, 1, 12, 10, 1, 3, 15, 16, 10, 1, 12, 10, 4, 12, 10, 4, 13, 28, 1, 22, 10, 18, 18, 10, 18, 1, 11, 10, 1, 6, 10, 16, 10, 1, 16, 10, 4, 1, 9, 28, 18, 1, 29, 4, 13, 10, 1, 6, 15, 5, 10, 1, 27, 4, 8, 10, 12, 4, 1, 47, 10, 1, 6, 10, 16, 10, 1, 16, 10, 4, 1, 14, 4, 18, 1, 6, 10, 16, 10, 1, 10, 1, 36, 4, 3, 4, 18, 1, 25, 4, 12, 10, 1, 21, 10, 18, 18, 10, 18, 1, 6, 10, 1, 13, 10, 1, 46, 10, 15, 3, 10, 3, 10, 1, 3, 4, 16, 10, 19, 9, 10, 1, 10, 1, 4, 12, 28, 18, 1, 10, 17, 28, 3, 10, 18, 1, 25, 10, 17, 10], '200630-212742_hau_e35_elicit_228': [34, 10, 16, 10, 18, 1, 9, 10, 19, 3, 4, 1, 10, 1, 36, 4, 18, 3, 4, 18, 1, 25, 4, 12, 10, 18, 9, 10, 1, 25, 10, 1, 17, 10, 19, 4, 18, 1, 27, 10, 16, 10, 10, 19, 9, 10, 1, 9, 8, 4, 1, 18, 2, 1, 13, 15, 9, 8, 2, 18, 1, 3, 28, 5, 10, 36, 2, 1, 29, 4, 13, 4, 18, 10, 1, 12, 10, 1, 3, 15, 16, 10, 1, 31, 10, 19, 18, 10, 1, 22, 8, 4, 1, 16, 15, 20, 3, 4, 1, 12, 10, 1, 13, 10, 3, 28, 17, 4, 1, 10, 3, 2, 1, 11, 4, 18, 1, 9, 10, 1, 17, 10, 1, 12, 10, 1, 9, 10, 18, 11, 4, 18, 1, 27, 4, 3, 4, 1, 17, 10], '200630-212742_hau_e35_elicit_229': [30, 17, 4, 18, 1, 18, 15, 29, 4, 1, 17, 10, 1, 6, 10, 4, 1, 11, 4, 5, 15, 1, 12, 10, 1, 29, 10, 46, 4, 18, 1, 36, 2, 5, 10, 1, 12, 10, 1, 9, 10, 18, 18, 15, 1, 6, 10, 18, 1, 3, 10, 4, 1, 16, 15, 9, 15, 1, 8, 10, 19, 4, 1, 12, 10, 1, 9, 10, 18, 18, 15, 1, 6, 10, 18, 1, 10, 4, 3, 10, 13, 10, 1, 17, 10, 1, 30, 18, 11, 10, 1, 3, 15, 5, 10, 1, 6, 10, 4, 1, 11, 4, 5, 15, 1, 10, 1, 3, 10, 5, 10, 19, 1, 12, 10, 1, 13, 9, 28, 19, 28, 1, 10, 1, 36, 4, 3, 4, 18, 1, 29, 4, 19, 25, 4, 36, 4], '200630-212742_hau_e35_elicit_231': [23, 10, 12, 10, 1, 3, 15, 1, 11, 4, 1, 19, 10, 15, 18, 4, 1, 3, 15, 16, 10, 1, 3, 10, 12, 10, 1, 3, 15, 1, 11, 4, 1, 3, 4, 19, 10, 1, 6, 15, 5, 10, 1, 25, 10, 1, 9, 15, 20, 8, 4, 1, 10, 20, 8, 10, 20, 4, 1, 3, 15, 5, 10, 1, 3, 15, 1, 18, 2, 1, 16, 10, 29, 4, 1, 46, 10, 15, 3, 10, 3, 10, 1, 3, 15, 16, 10, 1, 30, 20, 20, 10, 8, 1, 18, 10, 1, 13, 10, 19, 2, 1, 12, 10, 1, 3, 15, 1, 30, 20, 14, 15, 19, 10, 18, 4, 1, 51, 41, 57, 54], '200630-212742_hau_e35_elicit_232': [33, 28, 20, 2, 1, 11, 10, 1, 6, 10, 16, 10, 1, 16, 10, 4, 1, 13, 10, 3, 10, 13, 9, 10, 18, 13, 9, 10, 18, 1, 10, 1, 36, 4, 3, 4, 18, 1, 10, 17, 4, 18, 36, 4, 18, 9, 10, 1, 12, 10, 1, 10, 17, 4, 18, 1, 9, 8, 10, 18, 9, 10, 1, 12, 10, 1, 16, 10, 3, 5, 10, 18, 36, 4, 18, 9, 10, 1, 23, 10, 19, 1, 11, 10, 1, 27, 4, 31, 4, 18, 13, 10, 19, 1, 12, 10, 1, 3, 28, 5, 10, 1, 9, 10, 4, 1, 16, 10, 3, 15, 9, 10, 18, 13, 10, 1, 3, 15, 16, 10, 1, 16, 10, 9, 28, 11, 10, 18, 9, 10], '200630-212742_hau_e35_elicit_233': [23, 10, 19, 1, 11, 10, 1, 6, 10, 15, 18, 10, 1, 10, 1, 16, 10, 27, 10, 20, 4, 9, 10, 1, 17, 10, 1, 13, 10, 19, 2, 1, 12, 10, 1, 27, 10, 19, 15, 16, 10, 18, 1, 16, 10, 11, 10, 14, 10, 18, 1, 14, 10, 9, 10, 1, 12, 10, 1, 3, 15, 16, 10, 1, 16, 10, 8, 10, 11, 10, 1, 12, 10, 5, 10, 3, 4, 1, 17, 10, 1, 23, 15, 16, 10, 1, 9, 15, 1, 6, 10, 16, 10, 1, 10, 16, 4, 18, 13, 10, 13, 13, 15, 1, 9, 10, 18, 18, 10, 18, 1, 3, 15, 16, 10, 1, 27, 10, 19, 15, 16, 10, 4, 1, 58, 28, 3, 10, 36, 4, 18, 1, 6, 10, 16, 10, 18, 1, 46, 10, 19, 46, 10, 19, 1, 17, 10, 1, 46, 10, 11, 10, 1, 11, 10, 3, 2, 1, 12, 10, 1, 20, 28, 3, 10, 36, 4, 18, 1, 6, 10, 16, 10, 18, 1, 20, 10, 29, 4, 11, 10, 1, 12, 10, 1, 3, 5, 10, 18, 36, 4, 11, 10, 19, 1, 8, 10, 18, 3, 10, 20, 4, 1, 17, 10], '200630-212742_hau_e35_elicit_234': [47, 10, 1, 6, 10, 16, 10, 1, 16, 10, 4, 1, 31, 28, 11, 2, 1, 9, 4, 19, 19, 4, 18, 9, 10, 1, 23, 10, 19, 1, 11, 10, 1, 19, 4, 14, 10, 1, 11, 10, 19, 12, 10, 1, 12, 10, 1, 6, 10, 18, 13, 15, 3, 10, 18, 1, 10, 18, 18, 10, 16, 4, 16, 10, 4, 1, 3, 28, 1, 12, 10, 1, 9, 15, 18, 1, 8, 10, 15, 19, 10, 1, 9, 10, 17, 10, 4, 18, 1, 22, 15, 1, 3, 15, 5, 10, 1, 16, 10, 9, 15, 1, 6, 10, 13, 28, 1, 30, 17, 28, 3, 10, 18, 1, 25, 10, 17, 10, 1, 3, 10, 19, 1, 11, 10, 1, 11, 10, 15, 12, 10, 19, 15, 1, 12, 10, 1, 17, 10, 11, 11, 10, 18, 10, 19, 1, 49, 11, 10, 18, 1, 10, 4, 3, 2, 18, 9, 15], '200630-212742_hau_e35_elicit_237': [30, 1, 36, 4, 3, 4, 18, 1, 10, 17, 4, 18, 1, 12, 10, 1, 11, 10, 1, 9, 8, 10, 29, 4, 1, 25, 10, 19, 15, 19, 15, 5, 10, 18, 1, 12, 10, 1, 3, 2, 1, 3, 15, 9, 10, 1, 12, 10, 1, 16, 10, 14, 4, 11, 10, 1, 11, 10, 1, 19, 15, 9, 8, 2, 1, 12, 15, 3, 3, 10, 18, 1, 25, 10, 19, 15, 19, 15, 5, 10, 18, 1, 12, 10, 1, 17, 10, 1, 6, 10, 4, 1, 11, 4, 5, 15, 1, 10, 16, 4, 18, 13, 10, 13, 13, 15, 18, 9, 10, 1, 9, 15, 1, 6, 10, 15, 18, 10, 1, 10, 1, 36, 4, 3, 4, 1, 17, 10], '200630-212742_hau_e35_elicit_238': [22, 10, 17, 28, 12, 10, 1, 3, 10, 19, 1, 53, 10, 19, 15, 19, 15, 5, 10, 18, 1, 9, 15, 1, 13, 10, 18, 10, 12, 10, 19, 1, 16, 10, 9, 10, 1, 16, 10, 14, 4, 11, 10, 1, 47, 10, 1, 18, 4, 9, 10, 18, 36, 4, 1, 4, 25, 4, 11, 10, 1, 9, 10, 17, 28, 12, 10, 1, 25, 15, 12, 15, 18, 1, 36, 4, 6, 28, 18, 1, 16, 10, 36, 4, 27, 4, 1, 37, 10, 29, 4, 1, 25, 4, 19, 16, 10, 18, 1, 17, 10, 20, 10, 4, 1, 10, 1, 25, 10, 19, 2, 1, 9, 8, 4, 1, 9, 8, 4, 1, 18, 2, 1, 10, 1, 9, 8, 4, 25, 10, 1, 13, 9, 10, 3, 10, 18, 4, 18, 9, 10, 1, 12, 10, 1, 13, 10, 20, 10, 3, 10, 5, 10, 18, 9, 10], '200630-212742_hau_e35_elicit_239': [39, 10, 17, 10, 4, 1, 38, 10, 1, 39, 4, 11, 10, 19], '200630-212742_hau_e35_elicit_242': [37, 10, 19, 10, 11, 10, 18, 1, 12, 10, 1, 10, 3, 10, 1, 8, 10, 18, 10, 1, 9, 8, 4, 1, 9, 10, 19, 19, 10, 29, 10, 1, 12, 15, 3, 4, 11, 10, 19, 9, 10, 1, 13, 28, 1, 16, 10, 4, 1, 3, 15, 20, 10, 1, 12, 10, 1, 9, 8, 4, 1, 18, 2, 1, 6, 10, 4, 1, 46, 10, 15, 3, 4, 1, 46, 10, 5, 10, 4, 18, 4, 11, 10, 19, 1, 19, 10, 11, 15, 5, 10, 19, 9, 10], '200630-212742_hau_e35_elicit_243': [7, 10, 3, 10, 1, 18, 10, 18, 1, 10, 1, 9, 10, 3, 10, 1, 13, 9, 10, 18, 13, 9, 2, 18, 4, 1, 12, 10, 1, 20, 15, 19, 10, 1, 5, 10, 27, 2, 18, 1, 5, 10, 19, 5, 10, 19, 2, 1, 10, 20, 10, 16, 15, 19, 10, 18, 1, 12, 10, 1, 9, 15, 3, 10, 1, 9, 8, 10, 29, 4, 1, 31, 28, 11, 10, 11, 11, 2, 1, 37, 15, 13, 15, 16, 4, 18, 1, 12, 10, 1, 11, 10, 1, 11, 4, 1, 13, 10, 29, 4, 11, 10, 1, 9, 10, 18, 18, 10, 18, 1, 3, 15, 16, 10, 1, 11, 10, 1, 46, 10, 15, 3, 4, 1, 12, 28, 25, 28, 18, 1, 20, 28, 3, 10, 36, 4, 1, 17, 10, 17, 15, 1, 20, 10, 17, 10, 19, 4, 1, 25, 10, 12, 28, 18, 1, 16, 10, 13, 10, 13, 13, 15], '200630-212742_hau_e35_elicit_245': [33, 15, 3, 1, 5, 10, 18, 12, 10, 1, 11, 10, 18, 3, 2, 5, 10, 1, 13, 10, 1, 17, 10, 11, 11, 10, 18, 10, 1, 10, 1, 25, 10, 19, 2, 1, 9, 8, 4, 1, 21, 10, 13, 28, 1, 12, 15, 3, 1, 5, 10, 18, 12, 10, 1, 11, 10, 1, 11, 10, 18, 3, 2, 1, 5, 10, 1, 5, 10, 18, 4, 1, 3, 15, 46, 4, 1, 5, 10, 18, 12, 1, 10, 3, 10, 1, 4, 11, 10, 1, 6, 10, 16, 10, 1, 10, 20, 17, 10, 9, 8, 4, 1, 3, 28, 1, 5, 10, 18, 4, 18, 9, 10, 1, 3, 15, 16, 10, 1, 10, 3, 10, 1, 25, 10, 18, 2, 1, 13, 28, 1, 10, 1, 13, 9, 10, 5, 10, 13, 10, 19, 1, 16, 10, 9, 10], '200630-212742_hau_e35_elicit_246': [21, 10, 18, 12, 10, 1, 3, 15, 16, 10, 1, 11, 10, 1, 11, 4, 1, 6, 10, 20, 15, 18, 36, 4, 1, 10, 1, 36, 4, 19, 2, 1, 9, 8, 4, 1, 21, 10, 18, 12, 10, 1, 3, 15, 16, 10, 1, 10, 3, 2, 1, 11, 4, 18, 1, 14, 28, 19, 10, 29, 4, 1, 10, 1, 3, 10, 18, 9, 10, 1, 10, 1, 36, 10, 18, 27, 10, 1, 9, 8, 4, 1, 4, 12, 10, 18, 1, 6, 10, 1, 10, 1, 9, 10, 16, 15, 1, 5, 10, 18, 12, 10, 1, 6, 10, 4, 1, 36, 10, 18, 27, 2, 1, 9, 8, 4, 1, 4, 12, 10, 18, 1, 3, 15, 16, 10, 1, 17, 10, 1, 8, 10, 3, 10, 1, 17, 10, 1, 13, 28, 1, 9, 10, 19, 3, 4, 1, 11, 10, 1, 19, 10, 9, 10, 1, 10, 16, 4, 18, 13, 10, 13, 13, 15], '200630-212742_hau_e35_elicit_248': [48, 12, 10, 18, 1, 3, 15, 16, 10, 1, 10, 3, 10, 1, 11, 4, 1, 3, 28, 3, 5, 10, 18, 13, 28, 1, 10, 1, 3, 10, 4, 1, 13, 28, 1, 10, 1, 19, 10, 18, 13, 9, 10, 19, 1, 12, 10, 1, 9, 8, 4, 1, 21, 10, 13, 28, 1, 4, 12, 10, 18, 1, 11, 10, 1, 36, 2, 1, 18, 10, 9, 10, 1, 18, 2, 1, 9, 10, 4, 1, 10, 1, 9, 10, 3, 10, 1, 9, 8, 4, 1, 11, 10, 1, 19, 10, 18, 13, 9, 2, 1, 10, 1, 3, 10, 18, 1, 8, 10, 3, 10], '200630-212742_hau_e35_elicit_250': [30, 4, 3, 4, 18, 1, 16, 10, 10, 4, 3, 10, 13, 10, 18, 3, 10, 1, 10, 4, 3, 4, 18, 3, 10, 1, 18, 2, 1, 4, 12, 10, 18, 1, 11, 10, 1, 3, 11, 10, 15, 13, 10, 13, 15, 1, 20, 10, 12, 10, 18, 1, 18, 10, 3, 15, 1, 18, 2, 1, 17, 10, 3, 4, 1, 46, 10, 11, 10, 1, 4, 12, 10, 18, 1, 11, 10, 1, 16, 15, 18, 10, 18, 10, 1, 8, 28, 19, 28, 18, 1, 11, 10, 18, 10, 1, 3, 10, 18, 3, 15], '200630-212742_hau_e35_elicit_251': [53, 10, 16, 2, 1, 12, 10, 1, 16, 10, 9, 15, 1, 17, 15, 19, 4, 18, 1, 10, 4, 3, 10, 13, 10, 1, 31, 10, 19, 18, 10, 1, 8, 10, 14, 4, 14, 10, 1, 17, 15, 19, 4, 1, 11, 10, 18, 10, 1, 13, 10, 17, 17, 10, 13, 10, 1, 12, 10, 1, 9, 10, 16, 15, 5, 10, 19, 1, 10, 20, 10, 16, 28, 16, 4, 1, 39, 10, 17, 15, 1, 16, 10, 3, 10, 5, 10, 1, 5, 10, 27, 2, 18, 1, 5, 10, 19, 5, 10, 19, 2, 1, 9, 8, 4, 1, 4, 12, 10, 18, 1, 10, 3, 10, 1, 13, 10, 17, 17, 10, 13, 10, 19, 1, 12, 10, 1, 9, 8, 4], '200630-212742_hau_e35_elicit_254': [39, 10, 17, 4, 1, 38, 10, 1, 22, 8, 4, 12, 10], '200630-212742_hau_e35_elicit_255': [30, 17, 15, 17, 15, 5, 10, 18, 1, 12, 10, 1, 9, 15, 3, 10, 1, 6, 10, 16, 10, 19, 1, 16, 10, 9, 10, 1, 12, 28, 20, 2, 1, 13, 10, 1, 29, 15, 9, 3, 10, 36, 4, 18, 1, 10, 12, 10, 20, 36, 4, 1, 12, 10, 1, 3, 15, 16, 10, 1, 3, 11, 10, 15, 13, 10, 13, 10, 5, 10, 1, 30, 17, 4, 18, 1, 12, 10, 1, 10, 3, 2, 1, 18, 15, 29, 4, 1, 12, 10, 1, 10, 12, 10, 20, 36, 4, 1, 9, 8, 4, 1, 18, 2, 1, 10, 1, 17, 10, 4, 1, 5, 10, 1, 16, 10, 4, 1, 8, 10, 14, 14, 4, 1, 8, 10, 14, 14, 4, 18, 9, 10], '200630-212742_hau_e35_elicit_256': [33, 15, 3, 1, 46, 10, 11, 10, 1, 18, 2, 1, 6, 10, 16, 28, 5, 10, 19, 1, 8, 10, 14, 14, 4, 18, 1, 18, 10, 9, 10, 1, 18, 10, 1, 14, 10, 9, 8, 4, 18, 1, 3, 10, 18, 9, 10, 1, 12, 10, 1, 3, 15, 16, 10, 1, 18, 10, 1, 13, 10, 20, 10, 3, 10, 18, 9, 10, 1, 33, 15, 3, 1, 5, 10, 18, 12, 10, 1, 17, 10, 11, 10, 1, 17, 10, 4, 1, 5, 10, 1, 13, 10, 20, 10, 3, 10, 5, 10, 18, 9, 10, 1, 8, 10, 14, 14, 4, 18, 1, 12, 10, 1, 11, 10, 1, 9, 8, 10, 29, 2, 1, 9, 15, 1, 13, 28, 1, 5, 10, 18, 18, 10, 18, 1, 17, 10, 1, 10, 12, 10, 20, 4, 1, 17, 10, 1, 18, 2], '200630-212742_hau_e35_elicit_258': [33, 15, 3, 1, 5, 10, 18, 12, 10, 1, 11, 10, 1, 3, 10, 9, 10, 18, 36, 2, 1, 11, 10, 18, 10, 1, 3, 11, 10, 15, 13, 10, 13, 10, 1, 5, 10, 1, 16, 15, 13, 10, 18, 2, 1, 13, 10, 1, 8, 10, 18, 11, 10, 19, 1, 17, 10, 9, 15, 1, 29, 4, 11, 2, 1, 12, 10, 1, 10, 17, 4, 18, 1, 12, 10, 1, 9, 15, 3, 10, 1, 36, 10, 18, 36, 10, 18, 13, 10, 1, 12, 10, 25, 10, 1, 36, 4, 3, 4, 18, 1, 12, 15, 3, 4, 11, 10, 19, 1, 12, 10, 1, 12, 15, 3, 3, 10, 18, 1, 27, 10, 16, 10, 10, 1, 9, 15, 3, 10, 1, 11, 4, 1, 13, 10, 19, 10, 11, 11, 10, 1, 10, 1, 36, 4, 3, 4, 18, 13, 10, 1, 17, 10, 1, 13, 10, 19, 2, 1, 12, 10, 1, 11, 10, 19, 12, 10, 19, 9, 15, 1, 17, 10], '200630-212742_hau_e35_elicit_259': [13, 28, 1, 17, 10, 4, 1, 6, 10, 16, 10, 1, 16, 10, 4, 1, 3, 11, 10, 15, 13, 10, 13, 10, 5, 10, 1, 17, 10, 1, 10, 1, 16, 10, 4, 16, 10, 3, 28, 18, 1, 8, 10, 3, 10, 1, 16, 10, 1, 9, 8, 4, 1, 10, 6, 6, 10, 20, 15, 16, 4, 1, 18, 2, 1, 22, 10, 17, 28, 12, 10, 1, 10, 17, 4, 18, 1, 12, 10, 1, 11, 10, 1, 11, 4, 1, 3, 11, 10, 15, 13, 10, 13, 10, 5, 10, 19, 1, 12, 10, 1, 9, 8, 4, 1, 17, 10, 4, 1, 3, 2, 31, 10, 18, 13, 10, 1, 12, 10, 1, 9, 8, 4, 1, 17, 10, 1, 10, 1, 9, 8, 10, 19, 4, 10, 18, 36, 2, 1, 23, 10, 1, 29, 10, 8, 4, 16, 36, 4, 1, 5, 10, 18, 18, 10, 18, 1, 20, 10, 16, 10, 19, 4, 18, 1, 3, 10, 19, 1, 3, 10, 1, 11, 4, 1, 17, 15, 19, 4, 18, 9, 10], '200630-212742_hau_e35_elicit_260': [30, 12, 10, 20, 36, 4, 1, 18, 2, 1, 12, 10, 4, 12, 10, 4, 13, 10, 1, 13, 9, 10, 3, 10, 18, 4, 18, 1, 16, 15, 13, 10, 18, 2, 1, 16, 10, 9, 15, 1, 19, 4, 25, 4, 16, 10, 1, 10, 1, 36, 4, 3, 4, 18, 1, 12, 15, 3, 3, 10, 18, 1, 20, 10, 16, 15, 19, 10, 18, 9, 15, 1, 23, 15, 16, 10, 1, 3, 10, 19, 1, 11, 10, 1, 3, 10, 19, 31, 4, 1, 9, 8, 2, 12, 10, 1, 9, 10, 4, 1, 25, 10, 1, 5, 10, 18, 12, 10, 1, 11, 10, 1, 3, 10, 9, 10, 18, 36, 2, 1, 10, 12, 10, 20, 4, 1, 3, 15, 16, 10, 1, 11, 10, 19, 12, 10, 27, 27, 2, 1, 5, 10, 18, 12, 10, 1, 17, 10, 17, 15, 1, 13, 15, 8, 15, 16, 10, 1, 10, 1, 3, 10, 18, 9, 10], '200630-212742_hau_e35_elicit_261': [48, 12, 10, 18, 1, 3, 15, 16, 10, 1, 10, 12, 10, 20, 36, 4, 18, 1, 11, 10, 1, 5, 15, 11, 10, 13, 10, 1, 13, 28, 1, 11, 10, 1, 20, 15, 19, 10, 1, 12, 10, 1, 3, 5, 10, 13, 10, 18, 3, 5, 10, 36, 4, 18, 9, 10, 1, 13, 10, 1, 29, 15, 9, 3, 10, 36, 4, 18, 1, 25, 10, 9, 3, 4, 11, 10, 1, 13, 10, 19, 2, 1, 12, 10, 1, 17, 10, 11, 11, 10, 18, 10, 19, 13, 10, 1, 5, 10, 13, 28, 1, 9, 10, 18, 15, 5, 10, 1, 10, 1, 3, 10, 18, 1, 25, 10, 9, 3, 4, 11, 10, 1, 23, 10, 19, 1, 11, 10, 1, 5, 10, 12, 10, 13, 15, 1, 12, 10, 1, 25, 15, 12, 10, 1, 17, 4, 11, 15], '200630-212742_hau_e35_elicit_262': [3, 15, 16, 10, 1, 11, 10, 1, 6, 10, 16, 10, 1, 10, 3, 5, 10, 4, 1, 9, 4, 11, 10, 9, 10, 1, 12, 10, 1, 20, 15, 19, 10, 1, 10, 1, 36, 4, 3, 4, 18, 1, 20, 10, 16, 10, 19, 4, 18, 1, 22, 10, 18, 18, 10, 18, 1, 12, 28, 20, 2, 1, 11, 10, 1, 11, 4, 1, 5, 10, 1, 5, 10, 18, 12, 10, 1, 10, 3, 2, 1, 14, 10, 19, 10, 1, 17, 10, 11, 10, 18, 4, 18, 1, 12, 10, 20, 4, 20, 10, 18, 1, 12, 10, 1, 9, 15, 3, 10, 1, 9, 10, 3, 10, 1, 10, 3, 10, 1, 11, 4, 1, 14, 10, 19, 10, 19, 9, 10, 1, 9, 10, 18, 18, 10, 18, 1, 3, 15, 16, 10, 1, 11, 10, 1, 3, 10, 29, 10, 1, 16, 10, 9, 10], '200630-212742_hau_e35_elicit_263': [8, 15, 27, 27, 10, 1, 4, 12, 10, 18, 1, 11, 10, 18, 10, 1, 18, 15, 29, 4, 18, 1, 8, 15, 3, 15, 18, 13, 10, 1, 9, 8, 4, 1, 12, 28, 20, 2, 1, 11, 10, 1, 11, 4, 1, 16, 10, 9, 10, 1, 36, 4, 3, 10, 3, 3, 4, 11, 10, 19, 1, 5, 10, 19, 5, 10, 19, 10, 1, 25, 10, 16, 2, 1, 12, 10, 1, 12, 10, 20, 4, 20, 10, 18, 1, 12, 10, 1, 9, 15, 3, 10, 1, 13, 10, 17, 17, 10, 13, 10, 19, 1, 12, 10, 1, 8, 15, 3, 15, 18, 36, 4, 18, 1, 10, 1, 3, 10, 18, 9, 10], '200630-212742_hau_e35_elicit_264': [22, 10, 18, 18, 10, 18, 1, 11, 10, 1, 3, 10, 29, 10, 1, 16, 10, 9, 10, 1, 8, 15, 27, 27, 10, 1, 12, 10, 1, 36, 2, 5, 10, 1, 23, 28, 1, 3, 10, 18, 10, 1, 12, 10, 1, 9, 10, 15, 19, 10, 18, 1, 8, 15, 27, 27, 10, 1, 48, 12, 10, 18, 1, 11, 10, 1, 36, 2, 1, 10, 3, 5, 10, 4, 1, 9, 10, 4, 1, 11, 10, 1, 9, 10, 3, 2, 1, 11, 4, 1, 16, 10, 9, 10, 1, 5, 10, 19, 5, 10, 19, 10, 1, 48, 12, 10, 18, 1, 3, 15, 16, 10, 1, 11, 10, 1, 36, 2, 1, 17, 10, 17, 15, 1, 9, 10, 4, 1, 10, 1, 8, 15, 3, 15, 18, 13, 10, 1, 9, 8, 4], '200630-212742_hau_e35_elicit_266': [32, 10, 17, 17, 10, 9, 1, 8, 15, 3, 15, 18, 36, 4, 1, 12, 10, 1, 5, 10, 18, 4, 18, 1, 10, 17, 4, 18, 1, 12, 10, 1, 10, 3, 10, 1, 9, 10, 17, 10, 1, 12, 10, 1, 9, 8, 4, 1, 6, 10, 20, 15, 18, 36, 4, 1, 18, 2, 1, 9, 10, 18, 18, 10, 18, 1, 3, 15, 16, 10, 1, 13, 10, 31, 2, 5, 10, 1, 36, 2, 1, 3, 15, 16, 10, 1, 12, 28, 20, 2, 1, 10, 1, 5, 10, 19, 5, 10, 19, 2, 1, 5, 10, 18, 18, 10, 18, 1, 8, 15, 3, 15, 18, 36, 4, 1, 13, 10, 1, 3, 28, 5, 10, 18, 2, 1, 8, 10, 20, 4], '200630-212742_hau_e35_elicit_267': [48, 3, 4, 19, 10, 19, 4, 18, 1, 16, 10, 18, 11, 10, 18, 1, 20, 10, 4, 29, 15, 29, 29, 15, 3, 10, 1, 11, 10, 18, 10, 1, 3, 2, 31, 10, 18, 13, 15, 5, 10, 1, 12, 10, 1, 18, 10, 15, 15, 3, 10, 18, 1, 9, 4, 11, 10, 9, 10, 1, 37, 10, 18, 11, 10, 18, 1, 20, 10, 4, 29, 15, 29, 29, 15, 3, 10, 1, 3, 15, 5, 10, 1, 9, 15, 1, 18, 2, 1, 3, 10, 16, 10, 19, 1, 4, 19, 4, 18, 1, 9, 15, 1, 9, 10, 13, 10, 1, 12, 10, 1, 3, 4, 9, 10, 18, 1, 3, 10, 4], '200630-212742_hau_e35_elicit_269': [38, 10, 1, 26, 10, 19, 3, 28, 1, 48, 12, 10, 18, 1, 11, 10, 1, 3, 10, 9, 10, 18, 36, 2, 1, 11, 10, 1, 18, 4, 9, 10, 18, 13, 10, 1, 12, 10, 25, 10, 1, 10, 17, 4, 18, 1, 12, 10, 1, 10, 3, 10, 1, 12, 10, 18, 25, 10, 13, 10, 1, 9, 8, 4, 1, 12, 10, 1, 9, 8, 4, 1, 13, 28, 1, 10, 1, 11, 4, 1, 5, 10, 13, 9, 4, 1, 12, 10, 1, 16, 10, 25, 10, 18, 10, 19, 1, 9, 10, 18, 18, 10, 18, 1, 3, 15, 16, 10, 1, 10, 1, 20, 10, 12, 10, 17, 13, 10, 19, 1, 12, 10, 1, 5, 10, 18, 12, 10, 1, 11, 10, 1, 29, 10, 46, 4], '200630-212742_hau_e35_elicit_270': [16, 10, 25, 10, 18, 10, 19, 1, 4, 12, 10, 18, 1, 5, 10, 18, 12, 10, 1, 10, 3, 10, 1, 29, 10, 46, 4, 1, 16, 10, 25, 10, 18, 10, 19, 1, 10, 1, 3, 10, 18, 9, 10, 1, 11, 10, 1, 3, 10, 9, 10, 18, 36, 2, 1, 16, 15, 13, 15, 16, 4, 18, 1, 3, 4, 19, 3, 4, 1, 18, 2], '200630-212742_hau_e35_elicit_273': [22, 10, 17, 28, 12, 10, 1, 9, 10, 18, 15, 5, 10, 1, 12, 10, 1, 11, 10, 1, 11, 4, 1, 12, 10, 1, 3, 15, 16, 10, 1, 11, 10, 5, 10, 18, 1, 16, 10, 4, 16, 10, 4, 13, 15, 5, 10, 19, 1, 16, 10, 25, 10, 18, 10, 19, 1, 10, 1, 3, 10, 18, 9, 10, 1, 8, 15, 27, 27, 10, 1, 36, 2, 1, 10, 1, 25, 15, 19, 4, 18, 1, 5, 10, 18, 12, 10, 1, 11, 10, 1, 29, 10, 46, 4, 1, 16, 10, 25, 10, 18, 10, 19, 1, 10, 1, 17, 4, 9, 10, 1, 10, 17, 4, 18, 1, 12, 10, 1, 10, 3, 10, 1, 9, 10, 17, 10, 1, 12, 10, 1, 9, 8, 4], '200630-212742_hau_e35_elicit_274': [33, 15, 3, 1, 5, 10, 18, 12, 10, 1, 10, 3, 10, 1, 11, 10, 5, 10, 4, 13, 10, 1, 11, 4, 1, 16, 10, 9, 10, 1, 8, 28, 19, 28, 1, 8, 10, 19, 1, 11, 10, 1, 9, 10, 18, 15, 1, 12, 10, 1, 5, 10, 18, 18, 10, 18, 1, 13, 28, 1, 10, 1, 13, 9, 10, 19, 2, 1, 9, 8, 4, 1, 8, 10, 19, 1, 9, 10, 4, 1, 13, 15, 17, 10, 19, 9, 10, 1, 13, 10, 1, 17, 10, 11, 11, 10, 18, 10, 1, 3, 28, 1, 3, 15, 16, 10, 1, 10, 1, 10, 4, 3, 10, 1, 9, 8, 4, 1, 14, 10, 17, 10, 19, 4], '200630-212742_hau_e35_elicit_276': [7, 10, 3, 10, 18, 1, 6, 10, 4, 1, 6, 10, 16, 10, 1, 9, 4, 11, 10, 9, 10, 1, 13, 10, 19, 2, 1, 3, 15, 16, 10, 1, 12, 10, 1, 8, 28, 19, 28, 1, 12, 10, 1, 17, 4, 18, 36, 4, 3, 2, 1, 25, 5, 10, 19, 25, 5, 10, 12, 28, 18, 1, 11, 10, 12, 12, 10, 1, 9, 10, 3, 10, 1, 4, 12, 28, 1, 12, 10, 1, 9, 8, 10, 4, 12, 10, 1, 6, 10, 1, 9, 15, 1, 4, 11, 10, 1, 8, 15, 3, 15, 18, 13, 10, 1, 9, 8, 4], '200630-212742_hau_e35_elicit_279': [4, 12, 10, 18, 1, 3, 15, 16, 10, 1, 17, 10, 1, 8, 10, 3, 10, 1, 17, 10, 1, 13, 28, 1, 9, 10, 4, 1, 10, 1, 20, 15, 19, 10, 1, 12, 10, 1, 12, 15, 3, 1, 5, 10, 18, 12, 10, 1, 11, 10, 3, 2, 1, 36, 15, 46, 10, 18, 11, 10, 1, 12, 10, 1, 9, 15, 1, 13, 10, 1, 29, 15, 9, 3, 10, 36, 4, 18, 1, 18, 4, 9, 10, 1, 12, 10, 1, 3, 15, 16, 10, 1, 3, 15, 9, 10, 18, 36, 4, 1, 48, 12, 10, 18, 1, 11, 10, 1, 3, 15, 9, 10, 18, 13, 10, 1, 33, 10, 1, 20, 10, 4, 29, 4, 18, 1, 13, 28, 1, 9, 10, 4, 1, 10, 1, 13, 9, 10, 5, 10, 4, 13, 10, 1, 46, 10, 15, 19, 4, 18], '200630-212742_hau_e35_elicit_280': [48, 12, 10, 18, 1, 3, 15, 16, 10, 1, 11, 10, 1, 18, 4, 9, 10, 18, 13, 10, 1, 9, 10, 4, 1, 10, 1, 25, 10, 25, 25, 10, 15, 13, 10, 1, 9, 10, 3, 4, 18, 9, 10], '200630-212742_hau_e35_elicit_281': [33, 28, 20, 2, 1, 18, 2, 1, 17, 10, 17, 17, 10, 18, 1, 9, 10, 19, 3, 4, 1, 11, 10, 1, 19, 4, 14, 10, 1, 6, 10, 16, 10, 1, 30, 1, 16, 10, 27, 10, 20, 4, 9, 10, 19, 9, 10, 1, 10, 1, 3, 28, 5, 10, 36, 2, 1, 19, 10, 18, 10, 1, 12, 28, 16, 4, 18, 1, 12, 15, 3, 3, 10, 18, 1, 13, 10, 20, 10, 3, 10, 5, 10, 18, 9, 10, 1, 9, 15, 1, 19, 4, 14, 10, 1, 9, 10, 16, 15, 18, 1, 6, 15, 5, 10, 1, 25, 10, 19, 2, 1, 9, 8, 4, 1, 37, 10, 10, 4, 3, 10, 13, 10, 18, 9, 10, 1, 12, 10, 1, 9, 10, 15, 19, 10, 18, 1, 16, 10, 9, 15, 1, 19, 4, 14, 2, 1, 12, 10, 1, 9, 10, 19, 10, 15, 13, 15, 1, 17, 10, 1, 9, 15, 1, 4, 9, 10, 19, 1, 16, 10, 9, 10, 1, 17, 10], '200630-212742_hau_e35_elicit_282': [22, 10, 17, 28, 12, 10, 1, 14, 28, 19, 10, 29, 4, 18, 1, 5, 10, 46, 10, 18, 12, 10, 1, 11, 10, 3, 2, 1, 16, 15, 20, 3, 10, 1, 6, 10, 4, 1, 4, 11, 10, 1, 3, 10, 9, 10, 18, 36, 2, 5, 10, 1, 10, 1, 3, 10, 18, 9, 15, 1, 18, 2, 1, 22, 10, 17, 28, 12, 10, 1, 8, 10, 3, 10, 1, 12, 28, 20, 2, 1, 11, 10, 1, 25, 10, 19, 25, 10, 46, 2, 1, 9, 15, 1, 48, 12, 10, 18, 1, 3, 15, 16, 10, 1, 17, 10, 1, 8, 10, 3, 10, 1, 17, 10, 1, 13, 28, 1, 11, 10, 1, 6, 10, 16, 10, 1, 3, 10, 16, 10, 19, 1, 3, 5, 10, 18, 12, 28, 1, 25, 10, 1, 3, 10, 11, 10, 18, 1, 36, 4, 3, 4, 18, 9, 10], '200630-212742_hau_e35_elicit_283': [3, 28, 1, 3, 15, 16, 10, 1, 16, 10, 19, 4, 14, 4, 18, 1, 14, 10, 8, 28, 18, 1, 9, 10, 18, 4, 11, 10, 19, 1, 13, 10, 13, 9, 10, 1, 7, 10, 14, 4, 14, 10, 1, 10, 18, 1, 36, 4, 19, 2, 1, 18, 10, 25, 10, 19, 13, 10, 13, 13, 15, 18, 1, 16, 10, 10, 4, 3, 10, 13, 10, 1, 16, 10, 9, 15, 1, 5, 10, 3, 4, 20, 36, 4, 1, 9, 10, 17, 28, 12, 10, 1, 3, 28, 3, 2, 1, 21, 10, 18, 18, 10, 18, 1, 3, 15, 16, 10, 1, 9, 8, 4, 1, 11, 10, 1, 29, 4, 1, 3, 15, 9, 10, 1, 12, 10, 1, 27, 4, 18, 1, 13, 9, 28, 19, 28, 18, 1, 30, 20, 20, 10, 8, 1, 37, 10, 29, 4, 1, 25, 4, 19, 16, 10, 18, 1, 17, 10, 20, 10, 4, 1, 10, 1, 25, 10, 19, 2, 1, 9, 8, 4, 1, 9, 8, 4, 1, 18, 2, 1, 10, 1, 9, 8, 4, 25, 10, 1, 13, 9, 10, 3, 10, 18, 4, 18, 9, 10, 1, 12, 10, 1, 13, 10, 20, 10, 3, 10, 5, 10, 18, 9, 10], '200630-212742_hau_e35_elicit_284': [23, 10, 4, 1, 9, 10, 3, 2, 1, 5, 10, 4, 5, 10, 13, 10, 19, 1, 5, 10, 18, 18, 10, 18, 1, 9, 8, 10, 29, 4, 1, 12, 28, 16, 4, 18, 1, 14, 10, 19, 10, 9, 8, 2, 18, 1, 17, 10, 11, 10, 18, 4, 18, 1, 12, 10, 1, 3, 2, 1, 36, 4, 3, 4, 18, 1, 5, 10, 18, 18, 10, 18, 1, 3, 15, 18, 12, 4, 18, 1, 13, 9, 10, 19, 4, 18, 1, 16, 15, 20, 3, 4, 1, 16, 10, 4, 1, 12, 10, 46, 10, 46, 46, 2, 18, 1, 13, 10, 19, 4, 8, 4], '200630-212742_hau_e35_elicit_285': [23, 10, 9, 15, 5, 10, 19, 1, 23, 15, 19, 16, 4], '200630-212742_hau_e35_elicit_286': [23, 10, 9, 15, 5, 10, 19, 1, 3, 15, 19, 16, 4, 1, 3, 10, 9, 15, 5, 10, 19, 1, 14, 10, 9, 10, 12, 10, 14, 10, 9, 10, 1, 21, 10, 13, 28, 1, 12, 15, 18, 4, 11, 10, 1, 36, 2, 1, 10, 1, 23, 10, 18, 28, 1, 48, 13, 10, 1, 36, 2, 1, 3, 10, 9, 15, 5, 10, 1, 16, 10, 29, 4, 1, 12, 10, 46, 2, 5, 10, 1, 10, 1, 14, 5, 10, 19, 11, 10, 19, 1, 17, 4, 19, 18, 4, 18, 1, 23, 10, 18, 28, 1, 12, 10, 1, 16, 10, 1, 3, 2, 5, 10, 11, 2, 18, 13, 10], '200630-212742_hau_e35_elicit_287': [23, 15, 9, 10, 18, 1, 10, 18, 10, 1, 4, 11, 10, 1, 36, 2, 5, 10, 1, 4, 13, 10, 1, 13, 10, 1, 8, 10, 4, 29, 10, 19, 1, 12, 10, 1, 12, 15, 3, 3, 10, 18, 4, 18, 1, 3, 10, 9, 15, 5, 10, 18, 4, 18, 1, 23, 10, 18, 28, 1, 30, 17, 15, 1, 18, 2, 1, 16, 10, 4, 1, 16, 10, 13, 15, 14, 10, 19, 1, 5, 10, 8, 10, 20, 10, 1, 10, 1, 4, 11, 10, 1, 4, 11, 10, 3, 10, 18, 36, 2, 1, 20, 28, 3, 10, 36, 4, 18, 1, 12, 10, 1, 10, 3, 10, 1, 29, 10, 19, 10, 1, 36, 4, 18, 4, 3, 10, 11, 11, 10, 1, 10, 1, 5, 10, 18, 18, 10, 18, 1, 3, 10, 9, 15, 5, 10], '200630-212742_hau_e35_elicit_289': [3, 10, 9, 15, 5, 10, 1, 13, 10, 1, 3, 10, 29, 15, 1, 18, 2, 1, 9, 10, 18, 10, 12, 4, 11, 11, 10, 19, 1, 3, 5, 10, 19, 4, 1, 3, 28, 1, 3, 15, 16, 10, 1, 3, 15, 19, 16, 4, 18, 1, 35, 10, 3, 10, 19, 10, 1, 5, 10, 18, 12, 10, 1, 16, 10, 9, 15, 18, 13, 10, 1, 12, 10, 1, 16, 10, 29, 10, 19, 10, 15, 13, 10, 1, 9, 15, 3, 2, 1, 6, 15, 5, 10, 1, 9, 15, 18, 10, 1, 25, 15, 12, 10, 18, 10, 19, 1, 12, 10, 1, 9, 10, 18, 10, 28, 4, 18, 9, 15, 1, 16, 10, 17, 15, 14, 10, 13, 10, 1, 18, 10, 16, 10, 1, 12, 10], '200630-212742_hau_e35_elicit_290': [3, 15, 16, 10, 1, 3, 4, 29, 4, 18, 1, 12, 10, 1, 9, 15, 3, 2, 1, 3, 10, 16, 10, 5, 10, 1, 9, 15, 18, 10, 1, 6, 15, 5, 10, 1, 9, 15, 1, 17, 10, 9, 15, 1, 5, 10, 18, 4, 1, 3, 10, 11, 10, 18, 1, 9, 15, 1, 3, 15, 16, 10, 1, 9, 15, 1, 3, 10, 19, 31, 4, 1, 18, 10, 9, 15, 1, 23, 15, 16, 10, 1, 5, 10, 18, 18, 10, 18, 1, 6, 10, 18, 36, 2, 18, 1, 10, 17, 4, 18, 1, 13, 10, 17, 17, 10, 13, 10, 19, 5, 10, 1, 18, 2, 1, 12, 10, 25, 10, 1, 13, 10, 19, 4, 8, 4, 18, 1, 11, 10, 12, 12, 10, 1, 25, 10, 19, 4, 18, 1, 23, 10, 18, 28, 1, 11, 10, 1, 3, 10, 29, 15], '200630-212742_hau_e35_elicit_291': [16, 15, 9, 10, 16, 16, 10, 18, 1, 10, 17, 4, 18, 1, 12, 10, 1, 11, 10, 1, 9, 8, 10, 29, 4, 1, 12, 10, 20, 4, 20, 4, 18, 1, 12, 10, 1, 11, 10, 1, 3, 10, 5, 28, 1, 39, 10, 25, 10, 15, 12, 10, 1, 23, 10, 18, 28, 1, 10, 1, 16, 10, 13, 9, 10, 11, 4, 18, 1, 9, 10, 19, 3, 4, 1, 33, 15, 17, 10, 1, 13, 10, 19, 4, 8, 4, 18, 1, 23, 10, 18, 28], '200630-212742_hau_e35_elicit_292': [53, 4, 18, 4, 18, 1, 23, 10, 9, 15, 5, 10], '200630-212742_hau_e35_elicit_295': [9, 10, 4, 1, 12, 10, 4, 1, 25, 15, 19, 17, 4, 18, 13, 10, 1, 12, 10, 1, 10, 3, 10, 1, 25, 4, 18, 10, 1, 16, 10, 9, 10, 20, 20, 10, 36, 4, 18, 1, 12, 10, 1, 10, 3, 2, 1, 3, 4, 19, 10, 1, 37, 10, 9, 10, 20, 20, 10, 36, 4, 18, 1, 22, 8, 10, 17, 17, 10, 17, 15, 1, 10, 1, 25, 15, 19, 4, 18, 1, 48, 13, 10, 1, 3, 15, 5, 10, 1, 13, 10, 9, 8, 10, 19, 1, 27, 10, 3, 10, 4, 1, 3, 2, 5, 10, 11, 2, 1, 18, 2, 1, 10, 3, 10, 1, 11, 4, 1, 5, 10, 18, 12, 10, 1, 12, 15, 3, 1, 16, 15, 13, 15, 16, 4, 18, 1, 12, 10, 1, 11, 10], '200630-212742_hau_e35_elicit_296': [3, 10, 5, 28, 1, 3, 10, 11, 10, 18, 9, 10, 1, 10, 1, 27, 10, 3, 4, 1, 11, 10, 3, 10, 18, 1, 13, 10, 29, 4, 1, 5, 10, 18, 18, 10, 18, 1, 13, 10, 9, 8, 10, 1, 11, 10, 1, 46, 10, 15, 19, 2, 1, 27, 10, 3, 4, 18, 9, 10, 1, 8, 10, 19, 1, 6, 15, 5, 10, 1, 20, 28, 3, 10, 36, 4, 18, 1, 12, 10, 1, 6, 10, 4, 1, 25, 10, 16, 10, 1, 36, 4, 18, 1, 3, 10, 9, 15, 5, 10, 19, 9, 10, 1, 3, 28, 1, 3, 15, 16, 10, 1, 11, 10, 1, 9, 10, 11, 4, 1, 10, 17, 4, 18, 1, 12, 10, 1, 11, 10, 1, 3, 10, 5, 28, 1, 9, 8, 4], '200630-212742_hau_e35_elicit_297': [30, 3, 5, 10, 4, 1, 19, 4, 27, 4, 11, 28, 11, 4, 1, 12, 10, 1, 10, 3, 10, 1, 13, 28, 13, 13, 28, 18, 10, 1, 10, 1, 36, 4, 3, 4, 18, 1, 5, 10, 18, 18, 10, 18, 1, 13, 10, 9, 8, 10, 1, 12, 28, 16, 4, 18, 1, 9, 8, 10, 11, 10, 19, 1, 12, 10, 1, 27, 10, 3, 15, 18, 10], '200630-212742_hau_e35_elicit_298': [39, 10, 11, 10, 18, 1, 5, 10, 18, 18, 10, 18, 1, 3, 15, 16, 10, 1, 11, 10, 1, 25, 4, 18, 10, 1, 19, 15, 16, 29, 15, 18, 10, 18, 1, 3, 10, 9, 15, 5, 10, 1, 18, 10, 1, 6, 10, 16, 10, 18, 4, 1, 3, 28, 13, 15, 1, 28, 29, 4, 9, 8, 4, 18, 1, 11, 10, 18, 1, 9, 10, 18, 12, 10, 1, 63, 10, 9, 28, 29, 4, 9, 1, 12, 10, 1, 9, 10, 15, 19, 10, 18, 9, 15, 1, 7, 10, 3, 10, 1, 18, 10, 18, 1, 16, 10, 1, 3, 15, 16, 10, 1, 11, 10, 1, 25, 4, 18, 10], '200630-212742_hau_e35_elicit_299': [13, 10, 9, 8, 10, 19, 1, 16, 28, 13, 10, 1, 12, 10, 1, 10, 3, 10, 1, 29, 4, 1, 9, 10, 18, 4, 1, 12, 10, 1, 13, 10, 9, 8, 10, 19, 1, 35, 10, 3, 10, 19, 10, 1, 12, 15, 3, 1, 12, 28, 16, 4, 18, 1, 5, 10, 18, 18, 10, 18, 1, 3, 10, 9, 15, 5, 10, 1, 12, 10, 1, 3, 15, 16, 10, 1, 5, 10, 20, 5, 10, 20, 10, 19, 1, 11, 10, 18, 1, 3, 10, 9, 15, 5, 10], '200630-212742_hau_e35_elicit_300': [24, 15, 16, 29, 10, 19, 1, 23, 10, 9, 15, 5, 10, 19, 1, 23, 15, 19, 16, 4, 1, 30, 18, 1, 25, 4, 18, 10, 1, 13, 10, 1, 9, 10, 16, 10, 1, 12, 10, 1, 9, 8, 2, 3, 10, 19, 15, 1, 13, 10, 16, 10, 18, 4, 18, 1, 12, 10, 1, 9, 15, 3, 10, 1, 9, 8, 15, 46, 2], '200630-212742_hau_e35_elicit_301': [23, 10, 9, 15, 5, 10, 19, 1, 13, 10, 18, 10, 1, 18, 10, 18, 1, 10, 1, 13, 9, 10, 3, 4, 11, 10, 19, 1, 17, 4, 19, 18, 4, 18, 1, 23, 10, 18, 28, 1, 30, 3, 5, 10, 4, 1, 15, 18, 25, 15, 5, 10, 18, 18, 4, 1, 12, 10, 1, 9, 15, 3, 2, 1, 6, 10, 25, 10, 11, 2, 1, 12, 10, 1, 4, 13, 10, 1, 3, 10, 16, 10, 19, 1, 4, 19, 4, 18, 1, 9, 15, 1, 35, 10, 3, 10, 19, 10, 1, 39, 10, 3, 4, 18, 1, 34, 15, 5, 28, 1, 23, 5, 10, 18, 10, 19, 1, 53, 28, 12, 10], '200630-212742_hau_e35_elicit_302': [56, 28, 29, 10, 19, 1, 21, 10, 16, 17, 10, 4, 1, 12, 10, 1, 9, 10, 15, 19, 10, 18, 9, 15, 1, 33, 15, 3, 3, 10, 18, 1, 5, 10, 46, 10, 18, 18, 10, 18, 1, 50, 18, 25, 15, 5, 10, 18, 18, 4, 1, 10, 18, 10, 1, 3, 4, 19, 10, 18, 9, 15, 1, 12, 10, 1, 39, 10, 3, 4, 18, 1, 23, 10, 9, 15, 5, 10, 1, 10, 1, 33, 15, 18, 14, 15, 20, 2], '200630-212742_hau_e35_elicit_304': [22, 10, 17, 28, 12, 10, 1, 10, 1, 3, 28, 12, 10, 5, 10, 18, 2, 1, 20, 28, 3, 10, 36, 4, 1, 10, 3, 10, 18, 1, 9, 10, 16, 15, 1, 5, 10, 46, 10, 18, 12, 10, 1, 6, 10, 1, 9, 15, 1, 6, 28, 1, 12, 10, 1, 18, 15, 29, 4, 18, 1, 3, 10, 9, 15, 5, 10, 18, 36, 4, 1, 10, 16, 16, 10, 1, 9, 10, 4, 1, 9, 15, 1, 11, 4, 1, 49, 34, 15, 5, 10, 18, 1, 22, 28, 27, 10, 18, 1, 39, 10, 12, 10, 9, 3, 10, 19, 2], '200630-212742_hau_e35_elicit_305': [33, 15, 3, 1, 12, 10, 1, 36, 2, 5, 10, 1, 5, 10, 18, 18, 10, 18, 1, 3, 10, 9, 15, 5, 10, 1, 8, 10, 19, 1, 11, 10, 18, 6, 15, 1, 13, 10, 18, 10, 1, 12, 10, 1, 19, 15, 16, 29, 15, 18, 10, 1, 4, 19, 4, 18, 1, 18, 10, 1, 12, 10, 1, 13, 28, 1, 10, 16, 16, 10, 1, 13, 10, 18, 10, 1, 12, 10, 1, 6, 15, 17, 4, 1, 16, 10, 4, 1, 3, 11, 10, 15, 1, 9, 10, 18, 18, 10, 18, 1, 3, 15, 16, 10, 1, 10, 1, 13, 9, 10, 19, 2, 1, 13, 10, 3, 2, 1, 12, 10, 3, 4, 12, 10, 3, 4], '200630-212742_hau_e35_elicit_306': [37, 4, 9, 10, 20, 4, 1, 10, 3, 5, 10, 4, 1, 19, 15, 3, 15, 18, 4, 1, 25, 15, 12, 10, 1, 18, 10, 1, 16, 10, 9, 15, 1, 9, 10, 11, 10, 19, 1, 12, 10, 1, 20, 4, 13, 13, 10, 13, 13, 10, 29, 10, 4, 1, 18, 2, 1, 3, 10, 5, 10, 4, 1, 6, 10, 20, 20, 10, 1, 12, 10, 1, 10, 3, 2, 1, 3, 4, 19, 10, 1, 49, 11, 10, 18, 1, 20, 4, 13, 13, 10, 13, 13, 10, 29, 10, 4], '200630-212742_hau_e35_elicit_307': [30, 3, 5, 10, 4, 1, 3, 15, 16, 10, 1, 20, 10, 11, 4, 1, 25, 15, 12, 10, 1, 18, 10, 1, 16, 10, 9, 15, 1, 9, 10, 11, 10, 19, 1, 12, 10, 1, 3, 10, 11, 10, 18, 1, 10, 12, 28, 18, 1, 12, 10, 5, 10, 3, 4, 1, 10, 3, 5, 10, 4, 1, 20, 10, 11, 4, 18, 1, 16, 10, 9, 15, 1, 9, 10, 11, 10, 19, 1, 12, 10, 1, 13, 15, 19, 10, 19, 2], '200630-212742_hau_e35_elicit_308': [30, 3, 5, 10, 4, 1, 3, 10, 11, 10, 11, 11, 10, 3, 4, 18, 1, 12, 10, 1, 10, 3, 2, 1, 9, 8, 4, 25, 28, 5, 10, 1, 12, 10, 1, 9, 15, 1, 3, 10, 16, 10, 19, 1, 4, 19, 4, 18, 1, 9, 15, 1, 13, 15, 19, 10, 19, 2, 1, 12, 10, 1, 16, 10, 1, 5, 10, 9, 15, 1, 4, 19, 4, 18, 1, 3, 10, 11, 10, 11, 11, 10, 3, 4, 18, 1, 16, 15, 13, 10, 18, 2, 18, 1, 38, 4, 27, 10, 19], '200630-212742_hau_e35_elicit_309': [22, 10, 18, 18, 10, 18, 1, 3, 15, 16, 10, 1, 6, 10, 1, 3, 10, 1, 25, 10, 1, 18, 10, 16, 15, 1, 18, 10, 1, 25, 10, 19, 25, 10, 27, 4, 11, 10], '200630-212742_hau_e35_elicit_310': [30, 1, 6, 10, 16, 10, 18, 4, 18, 1, 32, 15, 19, 10, 5, 10, 1, 10, 18, 1, 11, 4, 1, 5, 10, 1, 5, 10, 18, 18, 10, 18, 1, 3, 10, 9, 15, 5, 10, 1, 25, 11, 10, 19, 10, 18, 1, 29, 15, 9, 3, 10, 1, 12, 10, 25, 10, 1, 10, 9, 10, 20, 4, 18, 1, 11, 10, 12, 12, 10, 1, 13, 10, 3, 2, 1, 22, 10, 18, 18, 10, 18, 1, 3, 15, 16, 10, 1, 3, 10, 16, 10, 19, 1, 4, 12, 10, 18, 1, 3, 10, 1, 6, 28, 1, 17, 10, 3, 4, 18], '200630-212742_hau_e35_elicit_311': [8, 10, 18, 11, 10, 1, 10, 3, 5, 10, 4, 1, 25, 4, 18, 4, 1, 4, 19, 4, 18, 1, 18, 10, 1, 6, 10, 16, 10, 18, 4, 1, 37, 15, 9, 10, 16, 16, 10, 18, 1, 49, 11, 10, 18, 1, 20, 4, 13, 13, 10, 13, 13, 10, 29, 10], '200630-212742_hau_e35_elicit_312': [23, 10, 11, 10, 11, 11, 10, 3, 4, 18, 1, 12, 10, 1, 30, 3, 2, 1, 22, 10, 11, 10, 19, 5, 10], '200630-212742_hau_e35_elicit_313': [23, 15, 9, 10, 18, 1, 10, 1, 12, 15, 18, 14, 15, 20, 2, 1, 10, 18, 10, 1, 4, 11, 10, 1, 36, 2, 5, 10, 1, 12, 10, 1, 5, 15, 11, 10, 1, 3, 10, 1, 18, 2, 16, 4, 1, 5, 10, 18, 4, 1, 10, 17, 4, 18, 1, 16, 10, 9, 10, 19, 15, 29, 4, 1, 10, 1, 5, 10, 18, 18, 10, 18, 1, 3, 10, 9, 15, 5, 10, 1, 3, 10, 1, 19, 10, 9, 10, 1, 10, 16, 16, 10, 1, 12, 15, 3, 1, 12, 10, 1, 8, 10, 3, 10, 1, 3, 10, 9, 15, 5, 10, 1, 36, 2, 1, 12, 10, 1, 13, 10, 1, 9, 8, 10, 8, 10, 19, 10], '200630-212742_hau_e35_elicit_314': [5, 10, 27, 2, 18, 1, 9, 10, 11, 10, 19, 1, 12, 10, 1, 3, 10, 11, 10, 11, 11, 10, 3, 4, 18, 1, 25, 10, 19, 25, 10, 27, 4, 11, 10, 1, 12, 10, 1, 9, 15, 3, 10, 1, 8, 10, 46, 10, 1, 12, 10, 1, 9, 10, 14, 2, 1, 12, 10, 1, 10, 3, 2, 1, 11, 4, 1, 5, 10, 1, 20, 10, 14, 10, 17, 4, 1, 12, 10, 1, 29, 10, 19, 4, 18, 1, 23, 10, 18, 28, 1, 3, 10, 11, 10, 18, 1, 10, 12, 28, 18, 1, 12, 10, 5, 10, 3, 4], '200630-212742_hau_e35_elicit_315': [3, 10, 11, 10, 18, 1, 11, 10, 27, 4, 1, 3, 28, 1, 3, 15, 16, 10, 1, 3, 10, 11, 10, 18, 1, 14, 10, 16, 9, 8, 4, 1, 12, 10, 1, 9, 15, 3, 10, 1, 8, 10, 46, 10, 1, 12, 10, 1, 36, 4, 13, 13, 10, 1, 3, 10, 18, 10, 18, 29, 10, 19, 4, 1, 16, 10, 9, 28, 19, 28, 1, 12, 10, 1, 9, 10, 15, 19, 10, 18, 9, 15, 1, 9, 15, 13, 15, 19, 10, 19, 1, 25, 10, 19, 25, 10, 27, 4, 11, 10, 1, 12, 10, 1, 9], '200630-212742_hau_e35_elicit_316': [15, 3, 10, 1, 8, 10, 46, 10, 1, 12, 10, 1, 16, 10, 18, 11, 10, 18, 1, 19, 4, 25, 15, 18, 10, 1, 10, 20, 3, 11, 10, 17, 17, 10, 1, 5, 15, 18, 12, 4, 11, 10, 1, 12, 10, 1, 9, 10, 15, 19, 10, 18, 9, 15, 1, 3, 10, 11, 10, 18, 1, 11, 10, 14, 4, 1, 12, 10, 1, 9, 15, 3, 10, 1, 8, 10, 46, 10, 1, 12, 10, 1, 13, 10, 3, 15, 17, 17, 10, 1, 9, 15, 20, 3, 2, 1, 12, 10, 1, 9, 10, 15, 19, 18, 10, 9, 15], '200630-212742_hau_e35_elicit_318': [3, 10, 11, 10, 18, 1, 10, 12, 28, 18, 1, 16, 10, 13, 10, 1, 12, 10, 1, 9, 15, 3, 10, 1, 8, 10, 46, 10, 1, 12, 10, 1, 11, 10, 19, 4, 1, 13, 9, 10, 3, 4, 11, 10, 1, 16, 15, 19, 27, 10, 18, 4, 1, 12, 15, 13, 9, 2, 18, 1, 5, 15, 11, 10, 1, 12, 10, 1, 9, 10, 15, 19, 10, 18, 9, 15, 1, 16, 10, 12, 15, 17, 4, 1, 13, 28, 6, 10, 20, 4, 1, 12, 10, 1, 9, 10, 15, 19, 10, 18, 9, 15], '200630-212742_hau_e35_elicit_319': [9, 10, 4, 1, 3, 15, 16, 10, 1, 20, 4, 13, 10, 13, 13, 10, 29, 10, 4, 1, 5, 10, 46, 10, 18, 12, 10, 1, 3, 10, 18, 10, 1, 4, 11, 10, 1, 36, 2, 5, 10, 1, 3, 15, 9, 10, 18, 1, 11, 10, 18, 6, 15, 1, 9, 15, 1, 18, 2, 1, 16, 10, 1, 16, 10, 29, 4, 1, 19, 4, 18, 27, 10, 11, 2, 1, 10, 1, 8, 10, 27, 10, 19, 1, 3, 10, 9, 15, 5, 10, 19], '200630-212742_hau_e35_elicit_320': [10, 3, 5, 10, 4, 1, 3, 15, 16, 10, 1, 3, 10, 11, 10, 11, 11, 10, 3, 4, 1, 4, 19, 4, 18, 1, 9, 15, 1, 25, 28, 19, 4, 17, 10, 1, 46, 4, 18, 11, 10, 1, 3, 10, 18, 11, 10, 1, 6, 28, 25, 10, 20, 2, 1, 12, 10, 1, 9, 10, 15, 19, 10, 18, 9, 15, 1, 9, 10, 18, 18, 10, 18, 1, 3, 15, 16, 10, 1, 10, 3, 5, 10, 4, 1, 3, 10, 11, 10, 18, 1, 14, 2, 19, 2, 14, 2, 19, 2, 18, 1, 25, 10, 19, 25, 10, 27, 4, 11, 10, 1, 4, 19, 4, 18, 1, 9, 15, 1, 29, 10, 19, 13, 10, 18, 11, 10, 1, 16, 15, 19, 8, 15, 1, 5, 15, 14, 10, 1, 12, 10, 1, 9, 10, 15, 19, 10, 18, 9, 15], '200630-212742_hau_e35_elicit_321': [24, 15, 16, 29, 10, 19, 1, 9, 10, 11, 10, 19, 1, 12, 10, 1, 36, 4, 13, 13, 10, 1, 10, 1, 23, 10, 9, 15, 5, 10, 19, 1, 23, 15, 19, 16, 4, 1, 23, 10, 18, 28], '200630-212742_hau_e35_elicit_322': [30, 17, 28, 3, 10, 18, 1, 7, 15, 20, 46, 10], '200630-212742_hau_e35_elicit_323': [23, 10, 9, 15, 5, 10, 19, 1, 23, 15, 19, 16, 4, 1, 3, 10, 9, 15, 5, 10, 1, 36, 2, 1, 13, 10, 1, 12, 15, 18, 4, 11, 10, 1, 33, 10, 25, 10, 1, 5, 10, 18, 18, 10, 18, 1, 3, 10, 9, 15, 5, 10, 1, 10, 3, 5, 10, 4, 1, 36, 15, 46, 10, 18, 11, 10, 19, 1, 36, 4, 18, 3, 10, 11, 11, 10, 1, 12, 10, 1, 3, 15, 9, 10, 18, 1, 12, 15, 3, 3, 10, 18, 1, 14, 10, 9, 10, 9, 8, 2, 18, 1, 30, 29, 4, 19, 3, 10], '200630-212742_hau_e35_elicit_324': [23, 10, 46, 10, 18, 1, 12, 10, 25, 10, 1, 36, 4, 3, 4, 1, 10, 3, 5, 10, 4, 1, 53, 8, 10, 18, 10, 1, 39, 15, 19, 3, 4, 18, 10, 1, 26, 10, 9, 28, 1, 38, 4, 27, 10, 19, 1, 37, 10, 20, 4, 1, 22, 15, 12, 10, 18, 1, 58, 4, 17, 4, 11, 10, 1, 23, 10, 16, 10, 19, 15, 1, 59, 8, 10, 12, 4, 1, 12, 10, 1, 9, 10, 15, 19, 10, 18, 9, 15], '200630-212742_hau_e35_elicit_325': [23, 10, 9, 15, 5, 10, 19, 1, 23, 10, 18, 13, 4, 18, 1, 23, 5, 10, 19, 4, 1, 23, 10, 18, 28], '200630-212742_hau_e35_elicit_326': [21, 10, 18, 4, 1, 47, 10, 18, 3, 4, 1, 38, 10, 1, 23, 10, 9, 15, 5, 10, 19, 1, 23, 10, 18, 13, 4, 18, 1, 23, 5, 10, 19, 4], '200630-212742_hau_e35_elicit_327': [23, 10, 9, 15, 5, 10, 19, 1, 23, 10, 18, 13, 4, 18, 1, 23, 5, 10, 19, 4, 1, 13, 10, 18, 10, 1, 12, 10, 25, 10, 1, 36, 4, 3, 4, 1, 12, 10, 46, 10, 46, 46, 15, 1, 3, 15, 16, 10, 1, 3, 10, 9, 15, 5, 10, 18, 18, 4, 18, 1, 14, 10, 9, 10, 12, 10, 14, 10, 9, 10, 1, 10, 1, 36, 4, 3, 4, 18, 1, 25, 10, 19, 4, 18, 23, 10, 18, 28, 10, 1, 32, 10, 19, 10, 11, 11, 10, 19, 38, 10, 27, 2, 19, 4, 11, 10], '200630-212742_hau_e35_elicit_328': [30, 18, 1, 3, 10, 29, 10, 1, 5, 10, 18, 18, 10, 18, 1, 3, 10, 9, 15, 5, 10, 1, 10, 1, 36, 4, 3, 4, 18, 1, 9, 8, 2, 3, 10, 19, 10, 19, 1, 42, 45, 57, 51, 1, 22, 15, 18, 10, 18, 1, 5, 10, 18, 18, 10, 18, 1, 3, 10, 9, 15, 5, 10, 19, 1, 11, 10, 1, 9, 10, 16, 28, 1, 10, 9, 10, 20, 4, 1, 18, 2, 1, 12, 10, 25, 10, 1, 5, 10, 18, 4, 1, 3, 5, 10, 19, 4, 1, 16, 10, 4, 1, 9, 15, 18, 10, 1, 23, 5, 10, 19, 4, 18, 1, 53, 28, 25, 10, 15], '200630-212742_hau_e35_elicit_329': [7, 10, 19, 1, 11, 10, 18, 6, 15, 1, 10, 3, 5, 10, 4, 1, 46, 10, 18, 1, 9, 10, 15, 19, 10, 18, 1, 6, 4, 19, 4, 18, 1, 5, 10, 18, 18, 10, 18, 1, 3, 5, 10, 19, 4, 1, 10, 1, 36, 4, 3, 4, 18, 1, 26, 10, 25, 25, 2, 1, 48, 13, 10, 1, 3, 15, 5, 10, 1, 5, 10, 18, 18, 10, 18, 1, 50, 18, 25, 15, 5, 10, 1, 13, 10, 1, 26, 10, 25, 25, 2, 1, 13, 10, 18, 10, 1, 12, 10, 25, 10, 1, 13, 9, 10, 20, 20, 10, 3, 2, 18, 1, 5, 10, 18, 18, 10, 18, 1, 3, 10, 9, 15, 5, 10, 1, 13, 10, 1, 30, 19, 2, 5, 10], '200630-212742_hau_e35_elicit_330': [32, 4, 13, 4, 1, 18, 2, 1, 3, 10, 5, 10, 4, 1, 11, 10, 1, 19, 10, 17, 10, 1, 5, 10, 18, 18, 10, 18, 1, 3, 10, 9, 15, 5, 10, 1, 12, 10, 1, 5, 10, 18, 18, 10, 18, 1, 50, 18, 25, 15, 5, 10, 1, 23, 15, 16, 10, 1, 3, 15, 9, 10, 18, 1, 10, 1, 11, 10, 18, 6, 15, 1, 16, 10, 1, 10, 18, 10, 1, 4, 11, 10, 1, 36, 2, 5, 10, 1, 9, 15, 18, 1, 8, 10, 46, 2, 1, 9, 15, 18, 1, 6, 10, 16, 10, 1, 10, 17, 15, 1, 25, 15, 12, 10], '200630-212742_hau_e35_elicit_335': [39, 10, 17, 17, 10, 19, 1, 8, 10, 27, 10, 19, 1, 12, 10, 1, 10, 3, 2, 1, 3, 10, 9, 10, 5, 10, 1, 10, 1, 5, 10, 18, 18, 10, 18, 1, 3, 10, 9, 15, 5, 10, 1, 4, 13, 10, 1, 36, 2, 1, 9, 15, 13, 15, 19, 10, 1, 3, 10, 16, 10, 19, 10, 1, 13, 15, 18, 1, 12, 10, 25, 10, 1, 3, 10, 18, 1, 11, 10, 12, 15, 3, 10, 1, 9, 8, 10, 12, 12, 10, 1, 10, 13, 10, 16, 29, 28, 29, 4, 1, 20, 2, 9, 8, 4, 20, 2, 9, 8, 4, 1, 25, 11, 10, 20, 10, 20, 20, 15, 3, 10, 1, 12, 10, 1, 9, 10, 15, 19, 10, 18, 1, 9, 15], '200630-212742_hau_e35_elicit_336': [21, 10, 18, 4, 1, 47, 10, 18, 3, 4, 1, 38, 10, 1, 23, 10, 9, 15, 5, 10, 19, 1, 23, 10, 18, 13, 4, 18, 1, 23, 5, 10, 19, 4], '200630-212742_hau_e35_elicit_337': [23, 10, 9, 15, 5, 10, 19, 1, 33, 10, 5, 10, 18, 10, 15, 1, 23, 10, 18, 28], '200630-212742_hau_e35_elicit_340': [21, 10, 18, 18, 10, 18, 1, 3, 10, 9, 15, 5, 10, 1, 10, 18, 1, 9, 10, 16, 10, 19, 1, 12, 10, 1, 4, 13, 10, 1, 18, 2, 1, 12, 10, 1, 18, 15, 29, 4, 18, 1, 19, 10, 25, 2, 1, 36, 15, 18, 3, 28, 9, 28, 1, 10, 23, 10, 9, 15, 5, 10, 19, 1, 22, 10, 17, 28, 18, 1, 53, 10, 19, 4, 1, 21, 10, 18, 18, 10, 18, 1, 3, 10, 9, 15, 5, 10, 1, 3, 10, 13, 10, 29, 10, 19, 4, 11, 10, 19, 1, 3, 10, 9, 15, 5, 10, 1, 36, 2, 1, 13, 10, 1, 3, 10, 11, 10, 18], '200630-212742_hau_e35_elicit_341': [10, 16, 29, 10, 18, 4, 18, 1, 25, 28, 18, 10, 1, 5, 10, 36, 36, 2, 1, 10, 3, 10, 1, 8, 10, 14, 14, 10, 14, 2, 1, 36, 2, 5, 10, 1, 4, 13, 10, 1, 36, 2, 1, 3, 10, 9, 15, 5, 10, 19, 1, 3, 10, 11, 10, 11, 11, 10, 3, 4, 18, 1, 10, 16, 29, 10, 18, 4, 18, 1, 25, 28, 18, 10, 1, 16, 10, 29, 4, 1, 25, 4, 19, 16, 10, 1, 10, 1, 12, 15, 3, 1, 29, 10, 46, 4, 18], '200630-212742_hau_e35_elicit_343': [7, 10, 27, 10], '200630-212742_hau_e35_elicit_344': [30, 18, 10, 1, 9, 10, 11, 10, 19, 1, 12, 10, 1, 12, 15, 3, 3, 10, 18, 1, 18, 10, 15, 15, 3, 10, 18, 1, 3, 10, 11, 10, 18, 1, 10, 16, 29, 10, 18, 4, 1, 25, 28, 18, 10, 1, 30, 16, 16, 10, 1, 10, 18, 1, 29, 4, 13, 10, 19, 1, 12, 10, 1, 34, 28, 31, 28, 19, 28, 12, 28, 1, 19, 4, 46, 4, 1, 14, 10, 19, 28, 1, 36, 4, 13, 13, 10, 1, 11, 10, 11, 10, 18, 1, 13, 10, 29, 10, 9, 10, 1, 6, 28, 25, 10, 20, 10, 4, 1, 12, 28, 11, 10], '200630-212742_hau_e35_elicit_345': [17, 15, 9, 10, 9, 9, 8, 4, 11, 10, 19, 1, 19, 28, 25, 28, 1, 18, 10, 15, 15, 3, 10, 18, 1, 8, 10, 13, 9, 4, 1, 53, 2, 19, 28, 1, 12, 10, 5, 10, 1, 16, 10, 4, 5, 10, 1, 12, 10, 1, 9, 10, 15, 19, 10, 18, 9, 15, 1, 17, 10, 19, 3, 28, 18, 28, 1, 13, 9, 4, 12, 15, 25, 15, 1, 13, 9, 10, 16, 4, 11, 10, 1, 3, 15, 3, 10, 1, 12, 10, 1, 9, 10, 15, 19, 10, 18, 9, 15], '200630-212742_hau_e35_elicit_346': [30, 17, 28, 3, 10, 18, 1, 7, 15, 20, 46, 10], '200630-212742_hau_e35_elicit_347': [34, 10, 16, 28, 5, 10, 19, 1, 5, 10, 18, 18, 10, 18, 1, 3, 10, 9, 15, 5, 10, 1, 17, 10, 17, 17, 10, 19, 1, 3, 10, 9, 15, 5, 10, 19, 1, 12, 15, 18, 4, 11, 10, 1, 13, 10, 18, 10, 1, 8, 15, 20, 46, 10, 1, 12, 10, 1, 14, 10, 9, 10, 9, 8, 2, 18, 1, 12, 10, 1, 9, 15, 3, 10, 1, 8, 10, 46, 10, 1, 12, 10, 1, 30, 16, 15, 19, 3, 10, 1, 35, 10, 16, 10, 18, 4], '200630-212742_hau_e35_elicit_348': [33, 10, 15, 20, 10, 19, 1, 58, 10, 19, 10, 17, 10, 5, 10, 1, 33, 15, 17, 10, 4, 1, 48, 18, 25, 4, 20, 10, 1, 22, 10, 15, 12, 4, 1, 30, 19, 10, 17, 4, 10, 1, 48, 18, 12, 4, 11, 10, 1, 38, 4, 27, 10, 19, 1, 32, 28, 25, 28, 1, 35, 10, 16, 8, 15, 19, 4, 11, 10, 19, 1, 39, 4, 18, 4, 18, 1, 23, 5, 10, 13, 10, 18, 28, 1, 23, 10, 16, 10, 19, 15, 1, 59, 8, 10, 12, 4, 1, 53, 8, 10, 18, 10, 1, 39, 15, 19, 3, 4, 18, 10, 1, 26, 10, 9, 28, 1, 30, 29, 4, 19, 3, 10, 1, 13, 10, 1, 32, 9, 10, 3, 4, 11, 10, 1, 59, 2, 18, 13, 19, 10, 20, 1, 30, 29, 19, 4, 64, 15, 2, 1, 58, 10, 17, 2, 19, 4, 11, 10, 1, 37, 10, 20, 4, 1, 58, 4, 17, 4, 11, 10, 1, 12, 10, 1, 9, 10, 15, 19, 10, 18, 9, 15], '200630-212742_hau_e35_elicit_349': [37, 28, 13, 10, 1, 32, 10, 18, 10, 1, 58, 28, 12, 4, 18, 1, 34, 28, 31, 28, 1, 24, 28, 12, 28, 1, 34, 15, 5, 10, 1, 53, 8, 10, 18, 10], '200630-212742_hau_e35_elicit_351': [38, 10, 4, 19, 10, 19, 1, 38, 10, 27, 2, 19, 4, 10, 11, 10], '200630-212742_hau_e35_elicit_352': [23, 10, 9, 15, 5, 10, 19, 1, 21, 10, 29, 10, 1, 3, 10, 9, 15, 5, 10, 19, 1, 14, 10, 9, 10, 12, 10, 14, 10, 9, 10, 1, 36, 2, 1, 10, 1, 36, 4, 3, 4, 18, 1, 25, 10, 19, 4, 18, 1, 23, 10, 18, 28, 1, 5, 10, 36, 36, 2, 1, 10, 3, 2, 1, 25, 15, 12, 10, 18, 10, 19, 1, 12, 10, 1, 8, 10, 12, 10, 8, 10, 12, 10, 19, 1, 9, 10, 11, 2, 1, 13, 10, 19, 2, 1, 3, 15, 16, 10, 1, 12, 10, 1, 9, 10, 11, 10, 19, 1, 12, 10, 1, 3, 15, 46, 4, 1, 6, 10, 20, 20, 10, 1, 10, 1, 36, 4, 3, 4, 18, 13, 10], '200630-212742_hau_e35_elicit_354': [30, 9, 10, 20, 4], '200630-212742_hau_e35_elicit_355': [30, 18, 10, 1, 3, 11, 10, 15, 13, 10, 13, 10, 1, 6, 10, 13, 28, 18, 1, 36, 2, 5, 10, 1, 5, 10, 18, 18, 10, 18, 1, 3, 10, 9, 15, 5, 10, 1, 13, 10, 1, 21, 10, 29, 10, 1, 13, 10, 1, 9, 10, 16, 28, 1, 10, 9, 10, 20, 4, 1, 18, 2, 1, 13, 15, 18, 1, 3, 10, 29, 4, 18, 1, 9, 10, 16, 15, 18, 1, 49, 11, 10, 18, 36, 4, 18, 1, 3, 10, 18, 1, 38, 10, 27, 2, 19, 4, 11, 10, 1, 6, 10, 16, 10, 18, 4, 18, 1, 12, 10, 1, 37, 10, 19, 4, 25, 10, 11, 4, 1, 22, 10, 19, 3, 4, 18, 1, 23, 10, 18, 28, 1, 37, 15, 8, 10, 16, 16, 10, 12, 15, 1, 22, 10, 18, 15, 9, 4, 1, 48, 1, 11, 10, 1, 25, 4, 18, 10, 1, 32, 9, 28, 8, 15, 5, 10, 19, 1, 32, 10, 9, 8, 10, 19, 1, 23, 15, 3, 10], '200630-212742_hau_e35_elicit_357': [30, 16, 16, 10, 1, 6, 10, 16, 10, 18, 1, 12, 10, 19, 10, 16, 1, 3, 15, 16, 10, 1, 11, 10, 1, 29, 10, 19, 28, 1, 18, 2, 1, 12, 10, 25, 10, 1, 29, 10, 19, 3, 28, 18, 1, 8, 10, 5, 10, 1, 16, 15, 20, 3, 4, 18, 1, 37, 10, 19, 4, 25, 10, 11, 4, 1, 13, 9, 28, 8, 28, 18, 1, 53, 5, 10, 16, 18, 10, 18, 1, 29, 10, 19, 10, 19, 1, 8, 15, 20, 10, 1, 18, 10, 1, 29, 10, 19, 3, 28, 1, 10, 1, 23, 10, 18, 28, 1, 30, 20, 8, 10, 27, 4, 1, 37, 15, 8, 10, 16, 16, 10, 12, 15, 1, 30, 17, 15, 17, 10, 3, 10, 19, 1, 24, 4, 16, 4, 1, 5, 10, 18, 12, 10, 1, 11, 10, 1, 25, 4, 18, 10, 1, 25, 4, 12, 10, 18], '200630-212742_hau_e35_elicit_359': [32, 15, 18, 1, 10, 9, 10, 20, 4, 1, 5, 10, 18, 18, 10, 18, 1, 13, 10, 9, 8, 10, 1, 13, 10, 9, 8, 10, 1, 36, 2, 1, 5, 10, 12, 12, 10, 1, 3, 2, 1, 9, 10, 29, 10, 19, 10, 19, 1, 16, 15, 13, 10, 18, 2, 18, 1, 14, 10, 9, 10, 9, 8, 2, 18, 1, 5, 10, 27, 2, 1, 16, 15, 9, 10, 16, 16, 10, 18, 1, 47, 10, 18, 3, 4, 18, 1, 47, 10, 16, 16, 10, 36, 4, 1, 3, 10, 16, 10, 19, 1, 4, 19, 4, 18, 1, 9, 15, 1, 25, 10, 19, 15, 19, 15, 5, 10, 18, 1, 30, 25, 10, 12, 10, 9, 1, 5, 10, 36, 36, 2, 1, 10, 1, 11, 10, 18, 6, 15, 1, 13, 10, 3, 2, 1, 36, 4, 3, 4, 18, 1, 27, 10, 16, 8, 15, 19, 4, 11, 10, 19, 1, 38, 4, 27, 10, 19], '200630-212742_hau_e35_elicit_361': [48, 19, 4, 18, 1, 5, 10, 46, 10, 18, 18, 10, 18, 1, 17, 10, 14, 4, 1, 12, 10, 1, 9, 15, 3, 2, 1, 9, 8, 4, 25, 28, 5, 10, 1, 12, 10, 25, 10, 1, 14, 10, 9, 10, 9, 8, 2, 18, 1, 5, 10, 27, 2, 1, 9, 15, 18, 1, 3, 10, 9, 10, 18, 36, 2, 1, 9, 15, 18, 10, 1, 12, 10, 1, 16, 10, 9, 10, 15, 3, 4, 1, 10, 1, 25, 2, 29, 2, 18, 1, 13, 10, 9, 8, 10, 19, 1, 10, 1, 5, 10, 18, 4, 1, 11, 10, 18, 3, 4, 1, 18, 10, 1, 50, 18, 25, 15, 5, 10, 19, 1, 13, 10, 1, 26, 10, 25, 25, 2], '200630-212742_hau_e35_elicit_364': [22, 10, 18, 18, 10, 18, 1, 3, 15, 16, 10, 1, 10, 3, 5, 10, 4, 1, 14, 10, 18, 10, 18, 10, 18, 1, 25, 4, 12, 10, 27, 2, 1, 12, 10, 1, 10, 3, 2, 1, 10, 16, 29, 10, 18, 4, 1, 12, 10, 1, 9, 15, 1, 10, 1, 3, 2, 5, 10, 11, 2, 18, 1, 5, 10, 27, 2, 18, 1, 10, 1, 5, 10, 18, 36, 10, 18, 1, 20, 28, 3, 10, 36, 4, 18, 1, 5, 10, 27, 2, 18, 1, 25, 15, 12, 10, 18, 10, 19, 1, 12, 10, 1, 5, 10, 18, 18, 10, 18, 1, 9, 10, 18, 10, 10, 1, 13, 10, 1, 9, 10, 15, 3, 10, 19, 1, 17, 10, 14, 4], '200630-212742_hau_e35_elicit_366': [30, 3, 5, 10, 4, 1, 5, 10, 9, 15, 1, 16, 10, 9, 8, 10, 8, 15, 19, 10, 18, 1, 16, 15, 13, 10, 18, 2, 1, 5, 10, 46, 10, 18, 12, 10, 1, 9, 15, 18, 10, 11, 2, 18, 9, 15, 1, 9, 15, 3, 10, 1, 11, 4, 1, 29, 4, 36, 2, 1, 5, 10, 27, 2, 18, 1, 9, 10, 15, 3, 10, 19, 1, 5, 10, 46, 10, 18, 18, 10, 18, 1, 17, 10, 14, 4, 1, 10, 1, 5, 10, 18, 36, 10, 18, 1, 20, 28, 3, 10, 36, 4, 18, 1, 33, 10, 25, 10, 1, 36, 4, 3, 4, 18, 1, 9, 15, 1, 10, 3, 5, 10, 4, 1, 22, 15, 20, 2, 18, 1, 33, 2, 20, 10], '200630-212742_hau_e35_elicit_367': [5, 10, 18, 12, 10, 1, 11, 10, 3, 2, 1, 3, 15, 20, 10, 1, 12, 10, 1, 17, 10, 14, 4, 18, 1, 12, 10, 1, 9, 15, 3, 2, 1, 29, 4, 13, 28, 5, 10, 1, 12, 10, 25, 10, 1, 11, 10, 18, 3, 4, 1, 53, 10, 17, 10, 9, 1, 12, 10, 1, 9, 15, 3, 10, 1, 8, 10, 46, 10, 1, 12, 10, 1, 37, 15, 13, 10, 18, 2, 18, 1, 59, 8, 10, 12, 4, 1, 23, 10, 16, 10, 19, 15, 1, 12, 10, 1, 3, 15, 16, 10, 1, 16, 15, 13, 10, 18, 2, 18, 1, 25, 10, 19, 15, 19, 15, 5, 10, 18, 1, 39, 10, 19, 2, 17, 10, 19, 4, 1, 12, 10, 25, 10, 1, 18, 10, 18, 1, 36, 4, 3, 4, 18, 1, 25, 4, 12, 10, 1, 38, 10, 27, 2, 19, 4, 11, 10], '200630-212742_hau_e35_elicit_368': [22, 10, 4, 1, 3, 15, 16, 10, 1, 30, 20, 8, 10, 27, 4, 1, 37, 15, 8, 10, 16, 16, 10, 12, 15, 1, 12, 10, 1, 30, 20, 8, 10, 27, 4, 1, 21, 10, 12, 10, 1, 23, 15, 19, 10, 1, 12, 10, 1, 9, 15, 3, 2, 1, 3, 15, 20, 10, 1, 12, 10, 1, 16, 15, 13, 10, 18, 2, 18, 1, 12, 10, 1, 9, 15, 3, 2, 1, 29, 4, 13, 28, 5, 10, 1, 12, 10, 25, 10, 1, 30, 19, 2, 5, 10, 1, 16, 10, 4, 1, 18, 4, 9, 10, 1, 3, 10, 16, 10, 19, 1, 4, 19, 4, 18, 1, 9, 15, 1, 38, 4, 27, 10, 19, 1, 37, 10, 20, 4, 1, 58, 4, 17, 4, 11, 10, 1, 30, 20, 25, 2, 19, 4, 10, 1, 12, 10, 1, 9, 10, 15, 19, 10, 18, 9, 15], '200630-212742_hau_e35_elicit_369': [30, 3, 5, 10, 4, 1, 3, 15, 16, 10, 1, 30, 20, 8, 10, 27, 4, 1, 30, 17, 12, 15, 20, 8, 10, 16, 4, 12, 15, 1, 12, 10, 1, 11, 10, 3, 2, 1, 3, 15, 20, 10, 1, 12, 10, 1, 16, 15, 13, 10, 18, 2, 18, 1, 12, 10, 1, 9, 15, 3, 2, 1, 29, 4, 13, 28, 5, 10, 1, 12, 10, 25, 10, 1, 11, 10, 18, 3, 15, 18, 10, 1, 30, 19, 2, 5, 10, 1, 13, 10, 1, 3, 15, 9, 10, 1, 3, 10, 16, 10, 19, 1, 4, 19, 4, 18, 1, 9, 15, 1, 37, 10, 19, 10, 46, 4, 1, 47, 10, 16, 10, 4, 1, 12, 10, 1, 9, 10, 15, 19, 10, 18, 9, 15], '200630-212742_hau_e35_elicit_371': [33, 15, 3, 1, 17, 10, 14, 4, 18, 1, 12, 10, 1, 9, 15, 3, 10, 1, 6, 28, 1, 12, 10, 1, 3, 15, 46, 10, 46, 2, 18, 1, 14, 10, 9, 10, 19, 9, 15, 1, 5, 10, 46, 10, 18, 18, 10, 18, 1, 27, 10, 16, 10, 10, 1, 12, 10, 1, 9, 10, 15, 19, 10, 18, 1, 10, 17, 28, 3, 10, 18, 1, 10, 4, 3, 4, 18, 9, 15, 1, 9, 15, 1, 9, 15, 3, 2, 1, 27, 10, 25, 28, 19, 10, 18, 13, 10, 19, 1, 16, 15, 9, 10, 11, 10, 19, 1, 3, 15, 46, 10, 46, 2, 18, 1, 18, 10, 1, 9, 15, 1, 6, 15, 5, 10, 1, 18, 10, 1, 25, 4, 12, 10, 1, 38, 10, 27, 2, 19, 4, 11, 10, 1, 12, 28, 16, 4, 18, 1, 9, 15, 1, 9, 8, 4, 25, 10, 1, 3, 10, 9, 15, 5, 10, 18, 18, 4, 18, 1, 12, 10, 1, 9, 15, 3, 2, 1, 17, 15, 14, 10, 13, 10, 1, 9, 15, 1, 9, 10, 11, 4, 1, 8, 10, 27, 10, 19, 1, 12, 10, 1, 13, 10, 1, 3, 10, 5, 28, 1, 9, 15], '200630-212742_hau_e35_elicit_372': [7, 10, 27, 10], '200630-212742_hau_e35_elicit_373': [39, 10, 17, 15, 1, 5, 10, 13, 10, 1, 8, 10, 27, 10, 1, 12, 10, 1, 10, 3, 2, 1, 9, 10, 11, 10, 19, 5, 10, 1, 10, 1, 5, 10, 18, 18, 10, 18, 1, 3, 10, 9, 15, 5, 10, 1, 12, 10, 1, 13, 10, 1, 5, 15, 36, 2, 1, 3, 15, 46, 4, 1, 23, 10, 9, 15, 5, 10, 19, 1, 3, 15, 46, 4, 1, 36, 2, 1, 6, 10, 20, 20, 10], '200630-212742_hau_e35_elicit_374': [26, 10, 18, 1, 46, 4, 18, 1, 48, 18, 25, 4, 20, 10], '200630-212742_hau_e35_elicit_376': [22, 10, 4, 1, 12, 10, 4, 1, 9, 15, 18, 10, 1, 25, 15, 12, 10, 18, 10, 19, 1, 12, 10, 1, 8, 15, 20, 46, 28, 46, 4, 18, 1, 12, 10, 1, 9, 15, 3, 10, 1, 9, 8, 10, 29, 4, 1, 3, 15, 46, 4, 1, 3, 10, 16, 10, 19, 1, 13, 15, 19, 10, 1, 3, 15, 46, 4, 1, 12, 10, 1, 3, 15, 16, 10, 1, 3, 10, 19, 31, 10, 19, 1, 3, 15, 46, 4, 1, 12, 10, 25, 10, 1, 3, 28, 5, 10, 36, 2, 1, 14, 10, 9, 10, 1, 13, 10, 1, 12, 15, 18, 4, 11, 10, 1, 3, 15, 16, 10, 1, 3, 28, 5, 10, 18, 2, 1, 4, 19, 4, 18, 1, 3, 15, 46, 4, 1, 18, 2, 1, 16, 10, 13, 15, 14, 10, 19, 1, 12, 10, 4, 1, 10, 18, 10, 1, 17, 15, 25, 10, 1, 9, 8, 4, 1, 10, 1, 13, 10, 3, 10, 19, 12, 10], '200630-212742_hau_e35_elicit_377': [60, 1, 16, 10, 18, 10, 1, 3, 10, 9, 10, 18, 1, 10, 4, 1, 10, 3, 5, 10, 4, 1, 3, 15, 46, 4, 18, 1, 12, 10, 1, 17, 10, 1, 17, 15, 25, 10, 1, 9, 8, 4, 1, 10, 3, 2, 1, 11, 4, 1, 10, 1, 6, 10, 8, 4, 19, 10, 18, 36, 2, 1, 17, 10, 1, 3, 10, 16, 10, 19, 1, 39, 4, 13, 36, 28, 4, 18, 9, 1, 23, 28, 12, 10, 11, 10, 3, 2, 1, 10, 1, 4, 11, 10, 1, 17, 4, 18, 36, 4, 3, 2, 18, 1, 12, 10, 1, 18, 10, 1, 25, 15, 12, 10, 18, 10, 19, 1, 17, 10, 18, 1, 13, 15, 18, 13, 15, 31, 2, 1, 9, 15, 1, 25, 10, 16, 2, 1, 12, 10, 1, 5, 10, 18, 18, 10, 18, 1, 17, 10, 1, 22, 10, 17, 28, 12, 10, 1, 8, 10, 3, 10, 1, 13, 10, 18, 10, 1, 4, 11, 10, 1, 11, 4, 5, 15, 5, 10, 1, 9, 15, 18, 10, 1, 8, 10, 12, 10, 8, 10, 12, 10, 19, 1, 39, 4, 13, 36, 28, 4, 18, 9, 1, 46, 4, 18, 1, 16, 10], '200630-212742_hau_e35_elicit_378': [30, 17, 28, 3, 10, 18, 1, 7, 15, 20, 46, 10], '200630-212742_hau_e35_elicit_379': [23, 15, 9, 10, 18, 1, 17, 10, 17, 15, 1, 5, 10, 13, 10, 1, 14, 10, 9, 10, 1, 10, 1, 12, 15, 18, 4, 11, 10, 1, 5, 10, 36, 36, 2, 1, 17, 10, 13, 10, 1, 8, 15, 20, 46, 10, 1, 12, 10, 1, 5, 10, 18, 18, 10, 18, 1, 3, 10, 9, 15, 5, 10, 1, 13, 10, 1, 29, 15, 9, 3, 10, 36, 4, 18, 1, 36, 10, 18, 27, 4, 18, 1, 3, 15, 46, 10, 46, 2], '200630-212742_hau_e35_elicit_380': [23, 10, 9, 15, 5, 10, 19, 1, 50, 27, 4, 20, 2], '200630-212742_hau_e35_elicit_381': [23, 10, 9, 15, 5, 10, 19, 1, 50, 27, 4, 20, 2, 1, 3, 10, 9, 15, 5, 10, 1, 36, 2, 1, 13, 10, 1, 14, 10, 9, 10, 12, 10, 14, 10, 9, 10, 1, 5, 10, 36, 36, 2, 1, 13, 10, 3, 2, 1, 10, 1, 25, 10, 19, 4, 18, 23, 10, 18, 28, 5, 10, 36, 36, 2, 1, 13, 10, 3, 2, 1, 10, 56, 28, 29, 10, 19, 1, 37, 10, 6, 15, 25, 10, 20, 1, 32, 10, 18, 10, 1, 30, 19, 2, 5, 10, 1, 12, 10, 1, 56, 28, 29, 10, 1, 12, 10, 25, 10, 1, 5, 10, 27, 2, 1, 9, 10, 18, 18, 10, 18, 1, 3, 15, 16, 10, 53, 10, 18, 15, 5, 10, 19, 1, 23, 10, 18, 28, 13, 10, 18, 10, 1, 17, 10, 11, 10, 18, 13, 10, 1, 12, 10, 25, 10, 1, 47, 10, 16, 16, 10], '200630-212742_hau_e35_elicit_384': [33, 10, 1, 29, 10, 19, 3, 28, 18, 1, 29, 10, 19, 10, 5, 10, 1, 9, 8, 2, 3, 10, 19, 15, 1, 10, 19, 15, 10, 19, 15, 1, 12, 10, 1, 9, 15, 3, 10, 1, 5, 15, 36, 2, 1, 29, 10, 13, 10, 3, 2, 1, 3, 10, 18, 1, 13, 10, 29, 4, 1, 47, 10, 18, 3, 4, 18, 1, 53, 5, 10, 18, 27, 10, 1, 5, 10, 12, 12, 10, 1, 10, 1, 11, 10, 15, 1, 11, 10, 3, 2, 1, 36, 4, 3, 4, 18, 1, 14, 10, 9, 10, 19, 1, 53, 8, 10, 18, 10, 1, 9, 15, 1, 9, 10, 11, 28, 1, 25, 28, 19, 28, 1, 9, 15, 1, 3, 10, 5, 28, 23, 10, 9, 15, 5, 10, 19, 1, 23, 15, 19, 16, 4, 12, 10, 1, 3, 2, 1, 36, 4, 3, 4, 18, 1, 17, 4, 19, 18, 4, 18, 1, 23, 10, 18, 28], '200630-212742_hau_e35_elicit_386': [22, 10, 18, 18, 15, 1, 10, 1, 8, 10, 18, 3, 10, 20, 4, 1, 8, 10, 19, 1, 10, 3, 10, 1, 25, 10, 18, 28, 1, 3, 15, 19, 16, 4, 18, 1, 25, 28, 19, 28, 18, 1, 12, 10, 1, 3, 2, 1, 27, 10, 8, 10, 19, 1, 30, 17, 2, 3, 15, 13, 10, 1, 10, 38, 10, 27, 2, 19, 4, 11, 10, 12, 10, 25, 10, 1, 17, 10, 11, 10, 1, 3, 15, 16, 10, 1, 27, 10, 8, 10, 19, 1, 65, 18, 12, 28, 1, 30, 3, 10, 1, 9, 10, 3, 2, 1, 9, 10, 16, 15, 18, 1, 14, 10, 19, 4, 18, 1, 5, 10, 13, 10, 1, 12, 10, 16, 10, 1, 13, 10, 1, 36, 4, 18, 4, 3, 10, 11, 11, 10, 19, 1, 25, 28, 19, 28], '200630-212742_hau_e35_elicit_387': [37, 15, 13, 10, 18, 2, 18, 1, 12, 10, 1, 3, 2, 1, 8, 10, 19, 3, 10, 19, 1, 5, 10, 18, 18, 10, 18, 1, 11, 10, 18, 3, 4, 1, 18, 10, 1, 30, 17, 2, 3, 15, 13, 10, 1, 9, 15, 3, 10, 18, 1, 13, 10, 29, 4, 1, 18, 2, 1, 10, 1, 3, 10, 18, 27, 10, 3, 15, 18, 10, 3, 10, 16, 10, 19, 1, 11, 10, 12, 12, 10, 1, 30, 20, 8, 10, 27, 4, 1, 30, 12, 10, 16, 15, 1, 30, 17, 15, 17, 10, 3, 10, 19, 1, 11, 10, 1, 25, 10, 11, 10, 1, 16, 10, 18, 10, 1, 10, 1, 36, 4, 3, 4, 18, 1, 13, 10, 13, 13, 10, 15, 18, 10, 5, 10, 19, 1, 12, 10, 1, 16, 15, 3, 10, 1, 11, 4, 1, 12, 10, 1, 9, 8, 4], '200630-212742_hau_e35_elicit_388': [21, 10, 13, 10, 1, 16, 10, 25, 10, 18, 10, 1, 12, 10, 1, 11, 10, 1, 29, 15, 19, 13, 10, 1, 16, 10, 18, 10, 1, 5, 10, 36, 36, 2, 1, 6, 10, 18, 1, 9, 28, 1, 16, 10, 9, 15, 1, 3, 10, 19, 10, 13, 15, 1, 9, 15, 1, 9, 10, 18, 4, 1, 12, 28, 16, 4, 18, 1, 8, 4, 3, 4, 16, 10, 19, 1, 12, 10, 1, 3, 2, 1, 13, 10, 13, 13, 10, 19, 2, 1, 12, 10, 1, 17, 10, 9, 4, 19, 10, 1, 4, 19, 4, 18, 1, 13, 10, 12, 10, 17, 17, 28, 17, 1, 4, 13, 10, 1, 36, 2, 5, 10, 1, 11, 10, 1, 36, 2], '200630-212742_hau_e35_elicit_389': [38, 4, 1, 13, 15, 9, 8, 2, 18, 16, 15, 1, 12, 10, 25, 10, 1, 25, 10, 19, 4, 18, 1, 53, 15, 20, 15, 1, 18, 2, 1, 5, 10, 36, 36, 2, 1, 10, 1, 11, 10, 18, 6, 15, 1, 13, 10, 3, 2, 1, 36, 4, 3, 4, 18, 1, 14, 10, 19, 10, 16, 10, 19, 1, 8, 15, 3, 15, 16, 10, 19, 1, 24, 4, 16, 4, 18, 1, 53, 10, 12, 28, 1, 10, 27, 10, 8, 10, 19, 1, 23, 10, 18, 28, 1, 23, 15, 16, 10, 1, 16, 10, 8, 10, 4, 29, 10, 18, 10, 1, 9, 10, 18, 10, 10, 19, 9, 15, 1, 3, 2, 18, 10, 18, 1, 29, 10, 13, 10, 15, 36, 4, 18, 1, 25, 28, 19, 28, 1, 32, 28, 1, 4, 12, 10, 18, 1, 25, 28, 19, 28, 18, 16, 15, 1, 11, 10, 1, 14, 10, 19, 2], '200630-212742_hau_e35_elicit_391': [3, 15, 46, 4, 18, 10, 1, 10, 1, 36, 4, 3, 4, 18, 1, 19, 4, 25, 10, 13, 10, 1, 5, 10, 46, 10, 18, 12, 10, 1, 17, 10, 9, 15, 1, 8, 10, 15, 19, 10, 1, 9, 15, 20, 2, 1, 46, 10, 11, 10, 1, 12, 10, 1, 19, 10, 17, 4, 1, 17, 10, 1, 32, 28, 1, 5, 10, 20, 20, 10, 8, 4, 1, 3, 28, 1, 4, 18, 10, 1, 17, 10, 19, 36, 4, 1, 10, 1, 3, 10, 18, 1, 27, 10, 3, 4, 18, 1, 18, 10, 18, 1, 6, 10, 4, 1, 3, 10, 16, 28, 1, 8, 10, 18, 11, 10, 1, 13, 4, 19, 11, 10, 18, 13, 4, 19, 11, 10, 18, 1, 9, 10, 4, 1, 11, 10, 1, 6, 28, 56, 28, 29, 10, 19, 1, 23, 10, 17, 15, 25, 10, 11, 10, 1, 13, 9, 10, 11, 10], '200630-212742_hau_e35_elicit_392': [22, 10, 17, 28, 12, 10, 1, 10, 1, 20, 28, 3, 10, 36, 4, 18, 1, 10, 18, 10, 1, 19, 15, 29, 2, 1, 14, 28, 29, 28, 29, 4, 18, 1, 9, 8, 4, 25, 10, 1, 25, 10, 19, 4, 1, 12, 10, 1, 12, 10, 12, 12, 10, 19, 2, 1, 9, 10, 4, 1, 12, 10, 1, 10, 9, 15, 17, 10, 1, 10, 1, 17, 15, 46, 2, 1, 38, 4, 1, 3, 15, 16, 10, 1, 12, 10, 1, 6, 10, 19, 10, 19, 1, 11, 10, 1, 13, 9, 10, 11, 10, 1, 6, 10, 18, 1, 29, 10, 19, 3, 10, 1, 18, 10, 1, 9, 10, 18, 1, 10, 18, 1, 6, 28, 1, 56, 28, 29, 10, 19, 1, 23, 10, 17, 15, 25, 10, 18, 10, 1, 9, 10, 15, 3, 10, 1, 18, 10, 1, 46, 10, 15, 19, 2, 1, 9, 8, 4], '200630-212742_hau_e35_elicit_393': [58, 28, 3, 10, 36, 4, 18, 1, 10, 3, 5, 10, 4, 1, 19, 4, 27, 4, 11, 10, 1, 10, 1, 56, 28, 29, 10, 19, 1, 48, 12, 10, 18, 1, 30, 9, 15, 17, 10, 1, 13, 10, 1, 11, 4, 1, 10, 3, 10, 1, 11, 4, 1, 9, 10, 20, 20, 10, 8, 1, 9, 10, 4, 1, 9, 10, 19, 3, 4, 18, 1, 14, 28, 29, 10, 1, 11, 10, 1, 17, 15, 46, 2, 1, 14, 28, 29, 10, 1, 3, 28, 5, 10, 1, 11, 10, 1, 9, 8, 4, 25, 28, 1, 25, 10, 19, 4, 1, 11, 10, 1, 13, 10, 29, 4, 1, 25, 15, 19, 4, 18, 1, 12, 10, 1, 6, 10, 4, 1, 27, 2, 1, 38, 4, 1, 12, 10, 1, 18, 10, 1, 9, 8, 4, 25, 28, 1, 25, 10, 19, 4, 1, 9, 10, 4, 1, 18, 10, 1, 5, 15, 36, 2, 1, 3, 10, 4, 1, 13, 9, 10, 11, 2, 1, 6, 15, 5, 10], '200630-212742_hau_e35_elicit_394': [23, 10, 9, 15, 5, 10, 19, 1, 23, 15, 19, 16, 4, 1, 18, 10, 1, 9, 10, 11, 4, 1, 3, 5, 10, 18, 36, 2, 1, 3, 15, 46, 4, 18, 1, 12, 10, 25, 10, 1, 19, 4, 25, 10, 13, 10, 1, 18, 10, 1, 16, 4, 14, 10, 1, 22, 10, 4, 1, 10, 1, 6, 15, 17, 10, 1, 16, 4, 18, 1, 29, 10, 3, 10, 18, 4, 1, 33, 15, 3, 1, 29, 10, 3, 10, 18, 4, 1, 46, 10, 11, 10, 1, 12, 10, 4, 12, 10, 4, 1, 11, 10, 3, 2, 1, 12, 10, 1, 14, 5, 10, 19, 11, 10, 1, 14, 5, 10, 19, 11, 10, 1, 46, 10, 11, 10], '200630-212742_hau_e35_elicit_395': [14, 5, 10, 19, 11, 10, 1, 46, 10, 11, 10, 1, 3, 15, 16, 10, 1, 14, 5, 10, 11, 10, 19, 1, 25, 28, 19, 28, 1, 46, 10, 19, 4, 1, 3, 2, 18, 10, 18, 1, 10, 9, 8, 4, 19, 4, 18, 1, 18, 10, 1, 25, 28, 19, 28, 1, 10, 1, 16, 10, 18, 25, 10, 20, 10, 1, 13, 10, 1, 23, 28, 5, 10, 18, 2, 1, 25, 2, 29, 2, 1, 25, 28, 16, 10, 25, 28, 16, 10, 1, 22, 10, 4, 1, 18, 10, 1, 8, 10, 15, 1, 13, 9, 10, 3, 4, 11, 10, 1, 18, 10, 1, 6, 10, 15, 18, 10, 1, 9, 10, 4, 1, 25, 4, 12, 10], '200630-212742_hau_e35_elicit_396': [58, 28, 3, 10, 36, 4, 18, 1, 12, 10, 1, 39, 10, 13, 15, 19, 2, 1, 11, 10, 1, 6, 28, 1, 9, 10, 4, 1, 11, 10, 1, 6, 28, 1, 12, 10, 1, 29, 10, 9, 10, 8, 10, 19, 1, 27, 4, 19, 25, 4, 18, 1, 14, 10, 9, 10, 1, 22, 10, 17, 28, 12, 10, 1, 8, 10, 3, 10, 1, 9, 10, 4, 1, 29, 10, 13, 10, 3, 2, 18, 1, 12, 10, 1, 3, 2, 1, 6, 15, 5, 10, 1, 5, 10, 18, 36, 10, 18, 1, 11, 10, 18, 3, 4, 18, 1, 53, 5, 10, 18, 27, 10, 19, 1, 30, 17, 2, 3, 15, 13, 10], '200630-212742_hau_e35_elicit_398': [32, 28, 1, 8, 10, 3, 10, 1, 10, 17, 4, 18, 1, 11, 10, 3, 2, 1, 25, 10, 1, 9, 10, 15, 19, 10, 18, 1, 3, 10, 11, 10, 11, 11, 10, 3, 4, 1, 16, 10, 1, 12, 10, 1, 29, 10, 13, 10, 3, 2, 1, 9, 15, 3, 2, 1, 46, 28, 19, 28, 1, 5, 10, 1, 10, 1, 27, 4, 19, 25, 4], '200630-212742_hau_e35_elicit_399': [33, 10, 1, 10, 17, 15, 17, 15, 5, 10, 1, 9, 15, 3, 10, 1, 29, 10, 19, 10, 1, 17, 15, 18, 14, 10, 9, 10, 1, 9, 10, 4, 1, 16, 10, 9, 15, 1, 27, 4, 19, 25, 4, 1, 9, 15, 3, 10, 1, 36, 2, 1, 3, 28, 5, 10, 1, 11, 10, 1, 29, 4, 36, 2, 1, 11, 10, 1, 17, 10, 9, 15, 1, 25, 15, 19, 4, 1, 22, 10, 17, 28, 12, 10, 1, 8, 10, 3, 10, 1, 9, 10, 4, 1, 4, 11, 10, 11, 2, 18, 16, 15, 1, 9, 15, 3, 10, 1, 13, 10, 29, 4, 1, 25, 15, 19, 4, 18, 1, 9, 10, 19, 3, 4], '200630-212742_hau_e35_elicit_400': [10, 1, 20, 28, 3, 10, 36, 4, 18, 1, 37, 10, 4, 1, 37, 10, 19, 13, 10, 17, 10, 1, 22, 10, 19, 3, 4, 18, 1, 23, 10, 18, 28, 1, 37, 15, 8, 10, 16, 16, 10, 12, 15, 1, 22, 10, 18, 15, 9, 4, 1, 48, 1, 18, 2, 1, 11, 10, 3, 2, 1, 9, 10, 19, 10, 15, 13, 10, 1, 23, 10, 3, 10, 18, 1, 9, 10, 19, 3, 4, 1, 16, 10, 4, 1, 36, 4, 1, 11, 10, 18, 6, 15, 1, 3, 2, 18, 10, 18, 1, 37, 15, 8, 10, 16, 16, 10, 12, 15, 1, 22, 10, 18, 15, 9, 4, 1, 48, 48, 1, 9, 15, 3, 10, 1, 3, 10, 4, 1, 3, 28, 3, 2, 18, 9, 15], '200630-212742_hau_e35_elicit_401': [33, 10, 1, 9, 10, 19, 3, 4, 1, 11, 10, 1, 27, 4, 1, 10, 17, 4, 18, 1, 12, 10, 1, 3, 2, 1, 13, 10, 29, 2, 1, 12, 10, 1, 9, 15, 1, 9, 10, 4, 1, 11, 10, 1, 36, 2, 1, 32, 28, 1, 3, 15, 1, 13, 10, 29, 4, 1, 56, 28, 29, 10, 19, 1, 37, 10, 6, 15, 25, 10, 20, 1, 10, 3, 5, 10, 4, 1, 29, 4, 20, 4, 1, 11, 10, 18, 10, 1, 18, 10, 18, 1, 18, 10, 1, 25, 5, 10, 16, 18, 10, 13, 4, 1, 5, 10, 18, 12, 10, 1, 30, 20, 8, 10, 9, 9, 10, 18, 1, 43, 10, 18, 13, 10, 13, 10, 1, 11, 10, 1, 46, 4, 17, 10, 1, 11, 10, 1, 17, 10, 19, 1, 9, 10, 15, 19, 10], '200630-212742_hau_e35_elicit_403': [33, 10, 1, 27, 10, 16, 10, 10, 1, 9, 15, 3, 10, 1, 27, 2, 1, 9, 15, 3, 10, 1, 25, 10, 1, 29, 4, 20, 4, 1, 11, 10, 1, 11, 4, 1, 16, 15, 9, 15, 1, 9, 10, 4, 1, 9, 15, 3, 10, 1, 3, 28, 16, 10, 1, 9, 15, 3, 10, 1, 9, 10, 18, 10, 19, 1, 12, 10, 1, 9, 10, 19, 3, 4, 1, 22, 10, 4, 1, 9, 10, 19, 3, 4, 1, 11, 10, 1, 36, 2, 1, 12, 10, 1, 9, 15, 1, 34, 10, 1, 10, 1, 27, 2, 1, 10, 1, 3, 10, 19, 3, 10, 9, 10, 1, 16, 15, 3, 15, 1, 3, 28, 5, 10, 1, 10, 1, 17, 10, 9, 8, 4], '200630-212742_hau_e35_elicit_404': [30, 1, 5, 10, 19, 2, 1, 18, 10, 1, 25, 5, 10, 16, 18, 10, 13, 4, 1, 12, 10, 17, 10, 18, 1, 10, 1, 5, 10, 19, 2, 1, 18, 10, 1, 49, 11, 10, 18, 1, 3, 10, 9, 15, 5, 10, 1, 12, 10, 17, 10, 18, 1, 33, 10, 25, 10, 1, 18, 10, 18, 1, 9, 10, 19, 3, 4, 1, 11, 10, 1, 9, 10, 1, 10, 3, 10, 1, 25, 4, 18, 10, 1, 12, 28, 25, 5, 10, 11, 2, 18, 1, 19, 15, 16, 29, 15, 18, 10, 1, 22, 15, 1, 18, 2, 1, 12, 28, 25, 5, 10, 11, 2, 18, 1, 9, 4, 13, 28, 9, 4, 13, 28, 18, 1, 36, 10, 18, 1, 12, 10, 1, 3, 10, 1, 3, 2, 1, 25, 10, 18, 4], '200630-212742_hau_e35_elicit_405': [11, 10, 1, 36, 2, 1, 12, 10, 1, 49, 11, 10, 18, 1, 3, 10, 9, 15, 5, 10, 1, 33, 15, 3, 1, 5, 10, 18, 12, 10, 1, 11, 10, 1, 3, 10, 9, 10, 1, 3, 10, 11, 10, 18, 9, 10, 1, 17, 10, 4, 1, 9, 10, 11, 10, 19, 1, 17, 10, 1, 13, 28, 1, 11, 10, 1, 46, 10, 15, 3, 2, 1, 11, 10, 1, 3, 10, 4, 1, 36, 4, 3, 4, 18, 1, 5, 10, 46, 10, 18, 36, 10, 18, 1, 19, 15, 16, 29, 15, 18, 10, 1, 11, 10, 1, 10, 12, 10, 18, 10], '200630-212742_hau_e35_elicit_406': [22, 10, 4, 1, 25, 28, 17, 2, 1, 11, 10, 1, 29, 4, 13, 28, 1, 12, 10, 1, 3, 10, 11, 10, 18, 9, 10, 1, 11, 10, 1, 9, 10, 3, 2, 1, 3, 10, 9, 10, 5, 10, 1, 22, 10, 18, 18, 10, 18, 1, 3, 15, 16, 10, 1, 11, 10, 1, 36, 2, 1, 12, 15, 3, 1, 5, 10, 13, 10, 1, 25, 10, 1, 10, 17, 4, 18, 1, 12, 10, 1, 6, 10, 1, 10, 1, 19, 4, 14, 10, 1, 17, 10, 11, 10, 19, 5, 10, 1, 8, 10, 19, 1, 16, 15, 13, 15, 16, 1, 11, 10, 1, 16, 10, 20, 20, 10, 3, 10, 1, 21, 10, 18, 18, 10, 18, 1, 9, 8, 4, 1, 18, 2, 1, 11, 10, 12, 12, 10, 1, 10, 3, 10, 1, 3, 10, 29, 10, 1, 5, 10, 18, 18, 10, 18, 1, 3, 10, 9, 15, 5, 10], '200630-212742_hau_e35_elicit_407': [39, 10, 11, 10, 18, 1, 10, 18, 1, 3, 10, 29, 10, 1, 3, 10, 9, 15, 5, 10, 19, 1, 3, 15, 16, 10, 1, 9, 10, 4, 1, 10, 3, 10, 1, 11, 4, 1, 13, 4, 13, 4, 18, 1, 27, 4, 19, 25, 4, 1, 12, 10, 25, 10, 1, 13, 10, 9, 8, 10, 1, 6, 15, 5, 10, 1, 3, 10, 9, 15, 5, 10, 19, 1, 9, 10, 18, 18, 10, 18, 1, 11, 10, 1, 6, 10, 19, 36, 2, 1, 26, 4, 20, 4, 18, 1, 33, 10, 20, 10, 19, 1, 53, 11, 10, 46, 10, 1, 48, 12, 10, 18, 1, 11, 10, 1, 6, 28, 1, 11, 10, 1, 9, 10, 15, 3, 2, 1, 25, 28, 19, 28, 1, 9, 10, 4, 1, 3, 15, 16, 10, 1, 11, 10, 1, 46, 2, 17, 4, 1, 25, 11, 10, 46, 10, 1, 12, 10, 1, 9, 8, 10, 18, 15, 1, 12, 10, 4, 25, 4, 11, 10, 19, 1, 3, 10, 17, 10, 12, 10, 1, 10, 3, 2, 1, 46, 10, 15, 19, 2, 1, 8, 15, 8, 15, 18, 1, 25, 28, 19, 28, 1, 12, 10, 1, 4, 13, 10, 1, 11, 10, 1, 13, 10, 29, 4, 1, 12, 10, 1, 9, 15], '200630-212742_hau_e35_elicit_409': [22, 10, 17, 28, 12, 10, 1, 8, 10, 3, 10, 1, 10, 3, 10, 1, 25, 4, 18, 10, 1, 5, 10, 36, 36, 10, 19, 1, 3, 10, 19, 10, 19, 1, 9, 8, 10, 18, 15, 1, 21, 10, 36, 36, 2, 1, 12, 10, 25, 10, 1, 17, 10, 11, 10, 1, 10, 3, 10, 1, 25, 4, 18, 10, 1, 16, 10, 11, 10, 18, 3, 10, 1, 10, 1, 3, 15, 9, 10, 1, 12, 10, 1, 4, 13, 10, 1, 12, 15, 3, 1, 10, 1, 20, 28, 3, 10, 36, 4, 18, 1, 9, 10, 19, 3, 4, 1, 37, 15, 8, 10, 16, 16, 10, 12, 15, 1, 22, 10, 18, 15, 9, 4, 1, 48, 1, 10, 3, 10, 1, 25, 4, 18, 10, 1, 9, 15], '200630-212742_hau_e35_elicit_410': [22, 10, 4, 1, 12, 10, 4, 1, 4, 13, 10, 1, 3, 10, 19, 10, 19, 1, 17, 10, 13, 10, 1, 17, 15, 18, 14, 10, 9, 10, 1, 9, 28, 9, 10, 4, 1, 17, 10, 1, 30, 18, 1, 11, 4, 1, 5, 10, 18, 4, 1, 25, 15, 19, 4, 1, 12, 10, 1, 10, 3, 2, 1, 10, 27, 4, 11, 2, 1, 13, 10, 19, 10, 25, 15, 18, 1, 27, 4, 19, 25, 4, 1, 10, 1, 17, 10, 3, 4, 18, 1, 14, 28, 29, 10, 1, 9, 10, 4, 1, 3, 10, 5, 10, 4, 1, 10, 1, 3, 28, 19, 28, 1, 9, 8, 10, 18, 15, 1, 9, 15, 1, 9, 8, 4, 25, 10, 1, 36, 4, 3, 4, 1, 22, 10, 18, 18, 15, 1, 10, 1, 8, 10, 18, 3, 10, 20, 4, 1, 5, 10, 18, 18, 10, 18, 1, 3, 10, 9, 15, 5, 10, 1, 13, 10, 1, 13, 10, 9, 8, 4, 1, 13, 10, 1, 3, 28, 16, 10, 1, 37, 10, 19, 4, 19, 4], '200630-212742_hau_e35_elicit_411': [23, 10, 11, 10, 11, 11, 10, 3, 4], '200630-212742_hau_e35_elicit_412': [39, 10, 17, 15, 1, 5, 10, 13, 10, 1, 8, 10, 27, 10, 1, 12, 10, 1, 10, 3, 2, 1, 3, 10, 9, 10, 5, 10, 1, 10, 1, 5, 10, 18, 18, 10, 18, 1, 3, 10, 9, 15, 5, 10, 1, 12, 10, 1, 13, 10, 1, 5, 15, 36, 2, 1, 25, 28, 19, 28, 1, 30, 18, 10, 1, 4, 11, 10, 1, 9, 10, 16, 15, 18, 1, 18, 10, 15, 3, 10, 18, 1, 25, 28, 19, 28, 1, 12, 10, 1, 9, 15, 3, 10, 1, 8, 10, 46, 10, 1, 12, 10, 1, 53, 28, 19, 4, 11, 10, 1, 53, 28, 19, 28, 1, 16, 10, 29, 4, 1, 25, 4, 19, 16, 10], '200630-212742_hau_e35_elicit_414': [26, 10, 19, 9, 10, 19, 1, 53, 28, 19, 28], '200630-212742_hau_e35_elicit_415': [30, 17, 28, 3, 10, 18, 1, 7, 15, 20, 46, 10], '200630-212742_hau_e35_elicit_416': [30, 18, 10, 1, 8, 15, 20, 46, 10, 1, 12, 10, 1, 3, 15, 9, 10, 18, 1, 25, 10, 19, 15, 19, 15, 5, 10, 1, 12, 10, 1, 12, 10, 16, 10, 1, 10, 1, 36, 4, 3, 4, 1, 12, 10, 1, 5, 10, 27, 2, 18, 1, 38, 10, 27, 2, 19, 4, 11, 10, 1, 10, 1, 5, 10, 18, 18, 10, 18, 1, 3, 10, 9, 15, 5, 10, 1, 30, 17, 4, 18, 1, 12, 10, 1, 11, 10, 1, 9, 8, 10, 29, 4, 1, 14, 10, 9, 10, 9, 8, 2, 18, 1, 5, 10, 27, 2, 1, 12, 10, 25, 10, 1, 5, 10, 18, 18, 10, 18, 1, 3, 10, 9, 15, 5, 10], '200630-212742_hau_e35_elicit_417': [10, 18, 10, 1, 3, 10, 4, 1, 3, 10, 11, 10, 1, 6, 15, 5, 10, 1, 14, 10, 9, 10, 9, 8, 2, 18, 1, 12, 10, 1, 9, 15, 3, 10, 1, 8, 10, 46, 10, 1, 12, 10, 1, 39, 10, 8, 19, 10, 4, 18, 1, 47, 2, 16, 2, 18, 1, 22, 10, 15, 12, 4, 1, 30, 19, 10, 17, 4, 10, 1, 22, 15, 12, 10, 18, 1, 38, 4, 27, 10, 19, 1, 12, 10, 1, 59, 8, 10, 12, 4, 1, 21, 10, 9, 15, 1, 3, 10, 4, 1, 13, 9, 10, 11, 2, 1, 5, 10, 9, 15, 1, 3, 15, 16, 10, 1, 12, 10, 25, 10, 1, 5, 10, 9, 15, 1, 14, 10, 9, 10, 9, 8, 2, 18, 1, 10, 3, 2, 1, 5, 15, 36, 2, 5, 10, 1, 12, 10, 1, 9, 8, 4], '200630-212742_hau_e35_elicit_418': [21, 10, 18, 18, 10, 18, 1, 3, 10, 9, 15, 5, 10, 1, 13, 10, 18, 10, 1, 12, 10, 1, 9, 10, 15, 14, 4, 18, 1, 6, 15, 5, 10, 1, 23, 10, 9, 10, 18, 13, 15, 5, 10, 19, 1, 13, 10, 1, 9, 10, 16, 15, 1, 3, 11, 10, 3, 3, 11, 10, 5, 10, 18, 1, 16, 10, 13, 9, 15, 25, 15, 18, 18, 4, 1, 39, 10, 13, 10, 1, 12, 10, 1, 18, 4, 9, 10, 1, 12, 10, 1, 29, 4, 20, 4, 18, 1, 27, 4, 19, 25, 4, 18, 1, 9, 10, 16, 10, 18, 1, 37, 10, 20, 10, 16, 1, 30, 16, 4, 18, 15, 1, 23, 10, 18, 28], '200630-212742_hau_e35_elicit_420': [23, 10, 9, 15, 5, 10, 19, 1, 56, 28, 29, 10, 19, 1, 21, 10, 16, 17, 10, 4], '200630-212742_hau_e35_elicit_422': [21, 10, 18, 18, 10, 18, 1, 3, 10, 9, 15, 5, 10, 1, 13, 10, 18, 10, 1, 12, 10, 1, 29, 10, 9, 10, 20, 4, 1, 4, 19, 4, 18, 1, 18, 10, 1, 6, 10, 16, 10, 18, 4, 1, 24, 15, 16, 29, 15, 18, 10, 18, 13, 10, 1, 18, 10, 1, 6, 10, 16, 10, 18, 4, 1, 18, 2, 1, 3, 15, 16, 10, 1, 9, 10, 18, 18, 10, 18, 1, 13, 10, 18, 10, 1, 12, 10, 1, 16, 10, 18, 11, 10, 18, 1, 20, 10, 11, 15, 3, 10, 1, 12, 10, 1, 16, 28, 13, 28, 36, 4, 1, 3, 2, 1, 4, 11, 10, 1, 19, 10, 13, 9, 10, 5, 10, 1, 12, 10, 1, 19, 10, 18, 10, 1, 10, 20, 8, 10, 20, 4, 1, 3, 10, 9, 15, 5, 10, 1, 13, 10, 18, 10, 1, 13, 9, 10, 3, 10, 1, 12, 10, 1, 36, 4], '200630-212742_hau_e35_elicit_423': [21, 10, 18, 4, 1, 20, 10, 11, 4, 1, 10, 1, 36, 4, 3, 4, 18, 1, 23, 10, 9, 15, 5, 10, 19, 1, 56, 28, 29, 10, 19, 1, 21, 10, 16, 17, 10, 4, 1, 23, 10, 18, 28], '200630-212742_hau_e35_elicit_425': [22, 10, 18, 18, 10, 18, 1, 3, 15, 16, 10, 1, 5, 10, 18, 4, 1, 10, 17, 4, 18, 1, 9, 8, 10, 10, 5, 10, 1, 9, 8, 4, 1, 18, 2, 1, 36, 2, 5, 10, 1, 5, 10, 18, 18, 10, 18, 1, 3, 10, 9, 15, 5, 10, 1, 29, 10, 1, 11, 10, 18, 6, 15, 1, 13, 10, 1, 8, 10, 46, 2, 1, 12, 10, 1, 23, 10, 9, 15, 5, 10, 19, 1, 23, 10, 18, 13, 4, 18, 1, 23, 5, 10, 19, 4, 1, 32, 15, 18, 1, 12, 10, 25, 10, 1, 13, 9, 10, 20, 20, 10, 3, 2, 18, 1, 3, 10, 9, 15, 5, 10, 1, 12, 10, 25, 10, 1, 23, 15, 12, 15, 1, 12, 10, 1, 3, 15, 16, 10, 1, 47, 10, 16, 16, 10, 1, 18, 10, 1, 3, 10, 18, 1, 13, 4, 13, 4, 18, 1, 48, 39, 39], '200630-212742_hau_e35_elicit_426': [12, 15, 3, 1, 9, 8, 10, 25, 15, 18, 10, 1, 18, 2, 1, 12, 10, 1, 16, 10, 9, 15, 1, 19, 15, 16, 29, 15, 18, 10, 1, 8, 10, 19, 1, 6, 15, 5, 10, 1, 23, 10, 9, 15, 5, 10, 19, 1, 23, 10, 18, 13, 4, 18, 1, 23, 5, 10, 19, 4], '200630-212742_hau_e35_elicit_427': [21, 10, 18, 18, 10, 18, 1, 3, 10, 9, 15, 5, 10, 1, 13, 10, 18, 10, 1, 18, 10, 18, 1, 10, 1, 36, 4, 3, 4, 18, 1, 14, 5, 10, 19, 11, 10, 19, 1, 17, 4, 19, 18, 4, 18, 1, 23, 10, 18, 28, 1, 30, 19, 2, 5, 10, 1, 12, 10, 1, 4, 13, 10, 1, 17, 10, 17, 17, 10, 18, 1, 16, 10, 9, 10, 20, 20, 10, 36, 4, 18, 1, 4, 12, 4, 18, 1, 23, 10, 18, 28, 1, 18, 2, 1, 13, 4, 13, 4, 1, 18, 2, 1, 11, 10, 1, 19, 10, 17, 10, 9, 15, 1, 47, 10, 16, 16, 10, 1, 12, 10, 1, 4, 13, 10, 1, 3, 15, 16, 10, 1, 15, 18, 25, 15, 5, 10, 19, 1, 56, 28, 29, 10, 19, 1, 21, 10, 16, 17, 10, 4, 1, 36, 2, 1, 6, 15, 5, 10, 1, 34, 10, 18, 25, 28], '200630-212742_hau_e35_elicit_428': [22, 10, 4, 1, 30, 19, 2, 5, 10, 1, 12, 10, 1, 4, 13, 10, 1, 3, 15, 16, 10, 1, 3, 10, 5, 10, 4, 1, 15, 18, 25, 15, 5, 10, 19, 1, 16, 10, 20, 10, 29, 10, 1, 20, 10, 11, 4, 1, 18, 2, 1, 11, 10, 1, 19, 10, 17, 10, 1, 13, 9, 10, 3, 10, 18, 4, 18, 9, 15, 1, 32, 10, 1, 53, 10, 17, 10, 9, 1, 3, 15, 16, 10, 1, 10, 3, 5, 10, 4, 1, 50, 18, 25, 15, 5, 10, 19, 1, 26, 10, 25, 25, 2, 1, 5, 10, 36, 36, 2, 1, 13, 4, 13, 4, 18, 1, 48, 39, 39, 1, 11, 10, 1, 9, 8, 4, 25, 10, 1, 13, 9, 10, 3, 10, 18, 4, 18, 9, 15], '200630-212742_hau_e35_elicit_429': [23, 10, 9, 15, 5, 10, 19, 1, 22, 10, 17, 28, 18, 1, 53, 10, 19, 4], '200630-212742_hau_e35_elicit_432': [32, 28, 1, 12, 10, 1, 11, 10, 3, 2, 1, 10, 3, 5, 10, 4, 1, 17, 10, 16, 17, 10, 16, 36, 4, 18, 1, 10, 20, 10, 12, 15, 1, 12, 10, 1, 3, 15, 16, 10, 1, 10, 12, 12, 4, 18, 10, 4, 1, 9, 10, 4, 1, 11, 10, 1, 6, 10, 16, 10, 1, 10, 1, 5, 10, 18, 36, 10, 18, 1, 20, 28, 3, 10, 36, 4, 18, 1, 36, 10, 3, 15, 46, 15, 5, 10, 19, 1, 5, 10, 46, 10, 18, 18, 10, 18, 1, 17, 10, 14, 4, 1, 12, 10, 1, 3, 15, 16, 10, 1, 10, 9, 10, 20, 4, 18, 1, 49, 11, 10, 18, 1, 14, 10, 9, 10, 1, 11, 10, 1, 11, 4, 1, 5, 10, 8, 10, 20, 10], '200630-212742_hau_e35_elicit_433': [30, 1, 9, 10, 17, 28, 12, 10, 1, 8, 10, 3, 10, 1, 9, 10, 4, 1, 10, 3, 10, 1, 13, 9, 15, 25, 15, 18, 18, 10, 19, 1, 12, 10, 1, 9, 15, 1, 10, 1, 5, 10, 18, 18, 10, 18, 1, 11, 10, 18, 3, 4, 1, 32, 28, 1, 9, 10, 4, 1, 11, 10, 1, 6, 10, 16, 10, 1, 9, 15, 18, 10, 1, 25, 15, 12, 10, 18, 10, 19, 1, 12, 10, 1, 49, 11, 10, 19, 1, 36, 4, 18, 4, 3, 10, 11, 11, 10, 19, 9, 15, 1, 10, 1, 25, 15, 19, 10, 19, 2, 18, 1, 12, 10, 1, 9, 15, 3, 2, 1, 33, 10, 1, 8, 10, 3, 10, 1, 3, 10, 9, 15, 5, 10, 19, 1, 22, 10, 17, 28, 18, 1, 53, 10, 19, 4, 1, 13, 10, 1, 9, 10, 16, 15], '200630-212742_hau_e35_elicit_434': [21, 10, 18, 4, 1, 11, 10, 18, 3, 4, 1, 18, 10, 1, 9, 8, 10, 25, 15, 18, 10, 18, 1, 3, 10, 11, 10, 18, 1, 20, 10, 13, 15, 19, 28, 18, 4, 3, 1, 10, 1, 36, 4, 3, 4, 18, 1, 23, 10, 9, 15, 5, 10, 19, 1, 22, 10, 17, 28, 18, 1, 53, 10, 19, 4], '200630-212742_hau_e35_elicit_436': [21, 10, 18, 18, 10, 18, 1, 3, 10, 9, 15, 5, 10, 1, 4, 13, 10, 1, 36, 2, 1, 17, 10, 17, 17, 10, 19, 1, 3, 10, 9, 15, 5, 10, 19, 1, 23, 10, 18, 28, 1, 30, 18, 10, 1, 9, 10, 16, 15, 18, 1, 12, 15, 3, 3, 10, 18, 1, 5, 10, 9, 15, 1, 18, 10, 15, 15, 3, 10, 18, 1, 3, 10, 11, 10, 18, 1, 16, 10, 9, 10, 19, 15, 29, 4, 1, 13, 15, 29, 10, 29, 4, 1, 9, 15, 13, 15, 19, 15, 1, 16, 15, 9, 10, 16, 16, 10, 18, 1, 18, 10, 1, 32, 15, 19, 10, 5, 10, 1, 13, 10, 3, 10, 20, 16, 10, 1, 16, 10, 25, 15, 18, 25, 15, 18, 10, 1, 18, 10, 1, 39, 10, 13, 15, 19, 2, 1, 12, 10, 1, 9, 10, 15, 19, 10, 18, 9, 15], '200630-212742_hau_e35_elicit_438': [23, 10, 9, 15, 5, 10, 19, 1, 53, 10, 20, 10, 12, 4, 16, 10], '200630-212742_hau_e35_elicit_439': [23, 10, 9, 15, 5, 10, 19, 1, 53, 10, 20, 10, 12, 4, 16, 10, 1, 25, 15, 12, 10, 1, 36, 2, 1, 12, 10, 25, 10, 1, 36, 4, 3, 4, 18, 1, 3, 10, 9, 15, 5, 10, 18, 18, 4, 18, 1, 17, 4, 19, 18, 4, 18, 1, 23, 10, 18, 28, 1, 5, 10, 36, 36, 2, 1, 13, 10, 1, 3, 10, 29, 15, 1, 9, 10, 18, 10, 12, 4, 11, 11, 10, 19, 1, 36, 4, 3, 10, 19, 1, 46, 10, 18, 25, 28, 1, 12, 10, 1, 17, 10, 17, 17, 10, 19, 1, 23, 10, 9, 15, 5, 10, 19, 1, 22, 10, 17, 28, 25, 10, 19, 4, 1, 13, 10, 1, 11, 4, 1, 3, 10, 9, 15, 5, 10, 19, 1, 12, 10, 1, 13, 4, 13, 4, 1, 18, 2, 1, 3, 10, 5, 10, 4, 1, 11, 10, 1, 19, 10, 17, 10, 1, 13, 9, 10, 3, 10, 18, 4, 18, 9, 15], '200630-212742_hau_e35_elicit_440': [21, 10, 18, 18, 10, 18, 1, 3, 10, 9, 15, 5, 10, 1, 13, 10, 1, 53, 10, 20, 10, 12, 4, 16, 10, 1, 3, 10, 9, 15, 5, 10, 1, 36, 2, 1, 13, 10, 1, 14, 10, 9, 10, 12, 10, 14, 10, 9, 10, 1, 12, 15, 3, 1, 12, 10, 1, 36, 2, 5, 10, 1, 16, 10, 29, 4, 11, 10, 1, 11, 10, 5, 10, 18, 1, 10, 17, 28, 3, 10, 18, 1, 8, 15, 20, 46, 10, 19, 13, 10, 1, 12, 10, 25, 10, 1, 14, 10, 9, 10, 9, 8, 2, 18, 1, 30, 29, 4, 19, 3, 10, 1, 9, 15, 3, 2, 1, 16, 15, 9, 10, 16, 16, 10, 18, 1, 16, 10, 1, 12, 10, 4, 1, 16, 10, 14, 5, 10, 17, 13, 10, 18, 1, 38, 10, 27, 2, 19, 4, 11, 10, 1, 3, 10, 16, 10, 19, 1, 4, 19, 4, 18, 1, 9, 15, 1, 59, 8, 10, 12, 4, 1, 38, 4, 27, 10, 19, 1, 12, 10, 1, 16, 10, 3, 10, 16, 10, 18, 13, 10, 18, 9, 15], '200630-212742_hau_e35_elicit_441': [32, 9, 28, 8, 28, 18, 1, 25, 5, 10, 16, 18, 10, 18, 1, 23, 10, 18, 28, 1, 16, 10, 19, 4, 25, 10, 11, 4, 1, 30, 20, 8, 10, 27, 4, 1, 30, 17, 15, 17, 15, 3, 10, 19, 1, 24, 4, 16, 4, 1, 9, 8, 4, 1, 11, 10, 1, 25, 4, 18, 10, 1, 5, 10, 18, 18, 10, 18, 1, 3, 10, 9, 15, 5, 10, 1, 10, 1, 20, 28, 3, 10, 36, 4, 18, 1, 5, 10, 10, 12, 10, 4, 18, 1, 16, 15, 20, 3, 4, 18, 9, 10, 1, 12, 10, 1, 11, 10, 1, 11, 4, 1, 12, 10, 25, 10, 1, 42, 45, 41, 45, 1, 6, 15, 5, 10, 1, 42, 45, 40, 57, 1, 10, 1, 16, 10, 13, 9, 10, 11, 4, 18, 9, 10, 1, 18, 10, 1, 6, 10, 31, 10, 31, 31, 2, 18, 1, 25, 5, 10, 16, 18, 10, 18, 1, 23, 10, 18, 28, 1, 18, 10, 1, 29, 10, 19, 3, 28], '200630-212742_hau_e35_elicit_445': [7, 10, 27, 28, 27, 4], '200630-212742_hau_e35_elicit_446': [30, 18, 10, 1, 9, 10, 11, 10, 19, 1, 12, 10, 1, 18, 10, 15, 15, 3, 10, 18, 1, 3, 10, 11, 10, 11, 11, 10, 3, 4, 18, 1, 12, 10, 1, 9, 15, 3, 10, 1, 8, 10, 46, 10, 1, 12, 10, 1, 16, 10, 18, 27, 10, 1, 16, 10, 18, 1, 25, 11, 10, 46, 10, 1, 25, 10, 19, 4, 18, 1, 19, 28, 25, 28, 1, 25, 10, 19, 4, 18, 1, 10, 20, 10, 17, 28, 1, 3, 4, 29, 4, 1, 1, 46, 10, 18, 11, 2, 1, 12, 10, 1, 17, 15, 9, 10, 9, 9, 8, 2, 1, 18, 10, 16, 10, 18, 1, 12, 10, 5, 10, 1, 38, 10, 16, 10, 18, 1, 12, 10, 27, 4, 1, 4, 9, 3, 10, 19, 1, 25, 10, 9, 1, 13, 10, 1, 25, 4, 19, 3, 4, 1, 9, 10, 9, 9, 10, 18, 1, 4, 18, 27, 4, 1, 13, 10, 8, 15, 18, 10, 1, 12, 10, 1, 3, 15, 16, 10, 1, 18, 10, 1, 17, 10, 17, 15, 19, 1, 12, 10, 1, 29, 10, 16, 29, 28, 18, 1, 19, 15, 5, 10, 1, 12, 10, 1, 9, 10, 15, 19, 10, 18, 1, 3, 10, 11, 10, 11, 11, 10, 3, 4, 1, 16, 10, 9, 15, 1, 13, 10, 19, 4, 18, 1, 11, 10, 5, 10], '200630-212742_hau_e35_elicit_447': [23, 10, 9, 15, 5, 10, 19, 1, 47, 10, 18, 3, 10, 17, 10, 1, 23, 10, 18, 28], '200630-212742_hau_e35_elicit_448': [21, 10, 18, 4, 1, 47, 10, 18, 3, 4, 1, 38, 10, 1, 23, 10, 9, 15, 5, 10, 1, 47, 10, 18, 3, 10, 17, 10], '200630-212742_hau_e35_elicit_449': [23, 10, 9, 15, 5, 10, 19, 1, 11, 10, 18, 3, 10, 17, 10, 1, 13, 10, 18, 10, 1, 12, 10, 25, 10, 1, 36, 4, 3, 4, 18, 1, 3, 10, 9, 15, 5, 10, 18, 18, 4, 18, 1, 14, 10, 9, 10, 12, 10, 14, 10, 9, 10, 1, 12, 10, 1, 3, 2, 1, 36, 4, 3, 4, 18, 1, 25, 10, 19, 4, 18, 1, 23, 10, 18, 28, 1, 10, 1, 38, 10, 27, 2, 19, 4, 11, 10, 1, 23, 10, 9, 15, 5, 10, 1, 36, 2, 1, 13, 10, 1, 8, 10, 12, 10, 19, 1, 8, 10, 12, 10, 19, 1, 3, 10, 11, 10, 18, 1, 16, 4, 11, 10, 18, 1, 12, 10, 1, 9, 10, 15, 19, 10, 18, 1, 3, 10, 11, 10, 11, 11, 10, 3, 4, 18, 1, 10, 17, 4, 18, 36, 4, 1, 12, 10, 1, 18, 10, 1, 9, 8, 10, 11, 4], '200630-212742_hau_e35_elicit_451': [21, 10, 18, 18, 10, 18, 1, 3, 10, 9, 15, 5, 10, 1, 3, 10, 13, 10, 29, 10, 19, 4, 11, 10, 19, 1, 3, 10, 9, 15, 5, 10, 19, 1, 3, 10, 11, 10, 18, 1, 25, 5, 10, 19, 4, 1, 36, 2, 1, 23, 10, 11, 10, 18, 1, 25, 5, 10, 19, 4, 1, 9, 15, 1, 18, 2, 1, 46, 10, 18, 11, 15, 18, 1, 3, 10, 11, 10, 1, 12, 10, 1, 3, 2, 1, 20, 10, 20, 10, 36, 2, 5, 10, 1, 12, 10, 1, 5, 15, 19, 4, 1, 3, 10, 16, 10, 19, 1, 4, 19, 4, 18, 1, 9, 15, 1, 13, 15, 16, 10, 13, 4, 19, 1, 10, 20, 17, 10, 9, 10, 1, 25, 10, 18, 11, 10, 11, 11, 10, 3, 4, 1, 12, 10, 1, 9, 10, 15, 19, 10, 18, 9, 15], '200630-212742_hau_e35_elicit_452': [23, 15, 9, 10, 18, 1, 10, 1, 3, 28, 5, 10, 36, 2, 1, 19, 10, 18, 10, 1, 10, 3, 10, 18, 1, 11, 4, 1, 5, 10, 1, 16, 28, 13, 28, 36, 4, 1, 20, 28, 12, 4, 1, 12, 10, 25, 10, 1, 5, 10, 18, 18, 10, 18, 1, 3, 10, 9, 15, 5, 10, 1, 6, 15, 5, 10, 1, 5, 10, 9, 15, 1, 17, 4, 19, 10, 18, 2, 18, 1, 56, 10, 9, 10, 19, 1, 38, 4, 27, 2, 19, 4, 11, 10, 1, 12, 10, 1, 16, 10, 1, 6, 15, 5, 10, 1, 14, 10, 9, 10, 9, 8, 2, 18, 1, 14, 2, 13, 10, 19, 2], '200630-212742_hau_e35_elicit_455': [30, 17, 28, 3, 10, 18, 1, 8, 15, 20, 46, 10], '200630-212742_hau_e35_elicit_456': [21, 10, 18, 18, 10, 18, 1, 3, 10, 9, 15, 5, 10, 1, 13, 10, 18, 10, 1, 16, 15, 10, 16, 10, 20, 10, 1, 12, 10, 1, 14, 10, 9, 10, 9, 8, 2, 1, 12, 10, 1, 12, 10, 16, 10, 1, 12, 10, 25, 10, 1, 36, 4, 3, 4, 1, 10, 3, 5, 10, 4, 1, 23, 10, 16, 10, 19, 15, 1, 53, 8, 10, 18, 10, 1, 59, 8, 10, 12, 4, 1, 12, 10, 1, 3, 15, 16, 10, 1, 38, 4, 27, 10, 19], '200630-212742_hau_e35_elicit_457': [23, 10, 9, 15, 5, 10, 19, 1, 47, 10, 18, 3, 10, 17, 10, 1, 13, 10, 1, 18, 10, 18, 1, 10, 1, 3, 10, 18, 1, 13, 4, 13, 4, 18, 1, 7, 10, 46, 2, 27, 10, 1, 10, 1, 25, 10, 19, 4, 18, 1, 23, 10, 18, 28], '200630-212742_hau_e35_elicit_458': [23, 10, 9, 15, 5, 10, 19, 1, 24, 4, 16, 4], '200630-212742_hau_e35_elicit_460': [13, 15, 18, 1, 36, 10, 18, 1, 17, 10, 11, 10, 1, 6, 10, 16, 10, 18, 4, 18, 1, 5, 10, 18, 4, 1, 9, 10, 19, 3, 4, 1, 12, 10, 1, 11, 10, 1, 6, 10, 16, 10, 1, 16, 10, 13, 10, 18, 9, 10, 1, 49, 11, 10, 11, 10, 18, 9, 10, 1, 12, 10, 1, 17, 10, 11, 4, 18, 9, 10, 1, 9, 15, 18, 10, 1, 6, 15, 5, 10, 1, 9, 15, 1, 11, 4, 1, 36, 2, 29, 10, 18, 2, 1, 22, 10, 17, 28, 12, 10, 1, 8, 10, 3, 10, 1, 18, 2, 1, 16, 10, 1, 5, 10, 9, 15, 1, 20, 28, 3, 15, 13, 10, 18, 1, 10, 3, 10, 18, 1, 3, 4, 19, 10, 1, 13, 10, 1, 12, 10, 1, 3, 10, 9, 15, 5, 10, 19, 1, 12, 28, 20, 2, 1, 3, 28, 1, 3, 10, 9, 15, 5, 10, 19, 1, 58, 10, 19, 10, 17, 10], '200630-212742_hau_e35_elicit_464': [23, 10, 9, 15, 5, 10, 19, 1, 56, 28, 29, 10, 19, 1, 24, 15, 5, 10], '200630-212742_hau_e35_elicit_467': [21, 10, 18, 18, 10, 18, 1, 3, 10, 9, 15, 5, 10, 1, 13, 10, 1, 56, 28, 29, 10, 19, 1, 24, 15, 5, 10, 1, 3, 15, 19, 16, 4, 1, 36, 2, 1, 13, 10, 1, 3, 10, 11, 10, 11, 11, 10, 3, 4, 18, 1, 10, 17, 10, 17, 2, 18, 1, 8, 10, 5, 10, 1, 12, 10, 1, 3, 15, 16, 10, 1, 25, 11, 10, 19, 10, 18, 9, 15, 1, 37, 15, 9, 10, 16, 16, 10, 18, 1, 10, 17, 10, 17, 2, 18, 1, 8, 10, 5, 10, 18, 1, 12, 10, 1, 9, 15, 3, 10, 1, 8, 10, 46, 10, 1, 12, 10, 1, 16, 28, 13, 28, 36, 4, 1, 39, 10, 17, 15, 19, 10, 1, 12, 10, 1, 3, 15, 16, 10, 1, 3, 2, 3, 15, 18, 10], '200630-212742_hau_e35_elicit_468': [23, 10, 9, 15, 5, 10, 19, 1, 39, 10, 36, 8, 4, 19, 10, 5, 10], '200630-212742_hau_e35_elicit_469': [32, 15, 3, 5, 10, 18, 2, 18, 1, 56, 10, 19, 29, 2], '200630-212742_hau_e35_elicit_470': [23, 10, 9, 15, 5, 10, 19, 1, 39, 10, 36, 8, 4, 19, 10, 5, 10, 1, 5, 10, 36, 36, 2, 1, 10, 3, 10, 1, 29, 4, 1, 9, 10, 4, 1, 12, 10, 1, 49, 11, 10, 18, 1, 13, 15, 3, 5, 10, 18, 2, 1, 3, 10, 9, 15, 5, 10, 1, 36, 2, 1, 12, 10, 1, 3, 2, 1, 39, 10, 36, 8, 4, 19, 10, 5, 10, 1, 23, 5, 10, 18, 10, 19, 1, 50, 18, 25, 28, 25, 28, 1, 3, 10, 18, 1, 13, 4, 13, 4, 18, 1, 23, 10, 13, 9, 4, 18, 10, 1, 10, 1, 36, 4, 3, 4, 18, 1, 25, 10, 19, 4, 18, 1, 23, 10, 18, 28], '200630-212742_hau_e35_elicit_471': [3, 15, 16, 10, 1, 3, 10, 9, 15, 5, 10, 1, 36, 2, 1, 13, 10, 1, 14, 10, 9, 10, 12, 10, 14, 10, 9, 10, 1, 5, 10, 36, 36, 2, 1, 10, 3, 2, 1, 9, 10, 18, 10, 10, 18, 13, 10, 5, 10, 1, 13, 10, 19, 2, 1, 3, 15, 16, 10, 1, 12, 10, 1, 9, 10, 11, 10, 19, 1, 12, 10, 1, 13, 15, 3, 5, 10, 18, 2, 18, 1, 12, 10, 1, 10, 3, 2, 1, 9, 10, 16, 10, 19, 5, 10, 1, 12, 10, 25, 10, 1, 10, 20, 16, 4, 18, 4, 11, 28, 16, 1, 30, 17, 4, 18, 1, 12, 10, 1, 39, 10, 8, 10, 15, 9, 8, 2, 1, 11, 10, 3, 2, 1, 3, 4, 19, 10, 1, 12, 10, 1, 13, 15, 3, 15, 18, 11, 10, 19, 1, 14, 10, 19, 29, 2], '200630-212742_hau_e35_elicit_475': [23, 10, 11, 10, 11, 11, 10, 3, 4], '200702-003943_hau_e35_elicit_482': [7, 10, 5, 10, 1, 18, 2, 1, 12, 10, 1, 9, 10, 19, 3, 4, 1, 11, 10, 3, 2, 1, 11, 4, 1, 10, 1, 19, 10, 18, 10, 19, 1, 4, 12, 4, 1, 12, 10, 25, 10, 1, 16, 10, 9, 10, 20, 20, 10, 36, 4, 18, 1, 4, 12, 4, 1, 6, 15, 5, 10, 1, 25, 4, 12, 10, 18, 9, 10, 1, 17, 10, 11, 10, 18, 1, 10, 18, 1, 3, 10, 16, 16, 10, 20, 10, 1, 12, 15, 3, 3, 10, 18, 1, 10, 17, 15, 17, 15, 5, 10, 18, 1, 12, 10, 1, 9, 15, 3, 10, 1, 12, 10, 36, 2, 1, 18, 10, 1, 9, 10, 20, 20, 10, 19, 1, 4, 12, 4, 1, 30, 18, 10, 1, 11, 4, 18, 1, 5, 10, 18, 18, 10, 18, 1, 8, 10, 5, 10, 1, 10, 1, 19, 10, 18, 10, 19, 1, 4, 12, 4, 18, 1, 22, 10, 20, 20, 10, 19, 1, 30, 6, 15, 16, 4, 1, 12, 10, 1, 3, 15, 16, 10, 1, 22, 10, 20, 20, 10, 19, 1, 58, 10, 11, 11, 10], '200702-010847_hau_e35_elicit_478': [32, 10, 18, 12, 10, 19, 1, 56, 10, 19, 29, 2], '200702-010847_hau_e35_elicit_479': [30, 17, 28, 3, 10, 18, 1, 7, 15, 20, 46, 10], '200702-010847_hau_e35_elicit_480': [34, 10, 16, 28, 5, 10, 19, 1, 5, 10, 18, 18, 10, 18, 1, 3, 10, 9, 15, 5, 10, 1, 13, 10, 1, 14, 10, 9, 10, 12, 10, 14, 10, 9, 10, 1, 13, 10, 18, 10, 1, 8, 15, 20, 46, 10, 1, 12, 10, 1, 25, 10, 19, 15, 19, 15, 5, 10, 18, 1, 36, 4, 3, 4, 18, 1, 25, 4, 12, 10, 1, 38, 10, 27, 2, 19, 4, 11, 10, 1, 12, 10, 1, 3, 15, 16, 10, 1, 5, 10, 9, 15, 1, 14, 10, 9, 10, 9, 8, 2, 18, 1, 5, 10, 27, 2, 1, 33, 10, 25, 10, 1, 36, 4, 3, 4, 18, 1, 14, 10, 9, 10, 9, 8, 2, 18, 1, 5, 10, 27, 2, 1, 10, 3, 5, 10, 4, 1, 59, 8, 4, 18, 10, 1, 48, 18, 12, 4, 11, 10, 1, 38, 4, 25, 2, 19, 1, 39, 15, 19, 3, 4, 18, 10, 1, 26, 10, 9, 9, 28, 1, 59, 8, 10, 12, 4, 1, 12, 10, 1, 9, 10, 15, 19, 10, 18, 9, 15], '200702-010847_hau_e35_elicit_481': [7, 10, 5, 10, 18, 1, 48, 12, 4], '200702-010847_hau_e35_elicit_482': [7, 10, 5, 10, 1, 18, 2, 1, 12, 10, 1, 9, 10, 19, 3, 4, 1, 11, 10, 3, 2, 1, 11, 4, 1, 10, 1, 19, 10, 18, 10, 19, 1, 4, 12, 4, 1, 12, 10, 25, 10, 1, 16, 10, 9, 10, 20, 20, 10, 36, 4, 18, 1, 4, 12, 4, 1, 6, 15, 5, 10, 1, 25, 4, 12, 10, 18, 9, 10, 1, 17, 10, 11, 10, 18, 1, 10, 18, 1, 3, 10, 16, 16, 10, 20, 10, 1, 12, 15, 3, 3, 10, 18, 1, 10, 17, 15, 17, 15, 5, 10, 18, 1, 12, 10, 1, 9, 15, 3, 10, 1, 12, 10, 36, 2, 1, 18, 10, 1, 9, 10, 20, 20, 10, 19, 1, 4, 12, 4, 1, 30, 18, 10, 1, 11, 4, 18, 1, 5, 10, 18, 18, 10, 18, 1, 8, 10, 5, 10, 1, 10, 1, 19, 10, 18, 10, 19, 1, 4, 12, 4, 18, 1, 22, 10, 20, 20, 10, 19, 1, 30, 6, 15, 16, 4, 1, 12, 10, 1, 3, 15, 16, 10, 1, 22, 10, 20, 20, 10, 19, 1, 58, 10, 11, 11, 10], '200702-010847_hau_e35_elicit_483': [22, 10, 17, 10, 17, 17, 2, 18, 1, 10, 17, 15, 1, 18, 2, 1, 10, 1, 25, 15, 19, 4, 18, 1, 12, 15, 3, 3, 10, 18, 1, 9, 10, 19, 10, 3, 15, 18, 10, 18, 1, 23, 10, 18, 28, 1, 9, 15, 3, 10, 18, 1, 13, 10, 3, 28, 1, 12, 10, 1, 14, 10, 29, 10, 19, 9, 15, 1, 12, 10, 25, 10, 1, 25, 4, 12, 10, 18, 9, 15, 1, 6, 15, 5, 10, 1, 16, 10, 9, 10, 20, 20, 10, 36, 4, 18, 1, 4, 12, 4, 1, 12, 28, 16, 4, 18, 1, 46, 10, 17, 17, 10, 14, 10, 1, 9, 15, 18, 18, 10, 19, 1, 4, 12, 4, 1, 22, 10, 18, 18, 10, 18, 1, 3, 15, 16, 10, 1, 4, 12, 10, 18, 1, 9, 15, 3, 10, 1, 13, 10, 9, 8, 4, 1, 3, 28, 16, 10, 5, 10, 1, 25, 4, 12, 10, 1, 9, 10, 4, 1, 9, 15, 1, 36, 10, 18, 27, 10, 1, 8, 10, 18, 11, 10, 1, 4, 13, 10, 1, 16, 10, 1, 12, 10, 4, 1, 3, 10, 16, 10, 19, 1, 11, 10, 12, 12, 10, 1, 10, 12, 12, 4, 18, 4, 1, 11, 10, 1, 13, 10, 18, 10, 12, 10], '200702-010847_hau_e35_elicit_484': [32, 28, 1, 10, 1, 5, 10, 27, 2, 18, 1, 5, 10, 18, 18, 10, 18, 1, 3, 28, 16, 10, 5, 10, 1, 25, 4, 12, 10, 1, 10, 1, 18, 10, 18, 1, 18, 2, 1, 9, 10, 19, 3, 4, 1, 11, 10, 3, 2, 1, 8, 10, 5, 10, 1, 12, 28, 3, 4, 1, 13, 10, 19, 2, 1, 12, 10, 1, 9, 10, 15, 19, 10, 18, 1, 16, 10, 8, 10, 11, 10, 1, 12, 10, 1, 9, 15, 3, 10, 1, 8, 10, 46, 10, 1, 12, 10, 1, 12, 15, 3, 3, 10, 18, 1, 9, 10, 15, 19, 10, 18, 1, 16, 10, 9, 15, 1, 19, 4, 14, 2, 1, 12, 10, 1, 16, 15, 14, 10, 16, 10, 18, 1, 9, 10, 19, 10, 15, 13, 10, 19, 1, 25, 10, 19, 25, 10, 27, 4, 11, 10, 19, 1, 12, 10, 25, 10, 1, 3, 10, 18, 1, 8, 10, 3, 4, 16, 10, 4, 1, 12, 10, 25, 10, 13, 10, 4, 1, 16, 10, 9, 15, 1, 15, 18, 25, 15, 5, 10, 18, 18, 4, 1, 17, 10, 11, 4, 1, 12, 10, 1, 9, 10, 15, 19, 10, 18, 9, 15], '200702-010847_hau_e35_elicit_485': [7, 10, 3, 10, 1, 18, 10, 18, 1, 16, 10, 1, 16, 10, 9, 15, 1, 3, 10, 46, 2, 3, 10, 46, 2, 1, 12, 10, 1, 17, 15, 9, 8, 2, 17, 15, 9, 8, 2, 1, 9, 15, 18, 10, 1, 11, 4, 1, 10, 18, 10, 1, 13, 10, 29, 4, 11, 10, 1, 10, 18, 10, 1, 3, 10, 19, 31, 10, 19, 1, 25, 10, 4, 9, 15, 5, 10, 1, 12, 10, 1, 12, 10, 18, 12, 10, 18, 6, 28, 18, 1, 16, 15, 13, 10, 18, 2, 18, 1, 12, 10, 1, 3, 2, 1, 13, 9, 10, 11, 10, 5, 10, 1, 27, 2, 19, 2, 1, 10, 1, 25, 2, 29, 2, 18, 1, 8, 10, 18, 11, 10, 1, 8, 10, 25, 15, 1, 12, 10, 1, 12, 10, 16, 10, 1, 5, 10, 9, 15, 1, 10, 1, 14, 10, 9, 10, 1, 5, 10, 9, 15, 1, 3, 15, 16, 10, 1, 10, 1, 9, 10, 16, 10, 18, 1, 17, 4, 9, 8, 4, 11, 28, 11, 4, 1, 5, 10, 9, 15, 1, 10, 1, 9, 10, 16, 10, 18, 1, 25, 4, 12, 10, 27, 2], '200702-010847_hau_e35_elicit_486': [5, 10, 9, 15, 1, 10, 1, 9, 10, 16, 10, 18, 1, 10, 17, 10, 17, 2, 18, 1, 8, 10, 5, 10, 1, 5, 10, 9, 15, 1, 18, 10, 1, 17, 4, 11, 2, 1, 10, 1, 14, 10, 29, 10, 1, 5, 10, 9, 15, 1, 3, 15, 16, 10, 1, 18, 10, 1, 17, 4, 11, 2, 1, 10, 1, 3, 10, 18, 1, 10, 17, 10, 17, 2, 18, 1, 8, 10, 5, 10, 1, 16, 10, 9, 15, 1, 3, 10, 4, 1, 3, 28, 16, 28, 1, 9, 15, 18, 10, 1, 11, 4, 1, 30, 17, 4, 18, 1, 9, 10, 4, 1, 5, 10, 18, 12, 10, 1, 11, 10, 1, 25, 10, 18, 4], '200702-010847_hau_e35_elicit_488': [22, 10, 19, 3, 4, 1, 6, 10, 4, 1, 13, 10, 9, 8, 4, 1, 12, 10, 25, 10, 1, 29, 4, 20, 4, 18, 1, 4, 12, 4, 1, 11, 10, 1, 29, 4, 13, 10, 1, 13, 10, 1, 14, 28, 29, 10, 19, 1, 53, 10, 17, 10, 9, 1, 11, 10, 1, 8, 10, 15, 1, 3, 10, 18, 1, 13, 4, 13, 4, 18, 1, 48, 39, 39, 1, 10, 1, 11, 10, 18, 6, 15, 1, 10, 1, 12, 10, 1, 3, 15, 16, 10, 1, 13, 4, 13, 4, 18, 1, 12, 28, 25, 28, 1, 5, 10, 13, 28, 1, 13, 4, 13, 4, 18, 1, 27, 4, 19, 25, 4, 18, 1, 14, 10, 9, 10, 1, 11, 10, 1, 9, 10, 3, 10, 1, 25, 10, 17, 10, 18, 9, 10, 1, 30, 19, 2, 5, 10], '200702-010847_hau_e35_elicit_489': [48, 12, 10, 18, 1, 11, 10, 1, 27, 2, 1, 14, 10, 19, 9, 8, 2, 18, 1, 16, 10, 9, 10, 20, 20, 10, 36, 4, 1, 12, 10, 25, 10, 1, 30, 19, 2, 5, 10, 1, 9, 10, 4, 1, 11, 10, 1, 27, 15, 11, 10, 1, 47, 10, 16, 16, 10, 1, 11, 10, 1, 13, 10, 29, 4, 1, 9, 10, 4, 1, 11, 10, 1, 27, 2, 1, 14, 10, 19, 9, 8, 2, 18, 1, 3, 10, 9, 15, 5, 10, 19, 1, 56, 28, 29, 10, 19, 1, 21, 10, 16, 17, 10, 4, 1, 9, 10, 18, 18, 10, 18, 1, 11, 10, 1, 3, 10, 19, 11, 10, 3, 10, 1, 30, 19, 2, 5, 10, 1, 11, 10, 1, 9, 8, 4, 25, 10, 1, 56, 28, 29, 10, 19, 1, 21, 10, 16, 17, 10, 4], '200702-010847_hau_e35_elicit_490': [9, 10, 4, 1, 3, 15, 16, 10, 1, 9, 10, 4, 1, 11, 10, 1, 13, 10, 9, 10, 1, 23, 15, 12, 15, 1, 11, 10, 1, 12, 10, 5, 28, 1, 13, 10, 1, 23, 10, 19, 28, 29, 4, 18, 1, 34, 10, 25, 2, 1, 13, 10, 1, 27, 4, 3, 4, 18, 1, 30, 9, 4, 17, 4, 13, 4, 18, 1, 39, 4, 19, 18, 4, 1, 11, 10, 1, 9, 8, 4, 25, 10, 1, 13, 10, 1, 22, 8, 10, 8, 15, 36, 4, 1, 9, 10, 18, 18, 10, 18, 1, 11, 10, 1, 4, 9, 10, 1, 53, 4, 12, 10, 18, 1, 22, 8, 10, 13, 4, 16, 10, 1, 25, 15, 19, 4, 18, 1, 12, 10, 1, 13, 15, 18, 4], '200702-010847_hau_e35_elicit_491': [25, 5, 10, 16, 18, 10, 1, 12, 10, 1, 9, 10, 15, 19, 10, 18, 1, 16, 10, 18, 11, 10, 18, 1, 17, 10, 14, 4, 1, 9, 15, 3, 2, 1, 12, 10, 3, 28, 18, 1, 9, 10, 19, 3, 4, 1, 48, 12, 10, 18, 1, 11, 10, 1, 27, 2, 1, 9, 10, 4, 1, 9, 10, 19, 3, 4, 1, 11, 10, 1, 27, 10, 1, 20, 4, 18, 6, 10, 16, 4, 1, 11, 10, 1, 13, 9, 10, 11, 10, 1, 9, 10, 18, 18, 10, 18, 1, 11, 10, 1, 9, 10, 15, 3, 10, 1, 9, 15, 1, 25, 10, 4, 9, 10, 1, 12, 10, 1, 25, 5, 10, 16, 18, 10, 1, 12, 10, 1, 13, 10, 5, 10, 25, 10, 19, 9, 10, 1, 12, 10, 1, 3, 15, 16, 10, 1, 9, 10, 15, 19, 10, 18, 1, 16, 10, 18, 11, 10, 18, 1, 17, 10, 14, 4, 1, 9, 15, 1, 11, 4, 1, 5, 10, 1, 27, 15, 18, 10, 1, 17, 10, 19, 3, 10, 1, 12, 10, 1, 9, 10, 20, 20, 10], '200702-010847_hau_e35_elicit_492': [39, 10, 11, 10, 18, 1, 10, 18, 1, 25, 10, 16, 10, 1, 12, 10, 1, 18, 10, 18, 1, 3, 15, 16, 10, 1, 9, 10, 4, 1, 9, 10, 19, 3, 4, 1, 11, 10, 1, 9, 10, 3, 2, 1, 8, 10, 5, 10, 1, 9, 10, 4, 1, 56, 28, 29, 10, 19, 1, 56, 5, 10, 19, 15, 1, 4, 18, 12, 10, 1, 6, 10, 4, 1, 27, 2, 1, 11, 10, 1, 9, 10, 15, 3, 10, 1, 30, 1, 18, 10, 18, 1, 3, 15, 16, 10, 1, 9, 10, 4, 1, 8, 10, 3, 4, 16, 10, 18, 1, 9, 10, 19, 3, 4, 1, 9, 15, 1, 3, 10, 4, 1, 5, 10, 1, 9, 10, 19, 3, 4, 1, 35, 10, 29, 4], '200702-010847_hau_e35_elicit_494': [39, 10, 11, 10, 18, 1, 10, 18, 1, 3, 10, 16, 16, 10, 20, 10, 1, 5, 10, 18, 18, 10, 18, 1, 25, 10, 4, 9, 15, 5, 10, 1, 12, 10, 1, 10, 3, 2, 1, 3, 4, 19, 10, 1, 35, 10, 29, 4, 1, 9, 10, 4, 1, 3, 15, 16, 10, 1, 9, 10, 19, 3, 4, 1, 11, 10, 1, 11, 4, 1, 5, 10, 1, 23, 10, 18, 10, 5, 10, 1, 27, 10, 5, 10, 17, 4, 1, 5, 10, 18, 12, 10, 1, 11, 10, 3, 2, 1, 10, 1, 16, 10, 13, 9, 10, 11, 4, 18, 1, 27, 10, 5, 10, 17, 4, 18, 1, 9, 8, 2, 3, 10, 19, 10, 9, 8, 2, 3, 10, 19, 10], '200702-010847_hau_e35_elicit_495': [30, 1, 18, 10, 18, 1, 3, 10, 29, 10, 29, 2, 18, 1, 11, 10, 46, 10, 1, 20, 10, 17, 10, 19, 15, 16, 1, 12, 10, 1, 9, 15, 3, 2, 1, 12, 10, 1, 5, 10, 3, 4, 20, 10, 4, 1, 10, 1, 25, 15, 19, 4, 18, 1, 6, 10, 1, 9, 15, 1, 27, 2, 1, 9, 15, 1, 18, 10, 46, 10, 1, 9, 15, 1, 5, 10, 13, 9, 10, 1, 10, 1, 12, 15, 18, 4, 11, 10, 1, 33, 10, 25, 10, 1, 18, 10, 18, 1, 3, 15, 16, 10, 1, 9, 10, 4, 1, 9, 10, 19, 3, 4, 1, 11, 10, 1, 9, 8, 4, 25, 10, 1, 25, 4, 12, 10, 1, 9, 10, 15, 19, 10, 18, 1, 27, 10, 16, 10, 10, 1, 3, 15, 16, 10, 1, 3, 28, 5, 10, 1, 11, 10, 1, 3, 10, 16, 10, 1, 25, 10, 17, 10, 18, 9, 10, 1, 7, 10, 5, 10, 18, 1, 48, 12, 4, 1, 11, 10, 1, 6, 28, 1, 14, 10, 19, 9, 8, 2, 1, 3, 2, 18, 10, 18], '200702-010847_hau_e35_elicit_496': [7, 10, 5, 10, 18, 1, 38, 10, 9, 9, 10, 19, 10, 5, 10], '200702-010847_hau_e35_elicit_497': [7, 10, 5, 10, 1, 18, 2, 1, 12, 10, 1, 9, 10, 19, 3, 4, 1, 11, 10, 3, 2, 1, 11, 4, 1, 12, 10, 25, 10, 1, 25, 4, 12, 10, 18, 9, 10, 1, 6, 15, 5, 10, 1, 25, 4, 12, 10, 18, 1, 9, 10, 19, 3, 4, 1, 12, 10, 1, 3, 2, 1, 38, 10, 9, 9, 10, 19, 10, 5, 10, 1, 9, 10, 18, 18, 10, 18, 1, 6, 15, 5, 10, 1, 25, 4, 12, 10, 18, 1, 25, 5, 10, 16, 18, 10], '200702-010847_hau_e35_elicit_498': [22, 8, 4, 1, 18, 2, 1, 8, 10, 5, 10, 1, 18, 10, 1, 8, 15, 46, 15, 1, 10, 1, 8, 10, 5, 10, 18, 1, 9, 10, 20, 20, 10, 19, 1, 30, 6, 15, 16, 4, 1, 30, 18, 10, 1, 11, 4, 18, 1, 9, 10, 1, 10, 1, 19, 10, 18, 10, 1, 13, 10, 1, 8, 15, 46, 15, 1, 25, 10, 1, 9, 10, 20, 20, 10, 1, 24, 10, 18, 10, 19, 1, 29, 10, 19, 3, 28, 1, 7, 10, 5, 10, 18, 1, 48, 12, 4, 1, 19, 10, 18, 10, 1, 13, 10, 1, 17, 4, 11, 15, 1, 7, 10, 5, 10, 18, 1, 33, 10, 15, 9, 8, 2, 1, 19, 10, 18, 10, 1, 13, 10, 1, 15, 3, 15, 1, 19, 10, 18, 10, 19, 1, 8, 15, 13, 15, 1, 10, 1, 19, 10, 18, 10, 1, 13, 10, 1, 8, 15, 46, 15, 1, 3, 15, 16, 10, 1, 9, 10, 4, 1, 9, 10, 19, 3, 4, 1, 11, 10, 1, 11, 4, 1, 5, 10, 18, 18, 10, 18, 1, 8, 10, 5, 10], '200702-010847_hau_e35_elicit_499': [22, 10, 19, 3, 4, 1, 11, 10, 18, 10, 1, 29, 4, 13, 10, 1, 12, 10, 25, 10, 1, 25, 4, 12, 10, 1, 13, 10, 1, 56, 28, 29, 10, 19, 1, 23, 15, 12, 15, 1, 33, 10, 25, 10, 1, 18, 10, 18, 1, 9, 10, 4, 1, 11, 10, 1, 9, 10, 3, 10, 1, 25, 10, 17, 10, 18, 9, 10, 1, 53, 10, 17, 10, 9, 1, 11, 10, 1, 8, 10, 15, 1, 3, 10, 18, 1, 32, 4, 13, 4, 18, 1, 35, 10, 8, 10, 1, 22, 13, 10, 13, 2, 1, 24, 28, 10, 12, 1, 11, 10, 1, 29, 4, 13, 10, 1, 13, 10, 1, 56, 28, 29, 10, 19, 1, 38, 10, 9, 9, 10, 19, 10], '200702-010847_hau_e35_elicit_500': [11, 10, 1, 19, 15, 18, 13, 15, 16, 10, 1, 11, 10, 1, 27, 2, 1, 53, 4, 12, 10, 18, 1, 38, 10, 9, 9, 10, 19, 10, 5, 10, 1, 9, 10, 18, 18, 10, 18, 1, 11, 10, 1, 13, 9, 10, 11, 10, 1, 22, 10, 4, 1, 11, 10, 1, 9, 10, 15, 3, 10, 1, 9, 10, 15, 19, 10, 18, 1, 16, 10, 8, 10, 11, 10, 1, 3, 15, 16, 10, 1, 9, 15, 1, 12, 10, 3, 5, 10, 18, 36, 2, 1, 9, 8, 4, 1, 48, 12, 10, 18, 1, 11, 10, 1, 9, 8, 4, 25, 10, 1, 18, 10, 1, 5, 10, 9, 15, 1, 49, 11, 10, 18, 1, 16, 4, 18, 13, 15, 18, 10, 1, 9, 10, 4, 1, 3, 15, 16, 10, 1, 11, 10, 1, 29, 4, 13, 28, 1, 11, 10, 1, 9, 10, 3, 2, 1, 8, 10, 5, 10, 1, 11, 10, 1, 5, 15, 36, 2, 1, 6, 15, 5, 10, 1, 25, 4, 12, 10, 18, 1, 25, 5, 10, 16, 18, 10, 13, 4], '200702-010847_hau_e35_elicit_502': [22, 10, 18, 18, 10, 18, 1, 9, 10, 4, 1, 25, 5, 10, 16, 18, 10, 1, 12, 10, 1, 3, 10, 18, 9, 10, 1, 11, 10, 1, 13, 10, 9, 28, 1, 11, 10, 1, 13, 10, 19, 17, 4, 1, 9, 10, 19, 3, 4, 1, 9, 10, 18, 18, 10, 18, 1, 9, 15, 1, 27, 2, 19, 10, 1, 9, 15, 1, 6, 10, 15, 18, 10, 1, 9, 15, 1, 11, 4, 1, 5, 10, 1, 27, 15, 18, 10, 1, 17, 10, 19, 3, 10, 1, 12, 10, 1, 9, 10, 20, 20, 10, 1, 33, 10, 25, 10, 1, 18, 10, 18, 1, 3, 15, 16, 10, 1, 9, 10, 4, 1, 8, 10, 3, 4, 16, 10, 4, 1, 9, 15, 1, 25, 10, 4, 12, 10, 1, 9, 10, 19, 3, 4], '200702-010847_hau_e35_elicit_505': [48, 12, 10, 18, 1, 9, 10, 19, 3, 4, 1, 11, 10, 1, 29, 4, 13, 28, 1, 12, 10, 25, 10, 1, 25, 4, 12, 10, 18, 1, 25, 5, 10, 16, 18, 10, 1, 11, 10, 18, 10, 1, 8, 10, 5, 10, 1, 3, 10, 18, 1, 32, 4, 13, 4, 18, 1, 58, 28, 12, 25, 2, 1, 24, 28, 10, 12, 1, 11, 10, 1, 17, 4, 1, 13, 10, 1, 25, 10, 17, 10, 18, 1, 10, 9, 4, 17, 4, 13, 4, 18, 1, 38, 10, 9, 9, 10, 19, 10, 1, 5, 10, 18, 12, 10, 1, 10, 1, 11, 10, 18, 6, 15, 1, 55, 44, 42, 40, 1, 10, 3, 2, 1, 3, 4, 19, 10, 1, 30, 9, 4, 17, 4, 18, 1, 30, 17, 12, 15, 20, 20, 10, 8, 4, 1, 21, 10, 9, 2], '200702-010847_hau_e35_elicit_506': [22, 10, 18, 18, 10, 18, 1, 11, 10, 1, 25, 10, 18, 25, 10, 19, 2, 1, 6, 15, 5, 10, 1, 27, 4, 3, 4, 18, 1, 13, 10, 9, 8, 10, 19, 1, 27, 4, 19, 25, 4, 18, 1, 14, 10, 9, 10, 1, 11, 10, 1, 3, 10, 19, 11, 10, 3, 10, 1, 11, 10, 1, 27, 2, 1, 9, 8, 10, 13, 10, 20, 2, 13, 10, 20, 2, 18, 1, 17, 10, 17, 17, 10, 18, 1, 8, 28, 13, 2, 20, 1, 46, 4, 18, 1, 9, 10, 18, 13, 10, 19, 10, 1, 9, 10, 18, 18, 10, 18, 1, 11, 10, 1, 9, 10, 3, 2, 1, 3, 10, 19, 11, 10, 3, 10, 5, 10, 1, 11, 10, 1, 8, 10, 15, 1, 13, 4, 13, 4, 18, 1, 37, 32, 33, 1, 9, 10, 18, 18, 10, 1, 11, 10, 1, 27, 15, 11, 10], '200702-010847_hau_e35_elicit_507': [12, 10, 16, 10, 1, 11, 10, 1, 29, 10, 46, 10, 1, 37, 15, 19, 13, 10, 20, 10, 1, 37, 15, 8, 10, 16, 16, 10, 12, 1, 21, 10, 11, 1, 3, 10, 16, 10, 19, 1, 6, 10, 4, 1, 13, 10, 29, 4, 1, 29, 4, 20, 4, 18, 1, 27, 4, 19, 25, 4, 18, 1, 9, 10, 16, 10, 1, 48, 12, 10, 18, 1, 11, 10, 1, 6, 28, 1, 16, 10, 19, 10, 19, 19, 10, 17, 10, 19, 1, 34, 10, 4, 18, 10, 17, 1, 53, 10, 20, 10, 19, 2, 1, 9, 10, 4, 1, 11, 10, 1, 9, 10, 3, 10, 1, 25, 10, 17, 10, 18, 9, 10, 1, 47, 10, 16, 16, 10, 1, 11, 10, 1, 18, 15, 29, 4, 1, 23, 10, 9, 15, 5, 10, 19, 1, 22, 10, 17, 28, 18, 1, 53, 10, 19, 4], '200702-010847_hau_e35_elicit_508': [48, 12, 10, 18, 1, 11, 10, 1, 4, 9, 28, 1, 9, 8, 10, 13, 10, 20, 2, 13, 10, 20, 2, 18, 1, 17, 10, 13, 10, 1, 25, 10, 17, 10, 18, 1, 3, 10, 16, 29, 10, 18, 4, 18, 1, 23, 28, 36, 10, 36, 28, 20, 10, 1, 9, 10, 4, 1, 11, 10, 1, 13, 10, 9, 10, 1, 12, 10, 16, 10, 1, 11, 10, 1, 11, 4, 1, 23, 15, 12, 15, 1, 11, 10, 1, 8, 10, 15, 1, 3, 10, 18, 1, 13, 4, 13, 4, 18, 1, 48, 17, 28, 1, 8, 10, 19, 1, 9, 10, 4, 1, 11, 10, 1, 6, 28, 1, 16, 10, 19, 10, 19, 19, 10, 17, 10, 19, 1, 13, 4, 13, 4, 18, 1, 48, 17, 28, 26, 10, 19, 10, 18, 9, 10, 1, 9, 10, 4, 1, 11, 10, 1, 27, 15, 11, 10, 1, 47, 10, 16, 16, 10, 1, 11, 10, 1, 8, 10, 15, 1, 3, 10, 18, 1, 32, 4, 13, 4, 18, 1, 26, 10, 19, 10, 18, 9, 10], '200702-010847_hau_e35_elicit_509': [11, 10, 1, 16, 4, 14, 2, 1, 46, 28, 46, 10, 19, 1, 6, 15, 5, 10, 1, 16, 10, 19, 10, 19, 19, 10, 17, 10, 19, 1, 32, 4, 13, 4, 18, 1, 23, 10, 13, 9, 4, 18, 10, 1, 12, 10, 1, 53, 4, 12, 10, 18, 1, 35, 10, 19, 4, 12, 10, 19, 1, 32, 4, 19, 10, 11, 28, 16, 1, 9, 10, 18, 18, 10, 18, 1, 11, 10, 1, 27, 15, 11, 10, 1, 23, 15, 12, 15, 1, 11, 10, 1, 9, 8, 4, 25, 10, 1, 26, 10, 25, 25, 2, 1, 13, 10, 1, 56, 28, 29, 10, 19, 1, 21, 10, 29, 10, 1, 13, 10, 1, 25, 10, 18, 10, 1, 23, 10, 9, 15, 5, 10, 19, 1, 21, 10, 29, 10, 1, 11, 10, 1, 16, 4, 14, 2, 1, 23, 15, 12, 15, 1, 16, 10, 9, 28, 1, 53, 10, 17, 10, 9], '200702-010847_hau_e35_elicit_510': [11, 10, 1, 29, 4, 13, 10, 1, 13, 10, 1, 56, 28, 29, 10, 19, 1, 30, 17, 17, 10, 20, 2, 1, 12, 10, 1, 3, 2, 1, 3, 10, 20, 20, 28, 18, 1, 3, 10, 9, 15, 5, 10, 19, 1, 23, 10, 18, 13, 4, 18, 1, 23, 5, 10, 19, 4, 1, 11, 10, 1, 11, 4, 1, 3, 10, 16, 10, 19, 1, 6, 10, 4, 1, 9, 8, 4, 25, 10, 1, 23, 10, 9, 15, 5, 10, 19, 1, 23, 10, 18, 13, 4, 18, 1, 23, 5, 10, 19, 4, 1, 9, 10, 4, 1, 11, 10, 1, 13, 10, 9, 10, 1, 12, 10, 16, 10, 1, 11, 10, 1, 27, 15, 11, 10, 1, 47, 10, 16, 16, 10, 1, 11, 10, 1, 5, 15, 36, 2], '200702-010847_hau_e35_elicit_512': [48, 12, 10, 18, 1, 9, 10, 19, 3, 4, 1, 11, 10, 1, 9, 10, 15, 3, 10, 1, 9, 10, 4, 1, 8, 10, 3, 4, 16, 10, 4, 1, 9, 15, 1, 11, 4, 1, 25, 10, 4, 9, 15, 5, 10, 1, 3, 10, 16, 10, 19, 1, 11, 10, 12, 12, 10, 1, 10, 3, 10, 1, 9, 10, 17, 10, 1, 39, 10, 11, 10, 18, 1, 10, 18, 1, 25, 10, 16, 10, 1, 3, 10, 19, 31, 10, 19, 1, 25, 10, 4, 9, 15, 5, 10, 1, 3, 15, 16, 10, 1, 9, 10, 4, 1, 9, 10, 19, 3, 4, 1, 11, 10, 1, 9, 8, 4, 25, 10, 1, 25, 4, 12, 10, 1, 13, 10, 1, 56, 28, 29, 10, 19, 1, 26, 10, 13, 10, 20, 5, 10], '200702-010847_hau_e35_elicit_513': [7, 10, 5, 10, 18, 1, 33, 10, 15, 9, 8, 2], '200702-010847_hau_e35_elicit_514': [7, 10, 5, 10, 18, 1, 33, 10, 15, 9, 8, 2, 1, 8, 10, 5, 10, 1, 18, 2, 1, 12, 10, 1, 10, 3, 10, 1, 29, 10, 19, 10, 1, 11, 4, 18, 1, 9, 10, 1, 10, 1, 6, 10, 16, 10, 16, 4, 18, 1, 9, 10, 19, 3, 4, 18, 1, 23, 10, 18, 28, 1, 50, 9, 16, 10, 18, 15, 1, 48, 1, 23, 10, 16, 10, 19, 1, 11, 10, 12, 12, 10, 1, 9, 15, 18, 10, 18, 1, 11, 10, 3, 2, 1, 10, 18, 1, 11, 4, 1, 8, 10, 5, 10, 18, 1, 18, 2, 1, 9, 10, 17, 28, 12, 10, 1, 5, 10, 18, 4, 1, 9, 8, 10, 16, 10, 3, 4, 18, 1, 9, 10, 19, 3, 4, 1, 16, 10, 4, 1, 9, 15, 18, 10, 1, 7, 10, 19, 15, 18, 10, 1, 33, 10, 15, 9, 8, 2], '200702-010847_hau_e35_elicit_515': [47, 10, 12, 12, 10, 1, 10, 17, 4, 18, 1, 11, 10, 1, 9, 10, 16, 28, 1, 10, 9, 10, 20, 4, 1, 9, 8, 4, 1, 18, 2, 1, 36, 2, 5, 10, 1, 10, 3, 5, 10, 4, 1, 5, 10, 18, 4, 1, 9, 8, 10, 16, 10, 3, 4, 18, 1, 22, 10, 19, 3, 4, 18, 1, 23, 10, 18, 28, 1, 50, 9, 16, 10, 18, 1, 48, 1, 16, 10, 4, 1, 9, 15, 18, 10, 1, 7, 10, 19, 15, 18, 10, 1, 33, 10, 15, 9, 8, 2, 1, 12, 10, 1, 11, 10, 1, 3, 10, 16, 15, 1, 12, 10, 1, 19, 10, 9, 8, 4, 18, 1, 20, 10, 29, 4, 11, 10, 19, 1, 12, 10, 1, 13, 10, 1, 8, 10, 18, 10, 1, 9, 8, 4, 1, 6, 15, 5, 10, 1, 16, 10, 9, 10, 20, 20, 10, 36, 4, 18, 1, 4, 12, 4, 1, 10, 1, 19, 10, 18, 10, 19, 1, 9, 10, 20, 20, 10], '200702-010847_hau_e35_elicit_516': [22, 10, 17, 28, 12, 10, 1, 5, 10, 18, 18, 10, 18, 1, 12, 10, 20, 4, 20, 4, 1, 9, 10, 4, 1, 11, 10, 1, 6, 10, 16, 10, 1, 17, 10, 1, 10, 1, 11, 4, 1, 8, 10, 5, 10, 18, 1, 4, 12, 4, 1, 12, 10, 1, 9, 8, 4, 1, 17, 10, 1, 21, 10, 9, 8, 2, 25, 10, 19, 4, 1, 12, 10, 1, 11, 10, 1, 9, 10, 16, 15, 1, 20, 10, 29, 4, 11, 10, 1, 9, 10, 4, 1, 11, 10, 1, 27, 2, 1, 6, 10, 16, 10, 18, 1, 29, 10, 12, 10, 1, 3, 10, 16, 10, 19, 1, 11, 10, 12, 12, 10, 1, 10, 3, 10, 1, 9, 10, 17, 10], '200702-010847_hau_e35_elicit_517': [33, 10, 1, 11, 10, 1, 27, 2, 1, 25, 10, 4, 9, 8, 2, 1, 12, 10, 1, 9, 10, 19, 3, 4, 1, 9, 10, 4, 1, 11, 10, 3, 2, 1, 25, 10, 11, 10, 1, 5, 10, 1, 9, 10, 19, 3, 4, 1, 36, 2, 5, 10, 1, 9, 8, 4, 1, 27, 4, 11, 10, 1, 17, 10, 4, 1, 9, 10, 16, 15, 1, 6, 15, 5, 10, 1, 16, 10, 9, 10, 20, 20, 10, 36, 4, 1, 17, 10, 1, 17, 10, 20, 20, 10, 13, 10, 18, 10, 1, 11, 10, 1, 9, 10, 16, 15, 1, 8, 10, 5, 10, 1, 9, 10, 17, 28, 12, 10, 1, 19, 10, 9, 8, 4, 18, 1, 20, 10, 29, 4, 11, 10], '200702-010847_hau_e35_elicit_518': [47, 10, 1, 25, 10, 16, 10, 1, 29, 10, 46, 4, 18, 1, 8, 10, 3, 10, 1, 9, 10, 4, 1, 9, 10, 19, 3, 4, 1, 11, 10, 1, 13, 10, 16, 17, 10, 11, 2, 1, 9, 8, 4, 1, 36, 2, 5, 10, 1, 47, 10, 18, 6, 15, 1, 3, 10, 1, 9, 10, 16, 15, 1, 20, 10, 29, 4, 11, 10, 19, 1, 12, 10, 1, 6, 10, 1, 3, 10, 1, 4, 11, 10, 1, 8, 10, 5, 10, 1, 22, 10, 4, 1, 11, 10, 1, 17, 10, 11, 10, 19, 1, 12, 10, 1, 10, 16, 9, 10, 1, 12, 10, 1, 36, 2, 5, 10, 1, 11, 10, 1, 9, 10, 16, 15, 1, 22, 10, 4, 1, 9, 10, 19, 3, 4, 1, 11, 10, 1, 14, 10, 19, 10, 1, 36, 2, 5, 10, 1, 12, 10, 1, 9, 8, 4, 1, 32, 28, 1, 11, 10, 15, 1, 6, 10, 1, 10, 1, 11, 4, 1, 16, 10, 3, 10, 1, 18, 10, 3, 10, 1, 8, 10, 5, 10, 18], '200702-010847_hau_e35_elicit_522': [30, 1, 18, 10, 18, 1, 3, 15, 16, 10, 1, 9, 10, 4, 1, 9, 10, 15, 19, 10, 18, 1, 16, 10, 8, 10, 11, 10, 1, 9, 15, 3, 10, 1, 19, 4, 14, 10, 1, 6, 15, 5, 10, 1, 9, 15, 18, 10, 1, 11, 4, 1, 5, 10, 1, 9, 10, 19, 3, 4, 1, 27, 4, 18, 27, 4, 18, 10, 1, 33, 10, 1, 10, 3, 10, 1, 14, 10, 19, 2, 1, 12, 15, 3, 10, 1, 9, 10, 4, 1, 9, 10, 19, 3, 4, 1, 11, 10, 1, 27, 10, 1, 11, 10, 1, 9, 8, 4, 25, 10, 1, 25, 4, 12, 10, 1, 9, 10, 15, 19, 10, 18, 1, 27, 10, 16, 10, 10, 1, 16, 10, 1, 3, 28, 5, 10, 1, 11, 10, 1, 13, 10, 29, 4, 1, 18, 10, 9, 10, 1, 25, 4, 12, 10, 18], '200702-010847_hau_e35_elicit_523': [7, 10, 5, 10, 18, 1, 43, 28, 19, 10, 11, 4], '200702-010847_hau_e35_elicit_524': [21, 10, 18, 18, 10, 18, 1, 8, 10, 5, 10, 1, 9, 8, 4, 1, 18, 2, 1, 36, 4, 3, 10, 16, 10, 3, 28, 18, 1, 8, 10, 5, 10, 18, 1, 17, 15, 3, 15, 3, 15, 5, 10, 18, 1, 22, 10, 20, 20, 10, 19, 1, 30, 6, 15, 16, 4, 1, 10, 1, 23, 10, 18, 28, 1, 30, 18, 10, 1, 11, 4, 18, 1, 9, 10, 1, 10, 1, 19, 10, 18, 10, 1, 13, 10, 1, 17, 4, 11, 10, 19, 1, 12, 10, 1, 9, 10, 20, 20, 10, 1, 23, 2, 18, 10, 18, 1, 19, 10, 18, 10, 19, 1, 46, 10, 11, 10, 1, 12, 10, 1, 17, 4, 11, 15, 1, 10, 18, 10, 1, 7, 10, 5, 10, 18, 1, 48, 12, 4, 1, 12, 10, 1, 18, 10, 1, 33, 10, 15, 9, 8, 2], '200702-010847_hau_e35_elicit_525': [24, 10, 18, 10, 1, 13, 10, 1, 15, 3, 15, 1, 8, 15, 13, 15, 1, 19, 10, 18, 10, 1, 13, 10, 1, 8, 15, 46, 15, 1, 3, 15, 16, 10, 1, 38, 10, 9, 9, 10, 19, 10, 5, 10, 1, 9, 10, 4, 1, 3, 15, 16, 10, 1, 13, 10, 1, 17, 4, 11, 10, 19, 1, 10, 1, 27, 2, 1, 43, 28, 19, 10, 11, 4, 1, 7, 10, 5, 10, 1, 11, 10, 1, 14, 10, 19, 2, 1, 3, 2, 18, 10, 18, 1, 9, 10, 4, 1, 3, 15, 16, 10, 1, 10, 1, 27, 4, 19, 10, 1, 9, 10, 20, 20, 10, 19, 1, 20, 10, 11, 11, 10], '200702-010847_hau_e35_elicit_526': [48, 12, 10, 18, 1, 9, 10, 19, 3, 4, 1, 11, 10, 1, 11, 4, 1, 8, 10, 5, 10, 1, 12, 10, 25, 10, 1, 36, 4, 3, 4, 18, 1, 25, 4, 12, 10, 1, 10, 1, 5, 10, 18, 18, 10, 18, 1, 19, 10, 18, 10, 1, 13, 10, 1, 7, 10, 5, 10, 18, 1, 43, 28, 19, 10, 11, 4, 1, 11, 10, 3, 10, 18, 1, 29, 4, 13, 28, 1, 18, 2, 1, 13, 10, 1, 56, 28, 29, 10, 19, 1, 56, 5, 10, 19, 15, 1, 33, 10, 25, 10, 1, 18, 10, 18, 1, 9, 10, 4, 1, 11, 10, 1, 9, 10, 3, 10, 1, 25, 10, 17, 10, 18, 9, 10, 1, 47, 10, 16, 16, 10, 1, 11, 10, 1, 8, 10, 15, 1, 32, 4, 13, 4, 18, 1, 6, 15, 5, 10, 1, 37, 10, 18, 12, 5, 10, 19, 4, 1, 9, 10, 4, 1, 32, 10, 20, 15, 12, 15, 1, 9, 10, 4, 1, 23, 5, 10, 18, 10, 19, 1, 26, 59, 60], '200702-010847_hau_e35_elicit_528': [22, 10, 18, 18, 10, 18, 1, 11, 10, 1, 19, 10, 31, 10, 1, 13, 10, 1, 27, 4, 3, 4, 18, 1, 3, 10, 13, 10, 18, 25, 10, 19, 1, 23, 15, 12, 15, 1, 13, 10, 1, 27, 10, 16, 4, 10, 19, 1, 8, 10, 19, 1, 9, 10, 4, 1, 11, 10, 1, 27, 2, 1, 16, 10, 19, 10, 19, 19, 10, 17, 10, 19, 1, 25, 4, 12, 10, 18, 1, 16, 10, 8, 10, 15, 3, 10, 13, 10, 1, 18, 10, 1, 43, 28, 19, 10, 11, 4, 1, 9, 10, 18, 18, 10, 18, 1, 11, 10, 1, 3, 10, 19, 11, 10, 3, 10, 1, 11, 10, 1, 14, 10, 19, 10, 9, 10, 1, 14, 28, 29, 10, 19, 1, 25, 4, 12, 10, 18, 1, 9, 10, 19, 3, 4, 1, 18, 10, 1, 43, 28, 19, 10, 11, 4, 1, 11, 10, 1, 27, 10, 1, 11, 10, 1, 13, 9, 10, 11, 10], '200702-010847_hau_e35_elicit_529': [48, 12, 10, 18, 1, 11, 10, 1, 13, 9, 10, 11, 10, 1, 9, 10, 4, 1, 8, 10, 3, 4, 16, 10, 18, 1, 9, 10, 19, 3, 4, 1, 9, 15, 1, 19, 4, 14, 10, 1, 6, 15, 5, 10, 1, 12, 10, 1, 9, 15, 3, 15, 5, 10, 1, 9, 15, 18, 10, 1, 27, 2, 19, 15, 5, 10, 1, 10, 1, 25, 2, 29, 2, 18, 1, 8, 10, 25, 15, 1, 12, 10, 1, 12, 10, 16, 10, 1, 8, 10, 19, 1, 9, 10, 4, 1, 9, 15, 18, 1, 25, 10, 16, 10, 1, 6, 15, 5, 10, 1, 22, 10, 4, 1, 9, 10, 19, 3, 4, 1, 11, 10, 1, 9, 10, 15, 3, 10, 1, 11, 10, 1, 17, 4, 1, 13, 10, 1, 13, 9, 10, 3, 4, 11, 10, 19, 1, 9, 15, 1, 11, 10, 1, 9, 8, 4, 25, 10, 1, 25, 4, 12, 10, 1, 22, 10, 18, 18, 10, 18, 1, 9, 15, 16, 10, 1, 3, 28, 5, 10, 1, 11, 10, 1, 9, 10, 15, 3, 10], '200702-010847_hau_e35_elicit_530': [39, 10, 11, 10, 18, 1, 9, 10, 19, 3, 4, 1, 11, 10, 1, 46, 10, 18, 1, 8, 15, 13, 10, 1, 9, 10, 4, 1, 3, 15, 16, 10, 1, 11, 10, 1, 29, 4, 13, 28, 1, 29, 10, 12, 10, 19, 9, 10, 1, 13, 10, 1, 25, 4, 12, 10, 18, 1, 11, 10, 1, 6, 10, 15, 18, 10, 1, 7, 10, 3, 4, 16, 10, 4, 1, 12, 10, 1, 9, 10, 15, 19, 10, 18, 1, 16, 10, 9, 15, 1, 19, 4, 14, 2, 1, 12, 10, 1, 16, 15, 14, 10, 16, 10, 18, 1, 9, 10, 19, 10, 15, 13, 10, 1, 12, 15, 3, 1, 9, 15, 16, 10, 1, 9, 10, 4, 1, 9, 15, 1, 29, 4, 13, 28, 1, 9, 15, 1, 6, 28, 1, 9, 15, 1, 11, 4, 1, 25, 10, 4, 9, 15, 5, 10, 19, 1, 3, 10, 16, 10, 19, 1, 11, 10, 12, 12, 10, 1, 10, 3, 10, 1, 9, 10, 17, 10, 1, 10, 1, 29, 10, 12, 10, 1, 9, 10, 18, 18, 10, 18, 1, 9, 15, 1, 6, 10, 15, 18, 10], '200702-010847_hau_e35_elicit_531': [39, 10, 11, 10, 18, 1, 29, 10, 12, 10, 1, 13, 10, 1, 13, 10, 9, 8, 4, 1, 9, 10, 4, 1, 3, 28, 5, 10, 1, 11, 10, 1, 3, 28, 16, 10, 1, 16, 10, 9, 10, 15, 3, 4, 1, 48, 12, 10, 18, 1, 10, 3, 10, 1, 11, 4, 1, 9, 10, 20, 20, 10, 19, 1, 58, 10, 10, 9, 10, 19, 1, 9, 10, 4, 1, 3, 15, 16, 10, 1, 10, 1, 9, 10, 3, 2, 1, 8, 10, 5, 10, 1, 10, 1, 3, 28, 16, 10, 1, 25, 4, 12, 10, 1, 33, 10, 1, 29, 10, 19, 3, 28, 1, 6, 10, 1, 17, 4, 1, 13, 10, 1, 8, 10, 18, 11, 10, 19, 1, 12, 10, 1, 10, 3, 10, 1, 13, 10, 29, 4], '200702-010847_hau_e35_elicit_532': [8, 10, 19, 1, 6, 15, 5, 10, 1, 9, 8, 10, 13, 10, 20, 2, 13, 10, 20, 2, 18, 1, 32, 10, 15, 20, 15, 12, 15, 1, 48, 12, 10, 18, 1, 10, 3, 10, 1, 6, 28, 1, 18, 10, 18, 1, 9, 10, 4, 1, 9, 10, 19, 3, 4, 1, 11, 10, 1, 3, 10, 19, 11, 10, 1, 6, 15, 5, 10, 1, 7, 10, 25, 15, 1, 30, 19, 2, 5, 10, 1, 11, 10, 1, 17, 4, 1, 13, 4, 13, 4, 18, 1, 37, 10, 20, 10, 16, 1, 30, 16, 4, 18, 15, 1, 23, 10, 18, 28, 1, 8, 10, 19, 1, 6, 15, 5, 10, 1, 16, 10, 19, 10, 19, 19, 10, 17, 10, 19, 1, 25, 4, 12, 10, 18, 11, 10, 19, 4, 1, 12, 10, 1, 3, 2, 1, 53, 5, 10, 15, 19, 28, 18, 1, 33, 15, 13, 9, 2], '200702-010847_hau_e35_elicit_534': [8, 10, 19, 1, 6, 15, 5, 10, 1, 16, 10, 19, 10, 19, 19, 10, 17, 10, 19, 1, 13, 4, 13, 4, 18, 1, 22, 28, 19, 28, 18, 1, 43, 4, 18, 3, 4, 1, 9, 10, 18, 18, 10, 18, 1, 11, 10, 1, 27, 15, 11, 10, 1, 23, 15, 12, 15, 1, 11, 10, 1, 18, 15, 29, 4, 1, 25, 4, 12, 10, 18, 1, 22, 8, 10, 13, 4, 16, 10, 1, 48, 12, 10, 18, 1, 11, 10, 1, 6, 28, 1, 25, 4, 12, 10, 18, 1, 22, 8, 10, 13, 4, 16, 10, 1, 9, 10, 4, 1, 11, 10, 1, 27, 10, 1, 11, 10, 1, 13, 9, 10, 11, 10], '200702-010847_hau_e35_elicit_535': [7, 10, 3, 4, 16, 10, 4, 1, 9, 15, 1, 25, 10, 16, 10, 1, 5, 15, 36, 2, 1, 9, 8, 4, 1, 9, 15, 18, 10, 1, 9, 15, 3, 15, 5, 10, 1, 9, 15, 1, 27, 2, 1, 9, 15, 1, 27, 4, 19, 10, 1, 9, 8, 4, 1, 3, 10, 46, 10, 18, 1, 10, 1, 56, 28, 29, 10, 19, 1, 56, 5, 10, 19, 15, 1, 48, 12, 10, 18, 1, 9, 15, 3, 10, 1, 25, 10, 16, 10, 1, 27, 2, 19, 15, 5, 10, 1, 3, 10, 16, 10, 19, 1, 11, 10, 12, 12, 10, 1, 9, 15, 3, 10, 1, 11, 4, 1, 10, 1, 43, 28, 19, 10, 11, 4, 1, 8, 10, 25, 15, 1, 12, 10, 1, 12, 10, 16, 10, 1, 9, 10, 4, 1, 9, 10, 19, 3, 4, 1, 11, 10, 1, 6, 28, 1, 11, 10, 1, 9, 10, 15, 3, 10, 1, 11, 10, 1, 19, 10, 13, 9, 10, 1, 13, 10, 1, 13, 9, 10, 3, 4, 11, 10, 19, 1, 9, 15, 1, 11, 10, 1, 9, 8, 4, 25, 10, 1, 25, 4, 12, 10], '200702-010847_hau_e35_elicit_536': [7, 10, 5, 10, 18, 1, 26, 10, 18, 4, 9, 10, 15], '200702-010847_hau_e35_elicit_537': [7, 10, 5, 10, 18, 1, 26, 10, 18, 4, 9, 10, 15, 1, 9, 8, 4, 1, 18, 2, 1, 36, 4, 3, 10, 16, 10, 3, 28, 18, 1, 8, 10, 5, 10, 18, 1, 12, 10, 1, 9, 10, 19, 3, 4, 1, 11, 10, 3, 2, 1, 11, 4, 1, 10, 1, 8, 10, 5, 10, 18, 1, 22, 10, 20, 20, 10, 19, 1, 58, 10, 11, 11, 10, 1, 22, 8, 4, 1, 3, 15, 16, 10, 1, 10, 18, 10, 1, 11, 4, 18, 1, 9, 10, 1, 10, 1, 19, 10, 18, 10, 19, 1, 8, 15, 46, 15, 1, 25, 10, 1, 9, 10, 20, 20, 10], '200702-010847_hau_e35_elicit_539': [22, 10, 4, 1, 11, 10, 1, 13, 10, 9, 10, 1, 30, 19, 2, 5, 10, 1, 11, 10, 1, 17, 4, 1, 13, 4, 13, 4, 18, 48, 39, 39, 13, 10, 1, 25, 10, 17, 10, 18, 23, 10, 9, 15, 5, 10, 1, 50, 27, 4, 20, 2, 1, 13, 10, 1, 25, 10, 17, 10, 18, 1, 29, 4, 20, 4, 18, 1, 33, 10, 20, 10, 19, 1, 53, 10, 11, 10, 46, 10, 1, 11, 10, 1, 13, 9, 10, 20, 20, 10, 3, 10, 1, 16, 10, 19, 10, 19, 19, 10, 17, 10, 19, 1, 13, 4, 13, 4, 18, 1, 23, 10, 13, 9, 4, 18, 10, 1, 12, 10, 1, 23, 10, 9, 15, 5, 10, 19, 1, 22, 10, 18, 9, 10, 18, 18, 4, 18, 1, 30, 20, 8, 10, 6, 10, 4, 1, 47, 10, 1, 25, 10, 18, 25, 10, 19, 10, 1, 13, 10, 1, 9, 10, 18, 9, 10, 18, 4, 18, 1, 9, 28, 27, 28, 27, 4, 18, 1, 9, 10, 16, 10], '200702-010847_hau_e35_elicit_540': [48, 12, 10, 18, 1, 11, 10, 1, 27, 2, 1, 14, 10, 19, 9, 8, 2, 18, 1, 9, 8, 4, 18, 25, 2, 18, 1, 9, 10, 18, 9, 10, 18, 4, 18, 1, 9, 10, 4, 1, 11, 10, 1, 3, 10, 19, 11, 10, 3, 10, 1, 8, 10, 25, 15, 1, 11, 10, 1, 9, 8, 4, 25, 10, 1, 46, 28, 46, 10, 19, 1, 8, 10, 19, 1, 6, 15, 5, 10, 1, 26, 10, 18, 4, 9, 10, 15], '200702-010847_hau_e35_elicit_541': [47, 10, 18, 6, 15, 1, 9, 10, 19, 3, 4, 1, 11, 10, 1, 4, 9, 28, 1, 26, 10, 18, 4, 9, 10, 15, 1, 13, 15, 18, 1, 29, 4, 13, 28, 5, 10, 19, 1, 9, 10, 19, 3, 4, 1, 12, 10, 25, 10, 1, 25, 4, 12, 10, 1, 10, 3, 5, 10, 4, 1, 5, 10, 9, 15, 1, 8, 10, 3, 4, 16, 10, 4, 1, 10, 1, 25, 10, 17, 10, 18, 9, 10, 1, 5, 10, 9, 15, 1, 3, 15, 16, 10, 1, 10, 1, 17, 10, 11, 10, 18, 9, 10, 1, 3, 10, 16, 10, 19, 1, 11, 10, 12, 12, 10, 1, 10, 3, 2, 1, 11, 4, 1, 10, 1, 8, 10, 5, 10, 18, 1, 43, 28, 19, 10, 11, 4], '200702-010847_hau_e35_elicit_542': [7, 10, 3, 4, 16, 10, 18, 1, 25, 10, 17, 10, 18, 9, 10, 1, 6, 10, 1, 9, 15, 1, 31, 15, 19, 13, 10, 18, 2, 1, 12, 10, 1, 9, 15, 3, 15, 5, 10, 1, 9, 15, 1, 3, 10, 4, 1, 14, 28, 29, 10, 19, 1, 25, 4, 12, 10, 18, 1, 9, 10, 19, 3, 4, 1, 18, 10, 1, 26, 10, 18, 4, 9, 10, 15, 1, 9, 15, 1, 13, 9, 10, 11, 10, 1, 48, 12, 10, 18, 1, 9, 10, 19, 3, 4, 1, 11, 10, 1, 6, 28, 1, 25, 10, 17, 1, 12, 10, 1, 25, 4, 12, 10, 18, 1, 10, 1, 29, 4, 20, 4, 18], '200702-010847_hau_e35_elicit_543': [14, 28, 29, 10, 19, 1, 25, 4, 12, 10, 1, 9, 10, 4, 1, 11, 10, 1, 27, 10, 1, 11, 10, 1, 12, 10, 3, 10, 13, 10, 1, 8, 10, 19, 1, 9, 10, 4, 1, 9, 10, 15, 19, 10, 18, 1, 8, 10, 3, 4, 16, 10, 18, 1, 17, 10, 11, 10, 1, 9, 15, 18, 1, 9, 8, 4, 25, 2, 1, 9, 8, 4, 1, 9, 15, 18, 1, 27, 2, 1, 9, 15, 18, 1, 11, 4, 1, 27, 2, 19, 2, 1, 12, 10, 1, 9, 15, 1, 12, 10, 1, 5, 10, 46, 10, 18, 12, 10, 1, 9, 15, 3, 10, 1, 19, 4, 25, 10, 11, 2, 1, 9, 15, 1, 12, 10, 16, 10, 1, 12, 10, 1, 8, 10, 25, 15, 1, 9, 10, 18, 18, 10, 18, 1, 9, 10, 19, 3, 4, 1, 11, 10, 1, 9, 10, 15, 3, 10, 1, 11, 10, 1, 19, 10, 13, 9, 10, 1, 13, 10, 1, 13, 9, 10, 3, 4, 11, 10, 19, 9, 15, 1, 11, 10, 1, 9, 8, 4, 25, 10, 1, 25, 4, 12, 10, 1, 22, 10, 18, 18, 10, 18, 1, 9, 15, 16, 10, 1, 9, 15, 1, 9, 10, 15, 3, 10, 1, 9, 15, 1, 13, 10, 29, 4, 1, 16, 10, 9, 10, 15, 3, 4], '200702-010847_hau_e35_elicit_544': [39, 10, 11, 10, 18, 1, 9, 10, 19, 3, 4, 1, 11, 10, 1, 46, 10, 18, 1, 8, 15, 13, 10, 1, 9, 10, 4, 1, 11, 10, 1, 29, 4, 13, 28, 1, 29, 10, 12, 10, 1, 8, 10, 3, 10, 1, 18, 10, 18, 1, 16, 10, 1, 8, 10, 3, 4, 16, 10, 4, 1, 12, 10, 1, 9, 10, 15, 19, 10, 18, 1, 16, 10, 9, 15, 1, 9, 10, 19, 10, 15, 13, 10, 1, 48, 12, 10, 18, 1, 10, 3, 10, 1, 11, 4, 1, 25, 10, 4, 9, 15, 5, 10, 1, 10, 3, 10, 1, 13, 10, 9, 8, 4, 1, 9, 10, 4, 1, 3, 15, 16, 10, 1, 10, 1, 11, 4, 1, 9, 10, 20, 20, 10, 19, 1, 30, 6, 10, 8, 10, 19], '200702-010847_hau_e35_elicit_545': [30, 18, 10, 1, 4, 12, 10, 19, 1, 12, 10, 1, 9, 10, 20, 20, 10, 1, 9, 10, 4, 1, 16, 10, 4, 1, 13, 10, 1, 29, 10, 19, 4, 1, 11, 10, 1, 8, 10, 19, 17, 10, 1, 9, 10, 4, 1, 10, 1, 29, 10, 19, 10, 1, 9, 8, 4, 19, 11, 2, 9, 8, 4, 19, 11, 2, 18, 1, 8, 10, 5, 10, 1, 8, 10, 19, 1, 6, 15, 5, 10, 1, 9, 10, 20, 20, 10, 19, 1, 20, 10, 10, 9, 10, 19, 1, 30, 18, 10, 1, 4, 12, 10, 19, 1, 12, 10, 1, 9, 10, 20, 20, 10, 19, 1, 58, 10, 10, 9, 10, 19, 1, 9, 10, 4, 1, 9, 10, 19, 3, 4, 1, 11, 10, 1, 8, 10, 15, 1, 22, 10, 4, 1, 25, 4, 12, 10], '200702-010847_hau_e35_elicit_546': [30, 18, 10, 1, 9, 10, 3, 2, 1, 12, 10, 5, 28, 5, 10, 1, 13, 10, 1, 8, 10, 18, 11, 10, 19, 1, 12, 10, 1, 10, 3, 10, 1, 17, 4, 1, 8, 10, 19, 1, 6, 15, 5, 10, 1, 56, 28, 29, 10, 19, 1, 37, 10, 6, 15, 25, 10, 20, 1, 48, 12, 10, 18, 1, 9, 10, 19, 3, 4, 1, 11, 10, 1, 9, 8, 4, 25, 2, 1, 13, 10, 1, 53, 10, 17, 10, 9, 1, 11, 10, 1, 9, 10, 3, 10, 1, 25, 10, 17, 10, 18, 9, 10, 1, 47, 10, 16, 16, 10, 1, 9, 10, 4, 1, 11, 10, 1, 16, 4, 14, 2, 1, 46, 28, 46, 10, 19, 1, 8, 10, 19, 1, 6, 15, 5, 10, 1, 16, 10, 19, 10, 19, 19, 10, 17, 10, 19, 1, 23, 5, 10, 18, 10, 19, 1, 33, 10, 20, 10], '200702-010847_hau_e35_elicit_547': [9, 10, 18, 18, 10, 18, 1, 11, 10, 1, 13, 10, 9, 10, 1, 23, 15, 12, 15, 1, 11, 10, 1, 9, 8, 4, 25, 10, 1, 3, 5, 10, 18, 10, 19, 1, 33, 10, 20, 10, 1, 11, 10, 1, 17, 4, 1, 13, 10, 1, 18, 2, 9, 10, 1, 3, 10, 46, 10, 18, 1, 12, 10, 33, 15, 13, 9, 2, 18, 1, 33, 10, 20, 10, 1, 8, 10, 19, 1, 6, 15, 5, 10, 1, 23, 5, 10, 18, 10, 19, 1, 12, 10, 20, 10, 1, 33, 10, 25, 10, 1, 18, 10, 18, 1, 9, 10, 4], '200702-010847_hau_e35_elicit_548': [49, 47, 10, 18, 1, 25, 15, 19, 10, 9, 10, 1, 39, 10, 3, 4, 18, 1, 34, 15, 5, 28, 1, 32, 15, 12, 15, 18, 1, 21, 10, 12, 10, 1, 32, 15, 12, 15, 18, 1, 38, 15, 29, 10, 5, 10, 1, 23, 5, 10, 18, 10, 19, 1, 53, 28, 12, 10, 1, 37, 10, 19, 16, 10, 19, 10, 1, 6, 15, 5, 10, 1, 16, 10, 19, 10, 19, 19, 10, 17, 10, 19, 1, 23, 10, 9, 15, 5, 10, 19, 1, 37, 10, 18, 12, 10, 5, 10, 19, 4, 1, 22, 10, 4, 1, 3, 15, 16, 10, 1, 11, 10, 1, 27, 15, 11, 10, 1, 53, 10, 17, 10, 9, 1, 6, 15, 5, 10, 1, 16, 10, 19, 10, 19, 19, 10, 17, 10, 19, 1, 53, 4, 12, 10, 18, 1, 22, 8, 10, 13, 4, 16, 10], '200702-010847_hau_e35_elicit_549': [30, 1, 18, 10, 18, 1, 6, 10, 4, 1, 12, 10, 3, 10, 13, 10, 1, 17, 10, 11, 10, 18, 1, 12, 10, 16, 10, 1, 13, 15, 18, 1, 3, 10, 29, 4, 18, 1, 6, 15, 5, 10, 18, 9, 10, 1, 8, 10, 3, 4, 16, 10, 18, 1, 25, 10, 17, 10, 18, 9, 10, 1, 9, 15, 18, 1, 19, 4, 25, 10, 1, 9, 15, 1, 27, 2, 1, 56, 28, 29, 10, 19, 1, 56, 5, 10, 19, 15, 1, 12, 10, 1, 9, 15, 3, 15, 5, 10, 1, 8, 10, 3, 4, 16, 10, 18, 1, 17, 10, 11, 10, 18, 9, 10, 1, 9, 15, 1, 6, 28, 1, 9, 15, 1, 5, 15, 36, 2, 1, 9, 8, 4, 1, 12, 10, 1, 9, 15, 3, 15, 5, 10], '200702-010847_hau_e35_elicit_550': [39, 10, 11, 10, 18, 1, 9, 15, 18, 1, 25, 10, 16, 10, 1, 27, 2, 19, 15, 5, 10, 1, 8, 10, 25, 15, 1, 12, 10, 1, 12, 10, 16, 10, 1, 9, 10, 4, 1, 9, 10, 19, 3, 4, 1, 11, 10, 1, 14, 10, 19, 10, 9, 10, 1, 11, 10, 1, 9, 10, 15, 3, 10, 1, 11, 10, 1, 19, 10, 13, 9, 10, 1, 13, 10, 1, 13, 9, 10, 3, 4, 11, 10, 19, 1, 9, 15, 1, 9, 15, 18, 10, 1, 25, 10, 4, 9, 15, 5, 10, 1, 10, 18, 10, 1, 3, 10, 19, 31, 10, 1, 48, 12, 10, 18, 1, 9, 10, 19, 3, 4, 1, 11, 10, 1, 9, 8, 4, 25, 10, 1, 25, 4, 12, 10, 1, 9, 10, 4, 1, 9, 10, 15, 19, 10, 18], '200702-010847_hau_e35_elicit_551': [16, 10, 8, 10, 11, 10, 1, 9, 15, 1, 9, 10, 15, 3, 10, 1, 9, 15, 1, 13, 10, 29, 4, 1, 18, 10, 9, 15, 1, 25, 4, 12, 10, 27, 2, 18, 1, 9, 10, 4, 1, 3, 15, 16, 10, 1, 9, 8, 2, 3, 10, 19, 10, 1, 4, 12, 10, 18, 1, 30, 20, 20, 10, 8, 1, 11, 10, 1, 3, 10, 4, 1, 16, 15], '200702-010847_hau_e35_elicit_552': [53, 4, 12, 10, 18, 1, 43, 10, 18, 8, 10, 15, 9, 10], '200702-010847_hau_e35_elicit_553': [53, 4, 12, 10, 1, 18, 2, 1, 18, 10, 1, 9, 10, 19, 10, 15, 13, 10, 1, 12, 10, 1, 9, 10, 19, 3, 4, 18, 1, 23, 10, 18, 28, 1, 30, 17, 12, 15, 20, 20, 10, 8, 4, 1, 43, 10, 18, 1, 33, 10, 17, 28, 1, 11, 10, 1, 25, 4, 18, 10, 1, 9, 8, 4, 1, 10, 1, 42, 45, 52, 52, 1, 30, 9, 10, 20, 4, 18, 1, 3, 10, 29, 15, 5, 10, 19, 1, 5, 10, 18, 18, 10, 18, 1, 25, 4, 12, 10, 1, 9, 8, 4, 1, 18, 2, 1, 36, 2, 5, 10, 1, 5, 10, 13, 10, 1, 19, 10, 18, 10, 1, 9, 10, 19, 3, 4, 1, 11, 10, 1, 11, 4, 1, 8, 10, 5, 10, 18, 1, 3, 4, 20, 4, 9, 10], '200702-010847_hau_e35_elicit_554': [11, 10, 1, 29, 4, 13, 10, 1, 6, 15, 5, 10, 1, 33, 15, 13, 9, 2, 18, 1, 37, 10, 25, 5, 10, 18, 1, 33, 10, 1, 11, 10, 1, 4, 9, 10, 1, 36, 10, 18, 1, 9, 10, 4, 1, 11, 10, 1, 25, 10, 18, 25, 10, 19, 10, 1, 6, 15, 5, 10, 1, 23, 15, 12, 15, 1, 12, 10, 1, 12, 15, 13, 9, 2, 18, 1, 9, 10, 4, 1, 11, 10, 1, 9, 8, 10, 13, 10], '200702-010847_hau_e35_elicit_555': [5, 10, 18, 4, 1, 29, 4, 20, 4, 1, 9, 10, 18, 18, 10, 18, 1, 11, 10, 1, 15, 16, 10, 19, 36, 4, 1, 9, 10, 19, 3, 4, 18, 1, 25, 4, 18, 4, 18, 9, 10, 1, 12, 10, 1, 10, 1, 25, 4, 18, 10, 1, 16, 10, 9, 10, 1, 25, 4, 12, 10, 1, 10, 1, 5, 10, 18, 18, 10, 18, 1, 5, 10, 27, 2, 1, 8, 10, 19, 1, 16, 10, 1, 11, 10, 1, 9, 10, 3, 2, 1, 18, 15, 18, 10, 1, 25, 15, 19, 17, 4, 18, 1, 12, 10, 1, 6, 10, 1, 10, 1, 25, 4, 18, 10, 1, 16, 10, 9, 10, 1, 16, 10, 9, 10, 20, 20, 10, 36, 4, 1, 10, 1, 25, 10, 17, 10, 18, 1, 25, 4, 12, 10, 18], '200702-010847_hau_e35_elicit_556': [26, 15, 9, 3, 10, 19, 1, 53, 4, 12, 10, 18, 1, 22, 10, 19, 3, 4, 18, 1, 23, 10, 18, 28, 1, 38, 10, 1, 38, 10, 9, 9, 10, 19, 10, 5, 10], '200702-010847_hau_e35_elicit_557': [32, 15, 18, 1, 12, 10, 25, 10, 1, 5, 10, 18, 18, 10, 18, 1, 19, 10, 18, 10, 1, 10, 3, 10, 1, 29, 10, 19, 10, 1, 25, 4, 18, 4, 1, 25, 10, 12, 10, 18, 25, 10, 12, 10, 18, 1, 8, 10, 19, 1, 9, 10, 4, 1, 12, 10, 1, 10, 3, 10, 1, 46, 10, 15, 3, 4, 1, 13, 9, 10, 5, 28, 18, 1, 5, 10, 13, 10, 18, 18, 4, 1, 9, 8, 4, 12, 10, 1, 9, 10, 18, 18, 10, 18, 1, 10, 3, 10, 1, 3, 10, 16, 16, 10, 20, 10], '200702-010847_hau_e35_elicit_558': [39, 10, 11, 10, 18, 1, 10, 18, 1, 3, 10, 16, 16, 10, 20, 10, 1, 10, 3, 10, 1, 9, 10, 18, 10, 19, 1, 12, 10, 1, 9, 10, 19, 3, 4, 1, 9, 10, 19, 3, 4, 1, 11, 10, 1, 11, 4, 1, 8, 10, 5, 10, 1, 11, 10, 1, 27, 2, 1, 11, 10, 1, 17, 15, 46, 2, 1, 5, 10, 18, 18, 10, 18, 1, 25, 4, 12, 10, 1, 18, 10, 9, 10], '200702-010847_hau_e35_elicit_559': [37, 10, 9, 10, 20, 20, 10, 36, 4, 18, 1, 53, 4, 12, 10, 18, 1, 22, 10, 19, 3, 4, 18, 1, 23, 10, 18, 28, 1, 38, 10, 1, 38, 10, 9, 9, 10, 19, 10, 5, 10], '200702-010847_hau_e35_elicit_560': [30, 1, 3, 10, 18, 1, 8, 10, 18, 11, 10, 19, 1, 9, 10, 19, 3, 4, 1, 13, 10, 1, 12, 10, 5, 28, 5, 10, 1, 25, 4, 12, 10, 1, 9, 10, 4, 1, 11, 10, 1, 9, 8, 4, 25, 28, 1, 13, 10, 1, 14, 28, 29, 10, 19, 1, 12, 10, 1, 11, 10, 1, 29, 4, 13, 10, 1, 5, 10, 36, 36, 2, 1, 10, 1, 5, 10, 18, 36, 10, 18, 1, 20, 28, 3, 10, 36, 4, 18, 1, 10, 3, 2, 1, 3, 4, 19, 10, 18, 13, 10, 1, 12, 10, 1, 14, 28, 29, 10, 19, 1, 56, 10, 5, 10, 11, 2, 1, 33, 10, 1, 11, 10, 1, 12, 10, 5, 28, 1, 9, 10, 4, 1, 11, 10, 1, 36, 2, 1, 12, 10, 25, 10, 1, 5, 10, 18, 18, 10, 18, 1, 19, 10, 18, 10, 1, 10, 1, 19, 4, 14, 10, 1, 3, 4, 19, 10, 18, 13, 10, 1, 12, 10, 1, 56, 28, 29, 10, 19, 1, 38, 10, 9, 9, 10, 19, 10, 5, 10], '200702-010847_hau_e35_elicit_561': [32, 10, 9, 8, 10, 19, 1, 37, 10, 19, 4, 19, 4], '200702-010847_hau_e35_elicit_563': [11, 10, 1, 9, 10, 3, 10, 1, 10, 3, 10, 1, 25, 4, 18, 10, 1, 5, 10, 18, 18, 10, 18, 1, 13, 10, 9, 8, 10], '200702-010847_hau_e35_elicit_564': [32, 10, 9, 8, 10, 1, 36, 2, 1, 12, 10, 1, 13, 10, 3, 2, 1, 10, 1, 23, 15, 12, 15, 16, 10, 9, 28, 53, 10, 17, 10, 9, 8, 4, 18, 1, 25, 10, 19, 4, 18, 1, 23, 10, 18, 28, 1, 32, 10, 18, 10, 1, 18, 10, 18, 1, 10, 1, 50, 18, 25, 15, 5, 10, 19, 1, 37, 10, 19, 4, 19, 4, 1, 12, 10, 25, 10, 1, 25, 2, 29, 2, 18, 1, 47, 10, 16, 16, 10, 1, 12, 10, 1, 13, 4, 13, 4, 18, 1, 21, 15, 12, 4, 20], '200702-010847_hau_e35_elicit_565': [32, 10, 9, 8, 10, 1, 36, 2, 1, 12, 10, 1, 13, 10, 3, 2, 1, 12, 10, 1, 11, 10, 20, 5, 10, 13, 10, 36, 36, 2, 18, 1, 9, 10, 19, 10, 19, 4, 18, 1, 10, 27, 4, 11, 2, 1, 16, 28, 13, 28, 36, 4, 1, 30, 18, 10, 1, 46, 10, 15, 3, 10, 19, 1, 27, 10, 16, 10, 10, 1, 6, 15, 5, 10, 1, 25, 10, 19, 15, 19, 15, 5, 10, 18, 1, 27, 10, 8, 28, 8, 4, 18, 1, 47, 28, 17, 2, 1, 37, 10, 4, 12, 15, 25, 15, 19, 4, 1, 39, 10, 15, 36, 8, 4, 1, 53, 28, 16, 17, 2, 1, 30, 12, 10, 16, 10, 5, 10, 1, 12, 10, 1, 3, 15, 16, 10, 1, 32, 10, 19, 10, 17, 10], '200702-010847_hau_e35_elicit_567': [53, 10, 19, 15, 19, 15, 5, 10, 1, 4, 19, 4, 18, 1, 9, 15, 1, 33, 10, 19, 10, 6, 28, 1, 33, 15, 3, 3, 15, 1, 53, 28, 16, 17, 2, 1, 23, 15, 16, 28, 1, 58, 10, 29, 4, 11, 10, 18, 1, 58, 10, 16, 15, 19, 12, 2, 1, 38, 15, 16, 10, 18, 1, 38, 25, 15, 19, 28, 19, 2, 1, 37, 15, 17, 4, 1, 35, 4, 16, 2, 13, 10, 1, 47, 28, 20, 10, 1, 8, 10, 19, 1, 6, 15, 5, 10, 1, 17, 10, 3, 4, 18, 1, 4, 11, 10, 3, 10, 19, 1, 23, 10, 16, 10, 19, 15, 1, 13, 10, 1, 5, 10, 18, 18, 10, 18, 1, 8, 10, 18, 11, 10, 19, 1, 10, 18, 10, 1, 9, 10, 16, 15, 18, 1, 16, 28, 13, 10, 19, 1, 6, 15, 5, 10, 1, 25, 10, 19, 15, 19, 15, 5, 10, 18, 1, 10, 1, 13, 10, 9, 8, 10, 19], '200702-010847_hau_e35_elicit_569': [22, 10, 15, 19, 10, 18, 1, 25, 10, 19, 15, 19, 15, 5, 10, 1, 4, 19, 4, 18, 1, 9, 15, 1, 39, 4, 11, 15, 1, 33, 10, 16, 10, 13, 15, 19, 15, 1, 12, 10, 1, 9, 10, 15, 19, 10, 18, 9, 15, 1, 12, 15, 3, 1, 10, 18, 10, 1, 9, 10, 16, 15, 18, 1, 16, 28, 13, 10, 19, 1, 6, 15, 5, 10, 1, 36, 10, 18, 1, 10, 1, 5, 10, 18, 18, 10, 18, 1, 13, 10, 9, 8, 10], '200702-010847_hau_e35_elicit_570': [37, 10, 18, 10, 6, 10, 19, 13, 10], '200702-010847_hau_e35_elicit_571': [32, 10, 13, 13, 10, 15, 18, 10, 5, 10, 1, 12, 10, 1, 30, 20, 8, 10, 27, 4, 1, 35, 10, 10, 29, 10, 19, 1, 30, 17, 15, 17, 10, 3, 10, 19, 1, 30, 17, 12, 15, 20, 20, 10, 8, 4, 1, 37, 10, 19, 4, 19, 4, 1, 5, 10, 18, 12, 10, 1, 10, 3, 10, 1, 29, 4, 1, 9, 10, 18, 4, 1, 12, 10, 1, 23, 8, 10, 12, 4, 16, 15, 20, 1, 48, 9, 20, 10, 16, 1, 46, 4, 18, 1, 23, 5, 10, 18, 3, 5, 10, 9, 4, 11, 11, 10, 1, 10, 1, 19, 10, 18, 10, 19, 1, 58, 4, 13, 4, 18, 4, 18, 1, 42, 1, 25, 10, 1, 5, 10, 13, 10, 18, 1, 35, 10, 18, 10, 4, 19, 15, 18, 1, 55, 44, 42, 45], '200702-010847_hau_e35_elicit_572': [34, 4, 11, 10, 19, 10, 19, 1, 25, 10, 18, 4, 1, 12, 10, 1, 4, 12, 28, 1, 6, 15, 5, 10, 1, 13, 10, 9, 8, 10, 19], '200702-010847_hau_e35_elicit_573': [47, 10, 14, 4, 18, 1, 32, 15, 19, 10, 5, 10], '200702-010847_hau_e35_elicit_575': [13, 10, 1, 29, 10, 19, 16, 10, 3, 4, 1, 14, 10, 9, 10, 19, 1, 23, 10, 18, 28, 1, 12, 10, 1, 11, 10, 14, 4, 1, 24, 15, 18, 12, 15, 18, 10, 19, 1, 13, 10, 18, 10, 1, 46, 10, 15, 3, 2, 1, 12, 10, 1, 16, 10, 11, 10, 14, 10, 18, 1, 12, 10, 1, 11, 10, 5, 10, 18, 9, 15, 1, 11, 10, 1, 3, 10, 4, 1, 12, 15, 17, 15, 1, 46, 10, 11, 10, 1, 12, 10, 1, 46, 10, 19, 4, 1, 8, 15, 46, 15, 1, 12, 10, 1, 13, 10, 16, 10, 18, 4, 18, 1, 12, 10, 1, 17, 4, 11, 15, 1, 46, 10, 15, 3, 2, 1, 12, 10], '200702-010847_hau_e35_elicit_577': [22, 10, 16, 15, 18, 1, 20, 10, 17, 10, 19, 4, 18, 1, 6, 15, 5, 10, 18, 1, 32, 15, 19, 10, 5, 10, 18, 1, 11, 10, 1, 9, 10, 3, 10, 1, 9, 10, 19, 3, 4, 18, 1, 23, 10, 18, 28, 1, 18, 10, 1, 6, 10, 16, 10, 18, 4, 18, 1, 30, 20, 15, 1, 37, 10, 4, 9, 10, 18, 25, 28, 1, 11, 10, 1, 9, 10, 3, 2, 1, 9, 10, 17, 15, 18, 13, 10, 1, 25, 10, 18, 15, 5, 10, 1, 14, 28, 29, 28, 29, 4, 1, 12, 10, 1, 3, 15, 16, 10, 1, 25, 5, 10, 20, 10, 20, 28, 18, 1, 25, 10, 19, 4, 18], '200702-010847_hau_e35_elicit_578': [30, 18, 1, 14, 10, 19, 10, 1, 13, 9, 10, 11, 4, 1, 12, 10, 1, 3, 10, 15, 19, 4, 18, 1, 25, 10, 18, 15, 5, 10, 19, 1, 12, 10, 1, 14, 28, 29, 28, 29, 4, 1, 13, 10, 1, 11, 10, 12, 12, 10, 1, 10, 1, 5, 10, 9, 15, 1, 25, 15, 19, 10, 19, 2, 18, 1, 13, 9, 10, 5, 28, 18, 13, 10, 1, 11, 10, 3, 10, 18, 1, 3, 10, 4, 1, 3, 4, 16, 10, 18, 4, 18, 1, 14, 10, 29, 10, 1, 8, 10, 16, 9, 4, 18, 1, 5, 10, 9, 15, 1, 25, 15, 19, 10, 19, 2, 18, 1, 3, 15, 16, 10, 1, 14, 10, 29, 10, 1, 13, 10, 20, 10, 13, 4, 18, 1, 22, 8, 4, 1, 3, 15, 16, 10, 1, 25, 5, 10, 20, 10, 20, 28, 18, 1, 10, 3, 10, 1, 14, 10, 19, 10, 1, 16, 10, 9, 10, 1, 29, 10, 46, 4], '200702-010847_hau_e35_elicit_579': [34, 10, 13, 28, 18, 1, 19, 10, 9, 8, 4, 18, 1, 6, 15, 5, 10, 18, 1, 32, 15, 19, 10, 5, 10, 18, 1, 11, 10, 1, 9, 10, 3, 10, 1, 9, 10, 19, 3, 4, 18, 1, 13, 10, 29, 4, 11, 10, 1, 25, 10, 19, 4, 18, 1, 22, 10, 3, 3, 5, 10, 13, 28, 1, 3, 10, 4, 1, 36, 10, 29, 29, 10, 1, 12, 28, 16, 4, 18, 1, 9, 10, 16, 15, 18, 1, 3, 10, 19, 31, 15, 5, 10, 1, 10, 1, 5, 10, 27, 2, 18, 1, 9, 10, 19, 3, 4, 18, 1, 37, 15, 9, 15, 20, 16, 4, 1, 18, 10, 1, 6, 10, 16, 10, 18, 4, 18, 1, 5, 10, 13, 28, 1, 22, 10, 19, 3, 4, 1, 30, 13, 13, 10, 8, 4, 19, 15, 1, 48], '200702-010847_hau_e35_elicit_580': [39, 10, 11, 10, 18, 1, 9, 10, 19, 3, 4, 1, 11, 10, 1, 29, 4, 13, 10, 1, 12, 10, 25, 10, 1, 23, 10, 18, 28, 1, 9, 10, 4, 1, 32, 15, 19, 10, 5, 10, 18, 1, 9, 15, 3, 10, 1, 31, 15, 20, 20, 28, 1, 13, 10, 1, 25, 10, 19, 4, 18, 1, 39, 2, 17, 2, 27, 4, 1, 25, 10, 19, 4, 18, 1, 12, 10, 1, 10, 3, 10, 1, 29, 10, 19, 10, 1, 25, 5, 10, 17, 6, 10, 1, 11, 10, 14, 4, 1, 12, 10, 1, 9, 15, 1, 32, 15, 19, 10, 5, 10, 18, 1, 17, 4, 11, 28, 5, 10, 1, 17, 10, 11, 10, 18, 1, 15, 16, 10, 19, 18, 4, 18, 1, 12, 10, 1, 9, 10, 19, 3, 4, 18, 1, 11, 10, 1, 17, 10, 11, 10, 19, 1, 36, 2, 5, 10, 1, 4, 12, 10, 18, 1, 9, 15, 3, 10, 1, 6, 28, 1, 39, 2, 17, 2, 27, 4, 18, 1, 10, 1, 12, 10, 13, 9, 2, 1, 9, 15], '200702-010847_hau_e35_elicit_581': [7, 10, 3, 10, 1, 18, 10, 18, 1, 10, 1, 25, 10, 19, 4, 18, 1, 23, 10, 18, 28, 1, 9, 10, 19, 3, 4, 1, 11, 10, 1, 13, 10, 18, 10, 12, 4, 1, 16, 10, 11, 10, 14, 10, 18, 1, 12, 10, 1, 3, 28, 1, 12, 10, 1, 32, 15, 19, 10, 5, 10, 18, 1, 9, 15, 18, 1, 6, 28, 1, 6, 10, 1, 9, 15, 1, 25, 5, 10, 17, 6, 10, 1, 12, 10, 1, 9, 15, 1, 7, 10, 3, 10, 1, 3, 15, 5, 10, 1, 10, 3, 10, 1, 11, 4], '200702-010847_hau_e35_elicit_582': [33, 10, 1, 19, 15, 18, 12, 15, 18, 10, 19, 1, 16, 10, 11, 10, 14, 10, 18, 1, 48, 18, 25, 4, 20, 10, 1, 9, 15, 3, 10, 1, 4, 9, 28, 1, 23, 10, 18, 28, 1, 9, 15, 18, 1, 8, 10, 46, 15, 1, 12, 10, 1, 29, 15, 9, 8, 4, 18, 1, 12, 10, 3, 10, 19, 15, 18, 1, 23, 10, 18, 28, 1, 33, 15, 3, 1, 5, 10, 18, 4, 1, 11, 15, 18, 14, 15, 19, 4, 1, 18, 10, 1, 9, 8, 4, 25, 10, 1, 25, 10, 19, 4, 18, 1, 12, 10, 25, 10, 1, 25, 2, 29, 2, 18, 1, 9, 28, 27, 28, 27, 4, 18, 1, 11, 10, 1, 36, 4, 1, 13, 15, 19, 10, 1, 10, 1, 3, 10, 19, 28, 18, 1, 29, 10, 19, 3, 28, 1, 22, 10, 4, 1, 12, 10, 25, 10, 1, 14, 10, 19, 9, 8, 2, 1, 16, 10, 11, 10, 14, 10, 18, 1, 39, 4, 19, 13, 10, 18, 4, 11, 10, 18, 1, 9, 15, 3, 10, 1, 36, 10, 18, 27, 10], '200702-010847_hau_e35_elicit_583': [12, 10, 17, 10, 19, 10, 1, 9, 15, 3, 10, 1, 3, 2, 5, 10, 11, 10, 1, 13, 10, 1, 47, 10, 16, 16, 10, 1, 9, 15, 3, 10, 1, 31, 10, 20, 20, 10, 1, 56, 28, 29, 10, 19, 1, 23, 10, 17, 15, 25, 10, 1, 9, 15, 3, 10, 1, 9, 8, 4, 25, 10, 1, 13, 10, 1, 36, 4, 3, 4, 18, 13, 10], '200702-010847_hau_e35_elicit_585': [39, 10, 11, 10, 18, 1, 12, 10, 1, 32, 15, 19, 10, 5, 10, 18, 1, 9, 15, 3, 10, 1, 9, 8, 4, 25, 10, 1, 25, 10, 19, 4, 18, 1, 9, 10, 4, 1, 11, 10, 1, 3, 28, 16, 10, 1, 8, 10, 18, 18, 15, 18, 9, 15, 1, 33, 15, 3, 1, 20, 28, 3, 10, 36, 4, 18, 1, 10, 3, 10, 1, 11, 4, 1, 5, 10, 18, 18, 10, 18, 1, 9, 8, 4, 1, 9, 10, 19, 3, 4, 1, 30, 20, 15, 1, 11, 10, 18, 10, 1, 3, 10, 18, 1, 8, 10, 18, 11, 10, 19, 9, 10, 1, 13, 10, 1, 12, 10, 5, 28, 5, 10, 1, 25, 4, 12, 10], '200702-010847_hau_e35_elicit_587': [22, 10, 16, 15, 18, 1, 5, 10, 18, 18, 10, 18, 1, 20, 10, 17, 10, 19, 4, 1, 11, 10, 1, 9, 10, 3, 10, 1, 13, 10, 5, 10, 25, 10, 19, 1, 9, 10, 19, 3, 4, 1, 19, 10, 17, 15, 5, 10, 1, 25, 4, 12, 10, 1, 17, 4, 11, 15], '200702-010847_hau_e35_elicit_588': [9, 10, 19, 3, 4, 1, 12, 10, 1, 5, 10, 9, 15, 1, 27, 10, 16, 10, 10, 19, 9, 10, 1, 9, 15, 3, 10, 1, 27, 15, 11, 10, 1, 6, 15, 5, 10, 1, 22, 10, 3, 3, 5, 10, 13, 28, 1, 12, 28, 16, 4, 18, 1, 17, 10, 4, 1, 5, 10, 1, 22, 10, 19, 3, 4, 1, 30, 13, 13, 10, 8, 4, 19, 15, 1, 48, 1, 25, 15, 12, 15, 18, 16, 10, 5, 10, 19, 1, 12, 10, 1, 6, 10, 1, 13, 10, 1, 3, 10, 19, 2, 1, 25, 10, 19, 4, 18, 1, 10, 1, 16, 10, 13, 9, 10, 11, 4, 18, 1, 36, 4, 17, 4, 11, 10, 19, 1, 33, 10, 15, 20, 10, 19, 1, 50, 9, 16, 10, 18, 4, 11, 10, 1, 12, 10, 25, 10, 1, 29, 10, 46, 10, 5, 10, 1, 8, 10, 18, 18, 15, 18, 1, 32, 15, 19, 10, 5, 10], '200702-010847_hau_e35_elicit_589': [43, 10, 11, 10, 1, 11, 10, 18, 3, 4, 18, 1, 3, 15, 16, 10, 1, 9, 15, 3, 10, 1, 12, 10, 5, 28, 5, 10, 1, 25, 4, 12, 10], '200702-010847_hau_e35_elicit_590': [30, 1, 36, 4, 3, 4, 18, 1, 13, 10, 5, 10, 25, 10, 19, 1, 12, 10, 1, 13, 10, 1, 12, 10, 5, 28, 1, 25, 4, 12, 10, 1, 23, 10, 18, 28, 1, 10, 3, 5, 10, 4, 1, 37, 15, 8, 10, 16, 16, 10, 12, 15, 1, 30, 17, 17, 10, 9, 1, 5, 10, 18, 12, 10, 1, 10, 3, 10, 1, 18, 10, 46, 10, 1, 10, 1, 16, 10, 13, 9, 10, 11, 4, 18, 1, 9, 10, 17, 28, 18, 1, 9, 10, 19, 3, 4, 18, 1, 23, 10, 18, 28, 1, 14, 10, 19, 14, 10, 9, 8, 4, 18, 1, 16, 15, 20, 3, 4, 18, 1, 32, 15, 19, 10, 5, 10], '200702-010847_hau_e35_elicit_591': [48, 13, 10, 1, 3, 15, 16, 10, 1, 5, 10, 36, 36, 10, 19, 1, 13, 10, 5, 10, 25, 10, 1, 13, 10, 1, 9, 10, 19, 3, 4, 1, 30, 20, 15, 1, 3, 10, 29, 4, 18, 1, 13, 10, 1, 9, 8, 4, 25, 10, 1, 25, 10, 19, 4, 18, 1, 22, 10, 3, 3, 5, 10, 13, 28, 1, 9, 10, 4, 1, 13, 10, 1, 11, 4, 1, 3, 4, 36, 4, 31, 4, 9, 1, 12, 10, 1, 9, 28, 27, 28, 27, 4, 18, 1, 12, 10, 1, 9, 15, 3, 10, 1, 18, 15, 29, 4, 1, 22, 10, 3, 3, 5, 10, 13, 28, 1, 12, 10, 1, 11, 10, 14, 4], '200702-010847_hau_e35_elicit_593': [21, 10, 46, 10, 18, 18, 10, 18, 1, 10, 17, 15, 17, 15, 5, 10, 1, 12, 10, 1, 9, 15, 3, 10, 1, 29, 10, 19, 15, 1, 9, 15, 1, 9, 15, 3, 10, 1, 13, 10, 17, 17, 10, 13, 10, 19, 1, 12, 10, 1, 3, 10, 19, 9, 8, 2, 18, 1, 16, 15, 20, 3, 4, 18, 1, 9, 10, 19, 3, 4, 1, 30, 20, 15, 1, 12, 10, 1, 3, 15, 16, 10, 1, 3, 10, 5, 28, 1, 14, 10, 19, 9, 8, 2, 18, 1, 6, 10, 16, 10, 18, 1, 23, 10, 18, 28, 1, 10, 1, 14, 10, 19, 14, 10, 9, 8, 4, 18, 1, 33, 10, 15, 20, 10, 19, 1, 22, 8, 2, 8, 15, 1, 12, 10, 1, 3, 15, 16, 10, 1, 29, 10, 46, 10, 5, 10, 19, 13, 10, 1, 8, 10, 18, 18, 15, 18, 1, 32, 15, 19, 10, 5, 10]}\n",
            "Saved cache file at /content/drive/My Drive/ammi-speech/data/records/train/_seqs_cache.txt\n"
          ],
          "name": "stdout"
        },
        {
          "output_type": "stream",
          "text": [
            "\n",
            "189it [00:00, 67231.23it/s]"
          ],
          "name": "stderr"
        },
        {
          "output_type": "stream",
          "text": [
            "Checking length...\n",
            "Done, elapsed: 0.164 seconds\n",
            "Scanned 189 sequences in 0.16 seconds\n",
            "1 chunks computed\n",
            "Joining pool\n"
          ],
          "name": "stdout"
        },
        {
          "output_type": "stream",
          "text": [
            "\n",
            "1it [00:00, 104.84it/s]"
          ],
          "name": "stderr"
        },
        {
          "output_type": "stream",
          "text": [
            "Joined process, elapsed=0.802 secs\n",
            "Saved cache file at /content/drive/My Drive/ammi-speech/data/records/val/_seqs_cache.txt\n"
          ],
          "name": "stdout"
        },
        {
          "output_type": "stream",
          "text": [
            "\n",
            "46it [00:00, 13157.25it/s]"
          ],
          "name": "stderr"
        },
        {
          "output_type": "stream",
          "text": [
            "Checking length...\n",
            "Done, elapsed: 0.059 seconds\n",
            "Scanned 46 sequences in 0.06 seconds\n",
            "1 chunks computed\n",
            "Joining pool\n"
          ],
          "name": "stdout"
        },
        {
          "output_type": "stream",
          "text": [
            "\n"
          ],
          "name": "stderr"
        },
        {
          "output_type": "stream",
          "text": [
            "Joined process, elapsed=0.296 secs\n"
          ],
          "name": "stdout"
        }
      ]
    },
    {
      "cell_type": "markdown",
      "metadata": {
        "colab_type": "text",
        "id": "xkKi-qfosng2"
      },
      "source": [
        "Then we will use a simple linear classifier to recognize the phonemes from the features produced by ```cpc_model```. \n",
        "\n",
        "### a) Build the phone classifier \n",
        "\n",
        "Design a class of linear classifiers, ```PhoneClassifier``` that will take as input a batch of sequences of CPC features and output a score vector for each phoneme"
      ]
    },
    {
      "cell_type": "code",
      "metadata": {
        "colab_type": "code",
        "id": "4RpAbz-0CXJJ",
        "colab": {}
      },
      "source": [
        "class PhoneClassifier(torch.nn.Module):\n",
        "\n",
        "  def __init__(self,\n",
        "               input_dim : int,\n",
        "               n_phones : int):\n",
        "    super(PhoneClassifier, self).__init__()\n",
        "    self.linear = torch.nn.Linear(input_dim, n_phones)\n",
        "    \n",
        "\n",
        "  def forward(self, x):\n",
        "    return self.linear(x)"
      ],
      "execution_count": 41,
      "outputs": []
    },
    {
      "cell_type": "markdown",
      "metadata": {
        "colab_type": "text",
        "id": "Zt5oa_nqtH-d"
      },
      "source": [
        "Our phone classifier will then be:"
      ]
    },
    {
      "cell_type": "code",
      "metadata": {
        "colab_type": "code",
        "id": "NRBf_83IuLv5",
        "colab": {}
      },
      "source": [
        "phone_classifier = PhoneClassifier(HIDDEN_CONTEXT_MODEL, N_PHONES).to(device)"
      ],
      "execution_count": 42,
      "outputs": []
    },
    {
      "cell_type": "markdown",
      "metadata": {
        "colab_type": "text",
        "id": "z_Vf5AbUhqm4"
      },
      "source": [
        "### b - What would be the correct loss criterion for this task ?\n",
        "\n"
      ]
    },
    {
      "cell_type": "code",
      "metadata": {
        "colab_type": "code",
        "id": "uhyPM-cgjrtw",
        "colab": {}
      },
      "source": [
        "loss_criterion = torch.nn.CrossEntropyLoss()"
      ],
      "execution_count": 43,
      "outputs": []
    },
    {
      "cell_type": "markdown",
      "metadata": {
        "colab_type": "text",
        "id": "Nv4cSxbaplrz"
      },
      "source": [
        "To perform the fine-tuning, we will also need an optimization function.\n",
        "\n",
        "We will use an [Adam optimizer ](https://pytorch.org/docs/stable/optim.html#torch.optim.Adam)."
      ]
    },
    {
      "cell_type": "code",
      "metadata": {
        "colab_type": "code",
        "id": "W5CgYyAlqKxu",
        "colab": {}
      },
      "source": [
        "parameters = list(phone_classifier.parameters()) + list(cpc_model.parameters())\n",
        "LEARNING_RATE = 2e-4\n",
        "optimizer = torch.optim.Adam(parameters, lr=LEARNING_RATE)"
      ],
      "execution_count": 44,
      "outputs": []
    },
    {
      "cell_type": "markdown",
      "metadata": {
        "colab_type": "text",
        "id": "qQB9HS9PvAXc"
      },
      "source": [
        "You might also want to perform this training while freezing the weights of the ```cpc_model```. Indeed, if the pre-training was good enough, then ```cpc_model``` phonemes representation should be linearly separable. In this case the optimizer should be defined like this:"
      ]
    },
    {
      "cell_type": "code",
      "metadata": {
        "colab_type": "code",
        "id": "nRy0gn6awGUQ",
        "colab": {}
      },
      "source": [
        "optimizer_frozen = torch.optim.Adam(list(phone_classifier.parameters()), lr=LEARNING_RATE)"
      ],
      "execution_count": 45,
      "outputs": []
    },
    {
      "cell_type": "markdown",
      "metadata": {
        "colab_type": "text",
        "id": "cO93ngIfj4JW"
      },
      "source": [
        "### c- Now let's build a training loop. \n",
        "Complete the function ```train_one_epoch``` below.\n",
        "\n"
      ]
    },
    {
      "cell_type": "code",
      "metadata": {
        "colab_type": "code",
        "id": "fabqj3wvLwgU",
        "colab": {}
      },
      "source": [
        "def train_one_epoch(cpc_model, \n",
        "                    phone_classifier, \n",
        "                    loss_criterion, \n",
        "                    data_loader, \n",
        "                    optimizer):\n",
        "\n",
        "  cpc_model.train()\n",
        "  loss_criterion.train()\n",
        "\n",
        "  avg_loss = 0\n",
        "  avg_accuracy = 0\n",
        "  n_items = 0\n",
        "  for step, full_data in enumerate(data_loader):\n",
        "    # Each batch is represented by a Tuple of vectors:\n",
        "    # sequence of size : N x 1 x T\n",
        "    # label of size : N x T\n",
        "    # \n",
        "    # With :\n",
        "    # - N number of sequence in the batch\n",
        "    # - T size of each sequence\n",
        "    sequence, label = full_data\n",
        "    \n",
        "    \n",
        "\n",
        "    bs = len(sequence)\n",
        "    seq_len = label.size(1)\n",
        "    optimizer.zero_grad()\n",
        "    context_out, enc_out, _ = cpc_model(sequence.to(device),label.to(device))\n",
        "\n",
        "    scores = phone_classifier(context_out)\n",
        "\n",
        "    scores = scores.permute(0,2,1)\n",
        "    loss = loss_criterion(scores,label.to(device))\n",
        "    loss.backward()\n",
        "    optimizer.step()\n",
        "    avg_loss+=loss.item()*bs\n",
        "    n_items+=bs\n",
        "    correct_labels = scores.argmax(1)\n",
        "    avg_accuracy += ((label==correct_labels.cpu()).float()).mean(1).sum().item()\n",
        "  avg_loss/=n_items\n",
        "  avg_accuracy/=n_items\n",
        "  return avg_loss, avg_accuracy\n",
        "    "
      ],
      "execution_count": 46,
      "outputs": []
    },
    {
      "cell_type": "markdown",
      "metadata": {
        "colab_type": "text",
        "id": "quYtjx_TxIPK"
      },
      "source": [
        "Don't forget to test it !"
      ]
    },
    {
      "cell_type": "code",
      "metadata": {
        "colab_type": "code",
        "id": "50MwxbKhxMKp",
        "colab": {}
      },
      "source": [
        "avg_loss, avg_accuracy = train_one_epoch(cpc_model, phone_classifier, loss_criterion, data_loader_train, optimizer_frozen)"
      ],
      "execution_count": 47,
      "outputs": []
    },
    {
      "cell_type": "code",
      "metadata": {
        "colab_type": "code",
        "id": "_o6yk8XKWnYe",
        "colab": {
          "base_uri": "https://localhost:8080/",
          "height": 34
        },
        "outputId": "f80263c8-a641-4544-a4fe-867c2aa87cec"
      },
      "source": [
        "avg_loss, avg_accuracy"
      ],
      "execution_count": 48,
      "outputs": [
        {
          "output_type": "execute_result",
          "data": {
            "text/plain": [
              "(4.072516116228971, 0.09614701704545454)"
            ]
          },
          "metadata": {
            "tags": []
          },
          "execution_count": 48
        }
      ]
    },
    {
      "cell_type": "markdown",
      "metadata": {
        "colab_type": "text",
        "id": "EmUkuJ2bwu4Z"
      },
      "source": [
        "### d- Build the validation loop"
      ]
    },
    {
      "cell_type": "code",
      "metadata": {
        "colab_type": "code",
        "id": "kZJMxj6cwzd3",
        "colab": {}
      },
      "source": [
        "def validation_step(cpc_model, \n",
        "                    phone_classifier, \n",
        "                    loss_criterion, \n",
        "                    data_loader):\n",
        "  \n",
        "  cpc_model.eval()\n",
        "  phone_classifier.eval()\n",
        "\n",
        "  avg_loss = 0\n",
        "  avg_accuracy = 0\n",
        "  n_items = 0\n",
        "  with torch.no_grad():\n",
        "    for step, full_data in enumerate(data_loader):\n",
        "      # Each batch is represented by a Tuple of vectors:\n",
        "      # sequence of size : N x 1 x T\n",
        "      # label of size : N x T\n",
        "      # \n",
        "      # With :\n",
        "      # - N number of sequence in the batch\n",
        "      # - T size of each sequence\n",
        "      sequence, label = full_data\n",
        "      bs = len(sequence)\n",
        "      seq_len = label.size(1)\n",
        "      context_out, enc_out, _ = cpc_model(sequence.to(device),label.to(device))\n",
        "      scores = phone_classifier(context_out)\n",
        "      scores = scores.permute(0,2,1)\n",
        "      loss = loss_criterion(scores,label.to(device))\n",
        "      avg_loss+=loss.item()*bs\n",
        "      n_items+=bs\n",
        "      correct_labels = scores.argmax(1)\n",
        "      avg_accuracy += ((label==correct_labels.cpu()).float()).mean(1).sum().item()\n",
        "  avg_loss/=n_items\n",
        "  avg_accuracy/=n_items\n",
        "  return avg_loss, avg_accuracy"
      ],
      "execution_count": 49,
      "outputs": []
    },
    {
      "cell_type": "markdown",
      "metadata": {
        "colab_type": "text",
        "id": "vownVCt7xbVh"
      },
      "source": [
        "### e- Run everything\n",
        "\n",
        "Test this functiion with both ```optimizer``` and ```optimizer_frozen```."
      ]
    },
    {
      "cell_type": "code",
      "metadata": {
        "colab_type": "code",
        "id": "xvO_4nKUxfQx",
        "colab": {}
      },
      "source": [
        "def run(cpc_model, \n",
        "        phone_classifier, \n",
        "        loss_criterion, \n",
        "        data_loader_train, \n",
        "        data_loader_val, \n",
        "        optimizer,\n",
        "        n_epoch):\n",
        "\n",
        "  for epoch in range(n_epoch):\n",
        "\n",
        "    print(f\"Running epoch {epoch + 1} / {n_epoch}\")\n",
        "    loss_train, acc_train = train_one_epoch(cpc_model, phone_classifier, loss_criterion, data_loader_train, optimizer)\n",
        "    print(\"-------------------\")\n",
        "    print(f\"Training dataset :\")\n",
        "    print(f\"Average loss : {loss_train}. Average accuracy {acc_train}\")\n",
        "\n",
        "    print(\"-------------------\")\n",
        "    print(\"Validation dataset\")\n",
        "    loss_val, acc_val = validation_step(cpc_model, phone_classifier, loss_criterion, data_loader_val)\n",
        "    print(f\"Average loss : {loss_val}. Average accuracy {acc_val}\")\n",
        "    print(\"-------------------\")\n",
        "    print()"
      ],
      "execution_count": 50,
      "outputs": []
    },
    {
      "cell_type": "code",
      "metadata": {
        "colab_type": "code",
        "id": "ceCEO2h2bxAn",
        "colab": {
          "base_uri": "https://localhost:8080/",
          "height": 1000
        },
        "outputId": "f950650e-52c3-4f28-fe89-cc712053bb22"
      },
      "source": [
        "run(cpc_model,phone_classifier,loss_criterion,data_loader_train,data_loader_val,optimizer_frozen,n_epoch=10)"
      ],
      "execution_count": 51,
      "outputs": [
        {
          "output_type": "stream",
          "text": [
            "Running epoch 1 / 10\n",
            "-------------------\n",
            "Training dataset :\n",
            "Average loss : 3.943965716795488. Average accuracy 0.1563387784090909\n",
            "-------------------\n",
            "Validation dataset\n",
            "Average loss : 3.8871649503707886. Average accuracy 0.165283203125\n",
            "-------------------\n",
            "\n",
            "Running epoch 2 / 10\n",
            "-------------------\n",
            "Training dataset :\n",
            "Average loss : 3.8259380622343584. Average accuracy 0.17254083806818182\n",
            "-------------------\n",
            "Validation dataset\n",
            "Average loss : 3.7789130806922913. Average accuracy 0.172607421875\n",
            "-------------------\n",
            "\n",
            "Running epoch 3 / 10\n",
            "-------------------\n",
            "Training dataset :\n",
            "Average loss : 3.720478881489147. Average accuracy 0.18670099431818182\n",
            "-------------------\n",
            "Validation dataset\n",
            "Average loss : 3.680424690246582. Average accuracy 0.18212890625\n",
            "-------------------\n",
            "\n",
            "Running epoch 4 / 10\n",
            "-------------------\n",
            "Training dataset :\n",
            "Average loss : 3.6233108693903144. Average accuracy 0.19957386363636365\n",
            "-------------------\n",
            "Validation dataset\n",
            "Average loss : 3.589024305343628. Average accuracy 0.1953125\n",
            "-------------------\n",
            "\n",
            "Running epoch 5 / 10\n",
            "-------------------\n",
            "Training dataset :\n",
            "Average loss : 3.5394168225201694. Average accuracy 0.20916193181818182\n",
            "-------------------\n",
            "Validation dataset\n",
            "Average loss : 3.507593870162964. Average accuracy 0.203369140625\n",
            "-------------------\n",
            "\n",
            "Running epoch 6 / 10\n",
            "-------------------\n",
            "Training dataset :\n",
            "Average loss : 3.4612238732251255. Average accuracy 0.21506569602272727\n",
            "-------------------\n",
            "Validation dataset\n",
            "Average loss : 3.4393360018730164. Average accuracy 0.206298828125\n",
            "-------------------\n",
            "\n",
            "Running epoch 7 / 10\n",
            "-------------------\n",
            "Training dataset :\n",
            "Average loss : 3.392760927026922. Average accuracy 0.21888316761363635\n",
            "-------------------\n",
            "Validation dataset\n",
            "Average loss : 3.3748944997787476. Average accuracy 0.207275390625\n",
            "-------------------\n",
            "\n",
            "Running epoch 8 / 10\n",
            "-------------------\n",
            "Training dataset :\n",
            "Average loss : 3.330793619155884. Average accuracy 0.22105823863636365\n",
            "-------------------\n",
            "Validation dataset\n",
            "Average loss : 3.321134567260742. Average accuracy 0.209228515625\n",
            "-------------------\n",
            "\n",
            "Running epoch 9 / 10\n",
            "-------------------\n",
            "Training dataset :\n",
            "Average loss : 3.2767995595932007. Average accuracy 0.22252308238636365\n",
            "-------------------\n",
            "Validation dataset\n",
            "Average loss : 3.268261671066284. Average accuracy 0.213623046875\n",
            "-------------------\n",
            "\n",
            "Running epoch 10 / 10\n",
            "-------------------\n",
            "Training dataset :\n",
            "Average loss : 3.224902033805847. Average accuracy 0.22283380681818182\n",
            "-------------------\n",
            "Validation dataset\n",
            "Average loss : 3.2194088101387024. Average accuracy 0.213134765625\n",
            "-------------------\n",
            "\n"
          ],
          "name": "stdout"
        }
      ]
    },
    {
      "cell_type": "markdown",
      "metadata": {
        "colab_type": "text",
        "id": "TdfWDiFnylMT"
      },
      "source": [
        "## Exercise 2 : Phone separability without alignment (PER)\n",
        "\n",
        "Aligned data are very practical, but un real life they are rarely available. That's why in this excercise we will consider a fine-tuning with non-aligned phonemes.\n",
        "\n",
        "The model, the optimizer and the phone classifier will stay the same. However, we will replace our phone criterion with a [CTC loss](https://pytorch.org/docs/master/generated/torch.nn.CTCLoss.html). "
      ]
    },
    {
      "cell_type": "code",
      "metadata": {
        "colab_type": "code",
        "id": "_9BpM_Lpzgx8",
        "colab": {}
      },
      "source": [
        "loss_ctc = torch.nn.CTCLoss()"
      ],
      "execution_count": 52,
      "outputs": []
    },
    {
      "cell_type": "markdown",
      "metadata": {
        "colab_type": "text",
        "id": "AQpYgTyfzsrq"
      },
      "source": [
        "Besides, we will use a siglthy different dataset class."
      ]
    },
    {
      "cell_type": "code",
      "metadata": {
        "colab_type": "code",
        "id": "9HRxoatlz3ZZ",
        "colab": {
          "base_uri": "https://localhost:8080/",
          "height": 255
        },
        "outputId": "74b356d4-f5d2-47d2-8549-57e4e506e71a"
      },
      "source": [
        "from cpc.eval.common_voices_eval import SingleSequenceDataset, parseSeqLabels, findAllSeqs\n",
        "path_train_data_per = test_dir\n",
        "path_val_data_per = val_dir\n",
        "path_phone_data_per = data_dir + '/chars.txt'\n",
        "BATCH_SIZE=8\n",
        "\n",
        "phone_labels, N_PHONES = parseSeqLabels(path_phone_data_per)\n",
        "data_train_per, _ = findAllSeqs(path_train_data_per, extension='.wav')\n",
        "dataset_train_non_aligned = SingleSequenceDataset(path_train_data_per, data_train_per, phone_labels)\n",
        "data_loader_train = torch.utils.data.DataLoader(dataset_train_non_aligned, batch_size=BATCH_SIZE,\n",
        "                                                shuffle=True)\n",
        "\n",
        "data_val_per, _ = findAllSeqs(path_val_data_per, extension='.wav')\n",
        "dataset_val_non_aligned = SingleSequenceDataset(path_val_data_per, data_val_per, phone_labels)\n",
        "data_loader_val = torch.utils.data.DataLoader(dataset_val_non_aligned, batch_size=BATCH_SIZE,\n",
        "                                              shuffle=True)\n"
      ],
      "execution_count": 54,
      "outputs": [
        {
          "output_type": "stream",
          "text": [
            "1it [00:00, 194.00it/s]"
          ],
          "name": "stderr"
        },
        {
          "output_type": "stream",
          "text": [
            "Saved cache file at /content/drive/My Drive/ammi-speech/data/records/test/_seqs_cache.txt\n"
          ],
          "name": "stdout"
        },
        {
          "output_type": "stream",
          "text": [
            "\n",
            "1it [00:00, 279.03it/s]"
          ],
          "name": "stderr"
        },
        {
          "output_type": "stream",
          "text": [
            "Loaded 235 sequences in 2.22 seconds\n",
            "maxSizeSeq : 386958\n",
            "maxSizePhone : 249\n",
            "minSizePhone : 4\n",
            "Total size dataset 0.6802825868055555 hours\n",
            "Saved cache file at /content/drive/My Drive/ammi-speech/data/records/val/_seqs_cache.txt\n"
          ],
          "name": "stdout"
        },
        {
          "output_type": "stream",
          "text": [
            "\n"
          ],
          "name": "stderr"
        },
        {
          "output_type": "stream",
          "text": [
            "Loaded 47 sequences in 1.60 seconds\n",
            "maxSizeSeq : 321255\n",
            "maxSizePhone : 216\n",
            "minSizePhone : 4\n",
            "Total size dataset 0.12760572916666665 hours\n"
          ],
          "name": "stdout"
        }
      ]
    },
    {
      "cell_type": "markdown",
      "metadata": {
        "colab_type": "text",
        "id": "GwAckY62z7s9"
      },
      "source": [
        "### a- Training\n",
        "\n",
        "Since the phonemes are not aligned, there is no simple direct way to get the classification acuracy of a model. Write and test the three functions ```train_one_epoch_ctc```, ```validation_step_ctc``` and ```run_ctc``` as before but without considering the average acuracy of the model. "
      ]
    },
    {
      "cell_type": "code",
      "metadata": {
        "colab_type": "code",
        "id": "oYg5YzW8EHl4",
        "colab": {
          "base_uri": "https://localhost:8080/",
          "height": 51
        },
        "outputId": "fb20cca0-8a72-4350-f869-5a72f792d2f2"
      },
      "source": [
        "from cpc.feature_loader import loadModel\n",
        "\n",
        "checkpoint_path = 'checkpoint_data/checkpoint_30.pt'\n",
        "cpc_model, HIDDEN_CONTEXT_MODEL, HIDDEN_ENCODER_MODEL = loadModel([checkpoint_path])\n",
        "cpc_model = cpc_model.cuda()\n",
        "phone_classifier = PhoneClassifier(HIDDEN_CONTEXT_MODEL, N_PHONES).to(device)"
      ],
      "execution_count": 55,
      "outputs": [
        {
          "output_type": "stream",
          "text": [
            "Loading checkpoint checkpoint_data/checkpoint_30.pt\n",
            "Loading the state dict at checkpoint_data/checkpoint_30.pt\n"
          ],
          "name": "stdout"
        }
      ]
    },
    {
      "cell_type": "code",
      "metadata": {
        "colab_type": "code",
        "id": "CFQ2g3PjErdZ",
        "colab": {}
      },
      "source": [
        "parameters = list(phone_classifier.parameters()) + list(cpc_model.parameters())\n",
        "LEARNING_RATE = 2e-4\n",
        "optimizer = torch.optim.Adam(parameters, lr=LEARNING_RATE)\n",
        "\n",
        "optimizer_frozen = torch.optim.Adam(list(phone_classifier.parameters()), lr=LEARNING_RATE)"
      ],
      "execution_count": 56,
      "outputs": []
    },
    {
      "cell_type": "code",
      "metadata": {
        "colab_type": "code",
        "id": "Zsgjv3cD0oqD",
        "colab": {}
      },
      "source": [
        "import torch.nn.functional as F\n",
        "\n",
        "def train_one_epoch_ctc(cpc_model, \n",
        "                        phone_classifier, \n",
        "                        loss_criterion, \n",
        "                        data_loader, \n",
        "                        optimizer):\n",
        "  \n",
        "  cpc_model.train()\n",
        "  loss_criterion.train()\n",
        "\n",
        "  avg_loss = 0\n",
        "  avg_accuracy = 0\n",
        "  n_items = 0\n",
        "  for step, full_data in enumerate(data_loader):\n",
        "\n",
        "    x, x_len, y, y_len = full_data\n",
        "\n",
        "    x_batch_len = x.shape[-1]\n",
        "    x, y = x.to(device), y.to(device)\n",
        "\n",
        "    bs=x.size(0)\n",
        "    optimizer.zero_grad()\n",
        "    context_out, enc_out, _ = cpc_model(x.to(device),y.to(device))\n",
        "  \n",
        "    scores = phone_classifier(context_out)\n",
        "    scores = scores.permute(1,0,2)\n",
        "    scores = F.log_softmax(scores,2)\n",
        "    yhat_len = torch.tensor([int(scores.shape[0]*x_len[i]/x_batch_len) for i in range(scores.shape[1])]) # this is an approximation, should be good enough\n",
        "\n",
        "    loss = loss_criterion(scores,y.to(device),yhat_len,y_len)\n",
        "    loss.backward()\n",
        "    optimizer.step()\n",
        "    avg_loss+=loss.item()*bs\n",
        "    n_items+=bs\n",
        "  avg_loss/=n_items\n",
        "  return avg_loss\n",
        "\n",
        "def validation_step(cpc_model, \n",
        "                    phone_classifier, \n",
        "                    loss_criterion, \n",
        "                    data_loader):\n",
        "\n",
        "  cpc_model.eval()\n",
        "  phone_classifier.eval()\n",
        "  avg_loss = 0\n",
        "  avg_accuracy = 0\n",
        "  n_items = 0\n",
        "  with torch.no_grad():\n",
        "    for step, full_data in enumerate(data_loader):\n",
        "\n",
        "      x, x_len, y, y_len = full_data\n",
        "\n",
        "      x_batch_len = x.shape[-1]\n",
        "      x, y = x.to(device), y.to(device)\n",
        "\n",
        "      bs=x.size(0)\n",
        "      context_out, enc_out, _ = cpc_model(x.to(device),y.to(device))\n",
        "    \n",
        "      scores = phone_classifier(context_out)\n",
        "      scores = scores.permute(1,0,2)\n",
        "      scores = F.log_softmax(scores,2)\n",
        "      yhat_len = torch.tensor([int(scores.shape[0]*x_len[i]/x_batch_len) for i in range(scores.shape[1])]) # this is an approximation, should be good enough\n",
        "\n",
        "      loss = loss_criterion(scores,y.to(device),yhat_len,y_len)\n",
        "      avg_loss+=loss.item()*bs\n",
        "      n_items+=bs\n",
        "  avg_loss/=n_items\n",
        "\n",
        "  return avg_loss\n",
        "\n",
        "def run_ctc(cpc_model, \n",
        "            phone_classifier, \n",
        "            loss_criterion, \n",
        "            data_loader_train, \n",
        "            data_loader_val, \n",
        "            optimizer,\n",
        "            n_epoch):\n",
        "  for epoch in range(n_epoch):\n",
        "\n",
        "    print(f\"Running epoch {epoch + 1} / {n_epoch}\")\n",
        "    loss_train = train_one_epoch_ctc(cpc_model, phone_classifier, loss_criterion, data_loader_train, optimizer)\n",
        "    print(\"-------------------\")\n",
        "    print(f\"Training dataset :\")\n",
        "    print(f\"Average loss : {loss_train}.\")\n",
        "\n",
        "    print(\"-------------------\")\n",
        "    print(\"Validation dataset\")\n",
        "    loss_val = validation_step(cpc_model, phone_classifier, loss_criterion, data_loader_val)\n",
        "    print(f\"Average loss : {loss_val}\")\n",
        "    print(\"-------------------\")\n",
        "    print()"
      ],
      "execution_count": 57,
      "outputs": []
    },
    {
      "cell_type": "code",
      "metadata": {
        "colab_type": "code",
        "id": "GSr7tcUdD72c",
        "colab": {
          "base_uri": "https://localhost:8080/",
          "height": 1000
        },
        "outputId": "fc3cf0a9-d1f5-46d4-aa4e-6e9456367df2"
      },
      "source": [
        "run_ctc(cpc_model,phone_classifier,loss_ctc,data_loader_train,data_loader_val,optimizer_frozen,n_epoch=10)"
      ],
      "execution_count": 58,
      "outputs": [
        {
          "output_type": "stream",
          "text": [
            "Running epoch 1 / 10\n",
            "-------------------\n",
            "Training dataset :\n",
            "Average loss : 31.25696260501177.\n",
            "-------------------\n",
            "Validation dataset\n",
            "Average loss : 31.929794643236242\n",
            "-------------------\n",
            "\n",
            "Running epoch 2 / 10\n",
            "-------------------\n",
            "Training dataset :\n",
            "Average loss : 28.996989242032043.\n",
            "-------------------\n",
            "Validation dataset\n",
            "Average loss : 29.554638738217562\n",
            "-------------------\n",
            "\n",
            "Running epoch 3 / 10\n",
            "-------------------\n",
            "Training dataset :\n",
            "Average loss : 26.699520828377487.\n",
            "-------------------\n",
            "Validation dataset\n",
            "Average loss : 27.147399073061734\n",
            "-------------------\n",
            "\n",
            "Running epoch 4 / 10\n",
            "-------------------\n",
            "Training dataset :\n",
            "Average loss : 24.415344906668377.\n",
            "-------------------\n",
            "Validation dataset\n",
            "Average loss : 24.786451090937074\n",
            "-------------------\n",
            "\n",
            "Running epoch 5 / 10\n",
            "-------------------\n",
            "Training dataset :\n",
            "Average loss : 22.18317566570054.\n",
            "-------------------\n",
            "Validation dataset\n",
            "Average loss : 22.51078041740086\n",
            "-------------------\n",
            "\n",
            "Running epoch 6 / 10\n",
            "-------------------\n",
            "Training dataset :\n",
            "Average loss : 20.04071057963575.\n",
            "-------------------\n",
            "Validation dataset\n",
            "Average loss : 20.340020221212637\n",
            "-------------------\n",
            "\n",
            "Running epoch 7 / 10\n",
            "-------------------\n",
            "Training dataset :\n",
            "Average loss : 18.02686694544605.\n",
            "-------------------\n",
            "Validation dataset\n",
            "Average loss : 18.279645753943402\n",
            "-------------------\n",
            "\n",
            "Running epoch 8 / 10\n",
            "-------------------\n",
            "Training dataset :\n",
            "Average loss : 16.12970172849476.\n",
            "-------------------\n",
            "Validation dataset\n",
            "Average loss : 16.392210960388184\n",
            "-------------------\n",
            "\n",
            "Running epoch 9 / 10\n",
            "-------------------\n",
            "Training dataset :\n",
            "Average loss : 14.40931031642816.\n",
            "-------------------\n",
            "Validation dataset\n",
            "Average loss : 14.679961743562117\n",
            "-------------------\n",
            "\n",
            "Running epoch 10 / 10\n",
            "-------------------\n",
            "Training dataset :\n",
            "Average loss : 12.86163612919995.\n",
            "-------------------\n",
            "Validation dataset\n",
            "Average loss : 13.16375848521357\n",
            "-------------------\n",
            "\n"
          ],
          "name": "stdout"
        }
      ]
    },
    {
      "cell_type": "markdown",
      "metadata": {
        "colab_type": "text",
        "id": "TKrYW4gK1BBF"
      },
      "source": [
        "### b- Evaluation: the Phone Error Rate (PER)\n",
        "\n",
        "In order to compute the similarity between two sequences, we can use the [Levenshtein distance](https://en.wikipedia.org/wiki/Levenshtein_distance). This distance estimates the minimum number of insertion, deletion and addition to move from one sequence to another. If we normalize this distance by the number of characters in the reference sequence we get the Phone Error Rate (PER).\n",
        "\n",
        "This value can be interpreted as :\n",
        "\\\\[  PER = \\frac{S + D + I}{N} \\\\]\n",
        "\n",
        "Where:\n",
        "\n",
        "\n",
        "*   N is the number of characters in the reference\n",
        "*   S is the number of substitutiion\n",
        "*   I in the number of insertion\n",
        "*   D in the number of deletion\n",
        "\n",
        "For the best possible alignment of the two sequences.\n",
        "\n"
      ]
    },
    {
      "cell_type": "code",
      "metadata": {
        "colab_type": "code",
        "id": "RoBhsx7GNqI_",
        "colab": {}
      },
      "source": [
        "import numpy as np\n",
        "\n",
        "def get_PER_sequence(ref_seq, target_seq):\n",
        "\n",
        "  # re = g.split()\n",
        "  # h = h.split()\n",
        "  n = len(ref_seq)\n",
        "  m = len(target_seq)\n",
        "\n",
        "  D = np.zeros((n+1,m+1))\n",
        "  for i in range(1,n+1):\n",
        "    D[i,0] = D[i-1,0]+1\n",
        "  for j in range(1,m+1):\n",
        "    D[0,j] = D[0,j-1]+1\n",
        "  \n",
        "  ### TODO compute the alignment\n",
        "\n",
        "  for i in range(1,n+1):\n",
        "    for j in range(1,m+1):\n",
        "      D[i,j] = min(\n",
        "          D[i-1,j]+1,\n",
        "          D[i-1,j-1]+1,\n",
        "          D[i,j-1]+1,\n",
        "          D[i-1,j-1]+ 0 if ref_seq[i-1]==target_seq[j-1] else float(\"inf\")\n",
        "      )\n",
        "  return D[n,m]/len(ref_seq)\n",
        "  \n",
        "\n",
        "  #return PER"
      ],
      "execution_count": 59,
      "outputs": []
    },
    {
      "cell_type": "markdown",
      "metadata": {
        "colab_type": "text",
        "id": "r-hr0KK0mgcR"
      },
      "source": [
        "You can test your function below:"
      ]
    },
    {
      "cell_type": "code",
      "metadata": {
        "colab_type": "code",
        "id": "AfTb3yOQmvey",
        "colab": {
          "base_uri": "https://localhost:8080/",
          "height": 34
        },
        "outputId": "f24a4fa5-738c-454b-ad15-7d5302f6bfb5"
      },
      "source": [
        "ref_seq = [0, 1, 1, 2, 0, 2, 2]\n",
        "pred_seq = [1, 1, 2, 2, 0, 0]\n",
        "\n",
        "expected_PER = 4. / 7.\n",
        "print(get_PER_sequence(ref_seq, pred_seq) == expected_PER)"
      ],
      "execution_count": 60,
      "outputs": [
        {
          "output_type": "stream",
          "text": [
            "True\n"
          ],
          "name": "stdout"
        }
      ]
    },
    {
      "cell_type": "markdown",
      "metadata": {
        "colab_type": "text",
        "id": "nHiyChl-m_k7"
      },
      "source": [
        "## c- Evaluating the PER of your model on the test dataset\n",
        "\n",
        "Evaluate the PER on the validation dataset. Please notice that you should usually use a separate dataset, called the dev dataset, to perform this operation. However for the sake of simplicity we will work with validation data in this exercise."
      ]
    },
    {
      "cell_type": "code",
      "metadata": {
        "colab_type": "code",
        "id": "DMkX0PoFnclg",
        "colab": {}
      },
      "source": [
        "import progressbar\n",
        "from multiprocessing import Pool\n",
        "\n",
        "def cut_data(seq, sizeSeq):\n",
        "    maxSeq = sizeSeq.max()\n",
        "    return seq[:, :maxSeq]\n",
        "\n",
        "\n",
        "def prepare_data(data):\n",
        "    seq, sizeSeq, phone, sizePhone = data\n",
        "    seq = seq.cuda()\n",
        "    phone = phone.cuda()\n",
        "    sizeSeq = sizeSeq.cuda().view(-1)\n",
        "    sizePhone = sizePhone.cuda().view(-1)\n",
        "\n",
        "    seq = cut_data(seq.permute(0, 2, 1), sizeSeq).permute(0, 2, 1)\n",
        "    return seq, sizeSeq, phone, sizePhone\n",
        "\n",
        "\n",
        "def get_per(test_dataloader,\n",
        "            cpc_model,\n",
        "            phone_classifier):\n",
        "\n",
        "  downsampling_factor = 160\n",
        "  cpc_model.eval()\n",
        "  phone_classifier.eval()\n",
        "\n",
        "  avgPER = 0\n",
        "  nItems = 0 \n",
        "\n",
        "  print(\"Starting the PER computation through beam search\")\n",
        "  bar = progressbar.ProgressBar(maxval=len(test_dataloader))\n",
        "  bar.start()\n",
        "\n",
        "  for index, data in enumerate(test_dataloader):\n",
        "\n",
        "    bar.update(index)\n",
        "\n",
        "    with torch.no_grad():\n",
        "      \n",
        "        seq, sizeSeq, phone, sizePhone = prepare_data(data)\n",
        "        c_feature, _, _ = cpc_model(seq.to(device),phone.to(device))\n",
        "        sizeSeq = sizeSeq / downsampling_factor\n",
        "        predictions = torch.nn.functional.softmax(\n",
        "        phone_classifier(c_feature), dim=2).cpu()\n",
        "        phone = phone.cpu()\n",
        "        sizeSeq = sizeSeq.cpu()\n",
        "        sizePhone = sizePhone.cpu()\n",
        "\n",
        "        bs = c_feature.size(0)\n",
        "        data_per = [(predictions[b].argmax(1),  phone[b]) for b in range(bs)]\n",
        "        # data_per = [(predictions[b], sizeSeq[b], phone[b], sizePhone[b],\n",
        "        #               \"criterion.module.BLANK_LABEL\") for b in range(bs)]\n",
        "\n",
        "        with Pool(bs) as p:\n",
        "            poolData = p.starmap(get_PER_sequence, data_per)\n",
        "        avgPER += sum([x for x in poolData])\n",
        "        nItems += len(poolData)\n",
        "\n",
        "  bar.finish()\n",
        "\n",
        "  avgPER /= nItems\n",
        "\n",
        "  print(f\"Average PER {avgPER}\")\n",
        "  return avgPER\n"
      ],
      "execution_count": 61,
      "outputs": []
    },
    {
      "cell_type": "code",
      "metadata": {
        "colab_type": "code",
        "id": "2hvnudh4Osb4",
        "colab": {
          "base_uri": "https://localhost:8080/",
          "height": 85
        },
        "outputId": "90e0d1af-0b71-4b78-f0b7-ab9bf4fa03aa"
      },
      "source": [
        "get_per(data_loader_val,cpc_model,phone_classifier)"
      ],
      "execution_count": 62,
      "outputs": [
        {
          "output_type": "stream",
          "text": [
            "\r                                                                               \r\rN/A% (0 of 6) |                          | Elapsed Time: 0:00:00 ETA:  --:--:--"
          ],
          "name": "stderr"
        },
        {
          "output_type": "stream",
          "text": [
            "Starting the PER computation through beam search\n"
          ],
          "name": "stdout"
        },
        {
          "output_type": "stream",
          "text": [
            "100% (6 of 6) |##########################| Elapsed Time: 0:02:50 Time:  0:02:50\n"
          ],
          "name": "stderr"
        },
        {
          "output_type": "stream",
          "text": [
            "Average PER 0.9351661327254408\n"
          ],
          "name": "stdout"
        },
        {
          "output_type": "execute_result",
          "data": {
            "text/plain": [
              "0.9351661327254408"
            ]
          },
          "metadata": {
            "tags": []
          },
          "execution_count": 62
        }
      ]
    },
    {
      "cell_type": "code",
      "metadata": {
        "id": "Jye38YtyzJSi",
        "colab_type": "code",
        "colab": {}
      },
      "source": [
        ""
      ],
      "execution_count": 62,
      "outputs": []
    },
    {
      "cell_type": "markdown",
      "metadata": {
        "id": "Hb9g0HcpzOW2",
        "colab_type": "text"
      },
      "source": [
        "# ***Work on it tommorrow***"
      ]
    },
    {
      "cell_type": "code",
      "metadata": {
        "id": "gP2EZiNNzJOZ",
        "colab_type": "code",
        "colab": {}
      },
      "source": [
        ""
      ],
      "execution_count": null,
      "outputs": []
    },
    {
      "cell_type": "markdown",
      "metadata": {
        "colab_type": "text",
        "id": "p8e9D7g8159k"
      },
      "source": [
        "## Exercice 3 : Character error rate (CER) \n",
        "\n",
        "The Character Error Rate (CER) is an evaluation metric similar to the PER but with characters insterad of phonemes. Using the following data, run the functions you defined previously to estimate the CER of your model after fine-tuning."
      ]
    },
    {
      "cell_type": "code",
      "metadata": {
        "colab_type": "code",
        "id": "cXONmKQOuFSn",
        "colab": {
          "base_uri": "https://localhost:8080/",
          "height": 255
        },
        "outputId": "8391ca68-4734-4e2c-f91b-fe87f282504c"
      },
      "source": [
        "# Load a dataset labelled with the letters of each sequence.\n",
        "# %cd /content/CPC_audio\n",
        "from cpc.eval.common_voices_eval import SingleSequenceDataset, parseSeqLabels, findAllSeqs\n",
        "path_train_data_cer = train_dir\n",
        "path_val_data_cer = val_dir\n",
        "path_letter_data_cer = data_dir +'/chars.txt'\n",
        "BATCH_SIZE=8\n",
        "\n",
        "letters_labels, N_LETTERS = parseSeqLabels(path_letter_data_cer)\n",
        "data_train_cer, _ = findAllSeqs(path_train_data_cer, extension='.wav')\n",
        "dataset_train_non_aligned = SingleSequenceDataset(path_train_data_cer, data_train_cer, letters_labels)\n",
        "\n",
        "\n",
        "data_val_cer, _ = findAllSeqs(path_val_data_cer, extension='.wav')\n",
        "dataset_val_non_aligned = SingleSequenceDataset(path_val_data_cer, data_val_cer, letters_labels)\n",
        "\n",
        "\n",
        "# The data loader will generate a tuple of tensors data, labels for each batch\n",
        "# data : size N x T1 x 1 : the audio sequence\n",
        "# label : size N x T2 the sequence of letters corresponding to the audio data\n",
        "# IMPORTANT NOTE: just like the PER the CER is computed with non-aligned phone data.\n",
        "data_loader_train_letters = torch.utils.data.DataLoader(dataset_train_non_aligned, batch_size=BATCH_SIZE,\n",
        "                                                shuffle=True)\n",
        "data_loader_val_letters = torch.utils.data.DataLoader(dataset_val_non_aligned, batch_size=BATCH_SIZE,\n",
        "                                              shuffle=True)"
      ],
      "execution_count": 63,
      "outputs": [
        {
          "output_type": "stream",
          "text": [
            "1it [00:00, 252.90it/s]"
          ],
          "name": "stderr"
        },
        {
          "output_type": "stream",
          "text": [
            "Saved cache file at /content/drive/My Drive/ammi-speech/data/records/train/_seqs_cache.txt\n"
          ],
          "name": "stdout"
        },
        {
          "output_type": "stream",
          "text": [
            "\n",
            "1it [00:00, 364.34it/s]"
          ],
          "name": "stderr"
        },
        {
          "output_type": "stream",
          "text": [
            "Loaded 190 sequences in 2.27 seconds\n",
            "maxSizeSeq : 368082\n",
            "maxSizePhone : 239\n",
            "minSizePhone : 5\n",
            "Total size dataset 0.5752178819444445 hours\n",
            "Saved cache file at /content/drive/My Drive/ammi-speech/data/records/val/_seqs_cache.txt\n"
          ],
          "name": "stdout"
        },
        {
          "output_type": "stream",
          "text": [
            "\n"
          ],
          "name": "stderr"
        },
        {
          "output_type": "stream",
          "text": [
            "Loaded 47 sequences in 1.66 seconds\n",
            "maxSizeSeq : 321255\n",
            "maxSizePhone : 216\n",
            "minSizePhone : 4\n",
            "Total size dataset 0.12760572916666665 hours\n"
          ],
          "name": "stdout"
        }
      ]
    },
    {
      "cell_type": "code",
      "metadata": {
        "colab_type": "code",
        "id": "9h07zI2LjzAU",
        "colab": {
          "base_uri": "https://localhost:8080/",
          "height": 51
        },
        "outputId": "d69d9126-3563-4534-f42e-bf097ac4b5cf"
      },
      "source": [
        "from cpc.feature_loader import loadModel\n",
        "\n",
        "checkpoint_path = 'checkpoint_data/checkpoint_30.pt'\n",
        "cpc_model, HIDDEN_CONTEXT_MODEL, HIDDEN_ENCODER_MODEL = loadModel([checkpoint_path])\n",
        "cpc_model = cpc_model.cuda()\n",
        "character_classifier = PhoneClassifier(HIDDEN_CONTEXT_MODEL, N_LETTERS).to(device)"
      ],
      "execution_count": 64,
      "outputs": [
        {
          "output_type": "stream",
          "text": [
            "Loading checkpoint checkpoint_data/checkpoint_30.pt\n",
            "Loading the state dict at checkpoint_data/checkpoint_30.pt\n"
          ],
          "name": "stdout"
        }
      ]
    },
    {
      "cell_type": "code",
      "metadata": {
        "colab_type": "code",
        "id": "rHCNg1E7lW1L",
        "colab": {}
      },
      "source": [
        "parameters = list(character_classifier.parameters()) + list(cpc_model.parameters())\n",
        "LEARNING_RATE = 2e-4\n",
        "optimizer = torch.optim.Adam(parameters, lr=LEARNING_RATE)\n",
        "\n",
        "optimizer_frozen = torch.optim.Adam(list(character_classifier.parameters()), lr=LEARNING_RATE)"
      ],
      "execution_count": 65,
      "outputs": []
    },
    {
      "cell_type": "code",
      "metadata": {
        "colab_type": "code",
        "id": "engpkljbk9hj",
        "colab": {}
      },
      "source": [
        "loss_ctc = torch.nn.CTCLoss()"
      ],
      "execution_count": 66,
      "outputs": []
    },
    {
      "cell_type": "code",
      "metadata": {
        "colab_type": "code",
        "id": "9NBHd2s2kxld",
        "colab": {
          "base_uri": "https://localhost:8080/",
          "height": 1000
        },
        "outputId": "048d7fe1-344b-469a-ab86-3165240d80a6"
      },
      "source": [
        "run_ctc(cpc_model,character_classifier,loss_ctc,data_loader_train_letters,data_loader_val_letters,optimizer_frozen,n_epoch=10)"
      ],
      "execution_count": 67,
      "outputs": [
        {
          "output_type": "stream",
          "text": [
            "Running epoch 1 / 10\n",
            "-------------------\n",
            "Training dataset :\n",
            "Average loss : 32.20199868540284.\n",
            "-------------------\n",
            "Validation dataset\n",
            "Average loss : 32.75915809299635\n",
            "-------------------\n",
            "\n",
            "Running epoch 2 / 10\n",
            "-------------------\n",
            "Training dataset :\n",
            "Average loss : 30.4426634652274.\n",
            "-------------------\n",
            "Validation dataset\n",
            "Average loss : 30.93715476989746\n",
            "-------------------\n",
            "\n",
            "Running epoch 3 / 10\n",
            "-------------------\n",
            "Training dataset :\n",
            "Average loss : 28.65251468476795.\n",
            "-------------------\n",
            "Validation dataset\n",
            "Average loss : 29.05344540139903\n",
            "-------------------\n",
            "\n",
            "Running epoch 4 / 10\n",
            "-------------------\n",
            "Training dataset :\n",
            "Average loss : 26.828034103232085.\n",
            "-------------------\n",
            "Validation dataset\n",
            "Average loss : 27.1964344356371\n",
            "-------------------\n",
            "\n",
            "Running epoch 5 / 10\n",
            "-------------------\n",
            "Training dataset :\n",
            "Average loss : 25.01518946854526.\n",
            "-------------------\n",
            "Validation dataset\n",
            "Average loss : 25.33229811295219\n",
            "-------------------\n",
            "\n",
            "Running epoch 6 / 10\n",
            "-------------------\n",
            "Training dataset :\n",
            "Average loss : 23.21654091688691.\n",
            "-------------------\n",
            "Validation dataset\n",
            "Average loss : 23.50247698244841\n",
            "-------------------\n",
            "\n",
            "Running epoch 7 / 10\n",
            "-------------------\n",
            "Training dataset :\n",
            "Average loss : 21.47778416184521.\n",
            "-------------------\n",
            "Validation dataset\n",
            "Average loss : 21.70873675139054\n",
            "-------------------\n",
            "\n",
            "Running epoch 8 / 10\n",
            "-------------------\n",
            "Training dataset :\n",
            "Average loss : 19.79885382879348.\n",
            "-------------------\n",
            "Validation dataset\n",
            "Average loss : 20.019633749256965\n",
            "-------------------\n",
            "\n",
            "Running epoch 9 / 10\n",
            "-------------------\n",
            "Training dataset :\n",
            "Average loss : 18.218672772563956.\n",
            "-------------------\n",
            "Validation dataset\n",
            "Average loss : 18.433733484019402\n",
            "-------------------\n",
            "\n",
            "Running epoch 10 / 10\n",
            "-------------------\n",
            "Training dataset :\n",
            "Average loss : 16.75180417015439.\n",
            "-------------------\n",
            "Validation dataset\n",
            "Average loss : 16.910778874936312\n",
            "-------------------\n",
            "\n"
          ],
          "name": "stdout"
        }
      ]
    },
    {
      "cell_type": "code",
      "metadata": {
        "colab_type": "code",
        "id": "A8oxFr1jm17P",
        "colab": {
          "base_uri": "https://localhost:8080/",
          "height": 85
        },
        "outputId": "edac3fef-ca99-4c23-8aed-d1e0fda37da5"
      },
      "source": [
        "get_per(data_loader_val_letters,cpc_model,character_classifier)"
      ],
      "execution_count": 68,
      "outputs": [
        {
          "output_type": "stream",
          "text": [
            "\r                                                                               \r\rN/A% (0 of 6) |                          | Elapsed Time: 0:00:00 ETA:  --:--:--"
          ],
          "name": "stderr"
        },
        {
          "output_type": "stream",
          "text": [
            "Starting the PER computation through beam search\n"
          ],
          "name": "stdout"
        },
        {
          "output_type": "stream",
          "text": [
            "100% (6 of 6) |##########################| Elapsed Time: 0:02:49 Time:  0:02:49\n"
          ],
          "name": "stderr"
        },
        {
          "output_type": "stream",
          "text": [
            "Average PER 0.93123382838207\n"
          ],
          "name": "stdout"
        },
        {
          "output_type": "execute_result",
          "data": {
            "text/plain": [
              "0.93123382838207"
            ]
          },
          "metadata": {
            "tags": []
          },
          "execution_count": 68
        }
      ]
    },
    {
      "cell_type": "code",
      "metadata": {
        "id": "bH2oEYE3LS5M",
        "colab_type": "code",
        "colab": {}
      },
      "source": [
        ""
      ],
      "execution_count": null,
      "outputs": []
    }
  ]
}